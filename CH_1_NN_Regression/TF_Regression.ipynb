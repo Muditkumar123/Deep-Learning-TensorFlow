{
 "cells": [
  {
   "cell_type": "markdown",
   "metadata": {
    "id": "55rbX5JDXJPf"
   },
   "source": [
    "# Introduction to Regression with neural network in Tensorflow\n",
    "\n",
    "Regression:Predicting numerical variable based on some other combination of variable"
   ]
  },
  {
   "cell_type": "code",
   "execution_count": 188,
   "metadata": {
    "colab": {
     "base_uri": "https://localhost:8080/"
    },
    "executionInfo": {
     "elapsed": 12,
     "status": "ok",
     "timestamp": 1668399716756,
     "user": {
      "displayName": "Mudit Kumar",
      "userId": "12518861077253144202"
     },
     "user_tz": -330
    },
    "id": "CctCpM3LXsUy",
    "outputId": "22a04bbb-67b7-45b1-bda4-9050f51ced97"
   },
   "outputs": [
    {
     "name": "stdout",
     "output_type": "stream",
     "text": [
      "2.9.2\n"
     ]
    }
   ],
   "source": [
    "#Import tensorflow \n",
    "import tensorflow as tf\n",
    "print(tf.__version__)"
   ]
  },
  {
   "cell_type": "markdown",
   "metadata": {
    "id": "hnpcj_R4YLeT"
   },
   "source": [
    "## Creating data to view and fit"
   ]
  },
  {
   "cell_type": "code",
   "execution_count": 189,
   "metadata": {
    "colab": {
     "base_uri": "https://localhost:8080/",
     "height": 286
    },
    "executionInfo": {
     "elapsed": 1019,
     "status": "ok",
     "timestamp": 1668399717768,
     "user": {
      "displayName": "Mudit Kumar",
      "userId": "12518861077253144202"
     },
     "user_tz": -330
    },
    "id": "jzU1QO6yZpKc",
    "outputId": "ce4913a5-37a8-4b99-b363-595e053ec21b"
   },
   "outputs": [
    {
     "data": {
      "text/plain": [
       "<matplotlib.collections.PathCollection at 0x7fdadac460d0>"
      ]
     },
     "execution_count": 189,
     "metadata": {},
     "output_type": "execute_result"
    },
    {
     "data": {
      "image/png": "[encoded data removed]",
      "text/plain": [
       "<Figure size 432x288 with 1 Axes>"
      ]
     },
     "metadata": {
      "needs_background": "light"
     },
     "output_type": "display_data"
    }
   ],
   "source": [
    "import numpy as np\n",
    "import matplotlib.pyplot as plt\n",
    "\n",
    "# Create features\n",
    "X=np.array([-7.0,-4.0,-1.0,2.0,5.0,8.0,11.0,14.0])\n",
    "\n",
    "#Create labels\n",
    "y=np.array([3.0,6.0,9.0,12.0,15.0,18.0,21.0,24.0])\n",
    "\n",
    "#visualize it\n",
    "plt.scatter(X,y)"
   ]
  },
  {
   "cell_type": "code",
   "execution_count": 190,
   "metadata": {
    "colab": {
     "base_uri": "https://localhost:8080/"
    },
    "executionInfo": {
     "elapsed": 58,
     "status": "ok",
     "timestamp": 1668399717769,
     "user": {
      "displayName": "Mudit Kumar",
      "userId": "12518861077253144202"
     },
     "user_tz": -330
    },
    "id": "QWrhHMzzaLMt",
    "outputId": "b5fdd765-bfa0-4e83-bad2-4eef3e5618c6"
   },
   "outputs": [
    {
     "data": {
      "text/plain": [
       "array([ True,  True,  True,  True,  True,  True,  True,  True])"
      ]
     },
     "execution_count": 190,
     "metadata": {},
     "output_type": "execute_result"
    }
   ],
   "source": [
    "y==X+10"
   ]
  },
  {
   "cell_type": "code",
   "execution_count": 191,
   "metadata": {
    "colab": {
     "base_uri": "https://localhost:8080/"
    },
    "executionInfo": {
     "elapsed": 54,
     "status": "ok",
     "timestamp": 1668399717769,
     "user": {
      "displayName": "Mudit Kumar",
      "userId": "12518861077253144202"
     },
     "user_tz": -330
    },
    "id": "0TJmJ754aeVL",
    "outputId": "46f72df8-77b5-4853-932e-5e02ceb75276"
   },
   "outputs": [
    {
     "data": {
      "text/plain": [
       "(<tf.Tensor: shape=(3,), dtype=string, numpy=array([b'bedroom', b'bathroom', b'garage'], dtype=object)>,\n",
       " <tf.Tensor: shape=(1,), dtype=int32, numpy=array([939700], dtype=int32)>)"
      ]
     },
     "execution_count": 191,
     "metadata": {},
     "output_type": "execute_result"
    }
   ],
   "source": [
    "# Create a demo tensor for our housing price prediction problem\n",
    "house_info=tf.constant([\"bedroom\",\"bathroom\",\"garage\"])\n",
    "house_price=tf.constant([939700])\n",
    "house_info,house_price"
   ]
  },
  {
   "cell_type": "code",
   "execution_count": 192,
   "metadata": {
    "colab": {
     "base_uri": "https://localhost:8080/"
    },
    "executionInfo": {
     "elapsed": 53,
     "status": "ok",
     "timestamp": 1668399717770,
     "user": {
      "displayName": "Mudit Kumar",
      "userId": "12518861077253144202"
     },
     "user_tz": -330
    },
    "id": "24GpRifSfnox",
    "outputId": "5bffe578-71df-46d0-942d-8650013ed16b"
   },
   "outputs": [
    {
     "data": {
      "text/plain": [
       "(-7.0, 3.0)"
      ]
     },
     "execution_count": 192,
     "metadata": {},
     "output_type": "execute_result"
    }
   ],
   "source": [
    "X[0],y[0]"
   ]
  },
  {
   "cell_type": "code",
   "execution_count": 193,
   "metadata": {
    "colab": {
     "base_uri": "https://localhost:8080/"
    },
    "executionInfo": {
     "elapsed": 50,
     "status": "ok",
     "timestamp": 1668399717770,
     "user": {
      "displayName": "Mudit Kumar",
      "userId": "12518861077253144202"
     },
     "user_tz": -330
    },
    "id": "FZzIhQKUftRX",
    "outputId": "b830a562-ad9a-46fd-8666-afb0cd0c7aa7"
   },
   "outputs": [
    {
     "data": {
      "text/plain": [
       "(-4.0, 6.0)"
      ]
     },
     "execution_count": 193,
     "metadata": {},
     "output_type": "execute_result"
    }
   ],
   "source": [
    "X[1],y[1]"
   ]
  },
  {
   "cell_type": "code",
   "execution_count": 194,
   "metadata": {
    "colab": {
     "base_uri": "https://localhost:8080/"
    },
    "executionInfo": {
     "elapsed": 48,
     "status": "ok",
     "timestamp": 1668399717771,
     "user": {
      "displayName": "Mudit Kumar",
      "userId": "12518861077253144202"
     },
     "user_tz": -330
    },
    "id": "lZfjn7hEe0QC",
    "outputId": "8f410007-2da2-44ee-b811-08999778e3f8"
   },
   "outputs": [
    {
     "data": {
      "text/plain": [
       "((), ())"
      ]
     },
     "execution_count": 194,
     "metadata": {},
     "output_type": "execute_result"
    }
   ],
   "source": [
    "input_shape=X[0].shape\n",
    "output_shape=y[0].shape\n",
    "input_shape,output_shape"
   ]
  },
  {
   "cell_type": "code",
   "execution_count": 195,
   "metadata": {
    "colab": {
     "base_uri": "https://localhost:8080/"
    },
    "executionInfo": {
     "elapsed": 44,
     "status": "ok",
     "timestamp": 1668399717771,
     "user": {
      "displayName": "Mudit Kumar",
      "userId": "12518861077253144202"
     },
     "user_tz": -330
    },
    "id": "xpqjBBTYfEAy",
    "outputId": "2822d85f-a1d7-41d4-b8a1-4eb365632c1c"
   },
   "outputs": [
    {
     "data": {
      "text/plain": [
       "1"
      ]
     },
     "execution_count": 195,
     "metadata": {},
     "output_type": "execute_result"
    }
   ],
   "source": [
    "X[0:2].ndim"
   ]
  },
  {
   "cell_type": "code",
   "execution_count": 196,
   "metadata": {
    "colab": {
     "base_uri": "https://localhost:8080/"
    },
    "executionInfo": {
     "elapsed": 42,
     "status": "ok",
     "timestamp": 1668399717772,
     "user": {
      "displayName": "Mudit Kumar",
      "userId": "12518861077253144202"
     },
     "user_tz": -330
    },
    "id": "WkWmwaFUf567",
    "outputId": "d63e22f9-3082-4a71-8b34-24f1c1cf3d7f"
   },
   "outputs": [
    {
     "data": {
      "text/plain": [
       "array([-7., -4., -1.,  2.,  5.,  8., 11., 14.])"
      ]
     },
     "execution_count": 196,
     "metadata": {},
     "output_type": "execute_result"
    }
   ],
   "source": [
    "X"
   ]
  },
  {
   "cell_type": "code",
   "execution_count": 197,
   "metadata": {
    "colab": {
     "base_uri": "https://localhost:8080/"
    },
    "executionInfo": {
     "elapsed": 39,
     "status": "ok",
     "timestamp": 1668399717772,
     "user": {
      "displayName": "Mudit Kumar",
      "userId": "12518861077253144202"
     },
     "user_tz": -330
    },
    "id": "1GyJDc98vSih",
    "outputId": "0ed5c085-99ce-4984-9b21-e5c9cd7ae2c1"
   },
   "outputs": [
    {
     "data": {
      "text/plain": [
       "(-7.0, 3.0)"
      ]
     },
     "execution_count": 197,
     "metadata": {},
     "output_type": "execute_result"
    }
   ],
   "source": [
    "X[0],y[0]"
   ]
  },
  {
   "cell_type": "code",
   "execution_count": 198,
   "metadata": {
    "colab": {
     "base_uri": "https://localhost:8080/"
    },
    "executionInfo": {
     "elapsed": 38,
     "status": "ok",
     "timestamp": 1668399717773,
     "user": {
      "displayName": "Mudit Kumar",
      "userId": "12518861077253144202"
     },
     "user_tz": -330
    },
    "id": "tbnAxmJfvVHr",
    "outputId": "6f409763-f77b-469f-f791-f538abf1cf16"
   },
   "outputs": [
    {
     "data": {
      "text/plain": [
       "(<tf.Tensor: shape=(8,), dtype=float64, numpy=array([-7., -4., -1.,  2.,  5.,  8., 11., 14.])>,\n",
       " <tf.Tensor: shape=(8,), dtype=float64, numpy=array([ 3.,  6.,  9., 12., 15., 18., 21., 24.])>)"
      ]
     },
     "execution_count": 198,
     "metadata": {},
     "output_type": "execute_result"
    }
   ],
   "source": [
    "#Turn numpy array into  tensors\n",
    "X=tf.constant(X)\n",
    "y=tf.constant(y)\n",
    "X,y"
   ]
  },
  {
   "cell_type": "code",
   "execution_count": 199,
   "metadata": {
    "colab": {
     "base_uri": "https://localhost:8080/"
    },
    "executionInfo": {
     "elapsed": 34,
     "status": "ok",
     "timestamp": 1668399717774,
     "user": {
      "displayName": "Mudit Kumar",
      "userId": "12518861077253144202"
     },
     "user_tz": -330
    },
    "id": "gn4Ygv-8v78m",
    "outputId": "38613cf2-98a7-4aca-b8f5-14ea387f3fee"
   },
   "outputs": [
    {
     "data": {
      "text/plain": [
       "<tf.Tensor: shape=(), dtype=float64, numpy=-7.0>"
      ]
     },
     "execution_count": 199,
     "metadata": {},
     "output_type": "execute_result"
    }
   ],
   "source": [
    "X[0]"
   ]
  },
  {
   "cell_type": "code",
   "execution_count": 200,
   "metadata": {
    "colab": {
     "base_uri": "https://localhost:8080/"
    },
    "executionInfo": {
     "elapsed": 31,
     "status": "ok",
     "timestamp": 1668399717774,
     "user": {
      "displayName": "Mudit Kumar",
      "userId": "12518861077253144202"
     },
     "user_tz": -330
    },
    "id": "OcG9bhanv9_0",
    "outputId": "211285b9-0484-48ff-85ca-342919949d98"
   },
   "outputs": [
    {
     "data": {
      "text/plain": [
       "(TensorShape([]), TensorShape([]))"
      ]
     },
     "execution_count": 200,
     "metadata": {},
     "output_type": "execute_result"
    }
   ],
   "source": [
    "input_shape=X[0].shape\n",
    "output_shape=y[0].shape\n",
    "input_shape,output_shape"
   ]
  },
  {
   "cell_type": "code",
   "execution_count": 201,
   "metadata": {
    "colab": {
     "base_uri": "https://localhost:8080/",
     "height": 286
    },
    "executionInfo": {
     "elapsed": 28,
     "status": "ok",
     "timestamp": 1668399717775,
     "user": {
      "displayName": "Mudit Kumar",
      "userId": "12518861077253144202"
     },
     "user_tz": -330
    },
    "id": "bqMm4EFvwYLY",
    "outputId": "434a6878-f293-4470-cc1b-9ef07efe5b47"
   },
   "outputs": [
    {
     "data": {
      "text/plain": [
       "<matplotlib.collections.PathCollection at 0x7fdac6cbb5d0>"
      ]
     },
     "execution_count": 201,
     "metadata": {},
     "output_type": "execute_result"
    },
    {
     "data": {
      "image/png": "[encoded data removed]",
      "text/plain": [
       "<Figure size 432x288 with 1 Axes>"
      ]
     },
     "metadata": {
      "needs_background": "light"
     },
     "output_type": "display_data"
    }
   ],
   "source": [
    "plt.scatter(X,y)"
   ]
  },
  {
   "cell_type": "markdown",
   "metadata": {
    "id": "ETCRhlK7w-jv"
   },
   "source": [
    "## Steps in modeling with Tensorflow\n",
    "1. **Creating a model** - define the input and output layers , as well as hidden layers of a deep learning model.\n",
    "2. **Compiling  a model** - define the loss function (function which tells our model how wrong it is) and the optimizer (tell the model how to improve the patterns its learning ) and evaluation metrics (what we can use to interpret the performance of our model).\n",
    "3. **Fitting a model** - letting a model try to find patterns between X & y (features and labels)"
   ]
  },
  {
   "cell_type": "code",
   "execution_count": 202,
   "metadata": {
    "colab": {
     "base_uri": "https://localhost:8080/"
    },
    "executionInfo": {
     "elapsed": 907,
     "status": "ok",
     "timestamp": 1668399718657,
     "user": {
      "displayName": "Mudit Kumar",
      "userId": "12518861077253144202"
     },
     "user_tz": -330
    },
    "id": "gMl2EX0uyDa2",
    "outputId": "85fa59b0-cbba-48ab-f33d-26e9f42b780a"
   },
   "outputs": [
    {
     "name": "stdout",
     "output_type": "stream",
     "text": [
      "Epoch 1/5\n",
      "1/1 [==============================] - 0s 263ms/step - loss: 11.5048 - mean_absolute_error: 11.5048\n",
      "Epoch 2/5\n",
      "1/1 [==============================] - 0s 9ms/step - loss: 11.3723 - mean_absolute_error: 11.3723\n",
      "Epoch 3/5\n",
      "1/1 [==============================] - 0s 8ms/step - loss: 11.2398 - mean_absolute_error: 11.2398\n",
      "Epoch 4/5\n",
      "1/1 [==============================] - 0s 11ms/step - loss: 11.1073 - mean_absolute_error: 11.1073\n",
      "Epoch 5/5\n",
      "1/1 [==============================] - 0s 10ms/step - loss: 10.9748 - mean_absolute_error: 10.9748\n"
     ]
    },
    {
     "data": {
      "text/plain": [
       "<keras.callbacks.History at 0x7fdac6ad2190>"
      ]
     },
     "execution_count": 202,
     "metadata": {},
     "output_type": "execute_result"
    }
   ],
   "source": [
    "from tensorflow.python import metrics\n",
    "#Set random seed\n",
    "tf.random.set_seed(42)\n",
    "\n",
    "# 1.Create a model using Sequential API\n",
    "model=tf.keras.Sequential([\n",
    "    tf.keras.layers.Dense(1)    #Only 1 layers\n",
    "])\n",
    "\n",
    "# 2. Compile the model\n",
    "model.compile(loss=tf.keras.losses.mae,#Mean absolute error\n",
    "              optimizer=tf.keras.optimizers.SGD(), #St gradient decent\n",
    "              metrics=tf.keras.metrics.mae\n",
    "              )\n",
    "#3 fit the model\n",
    "model.fit(tf.expand_dims(X,axis=-1),y,epochs=5)\n"
   ]
  },
  {
   "cell_type": "code",
   "execution_count": 203,
   "metadata": {
    "colab": {
     "base_uri": "https://localhost:8080/"
    },
    "executionInfo": {
     "elapsed": 33,
     "status": "ok",
     "timestamp": 1668399718658,
     "user": {
      "displayName": "Mudit Kumar",
      "userId": "12518861077253144202"
     },
     "user_tz": -330
    },
    "id": "h2yBSG4G3keW",
    "outputId": "9a3bc6a6-7739-48ac-fc75-728d0edebeee"
   },
   "outputs": [
    {
     "data": {
      "text/plain": [
       "(<tf.Tensor: shape=(8,), dtype=float64, numpy=array([-7., -4., -1.,  2.,  5.,  8., 11., 14.])>,\n",
       " <tf.Tensor: shape=(8,), dtype=float64, numpy=array([ 3.,  6.,  9., 12., 15., 18., 21., 24.])>)"
      ]
     },
     "execution_count": 203,
     "metadata": {},
     "output_type": "execute_result"
    }
   ],
   "source": [
    "#Check out X and Y\n",
    "X,y"
   ]
  },
  {
   "cell_type": "code",
   "execution_count": 204,
   "metadata": {
    "colab": {
     "base_uri": "https://localhost:8080/"
    },
    "executionInfo": {
     "elapsed": 30,
     "status": "ok",
     "timestamp": 1668399718658,
     "user": {
      "displayName": "Mudit Kumar",
      "userId": "12518861077253144202"
     },
     "user_tz": -330
    },
    "id": "0tFOHfbP35YY",
    "outputId": "8401c80e-98b7-4730-e712-58b31af444e2"
   },
   "outputs": [
    {
     "name": "stdout",
     "output_type": "stream",
     "text": [
      "1/1 [==============================] - 0s 47ms/step\n"
     ]
    },
    {
     "data": {
      "text/plain": [
       "array([[11.970961]], dtype=float32)"
      ]
     },
     "execution_count": 204,
     "metadata": {},
     "output_type": "execute_result"
    }
   ],
   "source": [
    "#Try and make predictions using our model\n",
    "y_pred=model.predict([16.0])\n",
    "y_pred"
   ]
  },
  {
   "cell_type": "markdown",
   "metadata": {
    "id": "JYsihOr94I4Y"
   },
   "source": [
    "## Improving our model\n",
    "We can imporve our model, by altering the steps we took to create a model.\n",
    "1. **Creating  a model** -We might add more layers, inc the number of hidden units(also called neurons) within each hidden layers,change the activation function of each layer\n",
    "2. **Compling a model** - We might change the optimization function or perhaps **learning rate ** of optimization function\n",
    "\n",
    "3. **Fitting a  model** - fit a model for more **epochs** (leave it training for longer) or on more data (give the model more example to learn from)"
   ]
  },
  {
   "cell_type": "code",
   "execution_count": 205,
   "metadata": {
    "colab": {
     "base_uri": "https://localhost:8080/"
    },
    "executionInfo": {
     "elapsed": 2387,
     "status": "ok",
     "timestamp": 1668399721020,
     "user": {
      "displayName": "Mudit Kumar",
      "userId": "12518861077253144202"
     },
     "user_tz": -330
    },
    "id": "SpK1CTGx4wCy",
    "outputId": "dc85c196-b2ba-488b-e4b1-7bb627361551"
   },
   "outputs": [
    {
     "name": "stdout",
     "output_type": "stream",
     "text": [
      "Epoch 1/100\n",
      "1/1 [==============================] - 0s 271ms/step - loss: 11.2219 - mean_absolute_error: 11.2219\n",
      "Epoch 2/100\n",
      "1/1 [==============================] - 0s 10ms/step - loss: 11.0894 - mean_absolute_error: 11.0894\n",
      "Epoch 3/100\n",
      "1/1 [==============================] - 0s 10ms/step - loss: 10.9569 - mean_absolute_error: 10.9569\n",
      "Epoch 4/100\n",
      "1/1 [==============================] - 0s 9ms/step - loss: 10.8244 - mean_absolute_error: 10.8244\n",
      "Epoch 5/100\n",
      "1/1 [==============================] - 0s 10ms/step - loss: 10.6919 - mean_absolute_error: 10.6919\n",
      "Epoch 6/100\n",
      "1/1 [==============================] - 0s 10ms/step - loss: 10.5594 - mean_absolute_error: 10.5594\n",
      "Epoch 7/100\n",
      "1/1 [==============================] - 0s 7ms/step - loss: 10.4269 - mean_absolute_error: 10.4269\n",
      "Epoch 8/100\n",
      "1/1 [==============================] - 0s 8ms/step - loss: 10.2944 - mean_absolute_error: 10.2944\n",
      "Epoch 9/100\n",
      "1/1 [==============================] - 0s 8ms/step - loss: 10.1619 - mean_absolute_error: 10.1619\n",
      "Epoch 10/100\n",
      "1/1 [==============================] - 0s 7ms/step - loss: 10.0294 - mean_absolute_error: 10.0294\n",
      "Epoch 11/100\n",
      "1/1 [==============================] - 0s 7ms/step - loss: 9.8969 - mean_absolute_error: 9.8969\n",
      "Epoch 12/100\n",
      "1/1 [==============================] - 0s 8ms/step - loss: 9.7644 - mean_absolute_error: 9.7644\n",
      "Epoch 13/100\n",
      "1/1 [==============================] - 0s 10ms/step - loss: 9.6319 - mean_absolute_error: 9.6319\n",
      "Epoch 14/100\n",
      "1/1 [==============================] - 0s 8ms/step - loss: 9.4994 - mean_absolute_error: 9.4994\n",
      "Epoch 15/100\n",
      "1/1 [==============================] - 0s 8ms/step - loss: 9.3669 - mean_absolute_error: 9.3669\n",
      "Epoch 16/100\n",
      "1/1 [==============================] - 0s 8ms/step - loss: 9.2344 - mean_absolute_error: 9.2344\n",
      "Epoch 17/100\n",
      "1/1 [==============================] - 0s 8ms/step - loss: 9.1019 - mean_absolute_error: 9.1019\n",
      "Epoch 18/100\n",
      "1/1 [==============================] - 0s 7ms/step - loss: 8.9694 - mean_absolute_error: 8.9694\n",
      "Epoch 19/100\n",
      "1/1 [==============================] - 0s 10ms/step - loss: 8.8369 - mean_absolute_error: 8.8369\n",
      "Epoch 20/100\n",
      "1/1 [==============================] - 0s 7ms/step - loss: 8.7044 - mean_absolute_error: 8.7044\n",
      "Epoch 21/100\n",
      "1/1 [==============================] - 0s 7ms/step - loss: 8.5719 - mean_absolute_error: 8.5719\n",
      "Epoch 22/100\n",
      "1/1 [==============================] - 0s 12ms/step - loss: 8.4394 - mean_absolute_error: 8.4394\n",
      "Epoch 23/100\n",
      "1/1 [==============================] - 0s 8ms/step - loss: 8.3069 - mean_absolute_error: 8.3069\n",
      "Epoch 24/100\n",
      "1/1 [==============================] - 0s 14ms/step - loss: 8.1744 - mean_absolute_error: 8.1744\n",
      "Epoch 25/100\n",
      "1/1 [==============================] - 0s 13ms/step - loss: 8.0419 - mean_absolute_error: 8.0419\n",
      "Epoch 26/100\n",
      "1/1 [==============================] - 0s 8ms/step - loss: 7.9094 - mean_absolute_error: 7.9094\n",
      "Epoch 27/100\n",
      "1/1 [==============================] - 0s 8ms/step - loss: 7.7769 - mean_absolute_error: 7.7769\n",
      "Epoch 28/100\n",
      "1/1 [==============================] - 0s 9ms/step - loss: 7.6444 - mean_absolute_error: 7.6444\n",
      "Epoch 29/100\n",
      "1/1 [==============================] - 0s 8ms/step - loss: 7.5119 - mean_absolute_error: 7.5119\n",
      "Epoch 30/100\n",
      "1/1 [==============================] - 0s 14ms/step - loss: 7.3794 - mean_absolute_error: 7.3794\n",
      "Epoch 31/100\n",
      "1/1 [==============================] - 0s 8ms/step - loss: 7.2750 - mean_absolute_error: 7.2750\n",
      "Epoch 32/100\n",
      "1/1 [==============================] - 0s 8ms/step - loss: 7.2694 - mean_absolute_error: 7.2694\n",
      "Epoch 33/100\n",
      "1/1 [==============================] - 0s 9ms/step - loss: 7.2638 - mean_absolute_error: 7.2638\n",
      "Epoch 34/100\n",
      "1/1 [==============================] - 0s 8ms/step - loss: 7.2581 - mean_absolute_error: 7.2581\n",
      "Epoch 35/100\n",
      "1/1 [==============================] - 0s 9ms/step - loss: 7.2525 - mean_absolute_error: 7.2525\n",
      "Epoch 36/100\n",
      "1/1 [==============================] - 0s 9ms/step - loss: 7.2469 - mean_absolute_error: 7.2469\n",
      "Epoch 37/100\n",
      "1/1 [==============================] - 0s 9ms/step - loss: 7.2413 - mean_absolute_error: 7.2413\n",
      "Epoch 38/100\n",
      "1/1 [==============================] - 0s 8ms/step - loss: 7.2356 - mean_absolute_error: 7.2356\n",
      "Epoch 39/100\n",
      "1/1 [==============================] - 0s 9ms/step - loss: 7.2300 - mean_absolute_error: 7.2300\n",
      "Epoch 40/100\n",
      "1/1 [==============================] - 0s 9ms/step - loss: 7.2244 - mean_absolute_error: 7.2244\n",
      "Epoch 41/100\n",
      "1/1 [==============================] - 0s 7ms/step - loss: 7.2188 - mean_absolute_error: 7.2188\n",
      "Epoch 42/100\n",
      "1/1 [==============================] - 0s 9ms/step - loss: 7.2131 - mean_absolute_error: 7.2131\n",
      "Epoch 43/100\n",
      "1/1 [==============================] - 0s 11ms/step - loss: 7.2075 - mean_absolute_error: 7.2075\n",
      "Epoch 44/100\n",
      "1/1 [==============================] - 0s 10ms/step - loss: 7.2019 - mean_absolute_error: 7.2019\n",
      "Epoch 45/100\n",
      "1/1 [==============================] - 0s 9ms/step - loss: 7.1962 - mean_absolute_error: 7.1962\n",
      "Epoch 46/100\n",
      "1/1 [==============================] - 0s 8ms/step - loss: 7.1906 - mean_absolute_error: 7.1906\n",
      "Epoch 47/100\n",
      "1/1 [==============================] - 0s 8ms/step - loss: 7.1850 - mean_absolute_error: 7.1850\n",
      "Epoch 48/100\n",
      "1/1 [==============================] - 0s 10ms/step - loss: 7.1794 - mean_absolute_error: 7.1794\n",
      "Epoch 49/100\n",
      "1/1 [==============================] - 0s 9ms/step - loss: 7.1737 - mean_absolute_error: 7.1737\n",
      "Epoch 50/100\n",
      "1/1 [==============================] - 0s 8ms/step - loss: 7.1681 - mean_absolute_error: 7.1681\n",
      "Epoch 51/100\n",
      "1/1 [==============================] - 0s 8ms/step - loss: 7.1625 - mean_absolute_error: 7.1625\n",
      "Epoch 52/100\n",
      "1/1 [==============================] - 0s 8ms/step - loss: 7.1569 - mean_absolute_error: 7.1569\n",
      "Epoch 53/100\n",
      "1/1 [==============================] - 0s 9ms/step - loss: 7.1512 - mean_absolute_error: 7.1512\n",
      "Epoch 54/100\n",
      "1/1 [==============================] - 0s 9ms/step - loss: 7.1456 - mean_absolute_error: 7.1456\n",
      "Epoch 55/100\n",
      "1/1 [==============================] - 0s 10ms/step - loss: 7.1400 - mean_absolute_error: 7.1400\n",
      "Epoch 56/100\n",
      "1/1 [==============================] - 0s 8ms/step - loss: 7.1344 - mean_absolute_error: 7.1344\n",
      "Epoch 57/100\n",
      "1/1 [==============================] - 0s 9ms/step - loss: 7.1287 - mean_absolute_error: 7.1287\n",
      "Epoch 58/100\n",
      "1/1 [==============================] - 0s 7ms/step - loss: 7.1231 - mean_absolute_error: 7.1231\n",
      "Epoch 59/100\n",
      "1/1 [==============================] - 0s 7ms/step - loss: 7.1175 - mean_absolute_error: 7.1175\n",
      "Epoch 60/100\n",
      "1/1 [==============================] - 0s 6ms/step - loss: 7.1119 - mean_absolute_error: 7.1119\n",
      "Epoch 61/100\n",
      "1/1 [==============================] - 0s 7ms/step - loss: 7.1062 - mean_absolute_error: 7.1062\n",
      "Epoch 62/100\n",
      "1/1 [==============================] - 0s 10ms/step - loss: 7.1006 - mean_absolute_error: 7.1006\n",
      "Epoch 63/100\n",
      "1/1 [==============================] - 0s 10ms/step - loss: 7.0950 - mean_absolute_error: 7.0950\n",
      "Epoch 64/100\n",
      "1/1 [==============================] - 0s 10ms/step - loss: 7.0894 - mean_absolute_error: 7.0894\n",
      "Epoch 65/100\n",
      "1/1 [==============================] - 0s 10ms/step - loss: 7.0838 - mean_absolute_error: 7.0838\n",
      "Epoch 66/100\n",
      "1/1 [==============================] - 0s 10ms/step - loss: 7.0781 - mean_absolute_error: 7.0781\n",
      "Epoch 67/100\n",
      "1/1 [==============================] - 0s 8ms/step - loss: 7.0725 - mean_absolute_error: 7.0725\n",
      "Epoch 68/100\n",
      "1/1 [==============================] - 0s 8ms/step - loss: 7.0669 - mean_absolute_error: 7.0669\n",
      "Epoch 69/100\n",
      "1/1 [==============================] - 0s 11ms/step - loss: 7.0613 - mean_absolute_error: 7.0613\n",
      "Epoch 70/100\n",
      "1/1 [==============================] - 0s 8ms/step - loss: 7.0556 - mean_absolute_error: 7.0556\n",
      "Epoch 71/100\n",
      "1/1 [==============================] - 0s 9ms/step - loss: 7.0500 - mean_absolute_error: 7.0500\n",
      "Epoch 72/100\n",
      "1/1 [==============================] - 0s 8ms/step - loss: 7.0444 - mean_absolute_error: 7.0444\n",
      "Epoch 73/100\n",
      "1/1 [==============================] - 0s 10ms/step - loss: 7.0388 - mean_absolute_error: 7.0388\n",
      "Epoch 74/100\n",
      "1/1 [==============================] - 0s 14ms/step - loss: 7.0331 - mean_absolute_error: 7.0331\n",
      "Epoch 75/100\n",
      "1/1 [==============================] - 0s 8ms/step - loss: 7.0275 - mean_absolute_error: 7.0275\n",
      "Epoch 76/100\n",
      "1/1 [==============================] - 0s 10ms/step - loss: 7.0219 - mean_absolute_error: 7.0219\n",
      "Epoch 77/100\n",
      "1/1 [==============================] - 0s 8ms/step - loss: 7.0163 - mean_absolute_error: 7.0163\n",
      "Epoch 78/100\n",
      "1/1 [==============================] - 0s 10ms/step - loss: 7.0106 - mean_absolute_error: 7.0106\n",
      "Epoch 79/100\n",
      "1/1 [==============================] - 0s 11ms/step - loss: 7.0050 - mean_absolute_error: 7.0050\n",
      "Epoch 80/100\n",
      "1/1 [==============================] - 0s 8ms/step - loss: 6.9994 - mean_absolute_error: 6.9994\n",
      "Epoch 81/100\n",
      "1/1 [==============================] - 0s 9ms/step - loss: 6.9938 - mean_absolute_error: 6.9938\n",
      "Epoch 82/100\n",
      "1/1 [==============================] - 0s 8ms/step - loss: 6.9881 - mean_absolute_error: 6.9881\n",
      "Epoch 83/100\n",
      "1/1 [==============================] - 0s 9ms/step - loss: 6.9825 - mean_absolute_error: 6.9825\n",
      "Epoch 84/100\n",
      "1/1 [==============================] - 0s 9ms/step - loss: 6.9769 - mean_absolute_error: 6.9769\n",
      "Epoch 85/100\n",
      "1/1 [==============================] - 0s 9ms/step - loss: 6.9713 - mean_absolute_error: 6.9713\n",
      "Epoch 86/100\n",
      "1/1 [==============================] - 0s 10ms/step - loss: 6.9656 - mean_absolute_error: 6.9656\n",
      "Epoch 87/100\n",
      "1/1 [==============================] - 0s 7ms/step - loss: 6.9600 - mean_absolute_error: 6.9600\n",
      "Epoch 88/100\n",
      "1/1 [==============================] - 0s 7ms/step - loss: 6.9544 - mean_absolute_error: 6.9544\n",
      "Epoch 89/100\n",
      "1/1 [==============================] - 0s 9ms/step - loss: 6.9488 - mean_absolute_error: 6.9488\n",
      "Epoch 90/100\n",
      "1/1 [==============================] - 0s 8ms/step - loss: 6.9431 - mean_absolute_error: 6.9431\n",
      "Epoch 91/100\n",
      "1/1 [==============================] - 0s 16ms/step - loss: 6.9375 - mean_absolute_error: 6.9375\n",
      "Epoch 92/100\n",
      "1/1 [==============================] - 0s 16ms/step - loss: 6.9319 - mean_absolute_error: 6.9319\n",
      "Epoch 93/100\n",
      "1/1 [==============================] - 0s 7ms/step - loss: 6.9262 - mean_absolute_error: 6.9262\n",
      "Epoch 94/100\n",
      "1/1 [==============================] - 0s 11ms/step - loss: 6.9206 - mean_absolute_error: 6.9206\n",
      "Epoch 95/100\n",
      "1/1 [==============================] - 0s 11ms/step - loss: 6.9150 - mean_absolute_error: 6.9150\n",
      "Epoch 96/100\n",
      "1/1 [==============================] - 0s 8ms/step - loss: 6.9094 - mean_absolute_error: 6.9094\n",
      "Epoch 97/100\n",
      "1/1 [==============================] - 0s 9ms/step - loss: 6.9038 - mean_absolute_error: 6.9038\n",
      "Epoch 98/100\n",
      "1/1 [==============================] - 0s 10ms/step - loss: 6.8981 - mean_absolute_error: 6.8981\n",
      "Epoch 99/100\n",
      "1/1 [==============================] - 0s 8ms/step - loss: 6.8925 - mean_absolute_error: 6.8925\n",
      "Epoch 100/100\n",
      "1/1 [==============================] - 0s 15ms/step - loss: 6.8869 - mean_absolute_error: 6.8869\n"
     ]
    },
    {
     "data": {
      "text/plain": [
       "<keras.callbacks.History at 0x7fdac6bc3f10>"
      ]
     },
     "execution_count": 205,
     "metadata": {},
     "output_type": "execute_result"
    }
   ],
   "source": [
    "#Let rebuilt our model\n",
    "\n",
    "#1. Create the model\n",
    "model=tf.keras.Sequential([\n",
    "    tf.keras.layers.Dense(1)\n",
    "])\n",
    "\n",
    "#2. Compile\n",
    "model.compile(loss=tf.keras.losses.mae,\n",
    "    optimizer=tf.keras.optimizers.SGD(),\n",
    "    metrics=tf.keras.metrics.mae\n",
    "     )\n",
    "\n",
    "#3. Fit the model (Train  for longer)\n",
    "model.fit(tf.expand_dims(X,axis=-1),y,epochs=100)"
   ]
  },
  {
   "cell_type": "code",
   "execution_count": 206,
   "metadata": {
    "colab": {
     "base_uri": "https://localhost:8080/"
    },
    "executionInfo": {
     "elapsed": 17,
     "status": "ok",
     "timestamp": 1668399721020,
     "user": {
      "displayName": "Mudit Kumar",
      "userId": "12518861077253144202"
     },
     "user_tz": -330
    },
    "id": "rex0fL_y7lrK",
    "outputId": "5263cae5-f8da-4edf-d708-ee3fcb683280"
   },
   "outputs": [
    {
     "data": {
      "text/plain": [
       "(<tf.Tensor: shape=(8,), dtype=float64, numpy=array([-7., -4., -1.,  2.,  5.,  8., 11., 14.])>,\n",
       " <tf.Tensor: shape=(8,), dtype=float64, numpy=array([ 3.,  6.,  9., 12., 15., 18., 21., 24.])>)"
      ]
     },
     "execution_count": 206,
     "metadata": {},
     "output_type": "execute_result"
    }
   ],
   "source": [
    "# Remind ourself of the data\n",
    "X,y"
   ]
  },
  {
   "cell_type": "code",
   "execution_count": 207,
   "metadata": {
    "colab": {
     "base_uri": "https://localhost:8080/"
    },
    "executionInfo": {
     "elapsed": 14,
     "status": "ok",
     "timestamp": 1668399721021,
     "user": {
      "displayName": "Mudit Kumar",
      "userId": "12518861077253144202"
     },
     "user_tz": -330
    },
    "id": "_UJRcBLhvLvl",
    "outputId": "5054f82d-478c-4020-be14-04ef59bbd4a0"
   },
   "outputs": [
    {
     "name": "stdout",
     "output_type": "stream",
     "text": [
      "1/1 [==============================] - 0s 85ms/step\n"
     ]
    },
    {
     "data": {
      "text/plain": [
       "array([[29.739855]], dtype=float32)"
      ]
     },
     "execution_count": 207,
     "metadata": {},
     "output_type": "execute_result"
    }
   ],
   "source": [
    "#Checking if  model is improved\n",
    "model.predict([17])"
   ]
  },
  {
   "cell_type": "code",
   "execution_count": 208,
   "metadata": {
    "colab": {
     "base_uri": "https://localhost:8080/"
    },
    "executionInfo": {
     "elapsed": 2368,
     "status": "ok",
     "timestamp": 1668399723382,
     "user": {
      "displayName": "Mudit Kumar",
      "userId": "12518861077253144202"
     },
     "user_tz": -330
    },
    "id": "4xyy2TuCvWQ1",
    "outputId": "2b7f52f3-14db-491c-e6d7-06b2fa39173e"
   },
   "outputs": [
    {
     "name": "stdout",
     "output_type": "stream",
     "text": [
      "Epoch 1/100\n"
     ]
    },
    {
     "name": "stderr",
     "output_type": "stream",
     "text": [
      "/usr/local/lib/python3.7/dist-packages/keras/optimizers/optimizer_v2/adam.py:110: UserWarning: The `lr` argument is deprecated, use `learning_rate` instead.\n",
      "  super(Adam, self).__init__(name, **kwargs)\n"
     ]
    },
    {
     "name": "stdout",
     "output_type": "stream",
     "text": [
      "1/1 [==============================] - 0s 348ms/step - loss: 12.3193 - mae: 12.3193\n",
      "Epoch 2/100\n",
      "1/1 [==============================] - 0s 8ms/step - loss: 11.5062 - mae: 11.5062\n",
      "Epoch 3/100\n",
      "1/1 [==============================] - 0s 9ms/step - loss: 10.6739 - mae: 10.6739\n",
      "Epoch 4/100\n",
      "1/1 [==============================] - 0s 7ms/step - loss: 9.8419 - mae: 9.8419\n",
      "Epoch 5/100\n",
      "1/1 [==============================] - 0s 10ms/step - loss: 8.9961 - mae: 8.9961\n",
      "Epoch 6/100\n",
      "1/1 [==============================] - 0s 7ms/step - loss: 8.1346 - mae: 8.1346\n",
      "Epoch 7/100\n",
      "1/1 [==============================] - 0s 8ms/step - loss: 7.4052 - mae: 7.4052\n",
      "Epoch 8/100\n",
      "1/1 [==============================] - 0s 8ms/step - loss: 6.6763 - mae: 6.6763\n",
      "Epoch 9/100\n",
      "1/1 [==============================] - 0s 8ms/step - loss: 5.9140 - mae: 5.9140\n",
      "Epoch 10/100\n",
      "1/1 [==============================] - 0s 8ms/step - loss: 5.1124 - mae: 5.1124\n",
      "Epoch 11/100\n",
      "1/1 [==============================] - 0s 8ms/step - loss: 4.2652 - mae: 4.2652\n",
      "Epoch 12/100\n",
      "1/1 [==============================] - 0s 9ms/step - loss: 3.8460 - mae: 3.8460\n",
      "Epoch 13/100\n",
      "1/1 [==============================] - 0s 8ms/step - loss: 3.9257 - mae: 3.9257\n",
      "Epoch 14/100\n",
      "1/1 [==============================] - 0s 7ms/step - loss: 4.0900 - mae: 4.0900\n",
      "Epoch 15/100\n",
      "1/1 [==============================] - 0s 9ms/step - loss: 4.4781 - mae: 4.4781\n",
      "Epoch 16/100\n",
      "1/1 [==============================] - 0s 8ms/step - loss: 4.7607 - mae: 4.7607\n",
      "Epoch 17/100\n",
      "1/1 [==============================] - 0s 13ms/step - loss: 4.9264 - mae: 4.9264\n",
      "Epoch 18/100\n",
      "1/1 [==============================] - 0s 11ms/step - loss: 4.9894 - mae: 4.9894\n",
      "Epoch 19/100\n",
      "1/1 [==============================] - 0s 8ms/step - loss: 4.9672 - mae: 4.9672\n",
      "Epoch 20/100\n",
      "1/1 [==============================] - 0s 7ms/step - loss: 4.8677 - mae: 4.8677\n",
      "Epoch 21/100\n",
      "1/1 [==============================] - 0s 12ms/step - loss: 4.7046 - mae: 4.7046\n",
      "Epoch 22/100\n",
      "1/1 [==============================] - 0s 7ms/step - loss: 4.4897 - mae: 4.4897\n",
      "Epoch 23/100\n",
      "1/1 [==============================] - 0s 9ms/step - loss: 4.2326 - mae: 4.2326\n",
      "Epoch 24/100\n",
      "1/1 [==============================] - 0s 13ms/step - loss: 3.9418 - mae: 3.9418\n",
      "Epoch 25/100\n",
      "1/1 [==============================] - 0s 10ms/step - loss: 3.7886 - mae: 3.7886\n",
      "Epoch 26/100\n",
      "1/1 [==============================] - 0s 11ms/step - loss: 3.6632 - mae: 3.6632\n",
      "Epoch 27/100\n",
      "1/1 [==============================] - 0s 9ms/step - loss: 3.5393 - mae: 3.5393\n",
      "Epoch 28/100\n",
      "1/1 [==============================] - 0s 10ms/step - loss: 3.5531 - mae: 3.5531\n",
      "Epoch 29/100\n",
      "1/1 [==============================] - 0s 14ms/step - loss: 3.6208 - mae: 3.6208\n",
      "Epoch 30/100\n",
      "1/1 [==============================] - 0s 9ms/step - loss: 3.6576 - mae: 3.6576\n",
      "Epoch 31/100\n",
      "1/1 [==============================] - 0s 10ms/step - loss: 3.7506 - mae: 3.7506\n",
      "Epoch 32/100\n",
      "1/1 [==============================] - 0s 8ms/step - loss: 3.7092 - mae: 3.7092\n",
      "Epoch 33/100\n",
      "1/1 [==============================] - 0s 8ms/step - loss: 3.5338 - mae: 3.5338\n",
      "Epoch 34/100\n",
      "1/1 [==============================] - 0s 10ms/step - loss: 3.4270 - mae: 3.4270\n",
      "Epoch 35/100\n",
      "1/1 [==============================] - 0s 7ms/step - loss: 3.3004 - mae: 3.3004\n",
      "Epoch 36/100\n",
      "1/1 [==============================] - 0s 9ms/step - loss: 3.1545 - mae: 3.1545\n",
      "Epoch 37/100\n",
      "1/1 [==============================] - 0s 9ms/step - loss: 3.0648 - mae: 3.0648\n",
      "Epoch 38/100\n",
      "1/1 [==============================] - 0s 10ms/step - loss: 3.0459 - mae: 3.0459\n",
      "Epoch 39/100\n",
      "1/1 [==============================] - 0s 8ms/step - loss: 3.0209 - mae: 3.0209\n",
      "Epoch 40/100\n",
      "1/1 [==============================] - 0s 10ms/step - loss: 3.0347 - mae: 3.0347\n",
      "Epoch 41/100\n",
      "1/1 [==============================] - 0s 8ms/step - loss: 2.9867 - mae: 2.9867\n",
      "Epoch 42/100\n",
      "1/1 [==============================] - 0s 9ms/step - loss: 2.8888 - mae: 2.8888\n",
      "Epoch 43/100\n",
      "1/1 [==============================] - 0s 7ms/step - loss: 2.8175 - mae: 2.8175\n",
      "Epoch 44/100\n",
      "1/1 [==============================] - 0s 9ms/step - loss: 2.7250 - mae: 2.7250\n",
      "Epoch 45/100\n",
      "1/1 [==============================] - 0s 8ms/step - loss: 2.6173 - mae: 2.6173\n",
      "Epoch 46/100\n",
      "1/1 [==============================] - 0s 8ms/step - loss: 2.5069 - mae: 2.5069\n",
      "Epoch 47/100\n",
      "1/1 [==============================] - 0s 7ms/step - loss: 2.4002 - mae: 2.4002\n",
      "Epoch 48/100\n",
      "1/1 [==============================] - 0s 9ms/step - loss: 2.2894 - mae: 2.2894\n",
      "Epoch 49/100\n",
      "1/1 [==============================] - 0s 8ms/step - loss: 2.1712 - mae: 2.1712\n",
      "Epoch 50/100\n",
      "1/1 [==============================] - 0s 8ms/step - loss: 2.0403 - mae: 2.0403\n",
      "Epoch 51/100\n",
      "1/1 [==============================] - 0s 8ms/step - loss: 1.9989 - mae: 1.9989\n",
      "Epoch 52/100\n",
      "1/1 [==============================] - 0s 16ms/step - loss: 1.8724 - mae: 1.8724\n",
      "Epoch 53/100\n",
      "1/1 [==============================] - 0s 8ms/step - loss: 1.7025 - mae: 1.7025\n",
      "Epoch 54/100\n",
      "1/1 [==============================] - 0s 9ms/step - loss: 1.5747 - mae: 1.5747\n",
      "Epoch 55/100\n",
      "1/1 [==============================] - 0s 9ms/step - loss: 1.4753 - mae: 1.4753\n",
      "Epoch 56/100\n",
      "1/1 [==============================] - 0s 8ms/step - loss: 1.3545 - mae: 1.3545\n",
      "Epoch 57/100\n",
      "1/1 [==============================] - 0s 9ms/step - loss: 1.2393 - mae: 1.2393\n",
      "Epoch 58/100\n",
      "1/1 [==============================] - 0s 10ms/step - loss: 1.0315 - mae: 1.0315\n",
      "Epoch 59/100\n",
      "1/1 [==============================] - 0s 10ms/step - loss: 0.8339 - mae: 0.8339\n",
      "Epoch 60/100\n",
      "1/1 [==============================] - 0s 8ms/step - loss: 0.6625 - mae: 0.6625\n",
      "Epoch 61/100\n",
      "1/1 [==============================] - 0s 8ms/step - loss: 0.5088 - mae: 0.5088\n",
      "Epoch 62/100\n",
      "1/1 [==============================] - 0s 8ms/step - loss: 0.3310 - mae: 0.3310\n",
      "Epoch 63/100\n",
      "1/1 [==============================] - 0s 8ms/step - loss: 0.3307 - mae: 0.3307\n",
      "Epoch 64/100\n",
      "1/1 [==============================] - 0s 8ms/step - loss: 0.3330 - mae: 0.3330\n",
      "Epoch 65/100\n",
      "1/1 [==============================] - 0s 7ms/step - loss: 0.2128 - mae: 0.2128\n",
      "Epoch 66/100\n",
      "1/1 [==============================] - 0s 8ms/step - loss: 0.6744 - mae: 0.6744\n",
      "Epoch 67/100\n",
      "1/1 [==============================] - 0s 8ms/step - loss: 0.6279 - mae: 0.6279\n",
      "Epoch 68/100\n",
      "1/1 [==============================] - 0s 8ms/step - loss: 0.6084 - mae: 0.6084\n",
      "Epoch 69/100\n",
      "1/1 [==============================] - 0s 8ms/step - loss: 0.7256 - mae: 0.7256\n",
      "Epoch 70/100\n",
      "1/1 [==============================] - 0s 8ms/step - loss: 0.6237 - mae: 0.6237\n",
      "Epoch 71/100\n",
      "1/1 [==============================] - 0s 9ms/step - loss: 0.3927 - mae: 0.3927\n",
      "Epoch 72/100\n",
      "1/1 [==============================] - 0s 9ms/step - loss: 0.5721 - mae: 0.5721\n",
      "Epoch 73/100\n",
      "1/1 [==============================] - 0s 7ms/step - loss: 0.6973 - mae: 0.6973\n",
      "Epoch 74/100\n",
      "1/1 [==============================] - 0s 8ms/step - loss: 0.4928 - mae: 0.4928\n",
      "Epoch 75/100\n",
      "1/1 [==============================] - 0s 10ms/step - loss: 0.5584 - mae: 0.5584\n",
      "Epoch 76/100\n",
      "1/1 [==============================] - 0s 7ms/step - loss: 0.5706 - mae: 0.5706\n",
      "Epoch 77/100\n",
      "1/1 [==============================] - 0s 9ms/step - loss: 0.4548 - mae: 0.4548\n",
      "Epoch 78/100\n",
      "1/1 [==============================] - 0s 9ms/step - loss: 0.2731 - mae: 0.2731\n",
      "Epoch 79/100\n",
      "1/1 [==============================] - 0s 9ms/step - loss: 0.6350 - mae: 0.6350\n",
      "Epoch 80/100\n",
      "1/1 [==============================] - 0s 8ms/step - loss: 0.7159 - mae: 0.7159\n",
      "Epoch 81/100\n",
      "1/1 [==============================] - 0s 9ms/step - loss: 0.4848 - mae: 0.4848\n",
      "Epoch 82/100\n",
      "1/1 [==============================] - 0s 9ms/step - loss: 0.1989 - mae: 0.1989\n",
      "Epoch 83/100\n",
      "1/1 [==============================] - 0s 18ms/step - loss: 0.3395 - mae: 0.3395\n",
      "Epoch 84/100\n",
      "1/1 [==============================] - 0s 9ms/step - loss: 0.2128 - mae: 0.2128\n",
      "Epoch 85/100\n",
      "1/1 [==============================] - 0s 12ms/step - loss: 0.3692 - mae: 0.3692\n",
      "Epoch 86/100\n",
      "1/1 [==============================] - 0s 9ms/step - loss: 0.4717 - mae: 0.4717\n",
      "Epoch 87/100\n",
      "1/1 [==============================] - 0s 8ms/step - loss: 0.3324 - mae: 0.3324\n",
      "Epoch 88/100\n",
      "1/1 [==============================] - 0s 9ms/step - loss: 0.2551 - mae: 0.2551\n",
      "Epoch 89/100\n",
      "1/1 [==============================] - 0s 8ms/step - loss: 0.3310 - mae: 0.3310\n",
      "Epoch 90/100\n",
      "1/1 [==============================] - 0s 11ms/step - loss: 0.2381 - mae: 0.2381\n",
      "Epoch 91/100\n",
      "1/1 [==============================] - 0s 8ms/step - loss: 0.2594 - mae: 0.2594\n",
      "Epoch 92/100\n",
      "1/1 [==============================] - 0s 7ms/step - loss: 0.2367 - mae: 0.2367\n",
      "Epoch 93/100\n",
      "1/1 [==============================] - 0s 10ms/step - loss: 0.1750 - mae: 0.1750\n",
      "Epoch 94/100\n",
      "1/1 [==============================] - 0s 10ms/step - loss: 0.2303 - mae: 0.2303\n",
      "Epoch 95/100\n",
      "1/1 [==============================] - 0s 9ms/step - loss: 0.1337 - mae: 0.1337\n",
      "Epoch 96/100\n",
      "1/1 [==============================] - 0s 10ms/step - loss: 0.1930 - mae: 0.1930\n",
      "Epoch 97/100\n",
      "1/1 [==============================] - 0s 9ms/step - loss: 0.1099 - mae: 0.1099\n",
      "Epoch 98/100\n",
      "1/1 [==============================] - 0s 15ms/step - loss: 0.2055 - mae: 0.2055\n",
      "Epoch 99/100\n",
      "1/1 [==============================] - 0s 9ms/step - loss: 0.1987 - mae: 0.1987\n",
      "Epoch 100/100\n",
      "1/1 [==============================] - 0s 9ms/step - loss: 0.2265 - mae: 0.2265\n"
     ]
    },
    {
     "data": {
      "text/plain": [
       "<keras.callbacks.History at 0x7fdad68e0c50>"
      ]
     },
     "execution_count": 208,
     "metadata": {},
     "output_type": "execute_result"
    }
   ],
   "source": [
    "# Let's see of we an make another to improve our model\n",
    "model=tf.keras.Sequential([\n",
    "    tf.keras.layers.Dense(100,activation=\"relu\"), # adding the hidden layers\n",
    "    tf.keras.layers.Dense(1)\n",
    "])\n",
    "model.compile(loss=tf.keras.losses.mae,\n",
    "              optimizer=tf.keras.optimizers.Adam(lr=0.01), #Learning rate is imp factor\n",
    "              metrics=[\"mae\"]\n",
    "              )\n",
    "model.fit(tf.expand_dims(X,axis=-1),y,epochs=100)"
   ]
  },
  {
   "cell_type": "code",
   "execution_count": 209,
   "metadata": {
    "colab": {
     "base_uri": "https://localhost:8080/"
    },
    "executionInfo": {
     "elapsed": 30,
     "status": "ok",
     "timestamp": 1668399723383,
     "user": {
      "displayName": "Mudit Kumar",
      "userId": "12518861077253144202"
     },
     "user_tz": -330
    },
    "id": "QFRcuWu-xGtK",
    "outputId": "33ce24f2-ca85-4953-9575-0e46e3d6b86d"
   },
   "outputs": [
    {
     "data": {
      "text/plain": [
       "(<tf.Tensor: shape=(8,), dtype=float64, numpy=array([-7., -4., -1.,  2.,  5.,  8., 11., 14.])>,\n",
       " <tf.Tensor: shape=(8,), dtype=float64, numpy=array([ 3.,  6.,  9., 12., 15., 18., 21., 24.])>)"
      ]
     },
     "execution_count": 209,
     "metadata": {},
     "output_type": "execute_result"
    }
   ],
   "source": [
    "# Reminding ourself of the data\n",
    "X,y"
   ]
  },
  {
   "cell_type": "code",
   "execution_count": 210,
   "metadata": {
    "colab": {
     "base_uri": "https://localhost:8080/"
    },
    "executionInfo": {
     "elapsed": 23,
     "status": "ok",
     "timestamp": 1668399723383,
     "user": {
      "displayName": "Mudit Kumar",
      "userId": "12518861077253144202"
     },
     "user_tz": -330
    },
    "id": "KOQj6cJXkY6I",
    "outputId": "b3ad8fc9-33ae-4832-9f2b-1b4ce314cd04"
   },
   "outputs": [
    {
     "name": "stdout",
     "output_type": "stream",
     "text": [
      "1/1 [==============================] - 0s 53ms/step\n"
     ]
    },
    {
     "data": {
      "text/plain": [
       "array([[27.15925]], dtype=float32)"
      ]
     },
     "execution_count": 210,
     "metadata": {},
     "output_type": "execute_result"
    }
   ],
   "source": [
    "#Prediction \n",
    "model.predict([17]) #Overfiting ?"
   ]
  },
  {
   "cell_type": "markdown",
   "metadata": {
    "id": "iE43itSEkdba"
   },
   "source": [
    "## Evaluatin a Model\n",
    "In practice , a typical workflow you will go through when building neural network is :\n",
    "\n",
    "```\n",
    "Build a model -> fit it-> Evaulate it -> tweak a model -> fit it -> Evaluate it -> Tweak a  model .....\n",
    "```\n"
   ]
  },
  {
   "cell_type": "markdown",
   "metadata": {
    "id": "LYvxZASJvp7d"
   },
   "source": [
    "## When it comes to Evaluation :\n",
    "Visialize a model\n",
    "It's a good idea to visualize:\n",
    "\n",
    "* The data - what data are we working with , what does it look like?\n",
    "*The model itself- what does our model looks like?\n",
    "*The training of a model -how does a model perform when it learns?\n",
    "*The prediction of the model-How do the predictions of a model line up against the ground truth (original labels)?\n"
   ]
  },
  {
   "cell_type": "code",
   "execution_count": 211,
   "metadata": {
    "colab": {
     "base_uri": "https://localhost:8080/"
    },
    "executionInfo": {
     "elapsed": 20,
     "status": "ok",
     "timestamp": 1668399723384,
     "user": {
      "displayName": "Mudit Kumar",
      "userId": "12518861077253144202"
     },
     "user_tz": -330
    },
    "id": "Rx8dnN0i0yBL",
    "outputId": "0461c47e-5ecc-486a-d468-7d2d3b61cf2b"
   },
   "outputs": [
    {
     "data": {
      "text/plain": [
       "<tf.Tensor: shape=(50,), dtype=int32, numpy=\n",
       "array([-100,  -96,  -92,  -88,  -84,  -80,  -76,  -72,  -68,  -64,  -60,\n",
       "        -56,  -52,  -48,  -44,  -40,  -36,  -32,  -28,  -24,  -20,  -16,\n",
       "        -12,   -8,   -4,    0,    4,    8,   12,   16,   20,   24,   28,\n",
       "         32,   36,   40,   44,   48,   52,   56,   60,   64,   68,   72,\n",
       "         76,   80,   84,   88,   92,   96], dtype=int32)>"
      ]
     },
     "execution_count": 211,
     "metadata": {},
     "output_type": "execute_result"
    }
   ],
   "source": [
    "# Make a bigger dataset\n",
    "X=tf.range(-100,100,4)\n",
    "X"
   ]
  },
  {
   "cell_type": "code",
   "execution_count": 212,
   "metadata": {
    "colab": {
     "base_uri": "https://localhost:8080/"
    },
    "executionInfo": {
     "elapsed": 17,
     "status": "ok",
     "timestamp": 1668399723384,
     "user": {
      "displayName": "Mudit Kumar",
      "userId": "12518861077253144202"
     },
     "user_tz": -330
    },
    "id": "3Iv1KuzR2sg6",
    "outputId": "9cb90738-2042-4546-f128-b4bfa0e8b00c"
   },
   "outputs": [
    {
     "data": {
      "text/plain": [
       "<tf.Tensor: shape=(50,), dtype=int32, numpy=\n",
       "array([-90, -86, -82, -78, -74, -70, -66, -62, -58, -54, -50, -46, -42,\n",
       "       -38, -34, -30, -26, -22, -18, -14, -10,  -6,  -2,   2,   6,  10,\n",
       "        14,  18,  22,  26,  30,  34,  38,  42,  46,  50,  54,  58,  62,\n",
       "        66,  70,  74,  78,  82,  86,  90,  94,  98, 102, 106], dtype=int32)>"
      ]
     },
     "execution_count": 212,
     "metadata": {},
     "output_type": "execute_result"
    }
   ],
   "source": [
    "#Make labels for dataset\n",
    "y=tf.add(X,10)\n",
    "y             "
   ]
  },
  {
   "cell_type": "code",
   "execution_count": 213,
   "metadata": {
    "colab": {
     "base_uri": "https://localhost:8080/",
     "height": 282
    },
    "executionInfo": {
     "elapsed": 799,
     "status": "ok",
     "timestamp": 1668399724171,
     "user": {
      "displayName": "Mudit Kumar",
      "userId": "12518861077253144202"
     },
     "user_tz": -330
    },
    "id": "hhQXcdcD29OD",
    "outputId": "5a0d8e01-d578-4598-e1ea-608029fbe59a"
   },
   "outputs": [
    {
     "data": {
      "text/plain": [
       "[<matplotlib.lines.Line2D at 0x7fdac6aaa450>]"
      ]
     },
     "execution_count": 213,
     "metadata": {},
     "output_type": "execute_result"
    },
    {
     "data": {
      "image/png": "[encoded data removed]",
      "text/plain": [
       "<Figure size 432x288 with 1 Axes>"
      ]
     },
     "metadata": {
      "needs_background": "light"
     },
     "output_type": "display_data"
    }
   ],
   "source": [
    "# Visualize the data\n",
    "import matplotlib.pyplot as plt\n",
    "plt.plot(X,y)"
   ]
  },
  {
   "cell_type": "code",
   "execution_count": 214,
   "metadata": {
    "colab": {
     "base_uri": "https://localhost:8080/",
     "height": 282
    },
    "executionInfo": {
     "elapsed": 8,
     "status": "ok",
     "timestamp": 1668399724174,
     "user": {
      "displayName": "Mudit Kumar",
      "userId": "12518861077253144202"
     },
     "user_tz": -330
    },
    "id": "oLC4M35R_2Pd",
    "outputId": "73fd994e-e368-4ed5-bff4-f2ea86a18218"
   },
   "outputs": [
    {
     "data": {
      "text/plain": [
       "<matplotlib.collections.PathCollection at 0x7fdac6b19910>"
      ]
     },
     "execution_count": 214,
     "metadata": {},
     "output_type": "execute_result"
    },
    {
     "data": {
      "image/png": "[encoded data removed]",
      "text/plain": [
       "<Figure size 432x288 with 1 Axes>"
      ]
     },
     "metadata": {
      "needs_background": "light"
     },
     "output_type": "display_data"
    }
   ],
   "source": [
    "plt.scatter(X,y)"
   ]
  },
  {
   "cell_type": "markdown",
   "metadata": {
    "id": "Ciw9Gdj0_769"
   },
   "source": [
    "### The 3 sets ...\n",
    "* **Training set** - model learns from this data , which is typically 70-80% of data available\n",
    "* **Validation set** - the model gets tuned on this data, which is typically 10-15%\n",
    "* Test set -  model gets evaluated on this data what it has learned , 10-15 %"
   ]
  },
  {
   "cell_type": "code",
   "execution_count": 215,
   "metadata": {
    "colab": {
     "base_uri": "https://localhost:8080/"
    },
    "executionInfo": {
     "elapsed": 7,
     "status": "ok",
     "timestamp": 1668399725424,
     "user": {
      "displayName": "Mudit Kumar",
      "userId": "12518861077253144202"
     },
     "user_tz": -330
    },
    "id": "MffIgeDOr9P0",
    "outputId": "19895f95-6386-4a95-9c28-07bd5e4f2a5f"
   },
   "outputs": [
    {
     "data": {
      "text/plain": [
       "50"
      ]
     },
     "execution_count": 215,
     "metadata": {},
     "output_type": "execute_result"
    }
   ],
   "source": [
    "# Check the length of how many samples we have\n",
    "len(X)"
   ]
  },
  {
   "cell_type": "code",
   "execution_count": 216,
   "metadata": {
    "colab": {
     "base_uri": "https://localhost:8080/"
    },
    "executionInfo": {
     "elapsed": 6,
     "status": "ok",
     "timestamp": 1668399725424,
     "user": {
      "displayName": "Mudit Kumar",
      "userId": "12518861077253144202"
     },
     "user_tz": -330
    },
    "id": "0SPxmSh6tI3j",
    "outputId": "229282ce-2fd3-4619-8d35-0adbfe501bc8"
   },
   "outputs": [
    {
     "data": {
      "text/plain": [
       "(40, 10, 40, 10)"
      ]
     },
     "execution_count": 216,
     "metadata": {},
     "output_type": "execute_result"
    }
   ],
   "source": [
    "# Split the data into train  and test sets\n",
    "X_train=X[:40] # First 40 are training samples \n",
    "y_train=y[:40]\n",
    "X_test=X[40:]\n",
    "y_test=y[40:]\n",
    "len(X_train),len(X_test),len(y_train),len(y_test)"
   ]
  },
  {
   "cell_type": "markdown",
   "metadata": {
    "id": "rcoqdXwfvNLT"
   },
   "source": [
    "# Vislisalizng the Data\n",
    "We got test and train sets , lets visualize it "
   ]
  },
  {
   "cell_type": "code",
   "execution_count": 217,
   "metadata": {
    "colab": {
     "base_uri": "https://localhost:8080/",
     "height": 445
    },
    "executionInfo": {
     "elapsed": 15,
     "status": "ok",
     "timestamp": 1668399726239,
     "user": {
      "displayName": "Mudit Kumar",
      "userId": "12518861077253144202"
     },
     "user_tz": -330
    },
    "id": "oz9WJobPwHlB",
    "outputId": "f5982d68-c611-4b41-dbe0-52dec9d9cd49"
   },
   "outputs": [
    {
     "data": {
      "text/plain": [
       "<matplotlib.legend.Legend at 0x7fdac69f1290>"
      ]
     },
     "execution_count": 217,
     "metadata": {},
     "output_type": "execute_result"
    },
    {
     "data": {
      "image/png": "[encoded data removed]",
      "text/plain": [
       "<Figure size 720x504 with 1 Axes>"
      ]
     },
     "metadata": {
      "needs_background": "light"
     },
     "output_type": "display_data"
    }
   ],
   "source": [
    "plt.figure(figsize=(10,7))\n",
    "plt.scatter(X_train,y_train,c='b',label=\"Training data\") #Plotting training data in blue\n",
    "plt.scatter(X_test,y_test,c='g',label=\"Testing  data\")# want our model to be able to predict this (given X, what's y)\n",
    "plt.legend()"
   ]
  },
  {
   "cell_type": "code",
   "execution_count": 218,
   "metadata": {
    "executionInfo": {
     "elapsed": 5,
     "status": "ok",
     "timestamp": 1668399727045,
     "user": {
      "displayName": "Mudit Kumar",
      "userId": "12518861077253144202"
     },
     "user_tz": -330
    },
    "id": "y02q7VLiwzyz"
   },
   "outputs": [],
   "source": [
    "X_train=tf.expand_dims(X_train,axis=-1)\n",
    "X_test=tf.expand_dims(X_test,axis=-1)\n",
    "# Building NN for data\n",
    "\n",
    "#1. Create a model\n",
    "model=tf.keras.Sequential([\n",
    "    tf.keras.layers.Dense(1)\n",
    "])\n",
    "\n",
    "# 2. Compile the model\n",
    "model.compile(\n",
    "    loss=tf.keras.losses.mae,\n",
    "    optimizer=tf.keras.optimizers.SGD(),\n",
    "    metrics=[\"mae\"]\n",
    ")\n",
    "# 3. fit the model\n",
    "# model.fit(X_train,y_train,epochs=100)"
   ]
  },
  {
   "cell_type": "code",
   "execution_count": 219,
   "metadata": {
    "colab": {
     "base_uri": "https://localhost:8080/",
     "height": 339
    },
    "executionInfo": {
     "elapsed": 18,
     "status": "error",
     "timestamp": 1668399727647,
     "user": {
      "displayName": "Mudit Kumar",
      "userId": "12518861077253144202"
     },
     "user_tz": -330
    },
    "id": "ckPN93C50ipM",
    "outputId": "025c5baa-3056-49da-dfd9-8d7896780d93"
   },
   "outputs": [
    {
     "ename": "ValueError",
     "evalue": "ignored",
     "output_type": "error",
     "traceback": [
      "\u001b[0;31m---------------------------------------------------------------------------\u001b[0m",
      "\u001b[0;31mValueError\u001b[0m                                Traceback (most recent call last)",
      "\u001b[0;32m<ipython-input-219-a1f95d90a0de>\u001b[0m in \u001b[0;36m<module>\u001b[0;34m\u001b[0m\n\u001b[1;32m      1\u001b[0m \u001b[0;31m#Visualizing the model\u001b[0m\u001b[0;34m\u001b[0m\u001b[0;34m\u001b[0m\u001b[0;34m\u001b[0m\u001b[0m\n\u001b[0;32m----> 2\u001b[0;31m \u001b[0mmodel\u001b[0m\u001b[0;34m.\u001b[0m\u001b[0msummary\u001b[0m\u001b[0;34m(\u001b[0m\u001b[0;34m)\u001b[0m\u001b[0;34m\u001b[0m\u001b[0;34m\u001b[0m\u001b[0m\n\u001b[0m",
      "\u001b[0;32m/usr/local/lib/python3.7/dist-packages/keras/engine/training.py\u001b[0m in \u001b[0;36msummary\u001b[0;34m(self, line_length, positions, print_fn, expand_nested, show_trainable)\u001b[0m\n\u001b[1;32m   2868\u001b[0m     \u001b[0;32mif\u001b[0m \u001b[0;32mnot\u001b[0m \u001b[0mself\u001b[0m\u001b[0;34m.\u001b[0m\u001b[0mbuilt\u001b[0m\u001b[0;34m:\u001b[0m\u001b[0;34m\u001b[0m\u001b[0;34m\u001b[0m\u001b[0m\n\u001b[1;32m   2869\u001b[0m       raise ValueError(\n\u001b[0;32m-> 2870\u001b[0;31m           \u001b[0;34m'This model has not yet been built. '\u001b[0m\u001b[0;34m\u001b[0m\u001b[0;34m\u001b[0m\u001b[0m\n\u001b[0m\u001b[1;32m   2871\u001b[0m           \u001b[0;34m'Build the model first by calling `build()` or by calling '\u001b[0m\u001b[0;34m\u001b[0m\u001b[0;34m\u001b[0m\u001b[0m\n\u001b[1;32m   2872\u001b[0m           'the model on a batch of data.')\n",
      "\u001b[0;31mValueError\u001b[0m: This model has not yet been built. Build the model first by calling `build()` or by calling the model on a batch of data."
     ]
    }
   ],
   "source": [
    "#Visualizing the model\n",
    "model.summary()"
   ]
  },
  {
   "cell_type": "code",
   "execution_count": null,
   "metadata": {
    "executionInfo": {
     "elapsed": 15,
     "status": "aborted",
     "timestamp": 1668399727650,
     "user": {
      "displayName": "Mudit Kumar",
      "userId": "12518861077253144202"
     },
     "user_tz": -330
    },
    "id": "tZ9W-d7g1B-1"
   },
   "outputs": [],
   "source": [
    "#Let's create a model which builds automatically by defining the input_shape argument\n",
    "tf.random.set_seed(42)\n",
    "\n",
    "#1. create a model(same as above)\n",
    "model=tf.keras.Sequential([\n",
    "    tf.keras.layers.Dense(10,input_shape=[1],name=\"input_layer\"),\n",
    "    tf.keras.layers.Dense(1,name=\"output_layer\")\n",
    "],name=\"Model_1\")\n",
    "# 2. Compile a model\n",
    "model.compile(loss=tf.keras.losses.mae,\n",
    "              optimizer=tf.keras.optimizers.SGD(),\n",
    "              metrics=[\"mae\"]\n",
    "              )"
   ]
  },
  {
   "cell_type": "code",
   "execution_count": 220,
   "metadata": {
    "colab": {
     "base_uri": "https://localhost:8080/",
     "height": 321
    },
    "executionInfo": {
     "elapsed": 6,
     "status": "error",
     "timestamp": 1668399728344,
     "user": {
      "displayName": "Mudit Kumar",
      "userId": "12518861077253144202"
     },
     "user_tz": -330
    },
    "id": "pxhTR84r2Jmm",
    "outputId": "9330fa7c-35bc-4c8f-811f-28e39cfbc5aa"
   },
   "outputs": [
    {
     "ename": "ValueError",
     "evalue": "ignored",
     "output_type": "error",
     "traceback": [
      "\u001b[0;31m---------------------------------------------------------------------------\u001b[0m",
      "\u001b[0;31mValueError\u001b[0m                                Traceback (most recent call last)",
      "\u001b[0;32m<ipython-input-220-5f15418b3570>\u001b[0m in \u001b[0;36m<module>\u001b[0;34m\u001b[0m\n\u001b[0;32m----> 1\u001b[0;31m \u001b[0mmodel\u001b[0m\u001b[0;34m.\u001b[0m\u001b[0msummary\u001b[0m\u001b[0;34m(\u001b[0m\u001b[0;34m)\u001b[0m\u001b[0;34m\u001b[0m\u001b[0;34m\u001b[0m\u001b[0m\n\u001b[0m",
      "\u001b[0;32m/usr/local/lib/python3.7/dist-packages/keras/engine/training.py\u001b[0m in \u001b[0;36msummary\u001b[0;34m(self, line_length, positions, print_fn, expand_nested, show_trainable)\u001b[0m\n\u001b[1;32m   2868\u001b[0m     \u001b[0;32mif\u001b[0m \u001b[0;32mnot\u001b[0m \u001b[0mself\u001b[0m\u001b[0;34m.\u001b[0m\u001b[0mbuilt\u001b[0m\u001b[0;34m:\u001b[0m\u001b[0;34m\u001b[0m\u001b[0;34m\u001b[0m\u001b[0m\n\u001b[1;32m   2869\u001b[0m       raise ValueError(\n\u001b[0;32m-> 2870\u001b[0;31m           \u001b[0;34m'This model has not yet been built. '\u001b[0m\u001b[0;34m\u001b[0m\u001b[0;34m\u001b[0m\u001b[0m\n\u001b[0m\u001b[1;32m   2871\u001b[0m           \u001b[0;34m'Build the model first by calling `build()` or by calling '\u001b[0m\u001b[0;34m\u001b[0m\u001b[0;34m\u001b[0m\u001b[0m\n\u001b[1;32m   2872\u001b[0m           'the model on a batch of data.')\n",
      "\u001b[0;31mValueError\u001b[0m: This model has not yet been built. Build the model first by calling `build()` or by calling the model on a batch of data."
     ]
    }
   ],
   "source": [
    "\n",
    "model.summary()"
   ]
  },
  {
   "cell_type": "markdown",
   "metadata": {
    "id": "Scdpb7Vs3wcq"
   },
   "source": [
    "\n",
    "* Total params - total number of parameters in the model.\n",
    "\n",
    "* Trainable parameters -these are the parameters  (patterns) the model can update as it trains.\n",
    "\n",
    "* Non -trainable params - these parameters arent updated during training ( this is typical when u  bring in already learn patterns or parameters from other models during transfer learning)"
   ]
  },
  {
   "cell_type": "code",
   "execution_count": 221,
   "metadata": {
    "colab": {
     "base_uri": "https://localhost:8080/"
    },
    "executionInfo": {
     "elapsed": 1416,
     "status": "ok",
     "timestamp": 1668399730782,
     "user": {
      "displayName": "Mudit Kumar",
      "userId": "12518861077253144202"
     },
     "user_tz": -330
    },
    "id": "QTFZxteCeAr_",
    "outputId": "25c815e6-efb7-43c3-dfcd-8dffc9826117"
   },
   "outputs": [
    {
     "data": {
      "text/plain": [
       "<keras.callbacks.History at 0x7fdac6a10350>"
      ]
     },
     "execution_count": 221,
     "metadata": {},
     "output_type": "execute_result"
    }
   ],
   "source": [
    "model.fit(X_train,y_train,epochs=100,verbose=0)"
   ]
  },
  {
   "cell_type": "code",
   "execution_count": 222,
   "metadata": {
    "colab": {
     "base_uri": "https://localhost:8080/"
    },
    "executionInfo": {
     "elapsed": 678,
     "status": "ok",
     "timestamp": 1668399731445,
     "user": {
      "displayName": "Mudit Kumar",
      "userId": "12518861077253144202"
     },
     "user_tz": -330
    },
    "id": "28I6OGRcgozE",
    "outputId": "2b617dfb-9da5-4433-ee7d-a49ed1699b76"
   },
   "outputs": [
    {
     "name": "stdout",
     "output_type": "stream",
     "text": [
      "Model: \"sequential_22\"\n",
      "_________________________________________________________________\n",
      " Layer (type)                Output Shape              Param #   \n",
      "=================================================================\n",
      " dense_57 (Dense)            (None, 1)                 2         \n",
      "                                                                 \n",
      "=================================================================\n",
      "Total params: 2\n",
      "Trainable params: 2\n",
      "Non-trainable params: 0\n",
      "_________________________________________________________________\n"
     ]
    }
   ],
   "source": [
    "# Get summary of our model\n",
    "model.summary()"
   ]
  },
  {
   "cell_type": "code",
   "execution_count": 223,
   "metadata": {
    "colab": {
     "base_uri": "https://localhost:8080/",
     "height": 201
    },
    "executionInfo": {
     "elapsed": 9,
     "status": "ok",
     "timestamp": 1668399731446,
     "user": {
      "displayName": "Mudit Kumar",
      "userId": "12518861077253144202"
     },
     "user_tz": -330
    },
    "id": "cc2nXgsehXbN",
    "outputId": "0ee2811a-a21d-49df-c7d7-97f786f233c9"
   },
   "outputs": [
    {
     "data": {
      "image/png": "[encoded data removed]",
      "text/plain": [
       "<IPython.core.display.Image object>"
      ]
     },
     "execution_count": 223,
     "metadata": {},
     "output_type": "execute_result"
    }
   ],
   "source": [
    "from tensorflow.keras.utils import plot_model\n",
    "plot_model(model=model,show_shapes=True)"
   ]
  },
  {
   "cell_type": "markdown",
   "metadata": {
    "id": "gaRgVKJLj2XY"
   },
   "source": [
    "# Visualizing model predictions\n",
    "\n",
    "To visualize predictions,it's a good idea to plot them against ground truth labels.\n",
    "Pften you'll see this in the form of `y_test` or `y_true` vs `y_pred` (ground truth vs model predictions)."
   ]
  },
  {
   "cell_type": "code",
   "execution_count": 224,
   "metadata": {
    "colab": {
     "base_uri": "https://localhost:8080/"
    },
    "executionInfo": {
     "elapsed": 907,
     "status": "ok",
     "timestamp": 1668399732347,
     "user": {
      "displayName": "Mudit Kumar",
      "userId": "12518861077253144202"
     },
     "user_tz": -330
    },
    "id": "RuFnvmcvCpzp",
    "outputId": "5abd5146-a0ec-4859-f857-138f192c2f17"
   },
   "outputs": [
    {
     "name": "stdout",
     "output_type": "stream",
     "text": [
      "1/1 [==============================] - 0s 101ms/step\n"
     ]
    },
    {
     "data": {
      "text/plain": [
       "array([[56.60357 ],\n",
       "       [60.289223],\n",
       "       [63.974876],\n",
       "       [67.66053 ],\n",
       "       [71.34618 ],\n",
       "       [75.03184 ],\n",
       "       [78.7175  ],\n",
       "       [82.40315 ],\n",
       "       [86.088806],\n",
       "       [89.77446 ]], dtype=float32)"
      ]
     },
     "execution_count": 224,
     "metadata": {},
     "output_type": "execute_result"
    }
   ],
   "source": [
    "# Make some predictions\n",
    "y_pred=model.predict(X_test)\n",
    "y_pred"
   ]
  },
  {
   "cell_type": "code",
   "execution_count": 225,
   "metadata": {
    "colab": {
     "base_uri": "https://localhost:8080/"
    },
    "executionInfo": {
     "elapsed": 7,
     "status": "ok",
     "timestamp": 1668399732348,
     "user": {
      "displayName": "Mudit Kumar",
      "userId": "12518861077253144202"
     },
     "user_tz": -330
    },
    "id": "cYVb_yKoJ6e0",
    "outputId": "9843abd1-565d-43bd-ab5c-7bf379ed2e59"
   },
   "outputs": [
    {
     "data": {
      "text/plain": [
       "<tf.Tensor: shape=(10,), dtype=int32, numpy=array([ 70,  74,  78,  82,  86,  90,  94,  98, 102, 106], dtype=int32)>"
      ]
     },
     "execution_count": 225,
     "metadata": {},
     "output_type": "execute_result"
    }
   ],
   "source": [
    "y_test"
   ]
  },
  {
   "cell_type": "code",
   "execution_count": 226,
   "metadata": {
    "executionInfo": {
     "elapsed": 3,
     "status": "ok",
     "timestamp": 1668399732348,
     "user": {
      "displayName": "Mudit Kumar",
      "userId": "12518861077253144202"
     },
     "user_tz": -330
    },
    "id": "Zc2IbESWJ9d3"
   },
   "outputs": [],
   "source": [
    "#Creating a plotting funtion\n",
    "def plot_prediction(train_data=X_train,\n",
    "                    train_labels=y_train,\n",
    "                    test_data=X_test,\n",
    "                    test_labels=y_test,\n",
    "                    predictions=y_pred\n",
    "                    ):\n",
    "  \"\"\"\n",
    "  Plots training data ,test data and compares prediciton to ground truth\n",
    "  \"\"\"\n",
    "  plt.figure(figsize=(10,7))\n",
    "\n",
    "  #Plot training data in blue\n",
    "  plt.scatter(train_data,train_labels,c=\"b\",label=\"Training data\")\n",
    "  #Plot testing data\n",
    "  plt.scatter(test_data,test_labels,c=\"g\",label=\"Testing data\")\n",
    "  #Plot model prediction in red\n",
    "  plt.scatter(test_data,predictions,c=\"r\",label=\"Predictions\")\n",
    "  # Show the legend\n",
    "  plt.legend()  "
   ]
  },
  {
   "cell_type": "code",
   "execution_count": 227,
   "metadata": {
    "colab": {
     "base_uri": "https://localhost:8080/",
     "height": 428
    },
    "executionInfo": {
     "elapsed": 989,
     "status": "ok",
     "timestamp": 1668399733946,
     "user": {
      "displayName": "Mudit Kumar",
      "userId": "12518861077253144202"
     },
     "user_tz": -330
    },
    "id": "9AmRqmo-QwpS",
    "outputId": "d8552f80-6cf0-4f4e-bf46-6f6030a6d515"
   },
   "outputs": [
    {
     "data": {
      "image/png": "[encoded data removed]",
      "text/plain": [
       "<Figure size 720x504 with 1 Axes>"
      ]
     },
     "metadata": {
      "needs_background": "light"
     },
     "output_type": "display_data"
    }
   ],
   "source": [
    "\n",
    "plot_prediction(train_data=X_train,\n",
    "                    train_labels=y_train,\n",
    "                    test_data=X_test,\n",
    "                    test_labels=y_test,\n",
    "                    predictions=y_pred)"
   ]
  },
  {
   "cell_type": "markdown",
   "metadata": {
    "id": "8neOqUxHQ0j9"
   },
   "source": [
    "## Evaluating our model's prediction with regression evaluation metrics\n",
    "\n",
    "Depending on the problem you're working on,there will be different evaluaiton metrics to evaluate your model's performance.\n",
    "\n",
    "Since its regression , 2 of the main metrics:\n",
    "* Mae - mean absolute error , on average how wrong is each of my model prediction.\n",
    "* MSE - mean square error - \"Sqauring average errors\""
   ]
  },
  {
   "cell_type": "code",
   "execution_count": 228,
   "metadata": {
    "colab": {
     "base_uri": "https://localhost:8080/"
    },
    "executionInfo": {
     "elapsed": 609,
     "status": "ok",
     "timestamp": 1668399734537,
     "user": {
      "displayName": "Mudit Kumar",
      "userId": "12518861077253144202"
     },
     "user_tz": -330
    },
    "id": "J7O7yXAIfj0j",
    "outputId": "c8e471d9-2b42-4770-8c60-6939579a0bb9"
   },
   "outputs": [
    {
     "name": "stdout",
     "output_type": "stream",
     "text": [
      "1/1 [==============================] - 0s 177ms/step - loss: 14.8110 - mae: 14.8110\n"
     ]
    },
    {
     "data": {
      "text/plain": [
       "[14.810986518859863, 14.810986518859863]"
      ]
     },
     "execution_count": 228,
     "metadata": {},
     "output_type": "execute_result"
    }
   ],
   "source": [
    "\n",
    "#Evaluate  the model on the test set\n",
    "model.evaluate(X_test,y_test)"
   ]
  },
  {
   "cell_type": "code",
   "execution_count": 229,
   "metadata": {
    "colab": {
     "base_uri": "https://localhost:8080/"
    },
    "executionInfo": {
     "elapsed": 2,
     "status": "ok",
     "timestamp": 1668399735980,
     "user": {
      "displayName": "Mudit Kumar",
      "userId": "12518861077253144202"
     },
     "user_tz": -330
    },
    "id": "8-FbosbBvzLr",
    "outputId": "29f7ff90-67c2-4aba-e54c-fa3482075d30"
   },
   "outputs": [
    {
     "data": {
      "text/plain": [
       "<tf.Tensor: shape=(10, 1), dtype=float32, numpy=\n",
       "array([[56.60357 ],\n",
       "       [60.289223],\n",
       "       [63.974876],\n",
       "       [67.66053 ],\n",
       "       [71.34618 ],\n",
       "       [75.03184 ],\n",
       "       [78.7175  ],\n",
       "       [82.40315 ],\n",
       "       [86.088806],\n",
       "       [89.77446 ]], dtype=float32)>"
      ]
     },
     "execution_count": 229,
     "metadata": {},
     "output_type": "execute_result"
    }
   ],
   "source": [
    "y_pred=tf.constant(y_pred)\n",
    "y_pred"
   ]
  },
  {
   "cell_type": "code",
   "execution_count": 230,
   "metadata": {
    "colab": {
     "base_uri": "https://localhost:8080/"
    },
    "executionInfo": {
     "elapsed": 8,
     "status": "ok",
     "timestamp": 1668399738519,
     "user": {
      "displayName": "Mudit Kumar",
      "userId": "12518861077253144202"
     },
     "user_tz": -330
    },
    "id": "PIz1wPUJw8Hm",
    "outputId": "832a87e1-3627-49f9-f401-366619411e40"
   },
   "outputs": [
    {
     "data": {
      "text/plain": [
       "<tf.Tensor: shape=(10,), dtype=int32, numpy=array([ 70,  74,  78,  82,  86,  90,  94,  98, 102, 106], dtype=int32)>"
      ]
     },
     "execution_count": 230,
     "metadata": {},
     "output_type": "execute_result"
    }
   ],
   "source": [
    "y_test"
   ]
  },
  {
   "cell_type": "code",
   "execution_count": 231,
   "metadata": {
    "colab": {
     "base_uri": "https://localhost:8080/"
    },
    "executionInfo": {
     "elapsed": 2,
     "status": "ok",
     "timestamp": 1668399739094,
     "user": {
      "displayName": "Mudit Kumar",
      "userId": "12518861077253144202"
     },
     "user_tz": -330
    },
    "id": "Yb67a2E0w8xA",
    "outputId": "831c7b22-3b55-4914-b35f-e54d78126345"
   },
   "outputs": [
    {
     "data": {
      "text/plain": [
       "array([31.39643 , 27.71078 , 24.025124, 20.33947 , 16.923054, 14.180898,\n",
       "       12.113001, 10.71937 , 10.      , 10.      ], dtype=float32)"
      ]
     },
     "execution_count": 231,
     "metadata": {},
     "output_type": "execute_result"
    }
   ],
   "source": [
    "# Mean absulute error\n",
    "mae=tf.keras.losses.MAE(y_test,y_pred).numpy()\n",
    "mae"
   ]
  },
  {
   "cell_type": "code",
   "execution_count": 232,
   "metadata": {
    "colab": {
     "base_uri": "https://localhost:8080/"
    },
    "executionInfo": {
     "elapsed": 5,
     "status": "ok",
     "timestamp": 1668399747618,
     "user": {
      "displayName": "Mudit Kumar",
      "userId": "12518861077253144202"
     },
     "user_tz": -330
    },
    "id": "UCZR6_L9xgqe",
    "outputId": "fafc88b1-be0e-429e-c515-89a979ac2228"
   },
   "outputs": [
    {
     "data": {
      "text/plain": [
       "<tf.Tensor: shape=(10,), dtype=bool, numpy=\n",
       "array([ True,  True,  True,  True,  True,  True,  True,  True,  True,\n",
       "        True])>"
      ]
     },
     "execution_count": 232,
     "metadata": {},
     "output_type": "execute_result"
    }
   ],
   "source": [
    "mae==tf.metrics.mean_absolute_error(y_test,y_pred)"
   ]
  },
  {
   "cell_type": "code",
   "execution_count": 233,
   "metadata": {
    "colab": {
     "base_uri": "https://localhost:8080/"
    },
    "executionInfo": {
     "elapsed": 3,
     "status": "ok",
     "timestamp": 1668399752408,
     "user": {
      "displayName": "Mudit Kumar",
      "userId": "12518861077253144202"
     },
     "user_tz": -330
    },
    "id": "r50k0lPvWkWB",
    "outputId": "393e4b26-36e5-4879-ffdc-52ae0391b777"
   },
   "outputs": [
    {
     "data": {
      "text/plain": [
       "<tf.Tensor: shape=(10,), dtype=float32, numpy=\n",
       "array([56.60357 , 60.289223, 63.974876, 67.66053 , 71.34618 , 75.03184 ,\n",
       "       78.7175  , 82.40315 , 86.088806, 89.77446 ], dtype=float32)>"
      ]
     },
     "execution_count": 233,
     "metadata": {},
     "output_type": "execute_result"
    }
   ],
   "source": [
    "y_pred=tf.squeeze(y_pred)\n",
    "y_pred"
   ]
  },
  {
   "cell_type": "code",
   "execution_count": 234,
   "metadata": {
    "colab": {
     "base_uri": "https://localhost:8080/"
    },
    "executionInfo": {
     "elapsed": 613,
     "status": "ok",
     "timestamp": 1668399753019,
     "user": {
      "displayName": "Mudit Kumar",
      "userId": "12518861077253144202"
     },
     "user_tz": -330
    },
    "id": "_Ecn1qJlYVei",
    "outputId": "77c423bd-f50f-4785-d693-ccbe4f7465fb"
   },
   "outputs": [
    {
     "data": {
      "text/plain": [
       "<tf.Tensor: shape=(), dtype=float32, numpy=14.8109865>"
      ]
     },
     "execution_count": 234,
     "metadata": {},
     "output_type": "execute_result"
    }
   ],
   "source": [
    "#Calculate mae now\n",
    "mae=tf.metrics.MAE(y_test,y_pred)\n",
    "mae"
   ]
  },
  {
   "cell_type": "code",
   "execution_count": 235,
   "metadata": {
    "colab": {
     "base_uri": "https://localhost:8080/"
    },
    "executionInfo": {
     "elapsed": 9,
     "status": "ok",
     "timestamp": 1668399763961,
     "user": {
      "displayName": "Mudit Kumar",
      "userId": "12518861077253144202"
     },
     "user_tz": -330
    },
    "id": "WwIpJxEkYiYS",
    "outputId": "e5cb1fd4-59bf-41bb-bcc1-1018181776f4"
   },
   "outputs": [
    {
     "data": {
      "text/plain": [
       "<tf.Tensor: shape=(), dtype=float32, numpy=220.18051>"
      ]
     },
     "execution_count": 235,
     "metadata": {},
     "output_type": "execute_result"
    }
   ],
   "source": [
    "#Calculating mean square error \n",
    "mse=tf.metrics.MSE(y_test,y_pred)\n",
    "mse"
   ]
  },
  {
   "cell_type": "code",
   "execution_count": 236,
   "metadata": {
    "executionInfo": {
     "elapsed": 8,
     "status": "ok",
     "timestamp": 1668399763962,
     "user": {
      "displayName": "Mudit Kumar",
      "userId": "12518861077253144202"
     },
     "user_tz": -330
    },
    "id": "tFPwvflzcX50"
   },
   "outputs": [],
   "source": [
    "# Make some function to reuse  MAE and MSE\n",
    "def mae(y_true,y_pred):\n",
    "  return tf.metrics.mean_absolute_error(y_true=y_true,y_pred=tf.squeeze(y_pred))\n",
    "\n",
    "def mse(y_true,y_pred):\n",
    "  return tf.metrics.mean_squared_error(y_true=y_true,y_pred=tf.squeeze(y_pred))\n"
   ]
  },
  {
   "cell_type": "code",
   "execution_count": 237,
   "metadata": {
    "colab": {
     "base_uri": "https://localhost:8080/"
    },
    "executionInfo": {
     "elapsed": 7,
     "status": "ok",
     "timestamp": 1668399763962,
     "user": {
      "displayName": "Mudit Kumar",
      "userId": "12518861077253144202"
     },
     "user_tz": -330
    },
    "id": "FbzF3z4FmR4v",
    "outputId": "806e45f3-384b-4b72-f104-c7f63309429b"
   },
   "outputs": [
    {
     "data": {
      "text/plain": [
       "<tf.Tensor: shape=(), dtype=float32, numpy=14.8109865>"
      ]
     },
     "execution_count": 237,
     "metadata": {},
     "output_type": "execute_result"
    }
   ],
   "source": [
    "mae(y_test,y_pred)"
   ]
  },
  {
   "cell_type": "markdown",
   "metadata": {
    "id": "V3eIUFsimyzp"
   },
   "source": [
    "### Running experiments to imporve our model\n",
    "\n",
    "```\n",
    "Built a model ->fit it-> evaluate it -> tweak it->fit it ......\n",
    "```\n",
    "1. Get more data - get more examples for your model to train on (more opp. to learn patterns or relationship btw features and labels)\n",
    "2. Make your model larger (using more complex model) - More layers,more hidden units in each layer.\n",
    "3. Train for longer - give your model more chance to find patterns in the data."
   ]
  },
  {
   "cell_type": "code",
   "execution_count": 238,
   "metadata": {
    "executionInfo": {
     "elapsed": 4,
     "status": "ok",
     "timestamp": 1668399764756,
     "user": {
      "displayName": "Mudit Kumar",
      "userId": "12518861077253144202"
     },
     "user_tz": -330
    },
    "id": "wXe1huHeoMWk"
   },
   "outputs": [],
   "source": [
    "X_train=tf.squeeze(X_train)"
   ]
  },
  {
   "cell_type": "code",
   "execution_count": 239,
   "metadata": {
    "colab": {
     "base_uri": "https://localhost:8080/"
    },
    "executionInfo": {
     "elapsed": 16,
     "status": "ok",
     "timestamp": 1668399765609,
     "user": {
      "displayName": "Mudit Kumar",
      "userId": "12518861077253144202"
     },
     "user_tz": -330
    },
    "id": "MmKk8yZwtcXf",
    "outputId": "24eeefea-77c0-4ef9-f5f7-2034f9252a73"
   },
   "outputs": [
    {
     "data": {
      "text/plain": [
       "(<tf.Tensor: shape=(40,), dtype=int32, numpy=\n",
       " array([-100,  -96,  -92,  -88,  -84,  -80,  -76,  -72,  -68,  -64,  -60,\n",
       "         -56,  -52,  -48,  -44,  -40,  -36,  -32,  -28,  -24,  -20,  -16,\n",
       "         -12,   -8,   -4,    0,    4,    8,   12,   16,   20,   24,   28,\n",
       "          32,   36,   40,   44,   48,   52,   56], dtype=int32)>,\n",
       " <tf.Tensor: shape=(40,), dtype=int32, numpy=\n",
       " array([-90, -86, -82, -78, -74, -70, -66, -62, -58, -54, -50, -46, -42,\n",
       "        -38, -34, -30, -26, -22, -18, -14, -10,  -6,  -2,   2,   6,  10,\n",
       "         14,  18,  22,  26,  30,  34,  38,  42,  46,  50,  54,  58,  62,\n",
       "         66], dtype=int32)>)"
      ]
     },
     "execution_count": 239,
     "metadata": {},
     "output_type": "execute_result"
    }
   ],
   "source": [
    "X_train,y_train"
   ]
  },
  {
   "cell_type": "code",
   "execution_count": 240,
   "metadata": {
    "executionInfo": {
     "elapsed": 8,
     "status": "ok",
     "timestamp": 1668399765611,
     "user": {
      "displayName": "Mudit Kumar",
      "userId": "12518861077253144202"
     },
     "user_tz": -330
    },
    "id": "xeJ1ysrotqKR"
   },
   "outputs": [],
   "source": [
    "X_test=tf.squeeze(X_test)\n",
    "X_train=tf.expand_dims(X_train,axis=-1)\n",
    "X_test=tf.expand_dims(X_test,axis=-1)"
   ]
  },
  {
   "cell_type": "markdown",
   "metadata": {
    "id": "Hc130M3dts7M"
   },
   "source": [
    "## Let's do 3 modeling Experiment:\n",
    "1. `model_1`:-same as original one, 1 layer but 100 ephocos\n",
    "2. `model_2`- 2 layers ,100 ephocs\n",
    "3. `model_3`- 2 layers , 500 ephocs\n",
    "\n",
    "**Build model_1**\n"
   ]
  },
  {
   "cell_type": "code",
   "execution_count": 241,
   "metadata": {
    "colab": {
     "base_uri": "https://localhost:8080/"
    },
    "executionInfo": {
     "elapsed": 2682,
     "status": "ok",
     "timestamp": 1668399769096,
     "user": {
      "displayName": "Mudit Kumar",
      "userId": "12518861077253144202"
     },
     "user_tz": -330
    },
    "id": "I0wtQ107xUKE",
    "outputId": "913f25a4-0ef0-428f-df36-22c1a330f839"
   },
   "outputs": [
    {
     "name": "stdout",
     "output_type": "stream",
     "text": [
      "Epoch 1/100\n",
      "2/2 [==============================] - 0s 7ms/step - loss: 15.9024 - mae: 15.9024\n",
      "Epoch 2/100\n",
      "2/2 [==============================] - 0s 6ms/step - loss: 11.2837 - mae: 11.2837\n",
      "Epoch 3/100\n",
      "2/2 [==============================] - 0s 7ms/step - loss: 11.1074 - mae: 11.1074\n",
      "Epoch 4/100\n",
      "2/2 [==============================] - 0s 6ms/step - loss: 9.2990 - mae: 9.2990\n",
      "Epoch 5/100\n",
      "2/2 [==============================] - 0s 6ms/step - loss: 10.1677 - mae: 10.1677\n",
      "Epoch 6/100\n",
      "2/2 [==============================] - 0s 6ms/step - loss: 9.4303 - mae: 9.4303\n",
      "Epoch 7/100\n",
      "2/2 [==============================] - 0s 6ms/step - loss: 8.5704 - mae: 8.5704\n",
      "Epoch 8/100\n",
      "2/2 [==============================] - 0s 7ms/step - loss: 9.0442 - mae: 9.0442\n",
      "Epoch 9/100\n",
      "2/2 [==============================] - 0s 6ms/step - loss: 18.7517 - mae: 18.7517\n",
      "Epoch 10/100\n",
      "2/2 [==============================] - 0s 7ms/step - loss: 10.1142 - mae: 10.1142\n",
      "Epoch 11/100\n",
      "2/2 [==============================] - 0s 6ms/step - loss: 8.3980 - mae: 8.3980\n",
      "Epoch 12/100\n",
      "2/2 [==============================] - 0s 6ms/step - loss: 10.6639 - mae: 10.6639\n",
      "Epoch 13/100\n",
      "2/2 [==============================] - 0s 6ms/step - loss: 9.7977 - mae: 9.7977\n",
      "Epoch 14/100\n",
      "2/2 [==============================] - 0s 6ms/step - loss: 16.0103 - mae: 16.0103\n",
      "Epoch 15/100\n",
      "2/2 [==============================] - 0s 6ms/step - loss: 11.4068 - mae: 11.4068\n",
      "Epoch 16/100\n",
      "2/2 [==============================] - 0s 5ms/step - loss: 8.5393 - mae: 8.5393\n",
      "Epoch 17/100\n",
      "2/2 [==============================] - 0s 6ms/step - loss: 13.6348 - mae: 13.6348\n",
      "Epoch 18/100\n",
      "2/2 [==============================] - 0s 6ms/step - loss: 11.4629 - mae: 11.4629\n",
      "Epoch 19/100\n",
      "2/2 [==============================] - 0s 6ms/step - loss: 17.9148 - mae: 17.9148\n",
      "Epoch 20/100\n",
      "2/2 [==============================] - 0s 6ms/step - loss: 15.0494 - mae: 15.0494\n",
      "Epoch 21/100\n",
      "2/2 [==============================] - 0s 7ms/step - loss: 11.0216 - mae: 11.0216\n",
      "Epoch 22/100\n",
      "2/2 [==============================] - 0s 8ms/step - loss: 8.1558 - mae: 8.1558\n",
      "Epoch 23/100\n",
      "2/2 [==============================] - 0s 9ms/step - loss: 9.5138 - mae: 9.5138\n",
      "Epoch 24/100\n",
      "2/2 [==============================] - 0s 6ms/step - loss: 7.6617 - mae: 7.6617\n",
      "Epoch 25/100\n",
      "2/2 [==============================] - 0s 6ms/step - loss: 13.1859 - mae: 13.1859\n",
      "Epoch 26/100\n",
      "2/2 [==============================] - 0s 6ms/step - loss: 16.4211 - mae: 16.4211\n",
      "Epoch 27/100\n",
      "2/2 [==============================] - 0s 6ms/step - loss: 13.1659 - mae: 13.1659\n",
      "Epoch 28/100\n",
      "2/2 [==============================] - 0s 6ms/step - loss: 14.2559 - mae: 14.2559\n",
      "Epoch 29/100\n",
      "2/2 [==============================] - 0s 6ms/step - loss: 10.0670 - mae: 10.0670\n",
      "Epoch 30/100\n",
      "2/2 [==============================] - 0s 6ms/step - loss: 16.3409 - mae: 16.3409\n",
      "Epoch 31/100\n",
      "2/2 [==============================] - 0s 7ms/step - loss: 23.6444 - mae: 23.6444\n",
      "Epoch 32/100\n",
      "2/2 [==============================] - 0s 6ms/step - loss: 7.6215 - mae: 7.6215\n",
      "Epoch 33/100\n",
      "2/2 [==============================] - 0s 7ms/step - loss: 9.3221 - mae: 9.3221\n",
      "Epoch 34/100\n",
      "2/2 [==============================] - 0s 7ms/step - loss: 13.7313 - mae: 13.7313\n",
      "Epoch 35/100\n",
      "2/2 [==============================] - 0s 6ms/step - loss: 11.1276 - mae: 11.1276\n",
      "Epoch 36/100\n",
      "2/2 [==============================] - 0s 6ms/step - loss: 13.3222 - mae: 13.3222\n",
      "Epoch 37/100\n",
      "2/2 [==============================] - 0s 9ms/step - loss: 9.4763 - mae: 9.4763\n",
      "Epoch 38/100\n",
      "2/2 [==============================] - 0s 6ms/step - loss: 10.1381 - mae: 10.1381\n",
      "Epoch 39/100\n",
      "2/2 [==============================] - 0s 6ms/step - loss: 10.1793 - mae: 10.1793\n",
      "Epoch 40/100\n",
      "2/2 [==============================] - 0s 6ms/step - loss: 10.9137 - mae: 10.9137\n",
      "Epoch 41/100\n",
      "2/2 [==============================] - 0s 5ms/step - loss: 7.9063 - mae: 7.9063\n",
      "Epoch 42/100\n",
      "2/2 [==============================] - 0s 6ms/step - loss: 10.0914 - mae: 10.0914\n",
      "Epoch 43/100\n",
      "2/2 [==============================] - 0s 6ms/step - loss: 8.7006 - mae: 8.7006\n",
      "Epoch 44/100\n",
      "2/2 [==============================] - 0s 6ms/step - loss: 12.2047 - mae: 12.2047\n",
      "Epoch 45/100\n",
      "2/2 [==============================] - 0s 5ms/step - loss: 13.7970 - mae: 13.7970\n",
      "Epoch 46/100\n",
      "2/2 [==============================] - 0s 6ms/step - loss: 8.4687 - mae: 8.4687\n",
      "Epoch 47/100\n",
      "2/2 [==============================] - 0s 8ms/step - loss: 9.1330 - mae: 9.1330\n",
      "Epoch 48/100\n",
      "2/2 [==============================] - 0s 7ms/step - loss: 10.6190 - mae: 10.6190\n",
      "Epoch 49/100\n",
      "2/2 [==============================] - 0s 6ms/step - loss: 7.7503 - mae: 7.7503\n",
      "Epoch 50/100\n",
      "2/2 [==============================] - 0s 6ms/step - loss: 9.5407 - mae: 9.5407\n",
      "Epoch 51/100\n",
      "2/2 [==============================] - 0s 6ms/step - loss: 9.1584 - mae: 9.1584\n",
      "Epoch 52/100\n",
      "2/2 [==============================] - 0s 6ms/step - loss: 16.3630 - mae: 16.3630\n",
      "Epoch 53/100\n",
      "2/2 [==============================] - 0s 6ms/step - loss: 14.1299 - mae: 14.1299\n",
      "Epoch 54/100\n",
      "2/2 [==============================] - 0s 6ms/step - loss: 21.1247 - mae: 21.1247\n",
      "Epoch 55/100\n",
      "2/2 [==============================] - 0s 6ms/step - loss: 16.3961 - mae: 16.3961\n",
      "Epoch 56/100\n",
      "2/2 [==============================] - 0s 6ms/step - loss: 9.9806 - mae: 9.9806\n",
      "Epoch 57/100\n",
      "2/2 [==============================] - 0s 6ms/step - loss: 9.9606 - mae: 9.9606\n",
      "Epoch 58/100\n",
      "2/2 [==============================] - 0s 6ms/step - loss: 9.2209 - mae: 9.2209\n",
      "Epoch 59/100\n",
      "2/2 [==============================] - 0s 6ms/step - loss: 8.4239 - mae: 8.4239\n",
      "Epoch 60/100\n",
      "2/2 [==============================] - 0s 7ms/step - loss: 9.4869 - mae: 9.4869\n",
      "Epoch 61/100\n",
      "2/2 [==============================] - 0s 6ms/step - loss: 11.4355 - mae: 11.4355\n",
      "Epoch 62/100\n",
      "2/2 [==============================] - 0s 5ms/step - loss: 11.6887 - mae: 11.6887\n",
      "Epoch 63/100\n",
      "2/2 [==============================] - 0s 6ms/step - loss: 7.0838 - mae: 7.0838\n",
      "Epoch 64/100\n",
      "2/2 [==============================] - 0s 6ms/step - loss: 16.9675 - mae: 16.9675\n",
      "Epoch 65/100\n",
      "2/2 [==============================] - 0s 6ms/step - loss: 12.4599 - mae: 12.4599\n",
      "Epoch 66/100\n",
      "2/2 [==============================] - 0s 6ms/step - loss: 13.0184 - mae: 13.0184\n",
      "Epoch 67/100\n",
      "2/2 [==============================] - 0s 6ms/step - loss: 8.0600 - mae: 8.0600\n",
      "Epoch 68/100\n",
      "2/2 [==============================] - 0s 6ms/step - loss: 10.1888 - mae: 10.1888\n",
      "Epoch 69/100\n",
      "2/2 [==============================] - 0s 5ms/step - loss: 12.3633 - mae: 12.3633\n",
      "Epoch 70/100\n",
      "2/2 [==============================] - 0s 5ms/step - loss: 9.0516 - mae: 9.0516\n",
      "Epoch 71/100\n",
      "2/2 [==============================] - 0s 6ms/step - loss: 10.0378 - mae: 10.0378\n",
      "Epoch 72/100\n",
      "2/2 [==============================] - 0s 5ms/step - loss: 10.0516 - mae: 10.0516\n",
      "Epoch 73/100\n",
      "2/2 [==============================] - 0s 5ms/step - loss: 12.6151 - mae: 12.6151\n",
      "Epoch 74/100\n",
      "2/2 [==============================] - 0s 5ms/step - loss: 10.3819 - mae: 10.3819\n",
      "Epoch 75/100\n",
      "2/2 [==============================] - 0s 5ms/step - loss: 9.7229 - mae: 9.7229\n",
      "Epoch 76/100\n",
      "2/2 [==============================] - 0s 5ms/step - loss: 11.2252 - mae: 11.2252\n",
      "Epoch 77/100\n",
      "2/2 [==============================] - 0s 8ms/step - loss: 8.3642 - mae: 8.3642\n",
      "Epoch 78/100\n",
      "2/2 [==============================] - 0s 8ms/step - loss: 9.1274 - mae: 9.1274\n",
      "Epoch 79/100\n",
      "2/2 [==============================] - 0s 6ms/step - loss: 19.5039 - mae: 19.5039\n",
      "Epoch 80/100\n",
      "2/2 [==============================] - 0s 6ms/step - loss: 14.8945 - mae: 14.8945\n",
      "Epoch 81/100\n",
      "2/2 [==============================] - 0s 6ms/step - loss: 9.0034 - mae: 9.0034\n",
      "Epoch 82/100\n",
      "2/2 [==============================] - 0s 6ms/step - loss: 13.0206 - mae: 13.0206\n",
      "Epoch 83/100\n",
      "2/2 [==============================] - 0s 6ms/step - loss: 7.9299 - mae: 7.9299\n",
      "Epoch 84/100\n",
      "2/2 [==============================] - 0s 6ms/step - loss: 7.6872 - mae: 7.6872\n",
      "Epoch 85/100\n",
      "2/2 [==============================] - 0s 5ms/step - loss: 10.0328 - mae: 10.0328\n",
      "Epoch 86/100\n",
      "2/2 [==============================] - 0s 14ms/step - loss: 9.2433 - mae: 9.2433\n",
      "Epoch 87/100\n",
      "2/2 [==============================] - 0s 6ms/step - loss: 12.0209 - mae: 12.0209\n",
      "Epoch 88/100\n",
      "2/2 [==============================] - 0s 6ms/step - loss: 10.6389 - mae: 10.6389\n",
      "Epoch 89/100\n",
      "2/2 [==============================] - 0s 6ms/step - loss: 7.2667 - mae: 7.2667\n",
      "Epoch 90/100\n",
      "2/2 [==============================] - 0s 6ms/step - loss: 12.7786 - mae: 12.7786\n",
      "Epoch 91/100\n",
      "2/2 [==============================] - 0s 5ms/step - loss: 7.3481 - mae: 7.3481\n",
      "Epoch 92/100\n",
      "2/2 [==============================] - 0s 5ms/step - loss: 7.7175 - mae: 7.7175\n",
      "Epoch 93/100\n",
      "2/2 [==============================] - 0s 6ms/step - loss: 7.1263 - mae: 7.1263\n",
      "Epoch 94/100\n",
      "2/2 [==============================] - 0s 5ms/step - loss: 12.6190 - mae: 12.6190\n",
      "Epoch 95/100\n",
      "2/2 [==============================] - 0s 6ms/step - loss: 10.0912 - mae: 10.0912\n",
      "Epoch 96/100\n",
      "2/2 [==============================] - 0s 6ms/step - loss: 9.3558 - mae: 9.3558\n",
      "Epoch 97/100\n",
      "2/2 [==============================] - 0s 6ms/step - loss: 12.6834 - mae: 12.6834\n",
      "Epoch 98/100\n",
      "2/2 [==============================] - 0s 5ms/step - loss: 8.6762 - mae: 8.6762\n",
      "Epoch 99/100\n",
      "2/2 [==============================] - 0s 6ms/step - loss: 9.4693 - mae: 9.4693\n",
      "Epoch 100/100\n",
      "2/2 [==============================] - 0s 5ms/step - loss: 8.7067 - mae: 8.7067\n"
     ]
    },
    {
     "data": {
      "text/plain": [
       "<keras.callbacks.History at 0x7fdad8650090>"
      ]
     },
     "execution_count": 241,
     "metadata": {},
     "output_type": "execute_result"
    }
   ],
   "source": [
    "# Set random seed \n",
    "tf.random.set_seed(42)\n",
    "\n",
    "# 1. Create the model\n",
    "model_1=tf.keras.Sequential([\n",
    "    tf.keras.layers.Dense(1)\n",
    "])\n",
    "#2. Compile the model\n",
    "model_1.compile(\n",
    "     loss=tf.keras.losses.MAE,\n",
    "     optimizer=tf.keras.optimizers.SGD(),\n",
    "     metrics=[\"mae\"]\n",
    ")\n",
    "#3. Fit the model\n",
    "model_1.fit(X_train,y_train,epochs=100)"
   ]
  },
  {
   "cell_type": "code",
   "execution_count": 242,
   "metadata": {
    "colab": {
     "base_uri": "https://localhost:8080/",
     "height": 445
    },
    "executionInfo": {
     "elapsed": 26,
     "status": "ok",
     "timestamp": 1668399769097,
     "user": {
      "displayName": "Mudit Kumar",
      "userId": "12518861077253144202"
     },
     "user_tz": -330
    },
    "id": "3zkfx6jbDBAm",
    "outputId": "7e8e35a9-2c42-4c41-fa11-7d187872514b"
   },
   "outputs": [
    {
     "name": "stdout",
     "output_type": "stream",
     "text": [
      "1/1 [==============================] - 0s 37ms/step\n"
     ]
    },
    {
     "data": {
      "image/png": "[encoded data removed]",
      "text/plain": [
       "<Figure size 720x504 with 1 Axes>"
      ]
     },
     "metadata": {
      "needs_background": "light"
     },
     "output_type": "display_data"
    }
   ],
   "source": [
    "# Make and plot predictions for model 1\n",
    "y_pred_1=model_1.predict(X_test)\n",
    "plot_prediction(predictions=y_pred_1)"
   ]
  },
  {
   "cell_type": "code",
   "execution_count": 243,
   "metadata": {
    "colab": {
     "base_uri": "https://localhost:8080/"
    },
    "executionInfo": {
     "elapsed": 19,
     "status": "ok",
     "timestamp": 1668399769097,
     "user": {
      "displayName": "Mudit Kumar",
      "userId": "12518861077253144202"
     },
     "user_tz": -330
    },
    "id": "4GVMIepID-4S",
    "outputId": "ebd73867-f3ff-45a8-d947-71f0a572207e"
   },
   "outputs": [
    {
     "data": {
      "text/plain": [
       "<tf.Tensor: shape=(), dtype=float32, numpy=18.745327>"
      ]
     },
     "execution_count": 243,
     "metadata": {},
     "output_type": "execute_result"
    }
   ],
   "source": [
    "# Calculate model_1 evaluation metrics\n",
    "mae_1=mae(y_test,y_pred_1)\n",
    "mae_1"
   ]
  },
  {
   "cell_type": "code",
   "execution_count": 244,
   "metadata": {
    "colab": {
     "base_uri": "https://localhost:8080/"
    },
    "executionInfo": {
     "elapsed": 17,
     "status": "ok",
     "timestamp": 1668399769099,
     "user": {
      "displayName": "Mudit Kumar",
      "userId": "12518861077253144202"
     },
     "user_tz": -330
    },
    "id": "ntTKO6CuEwmu",
    "outputId": "f8e05617-8f46-48c7-cfdb-d286da8977ae"
   },
   "outputs": [
    {
     "data": {
      "text/plain": [
       "<tf.Tensor: shape=(), dtype=float32, numpy=353.5734>"
      ]
     },
     "execution_count": 244,
     "metadata": {},
     "output_type": "execute_result"
    }
   ],
   "source": [
    "mse_1=mse(y_test,y_pred_1)\n",
    "mse_1"
   ]
  },
  {
   "cell_type": "markdown",
   "metadata": {
    "id": "-TJbaWDqSjMS"
   },
   "source": [
    "**Build**  **`` model_2 ``** \n",
    "* 2 dense layers , 100 ephocs "
   ]
  },
  {
   "cell_type": "code",
   "execution_count": 245,
   "metadata": {
    "colab": {
     "base_uri": "https://localhost:8080/"
    },
    "executionInfo": {
     "elapsed": 2381,
     "status": "ok",
     "timestamp": 1668399771467,
     "user": {
      "displayName": "Mudit Kumar",
      "userId": "12518861077253144202"
     },
     "user_tz": -330
    },
    "id": "Ey4Uj5LuTA4h",
    "outputId": "2eea71f7-00b6-4f83-f46b-15b5b4f85b3e"
   },
   "outputs": [
    {
     "name": "stdout",
     "output_type": "stream",
     "text": [
      "Epoch 1/100\n",
      "2/2 [==============================] - 0s 7ms/step - loss: 27.4058 - mse: 1084.1481\n",
      "Epoch 2/100\n",
      "2/2 [==============================] - 0s 6ms/step - loss: 24.6339 - mse: 777.9203\n",
      "Epoch 3/100\n",
      "2/2 [==============================] - 0s 7ms/step - loss: 29.8935 - mse: 1334.8955\n",
      "Epoch 4/100\n",
      "2/2 [==============================] - 0s 7ms/step - loss: 27.4055 - mse: 1106.8035\n",
      "Epoch 5/100\n",
      "2/2 [==============================] - 0s 7ms/step - loss: 14.9463 - mse: 281.1077\n",
      "Epoch 6/100\n",
      "2/2 [==============================] - 0s 7ms/step - loss: 11.8819 - mse: 168.6621\n",
      "Epoch 7/100\n",
      "2/2 [==============================] - 0s 7ms/step - loss: 11.1988 - mse: 151.3508\n",
      "Epoch 8/100\n",
      "2/2 [==============================] - 0s 7ms/step - loss: 11.0910 - mse: 160.3745\n",
      "Epoch 9/100\n",
      "2/2 [==============================] - 0s 6ms/step - loss: 40.4763 - mse: 2586.0081\n",
      "Epoch 10/100\n",
      "2/2 [==============================] - 0s 6ms/step - loss: 27.8687 - mse: 1094.4379\n",
      "Epoch 11/100\n",
      "2/2 [==============================] - 0s 6ms/step - loss: 10.2473 - mse: 147.9359\n",
      "Epoch 12/100\n",
      "2/2 [==============================] - 0s 7ms/step - loss: 25.2803 - mse: 890.3866\n",
      "Epoch 13/100\n",
      "2/2 [==============================] - 0s 7ms/step - loss: 16.9897 - mse: 399.9679\n",
      "Epoch 14/100\n",
      "2/2 [==============================] - 0s 6ms/step - loss: 25.9217 - mse: 1049.5521\n",
      "Epoch 15/100\n",
      "2/2 [==============================] - 0s 7ms/step - loss: 17.9948 - mse: 450.2584\n",
      "Epoch 16/100\n",
      "2/2 [==============================] - 0s 6ms/step - loss: 7.3510 - mse: 80.6206\n",
      "Epoch 17/100\n",
      "2/2 [==============================] - 0s 7ms/step - loss: 10.8636 - mse: 174.7868\n",
      "Epoch 18/100\n",
      "2/2 [==============================] - 0s 7ms/step - loss: 19.5304 - mse: 565.8051\n",
      "Epoch 19/100\n",
      "2/2 [==============================] - 0s 7ms/step - loss: 10.3469 - mse: 167.7750\n",
      "Epoch 20/100\n",
      "2/2 [==============================] - 0s 6ms/step - loss: 17.6985 - mse: 455.7095\n",
      "Epoch 21/100\n",
      "2/2 [==============================] - 0s 6ms/step - loss: 15.8984 - mse: 347.1928\n",
      "Epoch 22/100\n",
      "2/2 [==============================] - 0s 6ms/step - loss: 14.1991 - mse: 285.1766\n",
      "Epoch 23/100\n",
      "2/2 [==============================] - 0s 7ms/step - loss: 8.7720 - mse: 91.7852\n",
      "Epoch 24/100\n",
      "2/2 [==============================] - 0s 6ms/step - loss: 11.0570 - mse: 153.7430\n",
      "Epoch 25/100\n",
      "2/2 [==============================] - 0s 15ms/step - loss: 12.6838 - mse: 233.2951\n",
      "Epoch 26/100\n",
      "2/2 [==============================] - 0s 6ms/step - loss: 26.1877 - mse: 1024.6096\n",
      "Epoch 27/100\n",
      "2/2 [==============================] - 0s 6ms/step - loss: 11.7432 - mse: 194.8454\n",
      "Epoch 28/100\n",
      "2/2 [==============================] - 0s 7ms/step - loss: 22.8730 - mse: 835.6074\n",
      "Epoch 29/100\n",
      "2/2 [==============================] - 0s 6ms/step - loss: 9.2459 - mse: 96.7786\n",
      "Epoch 30/100\n",
      "2/2 [==============================] - 0s 10ms/step - loss: 29.2641 - mse: 1535.1349\n",
      "Epoch 31/100\n",
      "2/2 [==============================] - 0s 7ms/step - loss: 53.0225 - mse: 5030.2974\n",
      "Epoch 32/100\n",
      "2/2 [==============================] - 0s 7ms/step - loss: 11.9951 - mse: 211.7024\n",
      "Epoch 33/100\n",
      "2/2 [==============================] - 0s 6ms/step - loss: 15.6357 - mse: 337.3665\n",
      "Epoch 34/100\n",
      "2/2 [==============================] - 0s 6ms/step - loss: 12.6925 - mse: 214.4822\n",
      "Epoch 35/100\n",
      "2/2 [==============================] - 0s 6ms/step - loss: 9.2398 - mse: 92.9126\n",
      "Epoch 36/100\n",
      "2/2 [==============================] - 0s 6ms/step - loss: 16.6497 - mse: 403.6570\n",
      "Epoch 37/100\n",
      "2/2 [==============================] - 0s 6ms/step - loss: 11.0382 - mse: 192.3919\n",
      "Epoch 38/100\n",
      "2/2 [==============================] - 0s 6ms/step - loss: 18.1634 - mse: 433.6718\n",
      "Epoch 39/100\n",
      "2/2 [==============================] - 0s 6ms/step - loss: 19.1013 - mse: 529.6441\n",
      "Epoch 40/100\n",
      "2/2 [==============================] - 0s 7ms/step - loss: 20.4324 - mse: 610.1327\n",
      "Epoch 41/100\n",
      "2/2 [==============================] - 0s 7ms/step - loss: 14.9102 - mse: 279.6181\n",
      "Epoch 42/100\n",
      "2/2 [==============================] - 0s 9ms/step - loss: 12.2809 - mse: 186.6179\n",
      "Epoch 43/100\n",
      "2/2 [==============================] - 0s 7ms/step - loss: 10.7333 - mse: 167.0951\n",
      "Epoch 44/100\n",
      "2/2 [==============================] - 0s 8ms/step - loss: 23.0260 - mse: 830.4236\n",
      "Epoch 45/100\n",
      "2/2 [==============================] - 0s 6ms/step - loss: 10.3897 - mse: 128.9549\n",
      "Epoch 46/100\n",
      "2/2 [==============================] - 0s 7ms/step - loss: 11.7904 - mse: 181.9210\n",
      "Epoch 47/100\n",
      "2/2 [==============================] - 0s 7ms/step - loss: 9.6438 - mse: 153.8708\n",
      "Epoch 48/100\n",
      "2/2 [==============================] - 0s 6ms/step - loss: 17.2335 - mse: 402.8497\n",
      "Epoch 49/100\n",
      "2/2 [==============================] - 0s 6ms/step - loss: 9.5729 - mse: 99.8336\n",
      "Epoch 50/100\n",
      "2/2 [==============================] - 0s 7ms/step - loss: 13.8185 - mse: 260.3668\n",
      "Epoch 51/100\n",
      "2/2 [==============================] - 0s 6ms/step - loss: 11.5958 - mse: 154.7956\n",
      "Epoch 52/100\n",
      "2/2 [==============================] - 0s 7ms/step - loss: 30.5538 - mse: 1613.0876\n",
      "Epoch 53/100\n",
      "2/2 [==============================] - 0s 6ms/step - loss: 14.3541 - mse: 302.5291\n",
      "Epoch 54/100\n",
      "2/2 [==============================] - 0s 7ms/step - loss: 23.9713 - mse: 859.3983\n",
      "Epoch 55/100\n",
      "2/2 [==============================] - 0s 7ms/step - loss: 23.1938 - mse: 805.5448\n",
      "Epoch 56/100\n",
      "2/2 [==============================] - 0s 7ms/step - loss: 10.8837 - mse: 170.9834\n",
      "Epoch 57/100\n",
      "2/2 [==============================] - 0s 7ms/step - loss: 12.7445 - mse: 198.7014\n",
      "Epoch 58/100\n",
      "2/2 [==============================] - 0s 6ms/step - loss: 9.5995 - mse: 102.5890\n",
      "Epoch 59/100\n",
      "2/2 [==============================] - 0s 6ms/step - loss: 12.5172 - mse: 216.3365\n",
      "Epoch 60/100\n",
      "2/2 [==============================] - 0s 7ms/step - loss: 12.3200 - mse: 208.6369\n",
      "Epoch 61/100\n",
      "2/2 [==============================] - 0s 6ms/step - loss: 17.4604 - mse: 428.6391\n",
      "Epoch 62/100\n",
      "2/2 [==============================] - 0s 6ms/step - loss: 10.6052 - mse: 136.9776\n",
      "Epoch 63/100\n",
      "2/2 [==============================] - 0s 8ms/step - loss: 10.4893 - mse: 152.4553\n",
      "Epoch 64/100\n",
      "2/2 [==============================] - 0s 7ms/step - loss: 24.8450 - mse: 911.7503\n",
      "Epoch 65/100\n",
      "2/2 [==============================] - 0s 7ms/step - loss: 10.6761 - mse: 142.7373\n",
      "Epoch 66/100\n",
      "2/2 [==============================] - 0s 7ms/step - loss: 21.7809 - mse: 704.4485\n",
      "Epoch 67/100\n",
      "2/2 [==============================] - 0s 8ms/step - loss: 10.7136 - mse: 136.0193\n",
      "Epoch 68/100\n",
      "2/2 [==============================] - 0s 7ms/step - loss: 10.6397 - mse: 149.2299\n",
      "Epoch 69/100\n",
      "2/2 [==============================] - 0s 9ms/step - loss: 22.6914 - mse: 742.1757\n",
      "Epoch 70/100\n",
      "2/2 [==============================] - 0s 8ms/step - loss: 9.3316 - mse: 166.1628\n",
      "Epoch 71/100\n",
      "2/2 [==============================] - 0s 6ms/step - loss: 15.4355 - mse: 323.0844\n",
      "Epoch 72/100\n",
      "2/2 [==============================] - 0s 7ms/step - loss: 6.7437 - mse: 67.0210\n",
      "Epoch 73/100\n",
      "2/2 [==============================] - 0s 7ms/step - loss: 11.6891 - mse: 183.7297\n",
      "Epoch 74/100\n",
      "2/2 [==============================] - 0s 7ms/step - loss: 24.0400 - mse: 908.8986\n",
      "Epoch 75/100\n",
      "2/2 [==============================] - 0s 8ms/step - loss: 9.5896 - mse: 149.3948\n",
      "Epoch 76/100\n",
      "2/2 [==============================] - 0s 7ms/step - loss: 12.4371 - mse: 188.3309\n",
      "Epoch 77/100\n",
      "2/2 [==============================] - 0s 7ms/step - loss: 16.6488 - mse: 429.2704\n",
      "Epoch 78/100\n",
      "2/2 [==============================] - 0s 8ms/step - loss: 9.0614 - mse: 95.4869\n",
      "Epoch 79/100\n",
      "2/2 [==============================] - 0s 7ms/step - loss: 23.9675 - mse: 864.0861\n",
      "Epoch 80/100\n",
      "2/2 [==============================] - 0s 7ms/step - loss: 26.7462 - mse: 1104.4027\n",
      "Epoch 81/100\n",
      "2/2 [==============================] - 0s 8ms/step - loss: 11.6714 - mse: 170.7055\n",
      "Epoch 82/100\n",
      "2/2 [==============================] - 0s 7ms/step - loss: 12.0228 - mse: 211.9191\n",
      "Epoch 83/100\n",
      "2/2 [==============================] - 0s 7ms/step - loss: 17.4218 - mse: 395.5589\n",
      "Epoch 84/100\n",
      "2/2 [==============================] - 0s 7ms/step - loss: 7.2629 - mse: 73.0935\n",
      "Epoch 85/100\n",
      "2/2 [==============================] - 0s 7ms/step - loss: 14.9650 - mse: 312.8361\n",
      "Epoch 86/100\n",
      "2/2 [==============================] - 0s 8ms/step - loss: 15.2862 - mse: 315.3605\n",
      "Epoch 87/100\n",
      "2/2 [==============================] - 0s 9ms/step - loss: 19.1086 - mse: 521.2533\n",
      "Epoch 88/100\n",
      "2/2 [==============================] - 0s 8ms/step - loss: 29.8229 - mse: 1287.1912\n",
      "Epoch 89/100\n",
      "2/2 [==============================] - 0s 8ms/step - loss: 10.1742 - mse: 124.1342\n",
      "Epoch 90/100\n",
      "2/2 [==============================] - 0s 7ms/step - loss: 21.5240 - mse: 663.8613\n",
      "Epoch 91/100\n",
      "2/2 [==============================] - 0s 9ms/step - loss: 10.5716 - mse: 161.7467\n",
      "Epoch 92/100\n",
      "2/2 [==============================] - 0s 7ms/step - loss: 18.3977 - mse: 464.1329\n",
      "Epoch 93/100\n",
      "2/2 [==============================] - 0s 9ms/step - loss: 7.4138 - mse: 81.9820\n",
      "Epoch 94/100\n",
      "2/2 [==============================] - 0s 11ms/step - loss: 17.7380 - mse: 445.7383\n",
      "Epoch 95/100\n",
      "2/2 [==============================] - 0s 11ms/step - loss: 11.1144 - mse: 164.0822\n",
      "Epoch 96/100\n",
      "2/2 [==============================] - 0s 7ms/step - loss: 19.4346 - mse: 510.5845\n",
      "Epoch 97/100\n",
      "2/2 [==============================] - 0s 6ms/step - loss: 12.1593 - mse: 209.9757\n",
      "Epoch 98/100\n",
      "2/2 [==============================] - 0s 8ms/step - loss: 11.5653 - mse: 169.4053\n",
      "Epoch 99/100\n",
      "2/2 [==============================] - 0s 9ms/step - loss: 13.8827 - mse: 265.4632\n",
      "Epoch 100/100\n",
      "2/2 [==============================] - 0s 7ms/step - loss: 20.2277 - mse: 608.8221\n"
     ]
    },
    {
     "data": {
      "text/plain": [
       "<keras.callbacks.History at 0x7fdad7d1cd10>"
      ]
     },
     "execution_count": 245,
     "metadata": {},
     "output_type": "execute_result"
    }
   ],
   "source": [
    "#set random seed\n",
    "tf.random.set_seed(42)\n",
    "#1. Create the model\n",
    "model_2=tf.keras.Sequential([\n",
    "    tf.keras.layers.Dense(10),\n",
    "    tf.keras.layers.Dense(1)\n",
    "])\n",
    "#2 Compile the model\n",
    "model_2.compile(loss=tf.keras.losses.mae,\n",
    "                optimizer=tf.keras.optimizers.SGD(),\n",
    "                metrics=[\"mse\"]\n",
    "\n",
    "                )\n",
    "#3. Fit the model\n",
    "model_2.fit(X_train,y_train,epochs=100)"
   ]
  },
  {
   "cell_type": "code",
   "execution_count": 246,
   "metadata": {
    "colab": {
     "base_uri": "https://localhost:8080/",
     "height": 445
    },
    "executionInfo": {
     "elapsed": 12,
     "status": "ok",
     "timestamp": 1668399771468,
     "user": {
      "displayName": "Mudit Kumar",
      "userId": "12518861077253144202"
     },
     "user_tz": -330
    },
    "id": "sJAzpfa5T_if",
    "outputId": "11190b77-cd45-4cd2-d085-3b56883f11ce"
   },
   "outputs": [
    {
     "name": "stdout",
     "output_type": "stream",
     "text": [
      "1/1 [==============================] - 0s 45ms/step\n"
     ]
    },
    {
     "data": {
      "image/png": "[encoded data removed]",
      "text/plain": [
       "<Figure size 720x504 with 1 Axes>"
      ]
     },
     "metadata": {
      "needs_background": "light"
     },
     "output_type": "display_data"
    }
   ],
   "source": [
    "# Make and plot predictions\n",
    "y_preds_2=model_2.predict(X_test)\n",
    "plot_prediction(predictions=y_preds_2)"
   ]
  },
  {
   "cell_type": "code",
   "execution_count": 247,
   "metadata": {
    "colab": {
     "base_uri": "https://localhost:8080/"
    },
    "executionInfo": {
     "elapsed": 22,
     "status": "ok",
     "timestamp": 1668399772201,
     "user": {
      "displayName": "Mudit Kumar",
      "userId": "12518861077253144202"
     },
     "user_tz": -330
    },
    "id": "ggQFF2BLUdKH",
    "outputId": "ca37fe4e-9bbe-42ee-a206-cfa18c4f64be"
   },
   "outputs": [
    {
     "data": {
      "text/plain": [
       "(<tf.Tensor: shape=(), dtype=float32, numpy=3.1969466>,\n",
       " <tf.Tensor: shape=(), dtype=float32, numpy=13.070175>)"
      ]
     },
     "execution_count": 247,
     "metadata": {},
     "output_type": "execute_result"
    }
   ],
   "source": [
    "# Calculation model_2 evaluation metrics\n",
    "mae_2=mae(y_test,y_preds_2)\n",
    "mse_2=mse(y_test,y_preds_2)\n",
    "mae_2,mse_2"
   ]
  },
  {
   "cell_type": "markdown",
   "metadata": {
    "id": "zKCcwIncU901"
   },
   "source": [
    "**Build `model_3`**\n",
    "* 2 layers, 500 ephocs"
   ]
  },
  {
   "cell_type": "code",
   "execution_count": 248,
   "metadata": {
    "colab": {
     "base_uri": "https://localhost:8080/"
    },
    "executionInfo": {
     "elapsed": 35546,
     "status": "ok",
     "timestamp": 1668399807727,
     "user": {
      "displayName": "Mudit Kumar",
      "userId": "12518861077253144202"
     },
     "user_tz": -330
    },
    "id": "l2hS5adGW-B-",
    "outputId": "bed9c2c8-4a74-4d31-d9e3-393c1ba47622"
   },
   "outputs": [
    {
     "name": "stdout",
     "output_type": "stream",
     "text": [
      "Epoch 1/1000\n",
      "2/2 [==============================] - 0s 9ms/step - loss: 27.4058 - mse: 1084.1481\n",
      "Epoch 2/1000\n",
      "2/2 [==============================] - 0s 8ms/step - loss: 24.6339 - mse: 777.9203\n",
      "Epoch 3/1000\n",
      "2/2 [==============================] - 0s 8ms/step - loss: 29.8935 - mse: 1334.8955\n",
      "Epoch 4/1000\n",
      "2/2 [==============================] - 0s 7ms/step - loss: 27.4055 - mse: 1106.8035\n",
      "Epoch 5/1000\n",
      "2/2 [==============================] - 0s 7ms/step - loss: 14.9463 - mse: 281.1077\n",
      "Epoch 6/1000\n",
      "2/2 [==============================] - 0s 11ms/step - loss: 11.8819 - mse: 168.6621\n",
      "Epoch 7/1000\n",
      "2/2 [==============================] - 0s 10ms/step - loss: 11.1988 - mse: 151.3508\n",
      "Epoch 8/1000\n",
      "2/2 [==============================] - 0s 6ms/step - loss: 11.0910 - mse: 160.3745\n",
      "Epoch 9/1000\n",
      "2/2 [==============================] - 0s 6ms/step - loss: 40.4763 - mse: 2586.0081\n",
      "Epoch 10/1000\n",
      "2/2 [==============================] - 0s 9ms/step - loss: 27.8687 - mse: 1094.4379\n",
      "Epoch 11/1000\n",
      "2/2 [==============================] - 0s 9ms/step - loss: 10.2473 - mse: 147.9359\n",
      "Epoch 12/1000\n",
      "2/2 [==============================] - 0s 6ms/step - loss: 25.2803 - mse: 890.3866\n",
      "Epoch 13/1000\n",
      "2/2 [==============================] - 0s 6ms/step - loss: 16.9897 - mse: 399.9679\n",
      "Epoch 14/1000\n",
      "2/2 [==============================] - 0s 8ms/step - loss: 25.9217 - mse: 1049.5521\n",
      "Epoch 15/1000\n",
      "2/2 [==============================] - 0s 6ms/step - loss: 17.9948 - mse: 450.2584\n",
      "Epoch 16/1000\n",
      "2/2 [==============================] - 0s 6ms/step - loss: 7.3510 - mse: 80.6206\n",
      "Epoch 17/1000\n",
      "2/2 [==============================] - 0s 7ms/step - loss: 10.8636 - mse: 174.7868\n",
      "Epoch 18/1000\n",
      "2/2 [==============================] - 0s 7ms/step - loss: 19.5304 - mse: 565.8051\n",
      "Epoch 19/1000\n",
      "2/2 [==============================] - 0s 7ms/step - loss: 10.3469 - mse: 167.7750\n",
      "Epoch 20/1000\n",
      "2/2 [==============================] - 0s 8ms/step - loss: 17.6985 - mse: 455.7095\n",
      "Epoch 21/1000\n",
      "2/2 [==============================] - 0s 7ms/step - loss: 15.8984 - mse: 347.1928\n",
      "Epoch 22/1000\n",
      "2/2 [==============================] - 0s 11ms/step - loss: 14.1991 - mse: 285.1766\n",
      "Epoch 23/1000\n",
      "2/2 [==============================] - 0s 7ms/step - loss: 8.7720 - mse: 91.7852\n",
      "Epoch 24/1000\n",
      "2/2 [==============================] - 0s 8ms/step - loss: 11.0570 - mse: 153.7430\n",
      "Epoch 25/1000\n",
      "2/2 [==============================] - 0s 7ms/step - loss: 12.6838 - mse: 233.2951\n",
      "Epoch 26/1000\n",
      "2/2 [==============================] - 0s 7ms/step - loss: 26.1877 - mse: 1024.6096\n",
      "Epoch 27/1000\n",
      "2/2 [==============================] - 0s 7ms/step - loss: 11.7432 - mse: 194.8454\n",
      "Epoch 28/1000\n",
      "2/2 [==============================] - 0s 7ms/step - loss: 22.8730 - mse: 835.6074\n",
      "Epoch 29/1000\n",
      "2/2 [==============================] - 0s 7ms/step - loss: 9.2459 - mse: 96.7786\n",
      "Epoch 30/1000\n",
      "2/2 [==============================] - 0s 7ms/step - loss: 29.2641 - mse: 1535.1349\n",
      "Epoch 31/1000\n",
      "2/2 [==============================] - 0s 7ms/step - loss: 53.0225 - mse: 5030.2974\n",
      "Epoch 32/1000\n",
      "2/2 [==============================] - 0s 7ms/step - loss: 11.9951 - mse: 211.7024\n",
      "Epoch 33/1000\n",
      "2/2 [==============================] - 0s 7ms/step - loss: 15.6357 - mse: 337.3665\n",
      "Epoch 34/1000\n",
      "2/2 [==============================] - 0s 7ms/step - loss: 12.6925 - mse: 214.4822\n",
      "Epoch 35/1000\n",
      "2/2 [==============================] - 0s 7ms/step - loss: 9.2398 - mse: 92.9126\n",
      "Epoch 36/1000\n",
      "2/2 [==============================] - 0s 7ms/step - loss: 16.6497 - mse: 403.6570\n",
      "Epoch 37/1000\n",
      "2/2 [==============================] - 0s 7ms/step - loss: 11.0382 - mse: 192.3919\n",
      "Epoch 38/1000\n",
      "2/2 [==============================] - 0s 7ms/step - loss: 18.1634 - mse: 433.6718\n",
      "Epoch 39/1000\n",
      "2/2 [==============================] - 0s 6ms/step - loss: 19.1013 - mse: 529.6441\n",
      "Epoch 40/1000\n",
      "2/2 [==============================] - 0s 7ms/step - loss: 20.4324 - mse: 610.1327\n",
      "Epoch 41/1000\n",
      "2/2 [==============================] - 0s 6ms/step - loss: 14.9102 - mse: 279.6181\n",
      "Epoch 42/1000\n",
      "2/2 [==============================] - 0s 7ms/step - loss: 12.2809 - mse: 186.6179\n",
      "Epoch 43/1000\n",
      "2/2 [==============================] - 0s 7ms/step - loss: 10.7333 - mse: 167.0951\n",
      "Epoch 44/1000\n",
      "2/2 [==============================] - 0s 6ms/step - loss: 23.0260 - mse: 830.4236\n",
      "Epoch 45/1000\n",
      "2/2 [==============================] - 0s 10ms/step - loss: 10.3897 - mse: 128.9549\n",
      "Epoch 46/1000\n",
      "2/2 [==============================] - 0s 7ms/step - loss: 11.7904 - mse: 181.9210\n",
      "Epoch 47/1000\n",
      "2/2 [==============================] - 0s 9ms/step - loss: 9.6438 - mse: 153.8708\n",
      "Epoch 48/1000\n",
      "2/2 [==============================] - 0s 7ms/step - loss: 17.2335 - mse: 402.8497\n",
      "Epoch 49/1000\n",
      "2/2 [==============================] - 0s 7ms/step - loss: 9.5729 - mse: 99.8336\n",
      "Epoch 50/1000\n",
      "2/2 [==============================] - 0s 6ms/step - loss: 13.8185 - mse: 260.3668\n",
      "Epoch 51/1000\n",
      "2/2 [==============================] - 0s 7ms/step - loss: 11.5958 - mse: 154.7956\n",
      "Epoch 52/1000\n",
      "2/2 [==============================] - 0s 6ms/step - loss: 30.5538 - mse: 1613.0876\n",
      "Epoch 53/1000\n",
      "2/2 [==============================] - 0s 7ms/step - loss: 14.3541 - mse: 302.5291\n",
      "Epoch 54/1000\n",
      "2/2 [==============================] - 0s 7ms/step - loss: 23.9713 - mse: 859.3983\n",
      "Epoch 55/1000\n",
      "2/2 [==============================] - 0s 7ms/step - loss: 23.1938 - mse: 805.5448\n",
      "Epoch 56/1000\n",
      "2/2 [==============================] - 0s 7ms/step - loss: 10.8837 - mse: 170.9834\n",
      "Epoch 57/1000\n",
      "2/2 [==============================] - 0s 7ms/step - loss: 12.7445 - mse: 198.7014\n",
      "Epoch 58/1000\n",
      "2/2 [==============================] - 0s 6ms/step - loss: 9.5995 - mse: 102.5890\n",
      "Epoch 59/1000\n",
      "2/2 [==============================] - 0s 9ms/step - loss: 12.5172 - mse: 216.3365\n",
      "Epoch 60/1000\n",
      "2/2 [==============================] - 0s 8ms/step - loss: 12.3200 - mse: 208.6369\n",
      "Epoch 61/1000\n",
      "2/2 [==============================] - 0s 6ms/step - loss: 17.4604 - mse: 428.6391\n",
      "Epoch 62/1000\n",
      "2/2 [==============================] - 0s 7ms/step - loss: 10.6052 - mse: 136.9776\n",
      "Epoch 63/1000\n",
      "2/2 [==============================] - 0s 7ms/step - loss: 10.4893 - mse: 152.4553\n",
      "Epoch 64/1000\n",
      "2/2 [==============================] - 0s 7ms/step - loss: 24.8450 - mse: 911.7503\n",
      "Epoch 65/1000\n",
      "2/2 [==============================] - 0s 6ms/step - loss: 10.6761 - mse: 142.7373\n",
      "Epoch 66/1000\n",
      "2/2 [==============================] - 0s 5ms/step - loss: 21.7809 - mse: 704.4485\n",
      "Epoch 67/1000\n",
      "2/2 [==============================] - 0s 6ms/step - loss: 10.7136 - mse: 136.0193\n",
      "Epoch 68/1000\n",
      "2/2 [==============================] - 0s 7ms/step - loss: 10.6397 - mse: 149.2299\n",
      "Epoch 69/1000\n",
      "2/2 [==============================] - 0s 7ms/step - loss: 22.6914 - mse: 742.1757\n",
      "Epoch 70/1000\n",
      "2/2 [==============================] - 0s 7ms/step - loss: 9.3316 - mse: 166.1628\n",
      "Epoch 71/1000\n",
      "2/2 [==============================] - 0s 6ms/step - loss: 15.4355 - mse: 323.0844\n",
      "Epoch 72/1000\n",
      "2/2 [==============================] - 0s 7ms/step - loss: 6.7437 - mse: 67.0210\n",
      "Epoch 73/1000\n",
      "2/2 [==============================] - 0s 21ms/step - loss: 11.6891 - mse: 183.7297\n",
      "Epoch 74/1000\n",
      "2/2 [==============================] - 0s 7ms/step - loss: 24.0400 - mse: 908.8986\n",
      "Epoch 75/1000\n",
      "2/2 [==============================] - 0s 10ms/step - loss: 9.5896 - mse: 149.3948\n",
      "Epoch 76/1000\n",
      "2/2 [==============================] - 0s 8ms/step - loss: 12.4371 - mse: 188.3309\n",
      "Epoch 77/1000\n",
      "2/2 [==============================] - 0s 7ms/step - loss: 16.6488 - mse: 429.2704\n",
      "Epoch 78/1000\n",
      "2/2 [==============================] - 0s 6ms/step - loss: 9.0614 - mse: 95.4869\n",
      "Epoch 79/1000\n",
      "2/2 [==============================] - 0s 6ms/step - loss: 23.9675 - mse: 864.0861\n",
      "Epoch 80/1000\n",
      "2/2 [==============================] - 0s 6ms/step - loss: 26.7462 - mse: 1104.4027\n",
      "Epoch 81/1000\n",
      "2/2 [==============================] - 0s 7ms/step - loss: 11.6714 - mse: 170.7055\n",
      "Epoch 82/1000\n",
      "2/2 [==============================] - 0s 6ms/step - loss: 12.0228 - mse: 211.9191\n",
      "Epoch 83/1000\n",
      "2/2 [==============================] - 0s 7ms/step - loss: 17.4218 - mse: 395.5589\n",
      "Epoch 84/1000\n",
      "2/2 [==============================] - 0s 7ms/step - loss: 7.2629 - mse: 73.0935\n",
      "Epoch 85/1000\n",
      "2/2 [==============================] - 0s 7ms/step - loss: 14.9650 - mse: 312.8361\n",
      "Epoch 86/1000\n",
      "2/2 [==============================] - 0s 6ms/step - loss: 15.2862 - mse: 315.3605\n",
      "Epoch 87/1000\n",
      "2/2 [==============================] - 0s 7ms/step - loss: 19.1086 - mse: 521.2533\n",
      "Epoch 88/1000\n",
      "2/2 [==============================] - 0s 7ms/step - loss: 29.8229 - mse: 1287.1912\n",
      "Epoch 89/1000\n",
      "2/2 [==============================] - 0s 8ms/step - loss: 10.1742 - mse: 124.1342\n",
      "Epoch 90/1000\n",
      "2/2 [==============================] - 0s 6ms/step - loss: 21.5240 - mse: 663.8613\n",
      "Epoch 91/1000\n",
      "2/2 [==============================] - 0s 7ms/step - loss: 10.5716 - mse: 161.7467\n",
      "Epoch 92/1000\n",
      "2/2 [==============================] - 0s 7ms/step - loss: 18.3977 - mse: 464.1329\n",
      "Epoch 93/1000\n",
      "2/2 [==============================] - 0s 6ms/step - loss: 7.4138 - mse: 81.9820\n",
      "Epoch 94/1000\n",
      "2/2 [==============================] - 0s 7ms/step - loss: 17.7380 - mse: 445.7383\n",
      "Epoch 95/1000\n",
      "2/2 [==============================] - 0s 6ms/step - loss: 11.1144 - mse: 164.0822\n",
      "Epoch 96/1000\n",
      "2/2 [==============================] - 0s 7ms/step - loss: 19.4346 - mse: 510.5845\n",
      "Epoch 97/1000\n",
      "2/2 [==============================] - 0s 6ms/step - loss: 12.1593 - mse: 209.9757\n",
      "Epoch 98/1000\n",
      "2/2 [==============================] - 0s 6ms/step - loss: 11.5653 - mse: 169.4053\n",
      "Epoch 99/1000\n",
      "2/2 [==============================] - 0s 9ms/step - loss: 13.8827 - mse: 265.4632\n",
      "Epoch 100/1000\n",
      "2/2 [==============================] - 0s 6ms/step - loss: 20.2277 - mse: 608.8221\n",
      "Epoch 101/1000\n",
      "2/2 [==============================] - 0s 7ms/step - loss: 11.4479 - mse: 177.1447\n",
      "Epoch 102/1000\n",
      "2/2 [==============================] - 0s 7ms/step - loss: 17.4842 - mse: 426.5330\n",
      "Epoch 103/1000\n",
      "2/2 [==============================] - 0s 7ms/step - loss: 7.0217 - mse: 65.2649\n",
      "Epoch 104/1000\n",
      "2/2 [==============================] - 0s 7ms/step - loss: 23.5789 - mse: 757.4910\n",
      "Epoch 105/1000\n",
      "2/2 [==============================] - 0s 7ms/step - loss: 16.8932 - mse: 443.0952\n",
      "Epoch 106/1000\n",
      "2/2 [==============================] - 0s 6ms/step - loss: 9.2954 - mse: 144.6570\n",
      "Epoch 107/1000\n",
      "2/2 [==============================] - 0s 8ms/step - loss: 25.3749 - mse: 934.2097\n",
      "Epoch 108/1000\n",
      "2/2 [==============================] - 0s 7ms/step - loss: 13.4621 - mse: 269.8599\n",
      "Epoch 109/1000\n",
      "2/2 [==============================] - 0s 7ms/step - loss: 9.5238 - mse: 108.7908\n",
      "Epoch 110/1000\n",
      "2/2 [==============================] - 0s 7ms/step - loss: 9.6722 - mse: 128.8767\n",
      "Epoch 111/1000\n",
      "2/2 [==============================] - 0s 13ms/step - loss: 14.5987 - mse: 295.9862\n",
      "Epoch 112/1000\n",
      "2/2 [==============================] - 0s 6ms/step - loss: 9.5670 - mse: 123.4114\n",
      "Epoch 113/1000\n",
      "2/2 [==============================] - 0s 6ms/step - loss: 17.8092 - mse: 460.3870\n",
      "Epoch 114/1000\n",
      "2/2 [==============================] - 0s 6ms/step - loss: 17.1782 - mse: 441.2210\n",
      "Epoch 115/1000\n",
      "2/2 [==============================] - 0s 6ms/step - loss: 11.1182 - mse: 155.0962\n",
      "Epoch 116/1000\n",
      "2/2 [==============================] - 0s 6ms/step - loss: 23.3071 - mse: 791.7664\n",
      "Epoch 117/1000\n",
      "2/2 [==============================] - 0s 5ms/step - loss: 9.6144 - mse: 126.1895\n",
      "Epoch 118/1000\n",
      "2/2 [==============================] - 0s 6ms/step - loss: 10.6899 - mse: 140.2946\n",
      "Epoch 119/1000\n",
      "2/2 [==============================] - 0s 5ms/step - loss: 8.0355 - mse: 78.3508\n",
      "Epoch 120/1000\n",
      "2/2 [==============================] - 0s 5ms/step - loss: 29.6859 - mse: 1315.8655\n",
      "Epoch 121/1000\n",
      "2/2 [==============================] - 0s 5ms/step - loss: 8.0714 - mse: 70.6648\n",
      "Epoch 122/1000\n",
      "2/2 [==============================] - 0s 6ms/step - loss: 28.3086 - mse: 1233.3855\n",
      "Epoch 123/1000\n",
      "2/2 [==============================] - 0s 6ms/step - loss: 32.9014 - mse: 1591.9512\n",
      "Epoch 124/1000\n",
      "2/2 [==============================] - 0s 6ms/step - loss: 19.6291 - mse: 571.6962\n",
      "Epoch 125/1000\n",
      "2/2 [==============================] - 0s 6ms/step - loss: 7.0095 - mse: 72.1091\n",
      "Epoch 126/1000\n",
      "2/2 [==============================] - 0s 6ms/step - loss: 21.8056 - mse: 666.4343\n",
      "Epoch 127/1000\n",
      "2/2 [==============================] - 0s 7ms/step - loss: 7.9812 - mse: 69.5627\n",
      "Epoch 128/1000\n",
      "2/2 [==============================] - 0s 6ms/step - loss: 21.0585 - mse: 653.6490\n",
      "Epoch 129/1000\n",
      "2/2 [==============================] - 0s 6ms/step - loss: 9.0107 - mse: 120.8763\n",
      "Epoch 130/1000\n",
      "2/2 [==============================] - 0s 7ms/step - loss: 24.0502 - mse: 815.7745\n",
      "Epoch 131/1000\n",
      "2/2 [==============================] - 0s 6ms/step - loss: 9.7537 - mse: 133.0194\n",
      "Epoch 132/1000\n",
      "2/2 [==============================] - 0s 6ms/step - loss: 18.3052 - mse: 500.9215\n",
      "Epoch 133/1000\n",
      "2/2 [==============================] - 0s 6ms/step - loss: 7.5833 - mse: 80.1913\n",
      "Epoch 134/1000\n",
      "2/2 [==============================] - 0s 6ms/step - loss: 18.5755 - mse: 506.3340\n",
      "Epoch 135/1000\n",
      "2/2 [==============================] - 0s 5ms/step - loss: 10.5360 - mse: 148.5977\n",
      "Epoch 136/1000\n",
      "2/2 [==============================] - 0s 5ms/step - loss: 18.2694 - mse: 472.4460\n",
      "Epoch 137/1000\n",
      "2/2 [==============================] - 0s 6ms/step - loss: 23.1658 - mse: 724.0378\n",
      "Epoch 138/1000\n",
      "2/2 [==============================] - 0s 6ms/step - loss: 9.1362 - mse: 139.5299\n",
      "Epoch 139/1000\n",
      "2/2 [==============================] - 0s 6ms/step - loss: 8.9181 - mse: 144.6080\n",
      "Epoch 140/1000\n",
      "2/2 [==============================] - 0s 6ms/step - loss: 16.4732 - mse: 389.2469\n",
      "Epoch 141/1000\n",
      "2/2 [==============================] - 0s 6ms/step - loss: 8.4208 - mse: 91.7412\n",
      "Epoch 142/1000\n",
      "2/2 [==============================] - 0s 6ms/step - loss: 36.9540 - mse: 2404.8638\n",
      "Epoch 143/1000\n",
      "2/2 [==============================] - 0s 6ms/step - loss: 25.5820 - mse: 927.2340\n",
      "Epoch 144/1000\n",
      "2/2 [==============================] - 0s 6ms/step - loss: 9.5392 - mse: 144.3266\n",
      "Epoch 145/1000\n",
      "2/2 [==============================] - 0s 7ms/step - loss: 26.6058 - mse: 957.1339\n",
      "Epoch 146/1000\n",
      "2/2 [==============================] - 0s 7ms/step - loss: 8.7248 - mse: 109.2954\n",
      "Epoch 147/1000\n",
      "2/2 [==============================] - 0s 6ms/step - loss: 15.6172 - mse: 311.2311\n",
      "Epoch 148/1000\n",
      "2/2 [==============================] - 0s 6ms/step - loss: 18.3065 - mse: 464.7856\n",
      "Epoch 149/1000\n",
      "2/2 [==============================] - 0s 6ms/step - loss: 8.1994 - mse: 106.4584\n",
      "Epoch 150/1000\n",
      "2/2 [==============================] - 0s 6ms/step - loss: 7.4964 - mse: 66.4456\n",
      "Epoch 151/1000\n",
      "2/2 [==============================] - 0s 6ms/step - loss: 18.3374 - mse: 485.9980\n",
      "Epoch 152/1000\n",
      "2/2 [==============================] - 0s 6ms/step - loss: 10.2895 - mse: 130.5616\n",
      "Epoch 153/1000\n",
      "2/2 [==============================] - 0s 7ms/step - loss: 29.6425 - mse: 1268.4626\n",
      "Epoch 154/1000\n",
      "2/2 [==============================] - 0s 6ms/step - loss: 10.5556 - mse: 201.2334\n",
      "Epoch 155/1000\n",
      "2/2 [==============================] - 0s 6ms/step - loss: 15.4537 - mse: 347.2171\n",
      "Epoch 156/1000\n",
      "2/2 [==============================] - 0s 6ms/step - loss: 17.0174 - mse: 438.8495\n",
      "Epoch 157/1000\n",
      "2/2 [==============================] - 0s 6ms/step - loss: 32.8217 - mse: 1744.8135\n",
      "Epoch 158/1000\n",
      "2/2 [==============================] - 0s 6ms/step - loss: 10.7038 - mse: 151.0813\n",
      "Epoch 159/1000\n",
      "2/2 [==============================] - 0s 5ms/step - loss: 8.9054 - mse: 97.7705\n",
      "Epoch 160/1000\n",
      "2/2 [==============================] - 0s 10ms/step - loss: 22.1321 - mse: 709.4391\n",
      "Epoch 161/1000\n",
      "2/2 [==============================] - 0s 8ms/step - loss: 11.7113 - mse: 202.9611\n",
      "Epoch 162/1000\n",
      "2/2 [==============================] - 0s 8ms/step - loss: 21.5734 - mse: 670.2858\n",
      "Epoch 163/1000\n",
      "2/2 [==============================] - 0s 7ms/step - loss: 19.2484 - mse: 533.4073\n",
      "Epoch 164/1000\n",
      "2/2 [==============================] - 0s 6ms/step - loss: 11.0156 - mse: 177.6826\n",
      "Epoch 165/1000\n",
      "2/2 [==============================] - 0s 6ms/step - loss: 9.6187 - mse: 179.8633\n",
      "Epoch 166/1000\n",
      "2/2 [==============================] - 0s 6ms/step - loss: 21.5908 - mse: 681.9667\n",
      "Epoch 167/1000\n",
      "2/2 [==============================] - 0s 6ms/step - loss: 26.2850 - mse: 1048.8445\n",
      "Epoch 168/1000\n",
      "2/2 [==============================] - 0s 7ms/step - loss: 9.8525 - mse: 118.2891\n",
      "Epoch 169/1000\n",
      "2/2 [==============================] - 0s 6ms/step - loss: 22.5630 - mse: 787.0587\n",
      "Epoch 170/1000\n",
      "2/2 [==============================] - 0s 6ms/step - loss: 10.1499 - mse: 195.9051\n",
      "Epoch 171/1000\n",
      "2/2 [==============================] - 0s 13ms/step - loss: 18.0464 - mse: 503.4533\n",
      "Epoch 172/1000\n",
      "2/2 [==============================] - 0s 6ms/step - loss: 28.8377 - mse: 1305.7986\n",
      "Epoch 173/1000\n",
      "2/2 [==============================] - 0s 6ms/step - loss: 16.5279 - mse: 432.1443\n",
      "Epoch 174/1000\n",
      "2/2 [==============================] - 0s 6ms/step - loss: 11.2115 - mse: 199.9691\n",
      "Epoch 175/1000\n",
      "2/2 [==============================] - 0s 6ms/step - loss: 27.5839 - mse: 1097.8187\n",
      "Epoch 176/1000\n",
      "2/2 [==============================] - 0s 6ms/step - loss: 8.2680 - mse: 77.5372\n",
      "Epoch 177/1000\n",
      "2/2 [==============================] - 0s 6ms/step - loss: 9.2580 - mse: 108.9075\n",
      "Epoch 178/1000\n",
      "2/2 [==============================] - 0s 6ms/step - loss: 18.1440 - mse: 466.0510\n",
      "Epoch 179/1000\n",
      "2/2 [==============================] - 0s 7ms/step - loss: 10.5995 - mse: 147.8544\n",
      "Epoch 180/1000\n",
      "2/2 [==============================] - 0s 7ms/step - loss: 7.8992 - mse: 100.6933\n",
      "Epoch 181/1000\n",
      "2/2 [==============================] - 0s 6ms/step - loss: 17.4015 - mse: 438.6032\n",
      "Epoch 182/1000\n",
      "2/2 [==============================] - 0s 6ms/step - loss: 11.0089 - mse: 157.1595\n",
      "Epoch 183/1000\n",
      "2/2 [==============================] - 0s 6ms/step - loss: 11.7027 - mse: 203.9955\n",
      "Epoch 184/1000\n",
      "2/2 [==============================] - 0s 5ms/step - loss: 30.4062 - mse: 1387.3840\n",
      "Epoch 185/1000\n",
      "2/2 [==============================] - 0s 6ms/step - loss: 7.5557 - mse: 98.6847\n",
      "Epoch 186/1000\n",
      "2/2 [==============================] - 0s 6ms/step - loss: 15.9905 - mse: 369.3700\n",
      "Epoch 187/1000\n",
      "2/2 [==============================] - 0s 7ms/step - loss: 8.5579 - mse: 85.4845\n",
      "Epoch 188/1000\n",
      "2/2 [==============================] - 0s 6ms/step - loss: 28.7339 - mse: 1175.7059\n",
      "Epoch 189/1000\n",
      "2/2 [==============================] - 0s 6ms/step - loss: 13.1689 - mse: 271.3447\n",
      "Epoch 190/1000\n",
      "2/2 [==============================] - 0s 7ms/step - loss: 18.3101 - mse: 512.5546\n",
      "Epoch 191/1000\n",
      "2/2 [==============================] - 0s 7ms/step - loss: 13.7376 - mse: 264.9675\n",
      "Epoch 192/1000\n",
      "2/2 [==============================] - 0s 7ms/step - loss: 13.7104 - mse: 261.0631\n",
      "Epoch 193/1000\n",
      "2/2 [==============================] - 0s 6ms/step - loss: 28.5842 - mse: 1135.1302\n",
      "Epoch 194/1000\n",
      "2/2 [==============================] - 0s 5ms/step - loss: 7.0707 - mse: 78.6824\n",
      "Epoch 195/1000\n",
      "2/2 [==============================] - 0s 6ms/step - loss: 7.0550 - mse: 74.9455\n",
      "Epoch 196/1000\n",
      "2/2 [==============================] - 0s 6ms/step - loss: 22.0067 - mse: 709.4538\n",
      "Epoch 197/1000\n",
      "2/2 [==============================] - 0s 6ms/step - loss: 20.8443 - mse: 643.6124\n",
      "Epoch 198/1000\n",
      "2/2 [==============================] - 0s 6ms/step - loss: 12.4713 - mse: 236.5511\n",
      "Epoch 199/1000\n",
      "2/2 [==============================] - 0s 7ms/step - loss: 17.9099 - mse: 460.3532\n",
      "Epoch 200/1000\n",
      "2/2 [==============================] - 0s 7ms/step - loss: 13.7494 - mse: 282.2670\n",
      "Epoch 201/1000\n",
      "2/2 [==============================] - 0s 6ms/step - loss: 5.4687 - mse: 41.0882\n",
      "Epoch 202/1000\n",
      "2/2 [==============================] - 0s 8ms/step - loss: 13.7006 - mse: 293.8447\n",
      "Epoch 203/1000\n",
      "2/2 [==============================] - 0s 7ms/step - loss: 9.4142 - mse: 139.9066\n",
      "Epoch 204/1000\n",
      "2/2 [==============================] - 0s 6ms/step - loss: 20.9796 - mse: 656.2632\n",
      "Epoch 205/1000\n",
      "2/2 [==============================] - 0s 6ms/step - loss: 9.5470 - mse: 127.9146\n",
      "Epoch 206/1000\n",
      "2/2 [==============================] - 0s 7ms/step - loss: 11.7256 - mse: 195.6242\n",
      "Epoch 207/1000\n",
      "2/2 [==============================] - 0s 10ms/step - loss: 14.3772 - mse: 317.1682\n",
      "Epoch 208/1000\n",
      "2/2 [==============================] - 0s 7ms/step - loss: 14.8579 - mse: 323.1455\n",
      "Epoch 209/1000\n",
      "2/2 [==============================] - 0s 6ms/step - loss: 14.9706 - mse: 345.7380\n",
      "Epoch 210/1000\n",
      "2/2 [==============================] - 0s 8ms/step - loss: 17.8998 - mse: 467.4649\n",
      "Epoch 211/1000\n",
      "2/2 [==============================] - 0s 6ms/step - loss: 9.8327 - mse: 145.8636\n",
      "Epoch 212/1000\n",
      "2/2 [==============================] - 0s 6ms/step - loss: 18.3352 - mse: 507.7773\n",
      "Epoch 213/1000\n",
      "2/2 [==============================] - 0s 7ms/step - loss: 15.0383 - mse: 307.6406\n",
      "Epoch 214/1000\n",
      "2/2 [==============================] - 0s 6ms/step - loss: 14.5874 - mse: 293.5641\n",
      "Epoch 215/1000\n",
      "2/2 [==============================] - 0s 6ms/step - loss: 23.3015 - mse: 799.4147\n",
      "Epoch 216/1000\n",
      "2/2 [==============================] - 0s 6ms/step - loss: 13.3613 - mse: 278.0950\n",
      "Epoch 217/1000\n",
      "2/2 [==============================] - 0s 7ms/step - loss: 9.8517 - mse: 136.3094\n",
      "Epoch 218/1000\n",
      "2/2 [==============================] - 0s 6ms/step - loss: 12.5451 - mse: 206.5809\n",
      "Epoch 219/1000\n",
      "2/2 [==============================] - 0s 6ms/step - loss: 4.9472 - mse: 37.4063\n",
      "Epoch 220/1000\n",
      "2/2 [==============================] - 0s 6ms/step - loss: 7.1130 - mse: 57.5579\n",
      "Epoch 221/1000\n",
      "2/2 [==============================] - 0s 8ms/step - loss: 35.4567 - mse: 2108.1030\n",
      "Epoch 222/1000\n",
      "2/2 [==============================] - 0s 6ms/step - loss: 34.8634 - mse: 1966.9629\n",
      "Epoch 223/1000\n",
      "2/2 [==============================] - 0s 6ms/step - loss: 7.9846 - mse: 119.7549\n",
      "Epoch 224/1000\n",
      "2/2 [==============================] - 0s 7ms/step - loss: 14.7004 - mse: 318.5024\n",
      "Epoch 225/1000\n",
      "2/2 [==============================] - 0s 8ms/step - loss: 16.7196 - mse: 360.6415\n",
      "Epoch 226/1000\n",
      "2/2 [==============================] - 0s 9ms/step - loss: 15.9329 - mse: 369.8889\n",
      "Epoch 227/1000\n",
      "2/2 [==============================] - 0s 8ms/step - loss: 16.1644 - mse: 369.5816\n",
      "Epoch 228/1000\n",
      "2/2 [==============================] - 0s 7ms/step - loss: 13.9324 - mse: 282.1420\n",
      "Epoch 229/1000\n",
      "2/2 [==============================] - 0s 7ms/step - loss: 18.0504 - mse: 457.4227\n",
      "Epoch 230/1000\n",
      "2/2 [==============================] - 0s 7ms/step - loss: 15.6120 - mse: 314.6217\n",
      "Epoch 231/1000\n",
      "2/2 [==============================] - 0s 7ms/step - loss: 21.2041 - mse: 670.7585\n",
      "Epoch 232/1000\n",
      "2/2 [==============================] - 0s 7ms/step - loss: 25.2732 - mse: 913.5815\n",
      "Epoch 233/1000\n",
      "2/2 [==============================] - 0s 8ms/step - loss: 16.3176 - mse: 387.7162\n",
      "Epoch 234/1000\n",
      "2/2 [==============================] - 0s 8ms/step - loss: 7.2729 - mse: 66.5098\n",
      "Epoch 235/1000\n",
      "2/2 [==============================] - 0s 8ms/step - loss: 16.9688 - mse: 403.1300\n",
      "Epoch 236/1000\n",
      "2/2 [==============================] - 0s 8ms/step - loss: 7.1225 - mse: 69.7516\n",
      "Epoch 237/1000\n",
      "2/2 [==============================] - 0s 9ms/step - loss: 9.2058 - mse: 118.9101\n",
      "Epoch 238/1000\n",
      "2/2 [==============================] - 0s 8ms/step - loss: 8.0961 - mse: 86.7115\n",
      "Epoch 239/1000\n",
      "2/2 [==============================] - 0s 8ms/step - loss: 17.0538 - mse: 438.0273\n",
      "Epoch 240/1000\n",
      "2/2 [==============================] - 0s 8ms/step - loss: 8.8627 - mse: 107.8192\n",
      "Epoch 241/1000\n",
      "2/2 [==============================] - 0s 8ms/step - loss: 13.1711 - mse: 273.2423\n",
      "Epoch 242/1000\n",
      "2/2 [==============================] - 0s 8ms/step - loss: 8.7886 - mse: 104.8367\n",
      "Epoch 243/1000\n",
      "2/2 [==============================] - 0s 8ms/step - loss: 18.8161 - mse: 541.4720\n",
      "Epoch 244/1000\n",
      "2/2 [==============================] - 0s 8ms/step - loss: 14.0531 - mse: 275.3815\n",
      "Epoch 245/1000\n",
      "2/2 [==============================] - 0s 9ms/step - loss: 14.6831 - mse: 290.1826\n",
      "Epoch 246/1000\n",
      "2/2 [==============================] - 0s 10ms/step - loss: 15.8045 - mse: 370.7153\n",
      "Epoch 247/1000\n",
      "2/2 [==============================] - 0s 11ms/step - loss: 17.6810 - mse: 421.4944\n",
      "Epoch 248/1000\n",
      "2/2 [==============================] - 0s 15ms/step - loss: 13.2367 - mse: 251.7197\n",
      "Epoch 249/1000\n",
      "2/2 [==============================] - 0s 8ms/step - loss: 14.5070 - mse: 288.7692\n",
      "Epoch 250/1000\n",
      "2/2 [==============================] - 0s 8ms/step - loss: 23.2322 - mse: 793.2501\n",
      "Epoch 251/1000\n",
      "2/2 [==============================] - 0s 7ms/step - loss: 9.3009 - mse: 119.0357\n",
      "Epoch 252/1000\n",
      "2/2 [==============================] - 0s 7ms/step - loss: 36.6569 - mse: 2195.6199\n",
      "Epoch 253/1000\n",
      "2/2 [==============================] - 0s 7ms/step - loss: 21.8205 - mse: 667.9635\n",
      "Epoch 254/1000\n",
      "2/2 [==============================] - 0s 6ms/step - loss: 7.2792 - mse: 77.8093\n",
      "Epoch 255/1000\n",
      "2/2 [==============================] - 0s 8ms/step - loss: 24.7127 - mse: 882.9673\n",
      "Epoch 256/1000\n",
      "2/2 [==============================] - 0s 9ms/step - loss: 12.4220 - mse: 220.3517\n",
      "Epoch 257/1000\n",
      "2/2 [==============================] - 0s 10ms/step - loss: 10.5823 - mse: 164.0441\n",
      "Epoch 258/1000\n",
      "2/2 [==============================] - 0s 8ms/step - loss: 14.4883 - mse: 322.3513\n",
      "Epoch 259/1000\n",
      "2/2 [==============================] - 0s 6ms/step - loss: 8.6132 - mse: 98.6933\n",
      "Epoch 260/1000\n",
      "2/2 [==============================] - 0s 6ms/step - loss: 43.0580 - mse: 2975.2346\n",
      "Epoch 261/1000\n",
      "2/2 [==============================] - 0s 7ms/step - loss: 18.4611 - mse: 493.6666\n",
      "Epoch 262/1000\n",
      "2/2 [==============================] - 0s 6ms/step - loss: 6.8820 - mse: 94.3408\n",
      "Epoch 263/1000\n",
      "2/2 [==============================] - 0s 6ms/step - loss: 13.7211 - mse: 268.5678\n",
      "Epoch 264/1000\n",
      "2/2 [==============================] - 0s 6ms/step - loss: 21.0154 - mse: 653.9615\n",
      "Epoch 265/1000\n",
      "2/2 [==============================] - 0s 7ms/step - loss: 19.3731 - mse: 545.6251\n",
      "Epoch 266/1000\n",
      "2/2 [==============================] - 0s 6ms/step - loss: 11.4735 - mse: 234.7203\n",
      "Epoch 267/1000\n",
      "2/2 [==============================] - 0s 8ms/step - loss: 7.5302 - mse: 112.0907\n",
      "Epoch 268/1000\n",
      "2/2 [==============================] - 0s 8ms/step - loss: 21.6453 - mse: 670.2253\n",
      "Epoch 269/1000\n",
      "2/2 [==============================] - 0s 6ms/step - loss: 33.1785 - mse: 1653.7371\n",
      "Epoch 270/1000\n",
      "2/2 [==============================] - 0s 6ms/step - loss: 10.0833 - mse: 148.7352\n",
      "Epoch 271/1000\n",
      "2/2 [==============================] - 0s 8ms/step - loss: 12.1012 - mse: 303.1725\n",
      "Epoch 272/1000\n",
      "2/2 [==============================] - 0s 6ms/step - loss: 26.1372 - mse: 944.6779\n",
      "Epoch 273/1000\n",
      "2/2 [==============================] - 0s 7ms/step - loss: 12.1751 - mse: 228.8032\n",
      "Epoch 274/1000\n",
      "2/2 [==============================] - 0s 9ms/step - loss: 13.3272 - mse: 282.3033\n",
      "Epoch 275/1000\n",
      "2/2 [==============================] - 0s 8ms/step - loss: 29.3775 - mse: 1229.1165\n",
      "Epoch 276/1000\n",
      "2/2 [==============================] - 0s 11ms/step - loss: 7.3329 - mse: 104.3416\n",
      "Epoch 277/1000\n",
      "2/2 [==============================] - 0s 9ms/step - loss: 31.1362 - mse: 1360.7682\n",
      "Epoch 278/1000\n",
      "2/2 [==============================] - 0s 11ms/step - loss: 12.3015 - mse: 234.6619\n",
      "Epoch 279/1000\n",
      "2/2 [==============================] - 0s 8ms/step - loss: 16.4103 - mse: 416.9115\n",
      "Epoch 280/1000\n",
      "2/2 [==============================] - 0s 9ms/step - loss: 21.9118 - mse: 716.7845\n",
      "Epoch 281/1000\n",
      "2/2 [==============================] - 0s 9ms/step - loss: 22.1500 - mse: 745.2057\n",
      "Epoch 282/1000\n",
      "2/2 [==============================] - 0s 8ms/step - loss: 7.7429 - mse: 90.5224\n",
      "Epoch 283/1000\n",
      "2/2 [==============================] - 0s 11ms/step - loss: 8.1429 - mse: 87.9050\n",
      "Epoch 284/1000\n",
      "2/2 [==============================] - 0s 8ms/step - loss: 24.9435 - mse: 936.1600\n",
      "Epoch 285/1000\n",
      "2/2 [==============================] - 0s 8ms/step - loss: 13.6958 - mse: 299.3612\n",
      "Epoch 286/1000\n",
      "2/2 [==============================] - 0s 11ms/step - loss: 6.8926 - mse: 81.2998\n",
      "Epoch 287/1000\n",
      "2/2 [==============================] - 0s 8ms/step - loss: 24.5352 - mse: 862.2881\n",
      "Epoch 288/1000\n",
      "2/2 [==============================] - 0s 7ms/step - loss: 20.1721 - mse: 605.2872\n",
      "Epoch 289/1000\n",
      "2/2 [==============================] - 0s 6ms/step - loss: 11.9658 - mse: 244.8306\n",
      "Epoch 290/1000\n",
      "2/2 [==============================] - 0s 8ms/step - loss: 16.5391 - mse: 366.5719\n",
      "Epoch 291/1000\n",
      "2/2 [==============================] - 0s 6ms/step - loss: 16.8017 - mse: 414.8176\n",
      "Epoch 292/1000\n",
      "2/2 [==============================] - 0s 5ms/step - loss: 9.4642 - mse: 213.4544\n",
      "Epoch 293/1000\n",
      "2/2 [==============================] - 0s 9ms/step - loss: 15.2711 - mse: 318.1684\n",
      "Epoch 294/1000\n",
      "2/2 [==============================] - 0s 8ms/step - loss: 22.7179 - mse: 780.8712\n",
      "Epoch 295/1000\n",
      "2/2 [==============================] - 0s 7ms/step - loss: 17.9234 - mse: 458.5734\n",
      "Epoch 296/1000\n",
      "2/2 [==============================] - 0s 6ms/step - loss: 6.1743 - mse: 59.0634\n",
      "Epoch 297/1000\n",
      "2/2 [==============================] - 0s 6ms/step - loss: 10.9440 - mse: 254.2861\n",
      "Epoch 298/1000\n",
      "2/2 [==============================] - 0s 6ms/step - loss: 23.1530 - mse: 785.9867\n",
      "Epoch 299/1000\n",
      "2/2 [==============================] - 0s 6ms/step - loss: 17.7331 - mse: 469.9269\n",
      "Epoch 300/1000\n",
      "2/2 [==============================] - 0s 5ms/step - loss: 6.9824 - mse: 65.0503\n",
      "Epoch 301/1000\n",
      "2/2 [==============================] - 0s 6ms/step - loss: 25.1857 - mse: 898.2787\n",
      "Epoch 302/1000\n",
      "2/2 [==============================] - 0s 5ms/step - loss: 8.9025 - mse: 116.0077\n",
      "Epoch 303/1000\n",
      "2/2 [==============================] - 0s 9ms/step - loss: 17.7668 - mse: 461.9372\n",
      "Epoch 304/1000\n",
      "2/2 [==============================] - 0s 8ms/step - loss: 11.0002 - mse: 173.9248\n",
      "Epoch 305/1000\n",
      "2/2 [==============================] - 0s 6ms/step - loss: 12.9191 - mse: 271.8381\n",
      "Epoch 306/1000\n",
      "2/2 [==============================] - 0s 6ms/step - loss: 8.4033 - mse: 94.4444\n",
      "Epoch 307/1000\n",
      "2/2 [==============================] - 0s 6ms/step - loss: 13.6094 - mse: 279.1172\n",
      "Epoch 308/1000\n",
      "2/2 [==============================] - 0s 5ms/step - loss: 7.4404 - mse: 78.3839\n",
      "Epoch 309/1000\n",
      "2/2 [==============================] - 0s 7ms/step - loss: 9.4642 - mse: 138.8857\n",
      "Epoch 310/1000\n",
      "2/2 [==============================] - 0s 5ms/step - loss: 10.7099 - mse: 198.2186\n",
      "Epoch 311/1000\n",
      "2/2 [==============================] - 0s 5ms/step - loss: 13.2814 - mse: 254.2447\n",
      "Epoch 312/1000\n",
      "2/2 [==============================] - 0s 7ms/step - loss: 29.9763 - mse: 1241.6274\n",
      "Epoch 313/1000\n",
      "2/2 [==============================] - 0s 9ms/step - loss: 7.6304 - mse: 104.4100\n",
      "Epoch 314/1000\n",
      "2/2 [==============================] - 0s 5ms/step - loss: 9.9106 - mse: 239.5555\n",
      "Epoch 315/1000\n",
      "2/2 [==============================] - 0s 5ms/step - loss: 23.7669 - mse: 820.7438\n",
      "Epoch 316/1000\n",
      "2/2 [==============================] - 0s 7ms/step - loss: 16.3936 - mse: 404.4794\n",
      "Epoch 317/1000\n",
      "2/2 [==============================] - 0s 6ms/step - loss: 21.0758 - mse: 606.4601\n",
      "Epoch 318/1000\n",
      "2/2 [==============================] - 0s 11ms/step - loss: 7.9367 - mse: 81.3764\n",
      "Epoch 319/1000\n",
      "2/2 [==============================] - 0s 5ms/step - loss: 17.9731 - mse: 479.6088\n",
      "Epoch 320/1000\n",
      "2/2 [==============================] - 0s 5ms/step - loss: 10.2375 - mse: 174.0453\n",
      "Epoch 321/1000\n",
      "2/2 [==============================] - 0s 6ms/step - loss: 8.3338 - mse: 110.8493\n",
      "Epoch 322/1000\n",
      "2/2 [==============================] - 0s 4ms/step - loss: 5.0621 - mse: 39.6195\n",
      "Epoch 323/1000\n",
      "2/2 [==============================] - 0s 8ms/step - loss: 23.5109 - mse: 802.4886\n",
      "Epoch 324/1000\n",
      "2/2 [==============================] - 0s 8ms/step - loss: 6.8309 - mse: 57.6745\n",
      "Epoch 325/1000\n",
      "2/2 [==============================] - 0s 5ms/step - loss: 16.3862 - mse: 384.4402\n",
      "Epoch 326/1000\n",
      "2/2 [==============================] - 0s 6ms/step - loss: 7.5019 - mse: 78.7650\n",
      "Epoch 327/1000\n",
      "2/2 [==============================] - 0s 10ms/step - loss: 20.0573 - mse: 568.8234\n",
      "Epoch 328/1000\n",
      "2/2 [==============================] - 0s 11ms/step - loss: 13.7661 - mse: 265.8647\n",
      "Epoch 329/1000\n",
      "2/2 [==============================] - 0s 6ms/step - loss: 16.8282 - mse: 430.9922\n",
      "Epoch 330/1000\n",
      "2/2 [==============================] - 0s 6ms/step - loss: 7.0514 - mse: 81.9922\n",
      "Epoch 331/1000\n",
      "2/2 [==============================] - 0s 6ms/step - loss: 21.4846 - mse: 704.3914\n",
      "Epoch 332/1000\n",
      "2/2 [==============================] - 0s 5ms/step - loss: 12.2880 - mse: 236.5700\n",
      "Epoch 333/1000\n",
      "2/2 [==============================] - 0s 5ms/step - loss: 11.8117 - mse: 222.0919\n",
      "Epoch 334/1000\n",
      "2/2 [==============================] - 0s 5ms/step - loss: 8.3600 - mse: 169.8893\n",
      "Epoch 335/1000\n",
      "2/2 [==============================] - 0s 8ms/step - loss: 12.4833 - mse: 276.8588\n",
      "Epoch 336/1000\n",
      "2/2 [==============================] - 0s 4ms/step - loss: 32.2171 - mse: 1416.1729\n",
      "Epoch 337/1000\n",
      "2/2 [==============================] - 0s 7ms/step - loss: 10.4477 - mse: 180.3260\n",
      "Epoch 338/1000\n",
      "2/2 [==============================] - 0s 9ms/step - loss: 19.6832 - mse: 573.4711\n",
      "Epoch 339/1000\n",
      "2/2 [==============================] - 0s 5ms/step - loss: 35.0762 - mse: 1849.1533\n",
      "Epoch 340/1000\n",
      "2/2 [==============================] - 0s 5ms/step - loss: 10.4192 - mse: 181.4144\n",
      "Epoch 341/1000\n",
      "2/2 [==============================] - 0s 5ms/step - loss: 9.7625 - mse: 156.3228\n",
      "Epoch 342/1000\n",
      "2/2 [==============================] - 0s 10ms/step - loss: 11.9500 - mse: 188.5579\n",
      "Epoch 343/1000\n",
      "2/2 [==============================] - 0s 5ms/step - loss: 9.3943 - mse: 145.3950\n",
      "Epoch 344/1000\n",
      "2/2 [==============================] - 0s 5ms/step - loss: 5.6071 - mse: 44.6761\n",
      "Epoch 345/1000\n",
      "2/2 [==============================] - 0s 7ms/step - loss: 37.4875 - mse: 2291.7778\n",
      "Epoch 346/1000\n",
      "2/2 [==============================] - 0s 5ms/step - loss: 16.8830 - mse: 411.1349\n",
      "Epoch 347/1000\n",
      "2/2 [==============================] - 0s 11ms/step - loss: 12.8748 - mse: 281.5981\n",
      "Epoch 348/1000\n",
      "2/2 [==============================] - 0s 8ms/step - loss: 8.1960 - mse: 162.6962\n",
      "Epoch 349/1000\n",
      "2/2 [==============================] - 0s 8ms/step - loss: 13.5568 - mse: 261.1368\n",
      "Epoch 350/1000\n",
      "2/2 [==============================] - 0s 7ms/step - loss: 15.4354 - mse: 333.2083\n",
      "Epoch 351/1000\n",
      "2/2 [==============================] - 0s 9ms/step - loss: 32.9626 - mse: 1524.7935\n",
      "Epoch 352/1000\n",
      "2/2 [==============================] - 0s 7ms/step - loss: 14.2040 - mse: 282.7507\n",
      "Epoch 353/1000\n",
      "2/2 [==============================] - 0s 7ms/step - loss: 15.9196 - mse: 374.1917\n",
      "Epoch 354/1000\n",
      "2/2 [==============================] - 0s 8ms/step - loss: 19.0878 - mse: 534.9773\n",
      "Epoch 355/1000\n",
      "2/2 [==============================] - 0s 8ms/step - loss: 34.1178 - mse: 1782.7012\n",
      "Epoch 356/1000\n",
      "2/2 [==============================] - 0s 6ms/step - loss: 7.6798 - mse: 90.9117\n",
      "Epoch 357/1000\n",
      "2/2 [==============================] - 0s 7ms/step - loss: 25.2286 - mse: 974.0941\n",
      "Epoch 358/1000\n",
      "2/2 [==============================] - 0s 7ms/step - loss: 22.6759 - mse: 742.0934\n",
      "Epoch 359/1000\n",
      "2/2 [==============================] - 0s 6ms/step - loss: 8.8765 - mse: 198.2590\n",
      "Epoch 360/1000\n",
      "2/2 [==============================] - 0s 5ms/step - loss: 21.4709 - mse: 687.3279\n",
      "Epoch 361/1000\n",
      "2/2 [==============================] - 0s 8ms/step - loss: 20.6073 - mse: 616.7941\n",
      "Epoch 362/1000\n",
      "2/2 [==============================] - 0s 5ms/step - loss: 7.0611 - mse: 69.3817\n",
      "Epoch 363/1000\n",
      "2/2 [==============================] - 0s 10ms/step - loss: 25.8117 - mse: 994.8185\n",
      "Epoch 364/1000\n",
      "2/2 [==============================] - 0s 5ms/step - loss: 32.2247 - mse: 1527.6057\n",
      "Epoch 365/1000\n",
      "2/2 [==============================] - 0s 7ms/step - loss: 10.0204 - mse: 161.6847\n",
      "Epoch 366/1000\n",
      "2/2 [==============================] - 0s 5ms/step - loss: 9.6722 - mse: 227.5722\n",
      "Epoch 367/1000\n",
      "2/2 [==============================] - 0s 6ms/step - loss: 30.4171 - mse: 1294.6047\n",
      "Epoch 368/1000\n",
      "2/2 [==============================] - 0s 6ms/step - loss: 10.5020 - mse: 236.3134\n",
      "Epoch 369/1000\n",
      "2/2 [==============================] - 0s 5ms/step - loss: 14.9909 - mse: 330.8544\n",
      "Epoch 370/1000\n",
      "2/2 [==============================] - 0s 5ms/step - loss: 14.6580 - mse: 308.0736\n",
      "Epoch 371/1000\n",
      "2/2 [==============================] - 0s 5ms/step - loss: 23.3672 - mse: 789.0358\n",
      "Epoch 372/1000\n",
      "2/2 [==============================] - 0s 6ms/step - loss: 13.1025 - mse: 290.2267\n",
      "Epoch 373/1000\n",
      "2/2 [==============================] - 0s 5ms/step - loss: 9.2586 - mse: 140.7051\n",
      "Epoch 374/1000\n",
      "2/2 [==============================] - 0s 5ms/step - loss: 9.6648 - mse: 194.1146\n",
      "Epoch 375/1000\n",
      "2/2 [==============================] - 0s 6ms/step - loss: 13.0041 - mse: 237.9868\n",
      "Epoch 376/1000\n",
      "2/2 [==============================] - 0s 6ms/step - loss: 14.8863 - mse: 324.7538\n",
      "Epoch 377/1000\n",
      "2/2 [==============================] - 0s 10ms/step - loss: 14.7932 - mse: 297.2056\n",
      "Epoch 378/1000\n",
      "2/2 [==============================] - 0s 6ms/step - loss: 16.2751 - mse: 418.5635\n",
      "Epoch 379/1000\n",
      "2/2 [==============================] - 0s 10ms/step - loss: 20.8307 - mse: 596.8136\n",
      "Epoch 380/1000\n",
      "2/2 [==============================] - 0s 5ms/step - loss: 33.5317 - mse: 1684.8926\n",
      "Epoch 381/1000\n",
      "2/2 [==============================] - 0s 4ms/step - loss: 8.2166 - mse: 100.6384\n",
      "Epoch 382/1000\n",
      "2/2 [==============================] - 0s 6ms/step - loss: 13.0959 - mse: 282.0380\n",
      "Epoch 383/1000\n",
      "2/2 [==============================] - 0s 5ms/step - loss: 8.3999 - mse: 126.0928\n",
      "Epoch 384/1000\n",
      "2/2 [==============================] - 0s 4ms/step - loss: 7.1283 - mse: 72.4398\n",
      "Epoch 385/1000\n",
      "2/2 [==============================] - 0s 5ms/step - loss: 10.9391 - mse: 249.4375\n",
      "Epoch 386/1000\n",
      "2/2 [==============================] - 0s 5ms/step - loss: 19.7654 - mse: 601.5797\n",
      "Epoch 387/1000\n",
      "2/2 [==============================] - 0s 9ms/step - loss: 24.8625 - mse: 896.3683\n",
      "Epoch 388/1000\n",
      "2/2 [==============================] - 0s 8ms/step - loss: 8.7422 - mse: 128.0916\n",
      "Epoch 389/1000\n",
      "2/2 [==============================] - 0s 8ms/step - loss: 5.9488 - mse: 48.1567\n",
      "Epoch 390/1000\n",
      "2/2 [==============================] - 0s 5ms/step - loss: 24.4400 - mse: 881.1030\n",
      "Epoch 391/1000\n",
      "2/2 [==============================] - 0s 5ms/step - loss: 5.9771 - mse: 73.2800\n",
      "Epoch 392/1000\n",
      "2/2 [==============================] - 0s 9ms/step - loss: 16.3250 - mse: 379.2589\n",
      "Epoch 393/1000\n",
      "2/2 [==============================] - 0s 6ms/step - loss: 6.0917 - mse: 76.7833\n",
      "Epoch 394/1000\n",
      "2/2 [==============================] - 0s 7ms/step - loss: 11.0963 - mse: 204.7648\n",
      "Epoch 395/1000\n",
      "2/2 [==============================] - 0s 7ms/step - loss: 14.9601 - mse: 336.1562\n",
      "Epoch 396/1000\n",
      "2/2 [==============================] - 0s 7ms/step - loss: 7.6462 - mse: 103.3247\n",
      "Epoch 397/1000\n",
      "2/2 [==============================] - 0s 6ms/step - loss: 8.7654 - mse: 136.5432\n",
      "Epoch 398/1000\n",
      "2/2 [==============================] - 0s 5ms/step - loss: 14.5991 - mse: 320.4533\n",
      "Epoch 399/1000\n",
      "2/2 [==============================] - 0s 5ms/step - loss: 11.3166 - mse: 280.6887\n",
      "Epoch 400/1000\n",
      "2/2 [==============================] - 0s 5ms/step - loss: 21.9080 - mse: 741.3465\n",
      "Epoch 401/1000\n",
      "2/2 [==============================] - 0s 5ms/step - loss: 14.8653 - mse: 348.6716\n",
      "Epoch 402/1000\n",
      "2/2 [==============================] - 0s 5ms/step - loss: 8.4970 - mse: 115.5853\n",
      "Epoch 403/1000\n",
      "2/2 [==============================] - 0s 6ms/step - loss: 10.3957 - mse: 191.0401\n",
      "Epoch 404/1000\n",
      "2/2 [==============================] - 0s 5ms/step - loss: 10.2556 - mse: 207.5717\n",
      "Epoch 405/1000\n",
      "2/2 [==============================] - 0s 5ms/step - loss: 6.3392 - mse: 68.2857\n",
      "Epoch 406/1000\n",
      "2/2 [==============================] - 0s 6ms/step - loss: 17.4602 - mse: 460.2043\n",
      "Epoch 407/1000\n",
      "2/2 [==============================] - 0s 5ms/step - loss: 11.4627 - mse: 284.7275\n",
      "Epoch 408/1000\n",
      "2/2 [==============================] - 0s 13ms/step - loss: 20.7294 - mse: 662.1503\n",
      "Epoch 409/1000\n",
      "2/2 [==============================] - 0s 8ms/step - loss: 31.3338 - mse: 1522.7665\n",
      "Epoch 410/1000\n",
      "2/2 [==============================] - 0s 6ms/step - loss: 9.2542 - mse: 221.9485\n",
      "Epoch 411/1000\n",
      "2/2 [==============================] - 0s 6ms/step - loss: 14.8621 - mse: 285.8416\n",
      "Epoch 412/1000\n",
      "2/2 [==============================] - 0s 6ms/step - loss: 21.7182 - mse: 721.0394\n",
      "Epoch 413/1000\n",
      "2/2 [==============================] - 0s 6ms/step - loss: 12.6615 - mse: 248.9691\n",
      "Epoch 414/1000\n",
      "2/2 [==============================] - 0s 7ms/step - loss: 6.0687 - mse: 88.3708\n",
      "Epoch 415/1000\n",
      "2/2 [==============================] - 0s 6ms/step - loss: 13.2201 - mse: 239.8954\n",
      "Epoch 416/1000\n",
      "2/2 [==============================] - 0s 9ms/step - loss: 27.4244 - mse: 1037.9583\n",
      "Epoch 417/1000\n",
      "2/2 [==============================] - 0s 6ms/step - loss: 10.6407 - mse: 207.4819\n",
      "Epoch 418/1000\n",
      "2/2 [==============================] - 0s 8ms/step - loss: 12.8230 - mse: 236.7907\n",
      "Epoch 419/1000\n",
      "2/2 [==============================] - 0s 6ms/step - loss: 15.8836 - mse: 374.5484\n",
      "Epoch 420/1000\n",
      "2/2 [==============================] - 0s 5ms/step - loss: 24.7510 - mse: 849.5331\n",
      "Epoch 421/1000\n",
      "2/2 [==============================] - 0s 5ms/step - loss: 17.3753 - mse: 444.1827\n",
      "Epoch 422/1000\n",
      "2/2 [==============================] - 0s 5ms/step - loss: 7.8241 - mse: 157.5327\n",
      "Epoch 423/1000\n",
      "2/2 [==============================] - 0s 11ms/step - loss: 25.3789 - mse: 907.6141\n",
      "Epoch 424/1000\n",
      "2/2 [==============================] - 0s 8ms/step - loss: 15.1031 - mse: 369.3289\n",
      "Epoch 425/1000\n",
      "2/2 [==============================] - 0s 8ms/step - loss: 7.1643 - mse: 75.3718\n",
      "Epoch 426/1000\n",
      "2/2 [==============================] - 0s 8ms/step - loss: 20.3318 - mse: 572.0350\n",
      "Epoch 427/1000\n",
      "2/2 [==============================] - 0s 6ms/step - loss: 6.3283 - mse: 84.9745\n",
      "Epoch 428/1000\n",
      "2/2 [==============================] - 0s 6ms/step - loss: 12.9961 - mse: 288.4218\n",
      "Epoch 429/1000\n",
      "2/2 [==============================] - 0s 8ms/step - loss: 10.7869 - mse: 192.7742\n",
      "Epoch 430/1000\n",
      "2/2 [==============================] - 0s 8ms/step - loss: 11.4007 - mse: 248.2724\n",
      "Epoch 431/1000\n",
      "2/2 [==============================] - 0s 7ms/step - loss: 10.6152 - mse: 218.3398\n",
      "Epoch 432/1000\n",
      "2/2 [==============================] - 0s 9ms/step - loss: 11.4582 - mse: 239.2198\n",
      "Epoch 433/1000\n",
      "2/2 [==============================] - 0s 8ms/step - loss: 11.3851 - mse: 296.6782\n",
      "Epoch 434/1000\n",
      "2/2 [==============================] - 0s 15ms/step - loss: 30.3986 - mse: 1296.5632\n",
      "Epoch 435/1000\n",
      "2/2 [==============================] - 0s 8ms/step - loss: 10.5052 - mse: 283.6812\n",
      "Epoch 436/1000\n",
      "2/2 [==============================] - 0s 10ms/step - loss: 28.8810 - mse: 1216.2338\n",
      "Epoch 437/1000\n",
      "2/2 [==============================] - 0s 7ms/step - loss: 8.5916 - mse: 209.5433\n",
      "Epoch 438/1000\n",
      "2/2 [==============================] - 0s 9ms/step - loss: 12.7378 - mse: 264.4511\n",
      "Epoch 439/1000\n",
      "2/2 [==============================] - 0s 6ms/step - loss: 33.6754 - mse: 1570.2360\n",
      "Epoch 440/1000\n",
      "2/2 [==============================] - 0s 10ms/step - loss: 15.0963 - mse: 294.7131\n",
      "Epoch 441/1000\n",
      "2/2 [==============================] - 0s 9ms/step - loss: 17.4813 - mse: 487.0571\n",
      "Epoch 442/1000\n",
      "2/2 [==============================] - 0s 8ms/step - loss: 22.3049 - mse: 750.9304\n",
      "Epoch 443/1000\n",
      "2/2 [==============================] - 0s 7ms/step - loss: 23.5841 - mse: 784.1384\n",
      "Epoch 444/1000\n",
      "2/2 [==============================] - 0s 15ms/step - loss: 11.0008 - mse: 203.7584\n",
      "Epoch 445/1000\n",
      "2/2 [==============================] - 0s 7ms/step - loss: 14.9175 - mse: 316.4789\n",
      "Epoch 446/1000\n",
      "2/2 [==============================] - 0s 11ms/step - loss: 17.9979 - mse: 515.1711\n",
      "Epoch 447/1000\n",
      "2/2 [==============================] - 0s 9ms/step - loss: 5.4482 - mse: 51.4485\n",
      "Epoch 448/1000\n",
      "2/2 [==============================] - 0s 7ms/step - loss: 10.0527 - mse: 253.4829\n",
      "Epoch 449/1000\n",
      "2/2 [==============================] - 0s 6ms/step - loss: 14.0052 - mse: 277.3353\n",
      "Epoch 450/1000\n",
      "2/2 [==============================] - 0s 7ms/step - loss: 16.7782 - mse: 424.4228\n",
      "Epoch 451/1000\n",
      "2/2 [==============================] - 0s 9ms/step - loss: 14.2937 - mse: 303.4477\n",
      "Epoch 452/1000\n",
      "2/2 [==============================] - 0s 9ms/step - loss: 30.6193 - mse: 1329.8265\n",
      "Epoch 453/1000\n",
      "2/2 [==============================] - 0s 8ms/step - loss: 7.6541 - mse: 159.0377\n",
      "Epoch 454/1000\n",
      "2/2 [==============================] - 0s 6ms/step - loss: 28.1428 - mse: 1104.4141\n",
      "Epoch 455/1000\n",
      "2/2 [==============================] - 0s 5ms/step - loss: 8.0017 - mse: 119.3275\n",
      "Epoch 456/1000\n",
      "2/2 [==============================] - 0s 7ms/step - loss: 10.3933 - mse: 289.6392\n",
      "Epoch 457/1000\n",
      "2/2 [==============================] - 0s 7ms/step - loss: 15.0242 - mse: 318.3535\n",
      "Epoch 458/1000\n",
      "2/2 [==============================] - 0s 6ms/step - loss: 16.5653 - mse: 439.8006\n",
      "Epoch 459/1000\n",
      "2/2 [==============================] - 0s 7ms/step - loss: 26.8566 - mse: 1033.5485\n",
      "Epoch 460/1000\n",
      "2/2 [==============================] - 0s 6ms/step - loss: 12.4852 - mse: 251.1162\n",
      "Epoch 461/1000\n",
      "2/2 [==============================] - 0s 7ms/step - loss: 12.4784 - mse: 272.9072\n",
      "Epoch 462/1000\n",
      "2/2 [==============================] - 0s 7ms/step - loss: 13.3186 - mse: 245.2334\n",
      "Epoch 463/1000\n",
      "2/2 [==============================] - 0s 7ms/step - loss: 29.5524 - mse: 1219.8658\n",
      "Epoch 464/1000\n",
      "2/2 [==============================] - 0s 7ms/step - loss: 3.4664 - mse: 22.0145\n",
      "Epoch 465/1000\n",
      "2/2 [==============================] - 0s 6ms/step - loss: 15.2136 - mse: 352.9367\n",
      "Epoch 466/1000\n",
      "2/2 [==============================] - 0s 6ms/step - loss: 20.8327 - mse: 651.1591\n",
      "Epoch 467/1000\n",
      "2/2 [==============================] - 0s 6ms/step - loss: 30.5108 - mse: 1421.0021\n",
      "Epoch 468/1000\n",
      "2/2 [==============================] - 0s 6ms/step - loss: 11.0597 - mse: 236.2267\n",
      "Epoch 469/1000\n",
      "2/2 [==============================] - 0s 6ms/step - loss: 12.8372 - mse: 278.2046\n",
      "Epoch 470/1000\n",
      "2/2 [==============================] - 0s 7ms/step - loss: 3.2398 - mse: 14.0655\n",
      "Epoch 471/1000\n",
      "2/2 [==============================] - 0s 9ms/step - loss: 16.6964 - mse: 372.9565\n",
      "Epoch 472/1000\n",
      "2/2 [==============================] - 0s 7ms/step - loss: 13.3883 - mse: 253.4232\n",
      "Epoch 473/1000\n",
      "2/2 [==============================] - 0s 7ms/step - loss: 15.2771 - mse: 396.6107\n",
      "Epoch 474/1000\n",
      "2/2 [==============================] - 0s 7ms/step - loss: 11.7448 - mse: 305.3250\n",
      "Epoch 475/1000\n",
      "2/2 [==============================] - 0s 7ms/step - loss: 16.4113 - mse: 397.1612\n",
      "Epoch 476/1000\n",
      "2/2 [==============================] - 0s 6ms/step - loss: 13.8785 - mse: 273.7976\n",
      "Epoch 477/1000\n",
      "2/2 [==============================] - 0s 6ms/step - loss: 30.6702 - mse: 1309.4624\n",
      "Epoch 478/1000\n",
      "2/2 [==============================] - 0s 6ms/step - loss: 8.5880 - mse: 188.9073\n",
      "Epoch 479/1000\n",
      "2/2 [==============================] - 0s 10ms/step - loss: 10.7384 - mse: 261.5204\n",
      "Epoch 480/1000\n",
      "2/2 [==============================] - 0s 7ms/step - loss: 17.9051 - mse: 484.4154\n",
      "Epoch 481/1000\n",
      "2/2 [==============================] - 0s 7ms/step - loss: 15.8095 - mse: 368.1044\n",
      "Epoch 482/1000\n",
      "2/2 [==============================] - 0s 6ms/step - loss: 21.3054 - mse: 698.1635\n",
      "Epoch 483/1000\n",
      "2/2 [==============================] - 0s 6ms/step - loss: 25.3845 - mse: 955.1252\n",
      "Epoch 484/1000\n",
      "2/2 [==============================] - 0s 8ms/step - loss: 23.9815 - mse: 811.2784\n",
      "Epoch 485/1000\n",
      "2/2 [==============================] - 0s 5ms/step - loss: 5.7734 - mse: 53.7612\n",
      "Epoch 486/1000\n",
      "2/2 [==============================] - 0s 5ms/step - loss: 20.0010 - mse: 565.2877\n",
      "Epoch 487/1000\n",
      "2/2 [==============================] - 0s 7ms/step - loss: 14.0419 - mse: 286.2685\n",
      "Epoch 488/1000\n",
      "2/2 [==============================] - 0s 6ms/step - loss: 30.6088 - mse: 1334.5730\n",
      "Epoch 489/1000\n",
      "2/2 [==============================] - 0s 9ms/step - loss: 11.9409 - mse: 237.4729\n",
      "Epoch 490/1000\n",
      "2/2 [==============================] - 0s 5ms/step - loss: 12.7352 - mse: 252.5674\n",
      "Epoch 491/1000\n",
      "2/2 [==============================] - 0s 7ms/step - loss: 23.6139 - mse: 837.7736\n",
      "Epoch 492/1000\n",
      "2/2 [==============================] - 0s 7ms/step - loss: 20.5365 - mse: 592.2184\n",
      "Epoch 493/1000\n",
      "2/2 [==============================] - 0s 7ms/step - loss: 4.9942 - mse: 48.0282\n",
      "Epoch 494/1000\n",
      "2/2 [==============================] - 0s 6ms/step - loss: 12.7986 - mse: 247.7646\n",
      "Epoch 495/1000\n",
      "2/2 [==============================] - 0s 8ms/step - loss: 13.3772 - mse: 239.0901\n",
      "Epoch 496/1000\n",
      "2/2 [==============================] - 0s 8ms/step - loss: 12.6727 - mse: 241.5637\n",
      "Epoch 497/1000\n",
      "2/2 [==============================] - 0s 7ms/step - loss: 17.6192 - mse: 515.3861\n",
      "Epoch 498/1000\n",
      "2/2 [==============================] - 0s 8ms/step - loss: 23.5629 - mse: 816.5496\n",
      "Epoch 499/1000\n",
      "2/2 [==============================] - 0s 8ms/step - loss: 9.3755 - mse: 136.1006\n",
      "Epoch 500/1000\n",
      "2/2 [==============================] - 0s 8ms/step - loss: 14.6316 - mse: 295.2644\n",
      "Epoch 501/1000\n",
      "2/2 [==============================] - 0s 8ms/step - loss: 31.8838 - mse: 1417.6599\n",
      "Epoch 502/1000\n",
      "2/2 [==============================] - 0s 9ms/step - loss: 12.8727 - mse: 271.7601\n",
      "Epoch 503/1000\n",
      "2/2 [==============================] - 0s 7ms/step - loss: 13.5870 - mse: 248.4847\n",
      "Epoch 504/1000\n",
      "2/2 [==============================] - 0s 7ms/step - loss: 31.7228 - mse: 1389.6350\n",
      "Epoch 505/1000\n",
      "2/2 [==============================] - 0s 9ms/step - loss: 11.8585 - mse: 241.8341\n",
      "Epoch 506/1000\n",
      "2/2 [==============================] - 0s 7ms/step - loss: 15.7879 - mse: 325.0957\n",
      "Epoch 507/1000\n",
      "2/2 [==============================] - 0s 8ms/step - loss: 14.4441 - mse: 284.0158\n",
      "Epoch 508/1000\n",
      "2/2 [==============================] - 0s 6ms/step - loss: 26.9703 - mse: 1015.7788\n",
      "Epoch 509/1000\n",
      "2/2 [==============================] - 0s 6ms/step - loss: 10.2474 - mse: 231.5237\n",
      "Epoch 510/1000\n",
      "2/2 [==============================] - 0s 6ms/step - loss: 10.7967 - mse: 241.0750\n",
      "Epoch 511/1000\n",
      "2/2 [==============================] - 0s 6ms/step - loss: 5.1599 - mse: 37.1006\n",
      "Epoch 512/1000\n",
      "2/2 [==============================] - 0s 10ms/step - loss: 28.3840 - mse: 1127.6453\n",
      "Epoch 513/1000\n",
      "2/2 [==============================] - 0s 7ms/step - loss: 11.8070 - mse: 282.2767\n",
      "Epoch 514/1000\n",
      "2/2 [==============================] - 0s 5ms/step - loss: 27.8940 - mse: 1107.7900\n",
      "Epoch 515/1000\n",
      "2/2 [==============================] - 0s 6ms/step - loss: 10.6709 - mse: 202.8585\n",
      "Epoch 516/1000\n",
      "2/2 [==============================] - 0s 7ms/step - loss: 12.7672 - mse: 260.8982\n",
      "Epoch 517/1000\n",
      "2/2 [==============================] - 0s 7ms/step - loss: 22.8182 - mse: 783.3857\n",
      "Epoch 518/1000\n",
      "2/2 [==============================] - 0s 5ms/step - loss: 17.7362 - mse: 438.4775\n",
      "Epoch 519/1000\n",
      "2/2 [==============================] - 0s 6ms/step - loss: 3.3515 - mse: 15.6734\n",
      "Epoch 520/1000\n",
      "2/2 [==============================] - 0s 5ms/step - loss: 17.1426 - mse: 420.2981\n",
      "Epoch 521/1000\n",
      "2/2 [==============================] - 0s 6ms/step - loss: 17.1019 - mse: 473.4715\n",
      "Epoch 522/1000\n",
      "2/2 [==============================] - 0s 4ms/step - loss: 21.1477 - mse: 693.6217\n",
      "Epoch 523/1000\n",
      "2/2 [==============================] - 0s 5ms/step - loss: 22.3164 - mse: 710.7736\n",
      "Epoch 524/1000\n",
      "2/2 [==============================] - 0s 5ms/step - loss: 6.0798 - mse: 72.5027\n",
      "Epoch 525/1000\n",
      "2/2 [==============================] - 0s 5ms/step - loss: 15.7813 - mse: 375.6719\n",
      "Epoch 526/1000\n",
      "2/2 [==============================] - 0s 4ms/step - loss: 14.0604 - mse: 299.4685\n",
      "Epoch 527/1000\n",
      "2/2 [==============================] - 0s 8ms/step - loss: 11.7717 - mse: 202.4690\n",
      "Epoch 528/1000\n",
      "2/2 [==============================] - 0s 8ms/step - loss: 16.0251 - mse: 410.9959\n",
      "Epoch 529/1000\n",
      "2/2 [==============================] - 0s 10ms/step - loss: 17.4992 - mse: 483.8591\n",
      "Epoch 530/1000\n",
      "2/2 [==============================] - 0s 5ms/step - loss: 12.8195 - mse: 230.0497\n",
      "Epoch 531/1000\n",
      "2/2 [==============================] - 0s 6ms/step - loss: 12.1174 - mse: 239.3289\n",
      "Epoch 532/1000\n",
      "2/2 [==============================] - 0s 5ms/step - loss: 14.4184 - mse: 305.0027\n",
      "Epoch 533/1000\n",
      "2/2 [==============================] - 0s 5ms/step - loss: 18.0878 - mse: 491.6234\n",
      "Epoch 534/1000\n",
      "2/2 [==============================] - 0s 6ms/step - loss: 15.8909 - mse: 341.3052\n",
      "Epoch 535/1000\n",
      "2/2 [==============================] - 0s 8ms/step - loss: 15.6146 - mse: 379.5703\n",
      "Epoch 536/1000\n",
      "2/2 [==============================] - 0s 5ms/step - loss: 17.2107 - mse: 478.9208\n",
      "Epoch 537/1000\n",
      "2/2 [==============================] - 0s 4ms/step - loss: 10.8117 - mse: 226.2445\n",
      "Epoch 538/1000\n",
      "2/2 [==============================] - 0s 5ms/step - loss: 15.2033 - mse: 338.9012\n",
      "Epoch 539/1000\n",
      "2/2 [==============================] - 0s 5ms/step - loss: 15.9600 - mse: 382.0759\n",
      "Epoch 540/1000\n",
      "2/2 [==============================] - 0s 5ms/step - loss: 18.7688 - mse: 567.5944\n",
      "Epoch 541/1000\n",
      "2/2 [==============================] - 0s 4ms/step - loss: 30.7661 - mse: 1376.4836\n",
      "Epoch 542/1000\n",
      "2/2 [==============================] - 0s 5ms/step - loss: 8.4814 - mse: 198.5945\n",
      "Epoch 543/1000\n",
      "2/2 [==============================] - 0s 6ms/step - loss: 17.7662 - mse: 488.1187\n",
      "Epoch 544/1000\n",
      "2/2 [==============================] - 0s 5ms/step - loss: 28.7613 - mse: 1261.4041\n",
      "Epoch 545/1000\n",
      "2/2 [==============================] - 0s 5ms/step - loss: 28.4604 - mse: 1176.3746\n",
      "Epoch 546/1000\n",
      "2/2 [==============================] - 0s 6ms/step - loss: 13.7389 - mse: 303.3295\n",
      "Epoch 547/1000\n",
      "2/2 [==============================] - 0s 5ms/step - loss: 5.4171 - mse: 72.0522\n",
      "Epoch 548/1000\n",
      "2/2 [==============================] - 0s 5ms/step - loss: 21.3092 - mse: 643.2608\n",
      "Epoch 549/1000\n",
      "2/2 [==============================] - 0s 5ms/step - loss: 10.1084 - mse: 234.3040\n",
      "Epoch 550/1000\n",
      "2/2 [==============================] - 0s 4ms/step - loss: 14.2182 - mse: 331.1884\n",
      "Epoch 551/1000\n",
      "2/2 [==============================] - 0s 5ms/step - loss: 15.1105 - mse: 330.6744\n",
      "Epoch 552/1000\n",
      "2/2 [==============================] - 0s 5ms/step - loss: 19.7357 - mse: 653.4756\n",
      "Epoch 553/1000\n",
      "2/2 [==============================] - 0s 13ms/step - loss: 20.4301 - mse: 602.4218\n",
      "Epoch 554/1000\n",
      "2/2 [==============================] - 0s 5ms/step - loss: 5.1077 - mse: 42.5438\n",
      "Epoch 555/1000\n",
      "2/2 [==============================] - 0s 5ms/step - loss: 19.1976 - mse: 530.9003\n",
      "Epoch 556/1000\n",
      "2/2 [==============================] - 0s 5ms/step - loss: 11.2152 - mse: 227.4886\n",
      "Epoch 557/1000\n",
      "2/2 [==============================] - 0s 6ms/step - loss: 10.7687 - mse: 322.0122\n",
      "Epoch 558/1000\n",
      "2/2 [==============================] - 0s 9ms/step - loss: 26.1122 - mse: 1008.2998\n",
      "Epoch 559/1000\n",
      "2/2 [==============================] - 0s 5ms/step - loss: 13.0434 - mse: 253.7710\n",
      "Epoch 560/1000\n",
      "2/2 [==============================] - 0s 5ms/step - loss: 9.2458 - mse: 176.8981\n",
      "Epoch 561/1000\n",
      "2/2 [==============================] - 0s 11ms/step - loss: 11.3686 - mse: 253.6088\n",
      "Epoch 562/1000\n",
      "2/2 [==============================] - 0s 6ms/step - loss: 14.3786 - mse: 280.2739\n",
      "Epoch 563/1000\n",
      "2/2 [==============================] - 0s 16ms/step - loss: 21.8054 - mse: 734.8571\n",
      "Epoch 564/1000\n",
      "2/2 [==============================] - 0s 10ms/step - loss: 19.0018 - mse: 501.8813\n",
      "Epoch 565/1000\n",
      "2/2 [==============================] - 0s 6ms/step - loss: 19.3076 - mse: 542.1762\n",
      "Epoch 566/1000\n",
      "2/2 [==============================] - 0s 6ms/step - loss: 4.4976 - mse: 33.6828\n",
      "Epoch 567/1000\n",
      "2/2 [==============================] - 0s 7ms/step - loss: 14.4301 - mse: 335.1318\n",
      "Epoch 568/1000\n",
      "2/2 [==============================] - 0s 6ms/step - loss: 7.0127 - mse: 146.8878\n",
      "Epoch 569/1000\n",
      "2/2 [==============================] - 0s 7ms/step - loss: 15.7412 - mse: 399.8151\n",
      "Epoch 570/1000\n",
      "2/2 [==============================] - 0s 7ms/step - loss: 14.7101 - mse: 357.8241\n",
      "Epoch 571/1000\n",
      "2/2 [==============================] - 0s 7ms/step - loss: 21.2084 - mse: 637.6923\n",
      "Epoch 572/1000\n",
      "2/2 [==============================] - 0s 14ms/step - loss: 30.6321 - mse: 1410.7937\n",
      "Epoch 573/1000\n",
      "2/2 [==============================] - 0s 7ms/step - loss: 5.9723 - mse: 59.4484\n",
      "Epoch 574/1000\n",
      "2/2 [==============================] - 0s 7ms/step - loss: 15.5197 - mse: 355.9360\n",
      "Epoch 575/1000\n",
      "2/2 [==============================] - 0s 7ms/step - loss: 10.7908 - mse: 237.8591\n",
      "Epoch 576/1000\n",
      "2/2 [==============================] - 0s 6ms/step - loss: 13.9771 - mse: 274.3844\n",
      "Epoch 577/1000\n",
      "2/2 [==============================] - 0s 7ms/step - loss: 18.9601 - mse: 586.7557\n",
      "Epoch 578/1000\n",
      "2/2 [==============================] - 0s 6ms/step - loss: 14.5669 - mse: 324.7278\n",
      "Epoch 579/1000\n",
      "2/2 [==============================] - 0s 7ms/step - loss: 9.1443 - mse: 314.4232\n",
      "Epoch 580/1000\n",
      "2/2 [==============================] - 0s 6ms/step - loss: 17.0618 - mse: 473.9032\n",
      "Epoch 581/1000\n",
      "2/2 [==============================] - 0s 6ms/step - loss: 13.0262 - mse: 244.6093\n",
      "Epoch 582/1000\n",
      "2/2 [==============================] - 0s 7ms/step - loss: 19.3733 - mse: 593.5018\n",
      "Epoch 583/1000\n",
      "2/2 [==============================] - 0s 9ms/step - loss: 26.6078 - mse: 1033.5010\n",
      "Epoch 584/1000\n",
      "2/2 [==============================] - 0s 7ms/step - loss: 25.9736 - mse: 1003.5430\n",
      "Epoch 585/1000\n",
      "2/2 [==============================] - 0s 5ms/step - loss: 5.9026 - mse: 67.8048\n",
      "Epoch 586/1000\n",
      "2/2 [==============================] - 0s 7ms/step - loss: 11.2607 - mse: 241.4921\n",
      "Epoch 587/1000\n",
      "2/2 [==============================] - 0s 7ms/step - loss: 9.2943 - mse: 232.6769\n",
      "Epoch 588/1000\n",
      "2/2 [==============================] - 0s 8ms/step - loss: 15.8688 - mse: 352.5600\n",
      "Epoch 589/1000\n",
      "2/2 [==============================] - 0s 6ms/step - loss: 20.0708 - mse: 623.7197\n",
      "Epoch 590/1000\n",
      "2/2 [==============================] - 0s 5ms/step - loss: 16.6270 - mse: 385.7862\n",
      "Epoch 591/1000\n",
      "2/2 [==============================] - 0s 5ms/step - loss: 14.2684 - mse: 276.8519\n",
      "Epoch 592/1000\n",
      "2/2 [==============================] - 0s 5ms/step - loss: 25.1798 - mse: 899.5018\n",
      "Epoch 593/1000\n",
      "2/2 [==============================] - 0s 5ms/step - loss: 18.5215 - mse: 483.5841\n",
      "Epoch 594/1000\n",
      "2/2 [==============================] - 0s 9ms/step - loss: 6.4868 - mse: 88.0281\n",
      "Epoch 595/1000\n",
      "2/2 [==============================] - 0s 6ms/step - loss: 25.3214 - mse: 951.6523\n",
      "Epoch 596/1000\n",
      "2/2 [==============================] - 0s 9ms/step - loss: 5.0154 - mse: 42.0967\n",
      "Epoch 597/1000\n",
      "2/2 [==============================] - 0s 5ms/step - loss: 28.1203 - mse: 1119.6731\n",
      "Epoch 598/1000\n",
      "2/2 [==============================] - 0s 6ms/step - loss: 13.7321 - mse: 271.6442\n",
      "Epoch 599/1000\n",
      "2/2 [==============================] - 0s 5ms/step - loss: 13.9845 - mse: 310.6107\n",
      "Epoch 600/1000\n",
      "2/2 [==============================] - 0s 5ms/step - loss: 31.9258 - mse: 1434.7153\n",
      "Epoch 601/1000\n",
      "2/2 [==============================] - 0s 5ms/step - loss: 11.2492 - mse: 232.2332\n",
      "Epoch 602/1000\n",
      "2/2 [==============================] - 0s 5ms/step - loss: 16.1090 - mse: 390.9737\n",
      "Epoch 603/1000\n",
      "2/2 [==============================] - 0s 6ms/step - loss: 14.2536 - mse: 266.9394\n",
      "Epoch 604/1000\n",
      "2/2 [==============================] - 0s 6ms/step - loss: 30.6759 - mse: 1325.9398\n",
      "Epoch 605/1000\n",
      "2/2 [==============================] - 0s 6ms/step - loss: 9.7909 - mse: 273.0489\n",
      "Epoch 606/1000\n",
      "2/2 [==============================] - 0s 6ms/step - loss: 22.9784 - mse: 782.0552\n",
      "Epoch 607/1000\n",
      "2/2 [==============================] - 0s 6ms/step - loss: 22.3940 - mse: 721.8156\n",
      "Epoch 608/1000\n",
      "2/2 [==============================] - 0s 6ms/step - loss: 9.6821 - mse: 279.7121\n",
      "Epoch 609/1000\n",
      "2/2 [==============================] - 0s 5ms/step - loss: 27.4409 - mse: 1034.0920\n",
      "Epoch 610/1000\n",
      "2/2 [==============================] - 0s 6ms/step - loss: 15.2357 - mse: 352.2817\n",
      "Epoch 611/1000\n",
      "2/2 [==============================] - 0s 6ms/step - loss: 12.1344 - mse: 291.8588\n",
      "Epoch 612/1000\n",
      "2/2 [==============================] - 0s 6ms/step - loss: 16.4358 - mse: 414.0281\n",
      "Epoch 613/1000\n",
      "2/2 [==============================] - 0s 5ms/step - loss: 20.3354 - mse: 619.5653\n",
      "Epoch 614/1000\n",
      "2/2 [==============================] - 0s 5ms/step - loss: 22.5183 - mse: 716.1034\n",
      "Epoch 615/1000\n",
      "2/2 [==============================] - 0s 5ms/step - loss: 9.0939 - mse: 192.3387\n",
      "Epoch 616/1000\n",
      "2/2 [==============================] - 0s 5ms/step - loss: 6.1403 - mse: 74.3368\n",
      "Epoch 617/1000\n",
      "2/2 [==============================] - 0s 6ms/step - loss: 26.8657 - mse: 1054.2643\n",
      "Epoch 618/1000\n",
      "2/2 [==============================] - 0s 6ms/step - loss: 7.0130 - mse: 102.0789\n",
      "Epoch 619/1000\n",
      "2/2 [==============================] - 0s 7ms/step - loss: 25.9782 - mse: 991.9791\n",
      "Epoch 620/1000\n",
      "2/2 [==============================] - 0s 5ms/step - loss: 15.0370 - mse: 355.7604\n",
      "Epoch 621/1000\n",
      "2/2 [==============================] - 0s 7ms/step - loss: 11.9368 - mse: 239.9028\n",
      "Epoch 622/1000\n",
      "2/2 [==============================] - 0s 7ms/step - loss: 11.9101 - mse: 324.4868\n",
      "Epoch 623/1000\n",
      "2/2 [==============================] - 0s 7ms/step - loss: 18.7568 - mse: 545.1697\n",
      "Epoch 624/1000\n",
      "2/2 [==============================] - 0s 7ms/step - loss: 2.5714 - mse: 9.2241\n",
      "Epoch 625/1000\n",
      "2/2 [==============================] - 0s 7ms/step - loss: 17.1613 - mse: 473.3330\n",
      "Epoch 626/1000\n",
      "2/2 [==============================] - 0s 8ms/step - loss: 18.9688 - mse: 568.1428\n",
      "Epoch 627/1000\n",
      "2/2 [==============================] - 0s 9ms/step - loss: 36.2217 - mse: 2026.8943\n",
      "Epoch 628/1000\n",
      "2/2 [==============================] - 0s 9ms/step - loss: 12.3003 - mse: 258.8776\n",
      "Epoch 629/1000\n",
      "2/2 [==============================] - 0s 6ms/step - loss: 9.9530 - mse: 245.5752\n",
      "Epoch 630/1000\n",
      "2/2 [==============================] - 0s 6ms/step - loss: 10.0078 - mse: 279.2449\n",
      "Epoch 631/1000\n",
      "2/2 [==============================] - 0s 6ms/step - loss: 15.4128 - mse: 377.2873\n",
      "Epoch 632/1000\n",
      "2/2 [==============================] - 0s 5ms/step - loss: 23.6786 - mse: 819.9323\n",
      "Epoch 633/1000\n",
      "2/2 [==============================] - 0s 6ms/step - loss: 22.6513 - mse: 709.8575\n",
      "Epoch 634/1000\n",
      "2/2 [==============================] - 0s 8ms/step - loss: 9.2445 - mse: 237.2792\n",
      "Epoch 635/1000\n",
      "2/2 [==============================] - 0s 8ms/step - loss: 15.0837 - mse: 326.3377\n",
      "Epoch 636/1000\n",
      "2/2 [==============================] - 0s 6ms/step - loss: 29.5656 - mse: 1181.7971\n",
      "Epoch 637/1000\n",
      "2/2 [==============================] - 0s 6ms/step - loss: 8.6934 - mse: 147.2577\n",
      "Epoch 638/1000\n",
      "2/2 [==============================] - 0s 8ms/step - loss: 13.6414 - mse: 264.1356\n",
      "Epoch 639/1000\n",
      "2/2 [==============================] - 0s 10ms/step - loss: 14.3889 - mse: 287.9345\n",
      "Epoch 640/1000\n",
      "2/2 [==============================] - 0s 10ms/step - loss: 18.1669 - mse: 496.3997\n",
      "Epoch 641/1000\n",
      "2/2 [==============================] - 0s 7ms/step - loss: 9.9875 - mse: 181.6369\n",
      "Epoch 642/1000\n",
      "2/2 [==============================] - 0s 5ms/step - loss: 5.5360 - mse: 67.9321\n",
      "Epoch 643/1000\n",
      "2/2 [==============================] - 0s 7ms/step - loss: 10.4036 - mse: 234.7520\n",
      "Epoch 644/1000\n",
      "2/2 [==============================] - 0s 6ms/step - loss: 5.8733 - mse: 90.3573\n",
      "Epoch 645/1000\n",
      "2/2 [==============================] - 0s 8ms/step - loss: 14.4056 - mse: 321.0581\n",
      "Epoch 646/1000\n",
      "2/2 [==============================] - 0s 7ms/step - loss: 12.3502 - mse: 255.4087\n",
      "Epoch 647/1000\n",
      "2/2 [==============================] - 0s 5ms/step - loss: 16.8962 - mse: 434.8893\n",
      "Epoch 648/1000\n",
      "2/2 [==============================] - 0s 7ms/step - loss: 15.8536 - mse: 329.6045\n",
      "Epoch 649/1000\n",
      "2/2 [==============================] - 0s 8ms/step - loss: 13.6123 - mse: 256.6204\n",
      "Epoch 650/1000\n",
      "2/2 [==============================] - 0s 7ms/step - loss: 28.2186 - mse: 1113.9135\n",
      "Epoch 651/1000\n",
      "2/2 [==============================] - 0s 6ms/step - loss: 10.9114 - mse: 181.4062\n",
      "Epoch 652/1000\n",
      "2/2 [==============================] - 0s 5ms/step - loss: 15.9284 - mse: 360.0710\n",
      "Epoch 653/1000\n",
      "2/2 [==============================] - 0s 7ms/step - loss: 18.8908 - mse: 564.2749\n",
      "Epoch 654/1000\n",
      "2/2 [==============================] - 0s 9ms/step - loss: 30.4892 - mse: 1406.1633\n",
      "Epoch 655/1000\n",
      "2/2 [==============================] - 0s 6ms/step - loss: 13.7780 - mse: 288.4400\n",
      "Epoch 656/1000\n",
      "2/2 [==============================] - 0s 5ms/step - loss: 9.4611 - mse: 249.8575\n",
      "Epoch 657/1000\n",
      "2/2 [==============================] - 0s 10ms/step - loss: 14.9041 - mse: 303.9981\n",
      "Epoch 658/1000\n",
      "2/2 [==============================] - 0s 9ms/step - loss: 15.1153 - mse: 312.5249\n",
      "Epoch 659/1000\n",
      "2/2 [==============================] - 0s 7ms/step - loss: 28.3124 - mse: 1155.7059\n",
      "Epoch 660/1000\n",
      "2/2 [==============================] - 0s 7ms/step - loss: 4.5382 - mse: 38.5994\n",
      "Epoch 661/1000\n",
      "2/2 [==============================] - 0s 14ms/step - loss: 16.0833 - mse: 391.4973\n",
      "Epoch 662/1000\n",
      "2/2 [==============================] - 0s 8ms/step - loss: 4.3517 - mse: 66.7623\n",
      "Epoch 663/1000\n",
      "2/2 [==============================] - 0s 12ms/step - loss: 5.6283 - mse: 87.6446\n",
      "Epoch 664/1000\n",
      "2/2 [==============================] - 0s 8ms/step - loss: 20.5333 - mse: 610.1380\n",
      "Epoch 665/1000\n",
      "2/2 [==============================] - 0s 11ms/step - loss: 12.2222 - mse: 294.0529\n",
      "Epoch 666/1000\n",
      "2/2 [==============================] - 0s 6ms/step - loss: 25.8232 - mse: 950.7454\n",
      "Epoch 667/1000\n",
      "2/2 [==============================] - 0s 10ms/step - loss: 14.9935 - mse: 342.0668\n",
      "Epoch 668/1000\n",
      "2/2 [==============================] - 0s 6ms/step - loss: 10.2989 - mse: 305.1286\n",
      "Epoch 669/1000\n",
      "2/2 [==============================] - 0s 6ms/step - loss: 14.2034 - mse: 284.6984\n",
      "Epoch 670/1000\n",
      "2/2 [==============================] - 0s 6ms/step - loss: 18.5874 - mse: 537.3807\n",
      "Epoch 671/1000\n",
      "2/2 [==============================] - 0s 6ms/step - loss: 4.6530 - mse: 65.5079\n",
      "Epoch 672/1000\n",
      "2/2 [==============================] - 0s 14ms/step - loss: 8.5172 - mse: 173.7847\n",
      "Epoch 673/1000\n",
      "2/2 [==============================] - 0s 7ms/step - loss: 13.1180 - mse: 323.5285\n",
      "Epoch 674/1000\n",
      "2/2 [==============================] - 0s 7ms/step - loss: 9.2616 - mse: 234.4428\n",
      "Epoch 675/1000\n",
      "2/2 [==============================] - 0s 6ms/step - loss: 13.3527 - mse: 250.8622\n",
      "Epoch 676/1000\n",
      "2/2 [==============================] - 0s 7ms/step - loss: 14.8537 - mse: 306.0963\n",
      "Epoch 677/1000\n",
      "2/2 [==============================] - 0s 6ms/step - loss: 21.6246 - mse: 727.2059\n",
      "Epoch 678/1000\n",
      "2/2 [==============================] - 0s 11ms/step - loss: 18.8178 - mse: 509.8537\n",
      "Epoch 679/1000\n",
      "2/2 [==============================] - 0s 7ms/step - loss: 2.6574 - mse: 12.8993\n",
      "Epoch 680/1000\n",
      "2/2 [==============================] - 0s 6ms/step - loss: 13.2336 - mse: 257.3168\n",
      "Epoch 681/1000\n",
      "2/2 [==============================] - 0s 6ms/step - loss: 15.1144 - mse: 303.5449\n",
      "Epoch 682/1000\n",
      "2/2 [==============================] - 0s 6ms/step - loss: 15.4077 - mse: 350.4118\n",
      "Epoch 683/1000\n",
      "2/2 [==============================] - 0s 6ms/step - loss: 20.5508 - mse: 666.8323\n",
      "Epoch 684/1000\n",
      "2/2 [==============================] - 0s 6ms/step - loss: 27.0502 - mse: 1066.1870\n",
      "Epoch 685/1000\n",
      "2/2 [==============================] - 0s 6ms/step - loss: 9.9836 - mse: 224.4221\n",
      "Epoch 686/1000\n",
      "2/2 [==============================] - 0s 7ms/step - loss: 9.3781 - mse: 153.1430\n",
      "Epoch 687/1000\n",
      "2/2 [==============================] - 0s 7ms/step - loss: 8.5716 - mse: 250.4019\n",
      "Epoch 688/1000\n",
      "2/2 [==============================] - 0s 8ms/step - loss: 16.3543 - mse: 449.9210\n",
      "Epoch 689/1000\n",
      "2/2 [==============================] - 0s 5ms/step - loss: 17.8868 - mse: 455.7968\n",
      "Epoch 690/1000\n",
      "2/2 [==============================] - 0s 8ms/step - loss: 19.2359 - mse: 524.2581\n",
      "Epoch 691/1000\n",
      "2/2 [==============================] - 0s 6ms/step - loss: 9.3222 - mse: 343.4839\n",
      "Epoch 692/1000\n",
      "2/2 [==============================] - 0s 5ms/step - loss: 18.1173 - mse: 527.7855\n",
      "Epoch 693/1000\n",
      "2/2 [==============================] - 0s 5ms/step - loss: 38.2964 - mse: 2290.5701\n",
      "Epoch 694/1000\n",
      "2/2 [==============================] - 0s 8ms/step - loss: 9.8098 - mse: 219.5620\n",
      "Epoch 695/1000\n",
      "2/2 [==============================] - 0s 6ms/step - loss: 4.5194 - mse: 53.1969\n",
      "Epoch 696/1000\n",
      "2/2 [==============================] - 0s 5ms/step - loss: 20.1197 - mse: 566.6715\n",
      "Epoch 697/1000\n",
      "2/2 [==============================] - 0s 9ms/step - loss: 7.8861 - mse: 248.4870\n",
      "Epoch 698/1000\n",
      "2/2 [==============================] - 0s 6ms/step - loss: 24.0765 - mse: 831.1183\n",
      "Epoch 699/1000\n",
      "2/2 [==============================] - 0s 5ms/step - loss: 24.7217 - mse: 872.6987\n",
      "Epoch 700/1000\n",
      "2/2 [==============================] - 0s 9ms/step - loss: 9.9953 - mse: 223.9586\n",
      "Epoch 701/1000\n",
      "2/2 [==============================] - 0s 6ms/step - loss: 12.6302 - mse: 248.1361\n",
      "Epoch 702/1000\n",
      "2/2 [==============================] - 0s 5ms/step - loss: 14.1200 - mse: 277.3112\n",
      "Epoch 703/1000\n",
      "2/2 [==============================] - 0s 9ms/step - loss: 25.4579 - mse: 928.2380\n",
      "Epoch 704/1000\n",
      "2/2 [==============================] - 0s 7ms/step - loss: 15.4806 - mse: 360.1842\n",
      "Epoch 705/1000\n",
      "2/2 [==============================] - 0s 6ms/step - loss: 5.4453 - mse: 74.2302\n",
      "Epoch 706/1000\n",
      "2/2 [==============================] - 0s 5ms/step - loss: 13.8718 - mse: 288.6337\n",
      "Epoch 707/1000\n",
      "2/2 [==============================] - 0s 5ms/step - loss: 11.4602 - mse: 242.8423\n",
      "Epoch 708/1000\n",
      "2/2 [==============================] - 0s 5ms/step - loss: 15.7054 - mse: 396.4891\n",
      "Epoch 709/1000\n",
      "2/2 [==============================] - 0s 6ms/step - loss: 24.9310 - mse: 894.9645\n",
      "Epoch 710/1000\n",
      "2/2 [==============================] - 0s 6ms/step - loss: 19.8792 - mse: 561.8841\n",
      "Epoch 711/1000\n",
      "2/2 [==============================] - 0s 5ms/step - loss: 9.2309 - mse: 287.7226\n",
      "Epoch 712/1000\n",
      "2/2 [==============================] - 0s 6ms/step - loss: 15.3860 - mse: 354.5026\n",
      "Epoch 713/1000\n",
      "2/2 [==============================] - 0s 6ms/step - loss: 24.2936 - mse: 824.6379\n",
      "Epoch 714/1000\n",
      "2/2 [==============================] - 0s 8ms/step - loss: 22.2185 - mse: 675.6964\n",
      "Epoch 715/1000\n",
      "2/2 [==============================] - 0s 10ms/step - loss: 12.2289 - mse: 244.5679\n",
      "Epoch 716/1000\n",
      "2/2 [==============================] - 0s 7ms/step - loss: 23.2469 - mse: 830.4749\n",
      "Epoch 717/1000\n",
      "2/2 [==============================] - 0s 6ms/step - loss: 17.9576 - mse: 462.0543\n",
      "Epoch 718/1000\n",
      "2/2 [==============================] - 0s 6ms/step - loss: 20.9106 - mse: 624.9904\n",
      "Epoch 719/1000\n",
      "2/2 [==============================] - 0s 6ms/step - loss: 12.1054 - mse: 276.1638\n",
      "Epoch 720/1000\n",
      "2/2 [==============================] - 0s 7ms/step - loss: 16.4840 - mse: 388.2672\n",
      "Epoch 721/1000\n",
      "2/2 [==============================] - 0s 7ms/step - loss: 15.5597 - mse: 386.0759\n",
      "Epoch 722/1000\n",
      "2/2 [==============================] - 0s 7ms/step - loss: 15.4817 - mse: 356.2313\n",
      "Epoch 723/1000\n",
      "2/2 [==============================] - 0s 6ms/step - loss: 18.2289 - mse: 555.3912\n",
      "Epoch 724/1000\n",
      "2/2 [==============================] - 0s 6ms/step - loss: 11.4513 - mse: 254.9443\n",
      "Epoch 725/1000\n",
      "2/2 [==============================] - 0s 6ms/step - loss: 13.5533 - mse: 260.8937\n",
      "Epoch 726/1000\n",
      "2/2 [==============================] - 0s 6ms/step - loss: 22.5960 - mse: 767.1536\n",
      "Epoch 727/1000\n",
      "2/2 [==============================] - 0s 6ms/step - loss: 20.0840 - mse: 581.1586\n",
      "Epoch 728/1000\n",
      "2/2 [==============================] - 0s 6ms/step - loss: 10.3689 - mse: 214.7993\n",
      "Epoch 729/1000\n",
      "2/2 [==============================] - 0s 6ms/step - loss: 10.3184 - mse: 316.8645\n",
      "Epoch 730/1000\n",
      "2/2 [==============================] - 0s 6ms/step - loss: 21.0232 - mse: 694.6202\n",
      "Epoch 731/1000\n",
      "2/2 [==============================] - 0s 6ms/step - loss: 25.9452 - mse: 974.4119\n",
      "Epoch 732/1000\n",
      "2/2 [==============================] - 0s 7ms/step - loss: 11.3112 - mse: 253.2579\n",
      "Epoch 733/1000\n",
      "2/2 [==============================] - 0s 6ms/step - loss: 12.8294 - mse: 256.9001\n",
      "Epoch 734/1000\n",
      "2/2 [==============================] - 0s 6ms/step - loss: 16.9322 - mse: 409.4964\n",
      "Epoch 735/1000\n",
      "2/2 [==============================] - 0s 6ms/step - loss: 14.6284 - mse: 372.3868\n",
      "Epoch 736/1000\n",
      "2/2 [==============================] - 0s 5ms/step - loss: 12.4476 - mse: 240.9354\n",
      "Epoch 737/1000\n",
      "2/2 [==============================] - 0s 6ms/step - loss: 14.5688 - mse: 282.1837\n",
      "Epoch 738/1000\n",
      "2/2 [==============================] - 0s 5ms/step - loss: 25.6811 - mse: 950.5663\n",
      "Epoch 739/1000\n",
      "2/2 [==============================] - 0s 4ms/step - loss: 15.5074 - mse: 365.7616\n",
      "Epoch 740/1000\n",
      "2/2 [==============================] - 0s 5ms/step - loss: 11.9584 - mse: 269.1090\n",
      "Epoch 741/1000\n",
      "2/2 [==============================] - 0s 5ms/step - loss: 18.3135 - mse: 557.1702\n",
      "Epoch 742/1000\n",
      "2/2 [==============================] - 0s 6ms/step - loss: 4.1471 - mse: 48.3085\n",
      "Epoch 743/1000\n",
      "2/2 [==============================] - 0s 5ms/step - loss: 16.3639 - mse: 387.4920\n",
      "Epoch 744/1000\n",
      "2/2 [==============================] - 0s 9ms/step - loss: 10.6170 - mse: 194.3447\n",
      "Epoch 745/1000\n",
      "2/2 [==============================] - 0s 6ms/step - loss: 9.6143 - mse: 299.8972\n",
      "Epoch 746/1000\n",
      "2/2 [==============================] - 0s 5ms/step - loss: 15.3903 - mse: 337.3406\n",
      "Epoch 747/1000\n",
      "2/2 [==============================] - 0s 10ms/step - loss: 23.4953 - mse: 811.1487\n",
      "Epoch 748/1000\n",
      "2/2 [==============================] - 0s 6ms/step - loss: 15.6108 - mse: 349.2745\n",
      "Epoch 749/1000\n",
      "2/2 [==============================] - 0s 11ms/step - loss: 13.3922 - mse: 253.5289\n",
      "Epoch 750/1000\n",
      "2/2 [==============================] - 0s 7ms/step - loss: 33.8107 - mse: 1573.2460\n",
      "Epoch 751/1000\n",
      "2/2 [==============================] - 0s 8ms/step - loss: 14.4259 - mse: 292.9718\n",
      "Epoch 752/1000\n",
      "2/2 [==============================] - 0s 9ms/step - loss: 14.8419 - mse: 301.7536\n",
      "Epoch 753/1000\n",
      "2/2 [==============================] - 0s 8ms/step - loss: 21.8649 - mse: 735.9813\n",
      "Epoch 754/1000\n",
      "2/2 [==============================] - 0s 8ms/step - loss: 14.8884 - mse: 351.1522\n",
      "Epoch 755/1000\n",
      "2/2 [==============================] - 0s 8ms/step - loss: 16.7539 - mse: 402.1217\n",
      "Epoch 756/1000\n",
      "2/2 [==============================] - 0s 8ms/step - loss: 10.8826 - mse: 333.1058\n",
      "Epoch 757/1000\n",
      "2/2 [==============================] - 0s 8ms/step - loss: 20.1022 - mse: 640.4183\n",
      "Epoch 758/1000\n",
      "2/2 [==============================] - 0s 8ms/step - loss: 28.1659 - mse: 1191.1281\n",
      "Epoch 759/1000\n",
      "2/2 [==============================] - 0s 8ms/step - loss: 14.3090 - mse: 334.6003\n",
      "Epoch 760/1000\n",
      "2/2 [==============================] - 0s 8ms/step - loss: 12.5378 - mse: 284.7829\n",
      "Epoch 761/1000\n",
      "2/2 [==============================] - 0s 8ms/step - loss: 14.6282 - mse: 341.1470\n",
      "Epoch 762/1000\n",
      "2/2 [==============================] - 0s 8ms/step - loss: 25.7618 - mse: 988.7855\n",
      "Epoch 763/1000\n",
      "2/2 [==============================] - 0s 9ms/step - loss: 11.3230 - mse: 242.4005\n",
      "Epoch 764/1000\n",
      "2/2 [==============================] - 0s 5ms/step - loss: 13.5864 - mse: 264.5978\n",
      "Epoch 765/1000\n",
      "2/2 [==============================] - 0s 4ms/step - loss: 23.6989 - mse: 811.5738\n",
      "Epoch 766/1000\n",
      "2/2 [==============================] - 0s 8ms/step - loss: 21.1596 - mse: 649.7609\n",
      "Epoch 767/1000\n",
      "2/2 [==============================] - 0s 10ms/step - loss: 2.6302 - mse: 16.5060\n",
      "Epoch 768/1000\n",
      "2/2 [==============================] - 0s 8ms/step - loss: 16.3991 - mse: 414.1935\n",
      "Epoch 769/1000\n",
      "2/2 [==============================] - 0s 6ms/step - loss: 14.8628 - mse: 329.8412\n",
      "Epoch 770/1000\n",
      "2/2 [==============================] - 0s 6ms/step - loss: 20.9618 - mse: 641.8700\n",
      "Epoch 771/1000\n",
      "2/2 [==============================] - 0s 9ms/step - loss: 29.7777 - mse: 1365.6523\n",
      "Epoch 772/1000\n",
      "2/2 [==============================] - 0s 10ms/step - loss: 12.6532 - mse: 255.6892\n",
      "Epoch 773/1000\n",
      "2/2 [==============================] - 0s 8ms/step - loss: 13.2347 - mse: 238.2589\n",
      "Epoch 774/1000\n",
      "2/2 [==============================] - 0s 7ms/step - loss: 14.8509 - mse: 306.7466\n",
      "Epoch 775/1000\n",
      "2/2 [==============================] - 0s 13ms/step - loss: 21.7922 - mse: 722.9093\n",
      "Epoch 776/1000\n",
      "2/2 [==============================] - 0s 7ms/step - loss: 25.9893 - mse: 961.2651\n",
      "Epoch 777/1000\n",
      "2/2 [==============================] - 0s 6ms/step - loss: 11.7543 - mse: 263.8663\n",
      "Epoch 778/1000\n",
      "2/2 [==============================] - 0s 7ms/step - loss: 17.0053 - mse: 453.3739\n",
      "Epoch 779/1000\n",
      "2/2 [==============================] - 0s 9ms/step - loss: 37.9688 - mse: 2287.4829\n",
      "Epoch 780/1000\n",
      "2/2 [==============================] - 0s 7ms/step - loss: 14.2536 - mse: 321.2241\n",
      "Epoch 781/1000\n",
      "2/2 [==============================] - 0s 7ms/step - loss: 5.5058 - mse: 89.0894\n",
      "Epoch 782/1000\n",
      "2/2 [==============================] - 0s 7ms/step - loss: 11.5288 - mse: 240.2406\n",
      "Epoch 783/1000\n",
      "2/2 [==============================] - 0s 7ms/step - loss: 12.1718 - mse: 260.8278\n",
      "Epoch 784/1000\n",
      "2/2 [==============================] - 0s 6ms/step - loss: 17.2519 - mse: 494.4622\n",
      "Epoch 785/1000\n",
      "2/2 [==============================] - 0s 6ms/step - loss: 9.7886 - mse: 271.0176\n",
      "Epoch 786/1000\n",
      "2/2 [==============================] - 0s 7ms/step - loss: 13.3335 - mse: 261.2224\n",
      "Epoch 787/1000\n",
      "2/2 [==============================] - 0s 7ms/step - loss: 25.3579 - mse: 924.0980\n",
      "Epoch 788/1000\n",
      "2/2 [==============================] - 0s 6ms/step - loss: 19.6246 - mse: 546.8470\n",
      "Epoch 789/1000\n",
      "2/2 [==============================] - 0s 7ms/step - loss: 6.6321 - mse: 139.1261\n",
      "Epoch 790/1000\n",
      "2/2 [==============================] - 0s 9ms/step - loss: 8.7303 - mse: 197.9266\n",
      "Epoch 791/1000\n",
      "2/2 [==============================] - 0s 7ms/step - loss: 9.9017 - mse: 211.6347\n",
      "Epoch 792/1000\n",
      "2/2 [==============================] - 0s 7ms/step - loss: 12.0388 - mse: 253.0032\n",
      "Epoch 793/1000\n",
      "2/2 [==============================] - 0s 6ms/step - loss: 15.1229 - mse: 345.4956\n",
      "Epoch 794/1000\n",
      "2/2 [==============================] - 0s 6ms/step - loss: 27.4017 - mse: 1085.8434\n",
      "Epoch 795/1000\n",
      "2/2 [==============================] - 0s 8ms/step - loss: 9.7270 - mse: 237.5381\n",
      "Epoch 796/1000\n",
      "2/2 [==============================] - 0s 6ms/step - loss: 10.4054 - mse: 202.7597\n",
      "Epoch 797/1000\n",
      "2/2 [==============================] - 0s 5ms/step - loss: 12.9346 - mse: 287.2361\n",
      "Epoch 798/1000\n",
      "2/2 [==============================] - 0s 6ms/step - loss: 24.1067 - mse: 845.0881\n",
      "Epoch 799/1000\n",
      "2/2 [==============================] - 0s 6ms/step - loss: 20.3718 - mse: 597.1968\n",
      "Epoch 800/1000\n",
      "2/2 [==============================] - 0s 5ms/step - loss: 8.7713 - mse: 282.9717\n",
      "Epoch 801/1000\n",
      "2/2 [==============================] - 0s 6ms/step - loss: 18.4996 - mse: 558.9727\n",
      "Epoch 802/1000\n",
      "2/2 [==============================] - 0s 5ms/step - loss: 20.7638 - mse: 607.3966\n",
      "Epoch 803/1000\n",
      "2/2 [==============================] - 0s 6ms/step - loss: 8.0151 - mse: 163.8340\n",
      "Epoch 804/1000\n",
      "2/2 [==============================] - 0s 12ms/step - loss: 10.2046 - mse: 273.7413\n",
      "Epoch 805/1000\n",
      "2/2 [==============================] - 0s 7ms/step - loss: 14.4183 - mse: 283.0168\n",
      "Epoch 806/1000\n",
      "2/2 [==============================] - 0s 5ms/step - loss: 17.8289 - mse: 523.8434\n",
      "Epoch 807/1000\n",
      "2/2 [==============================] - 0s 5ms/step - loss: 11.5517 - mse: 313.3704\n",
      "Epoch 808/1000\n",
      "2/2 [==============================] - 0s 5ms/step - loss: 31.5645 - mse: 1390.9226\n",
      "Epoch 809/1000\n",
      "2/2 [==============================] - 0s 5ms/step - loss: 11.8356 - mse: 261.7668\n",
      "Epoch 810/1000\n",
      "2/2 [==============================] - 0s 10ms/step - loss: 20.2754 - mse: 645.0226\n",
      "Epoch 811/1000\n",
      "2/2 [==============================] - 0s 6ms/step - loss: 18.6496 - mse: 483.7463\n",
      "Epoch 812/1000\n",
      "2/2 [==============================] - 0s 5ms/step - loss: 12.7300 - mse: 266.7538\n",
      "Epoch 813/1000\n",
      "2/2 [==============================] - 0s 7ms/step - loss: 26.2938 - mse: 974.8361\n",
      "Epoch 814/1000\n",
      "2/2 [==============================] - 0s 6ms/step - loss: 16.0666 - mse: 383.9307\n",
      "Epoch 815/1000\n",
      "2/2 [==============================] - 0s 10ms/step - loss: 9.3537 - mse: 330.4367\n",
      "Epoch 816/1000\n",
      "2/2 [==============================] - 0s 11ms/step - loss: 23.3176 - mse: 805.0426\n",
      "Epoch 817/1000\n",
      "2/2 [==============================] - 0s 5ms/step - loss: 20.3718 - mse: 586.9051\n",
      "Epoch 818/1000\n",
      "2/2 [==============================] - 0s 6ms/step - loss: 3.8202 - mse: 43.4535\n",
      "Epoch 819/1000\n",
      "2/2 [==============================] - 0s 8ms/step - loss: 12.8285 - mse: 298.5028\n",
      "Epoch 820/1000\n",
      "2/2 [==============================] - 0s 8ms/step - loss: 8.7041 - mse: 349.9340\n",
      "Epoch 821/1000\n",
      "2/2 [==============================] - 0s 6ms/step - loss: 14.2602 - mse: 312.7168\n",
      "Epoch 822/1000\n",
      "2/2 [==============================] - 0s 9ms/step - loss: 25.9946 - mse: 953.6522\n",
      "Epoch 823/1000\n",
      "2/2 [==============================] - 0s 7ms/step - loss: 16.9477 - mse: 419.4875\n",
      "Epoch 824/1000\n",
      "2/2 [==============================] - 0s 7ms/step - loss: 9.2796 - mse: 161.2460\n",
      "Epoch 825/1000\n",
      "2/2 [==============================] - 0s 7ms/step - loss: 13.9608 - mse: 264.8247\n",
      "Epoch 826/1000\n",
      "2/2 [==============================] - 0s 7ms/step - loss: 29.4508 - mse: 1207.3921\n",
      "Epoch 827/1000\n",
      "2/2 [==============================] - 0s 7ms/step - loss: 5.6484 - mse: 96.6009\n",
      "Epoch 828/1000\n",
      "2/2 [==============================] - 0s 6ms/step - loss: 11.3619 - mse: 216.0122\n",
      "Epoch 829/1000\n",
      "2/2 [==============================] - 0s 5ms/step - loss: 13.9950 - mse: 280.8804\n",
      "Epoch 830/1000\n",
      "2/2 [==============================] - 0s 5ms/step - loss: 16.1718 - mse: 448.0135\n",
      "Epoch 831/1000\n",
      "2/2 [==============================] - 0s 7ms/step - loss: 16.4293 - mse: 455.1926\n",
      "Epoch 832/1000\n",
      "2/2 [==============================] - 0s 5ms/step - loss: 25.9422 - mse: 982.9876\n",
      "Epoch 833/1000\n",
      "2/2 [==============================] - 0s 6ms/step - loss: 14.6936 - mse: 347.3814\n",
      "Epoch 834/1000\n",
      "2/2 [==============================] - 0s 5ms/step - loss: 13.8662 - mse: 283.1166\n",
      "Epoch 835/1000\n",
      "2/2 [==============================] - 0s 7ms/step - loss: 12.3257 - mse: 283.3691\n",
      "Epoch 836/1000\n",
      "2/2 [==============================] - 0s 6ms/step - loss: 23.6242 - mse: 846.1144\n",
      "Epoch 837/1000\n",
      "2/2 [==============================] - 0s 10ms/step - loss: 17.1600 - mse: 425.3036\n",
      "Epoch 838/1000\n",
      "2/2 [==============================] - 0s 5ms/step - loss: 14.0574 - mse: 322.7729\n",
      "Epoch 839/1000\n",
      "2/2 [==============================] - 0s 12ms/step - loss: 11.1098 - mse: 364.5914\n",
      "Epoch 840/1000\n",
      "2/2 [==============================] - 0s 7ms/step - loss: 18.5308 - mse: 523.1669\n",
      "Epoch 841/1000\n",
      "2/2 [==============================] - 0s 6ms/step - loss: 34.3775 - mse: 1842.1692\n",
      "Epoch 842/1000\n",
      "2/2 [==============================] - 0s 9ms/step - loss: 31.0913 - mse: 1399.4113\n",
      "Epoch 843/1000\n",
      "2/2 [==============================] - 0s 6ms/step - loss: 7.1891 - mse: 232.2124\n",
      "Epoch 844/1000\n",
      "2/2 [==============================] - 0s 6ms/step - loss: 12.1129 - mse: 241.5874\n",
      "Epoch 845/1000\n",
      "2/2 [==============================] - 0s 7ms/step - loss: 17.1352 - mse: 440.3880\n",
      "Epoch 846/1000\n",
      "2/2 [==============================] - 0s 6ms/step - loss: 14.2518 - mse: 280.2126\n",
      "Epoch 847/1000\n",
      "2/2 [==============================] - 0s 8ms/step - loss: 14.3220 - mse: 288.1644\n",
      "Epoch 848/1000\n",
      "2/2 [==============================] - 0s 5ms/step - loss: 17.0775 - mse: 499.2597\n",
      "Epoch 849/1000\n",
      "2/2 [==============================] - 0s 7ms/step - loss: 11.9358 - mse: 278.7842\n",
      "Epoch 850/1000\n",
      "2/2 [==============================] - 0s 7ms/step - loss: 11.9678 - mse: 223.0078\n",
      "Epoch 851/1000\n",
      "2/2 [==============================] - 0s 8ms/step - loss: 11.8199 - mse: 217.0802\n",
      "Epoch 852/1000\n",
      "2/2 [==============================] - 0s 7ms/step - loss: 13.5304 - mse: 261.2254\n",
      "Epoch 853/1000\n",
      "2/2 [==============================] - 0s 6ms/step - loss: 24.8761 - mse: 871.0287\n",
      "Epoch 854/1000\n",
      "2/2 [==============================] - 0s 5ms/step - loss: 22.4300 - mse: 702.0980\n",
      "Epoch 855/1000\n",
      "2/2 [==============================] - 0s 11ms/step - loss: 11.3227 - mse: 213.6604\n",
      "Epoch 856/1000\n",
      "2/2 [==============================] - 0s 6ms/step - loss: 10.1563 - mse: 280.3466\n",
      "Epoch 857/1000\n",
      "2/2 [==============================] - 0s 8ms/step - loss: 13.2293 - mse: 239.5029\n",
      "Epoch 858/1000\n",
      "2/2 [==============================] - 0s 8ms/step - loss: 16.5070 - mse: 429.4593\n",
      "Epoch 859/1000\n",
      "2/2 [==============================] - 0s 7ms/step - loss: 17.4879 - mse: 487.1082\n",
      "Epoch 860/1000\n",
      "2/2 [==============================] - 0s 6ms/step - loss: 17.7708 - mse: 528.4791\n",
      "Epoch 861/1000\n",
      "2/2 [==============================] - 0s 10ms/step - loss: 11.4874 - mse: 249.9859\n",
      "Epoch 862/1000\n",
      "2/2 [==============================] - 0s 7ms/step - loss: 13.9564 - mse: 269.4191\n",
      "Epoch 863/1000\n",
      "2/2 [==============================] - 0s 11ms/step - loss: 11.8667 - mse: 288.4521\n",
      "Epoch 864/1000\n",
      "2/2 [==============================] - 0s 10ms/step - loss: 13.7828 - mse: 266.4904\n",
      "Epoch 865/1000\n",
      "2/2 [==============================] - 0s 8ms/step - loss: 22.0875 - mse: 767.7365\n",
      "Epoch 866/1000\n",
      "2/2 [==============================] - 0s 8ms/step - loss: 18.8107 - mse: 499.8904\n",
      "Epoch 867/1000\n",
      "2/2 [==============================] - 0s 7ms/step - loss: 13.9531 - mse: 272.6772\n",
      "Epoch 868/1000\n",
      "2/2 [==============================] - 0s 8ms/step - loss: 27.4477 - mse: 1074.7769\n",
      "Epoch 869/1000\n",
      "2/2 [==============================] - 0s 10ms/step - loss: 12.2612 - mse: 233.1114\n",
      "Epoch 870/1000\n",
      "2/2 [==============================] - 0s 8ms/step - loss: 12.4418 - mse: 246.8932\n",
      "Epoch 871/1000\n",
      "2/2 [==============================] - 0s 8ms/step - loss: 20.3858 - mse: 604.9119\n",
      "Epoch 872/1000\n",
      "2/2 [==============================] - 0s 7ms/step - loss: 32.8541 - mse: 1547.6967\n",
      "Epoch 873/1000\n",
      "2/2 [==============================] - 0s 11ms/step - loss: 23.9557 - mse: 803.2145\n",
      "Epoch 874/1000\n",
      "2/2 [==============================] - 0s 7ms/step - loss: 4.9668 - mse: 81.6897\n",
      "Epoch 875/1000\n",
      "2/2 [==============================] - 0s 8ms/step - loss: 4.0081 - mse: 50.6217\n",
      "Epoch 876/1000\n",
      "2/2 [==============================] - 0s 7ms/step - loss: 29.6526 - mse: 1274.7769\n",
      "Epoch 877/1000\n",
      "2/2 [==============================] - 0s 10ms/step - loss: 8.8101 - mse: 237.8615\n",
      "Epoch 878/1000\n",
      "2/2 [==============================] - 0s 11ms/step - loss: 11.7874 - mse: 249.4349\n",
      "Epoch 879/1000\n",
      "2/2 [==============================] - 0s 8ms/step - loss: 17.6757 - mse: 480.7729\n",
      "Epoch 880/1000\n",
      "2/2 [==============================] - 0s 7ms/step - loss: 40.3813 - mse: 2490.4243\n",
      "Epoch 881/1000\n",
      "2/2 [==============================] - 0s 5ms/step - loss: 21.6228 - mse: 672.6245\n",
      "Epoch 882/1000\n",
      "2/2 [==============================] - 0s 5ms/step - loss: 10.2915 - mse: 214.6118\n",
      "Epoch 883/1000\n",
      "2/2 [==============================] - 0s 8ms/step - loss: 13.3015 - mse: 256.7337\n",
      "Epoch 884/1000\n",
      "2/2 [==============================] - 0s 10ms/step - loss: 19.3267 - mse: 575.9842\n",
      "Epoch 885/1000\n",
      "2/2 [==============================] - 0s 11ms/step - loss: 36.3358 - mse: 2013.4102\n",
      "Epoch 886/1000\n",
      "2/2 [==============================] - 0s 6ms/step - loss: 4.8153 - mse: 77.2449\n",
      "Epoch 887/1000\n",
      "2/2 [==============================] - 0s 7ms/step - loss: 20.1486 - mse: 565.2372\n",
      "Epoch 888/1000\n",
      "2/2 [==============================] - 0s 7ms/step - loss: 14.4588 - mse: 292.1371\n",
      "Epoch 889/1000\n",
      "2/2 [==============================] - 0s 8ms/step - loss: 17.1465 - mse: 426.1887\n",
      "Epoch 890/1000\n",
      "2/2 [==============================] - 0s 8ms/step - loss: 15.9701 - mse: 436.9621\n",
      "Epoch 891/1000\n",
      "2/2 [==============================] - 0s 7ms/step - loss: 22.8688 - mse: 809.6199\n",
      "Epoch 892/1000\n",
      "2/2 [==============================] - 0s 6ms/step - loss: 18.2654 - mse: 472.3947\n",
      "Epoch 893/1000\n",
      "2/2 [==============================] - 0s 7ms/step - loss: 19.8210 - mse: 551.9435\n",
      "Epoch 894/1000\n",
      "2/2 [==============================] - 0s 6ms/step - loss: 5.2158 - mse: 132.5721\n",
      "Epoch 895/1000\n",
      "2/2 [==============================] - 0s 6ms/step - loss: 14.8252 - mse: 345.0208\n",
      "Epoch 896/1000\n",
      "2/2 [==============================] - 0s 9ms/step - loss: 29.7483 - mse: 1261.1061\n",
      "Epoch 897/1000\n",
      "2/2 [==============================] - 0s 8ms/step - loss: 3.2290 - mse: 33.6807\n",
      "Epoch 898/1000\n",
      "2/2 [==============================] - 0s 13ms/step - loss: 19.7147 - mse: 604.8097\n",
      "Epoch 899/1000\n",
      "2/2 [==============================] - 0s 9ms/step - loss: 34.5412 - mse: 1818.1342\n",
      "Epoch 900/1000\n",
      "2/2 [==============================] - 0s 8ms/step - loss: 16.2358 - mse: 390.2185\n",
      "Epoch 901/1000\n",
      "2/2 [==============================] - 0s 6ms/step - loss: 12.7786 - mse: 263.7151\n",
      "Epoch 902/1000\n",
      "2/2 [==============================] - 0s 8ms/step - loss: 19.4667 - mse: 590.6195\n",
      "Epoch 903/1000\n",
      "2/2 [==============================] - 0s 7ms/step - loss: 40.6599 - mse: 2432.2678\n",
      "Epoch 904/1000\n",
      "2/2 [==============================] - 0s 5ms/step - loss: 12.5857 - mse: 244.0564\n",
      "Epoch 905/1000\n",
      "2/2 [==============================] - 0s 8ms/step - loss: 34.5407 - mse: 1674.1406\n",
      "Epoch 906/1000\n",
      "2/2 [==============================] - 0s 10ms/step - loss: 15.8166 - mse: 353.6725\n",
      "Epoch 907/1000\n",
      "2/2 [==============================] - 0s 9ms/step - loss: 16.0150 - mse: 412.1599\n",
      "Epoch 908/1000\n",
      "2/2 [==============================] - 0s 7ms/step - loss: 24.6071 - mse: 899.9468\n",
      "Epoch 909/1000\n",
      "2/2 [==============================] - 0s 12ms/step - loss: 15.8823 - mse: 390.8608\n",
      "Epoch 910/1000\n",
      "2/2 [==============================] - 0s 5ms/step - loss: 10.3322 - mse: 270.6039\n",
      "Epoch 911/1000\n",
      "2/2 [==============================] - 0s 6ms/step - loss: 4.1157 - mse: 50.0357\n",
      "Epoch 912/1000\n",
      "2/2 [==============================] - 0s 5ms/step - loss: 18.5144 - mse: 482.8219\n",
      "Epoch 913/1000\n",
      "2/2 [==============================] - 0s 5ms/step - loss: 11.7879 - mse: 302.1146\n",
      "Epoch 914/1000\n",
      "2/2 [==============================] - 0s 6ms/step - loss: 18.7059 - mse: 545.2616\n",
      "Epoch 915/1000\n",
      "2/2 [==============================] - 0s 6ms/step - loss: 35.6334 - mse: 1964.2321\n",
      "Epoch 916/1000\n",
      "2/2 [==============================] - 0s 5ms/step - loss: 36.8652 - mse: 2030.8877\n",
      "Epoch 917/1000\n",
      "2/2 [==============================] - 0s 5ms/step - loss: 4.0905 - mse: 45.0567\n",
      "Epoch 918/1000\n",
      "2/2 [==============================] - 0s 7ms/step - loss: 11.7483 - mse: 266.8832\n",
      "Epoch 919/1000\n",
      "2/2 [==============================] - 0s 11ms/step - loss: 10.7605 - mse: 293.9533\n",
      "Epoch 920/1000\n",
      "2/2 [==============================] - 0s 11ms/step - loss: 15.8904 - mse: 404.5658\n",
      "Epoch 921/1000\n",
      "2/2 [==============================] - 0s 6ms/step - loss: 22.4604 - mse: 764.2964\n",
      "Epoch 922/1000\n",
      "2/2 [==============================] - 0s 7ms/step - loss: 24.4052 - mse: 874.5954\n",
      "Epoch 923/1000\n",
      "2/2 [==============================] - 0s 8ms/step - loss: 13.9265 - mse: 304.4174\n",
      "Epoch 924/1000\n",
      "2/2 [==============================] - 0s 7ms/step - loss: 10.2373 - mse: 285.7545\n",
      "Epoch 925/1000\n",
      "2/2 [==============================] - 0s 8ms/step - loss: 16.3764 - mse: 398.0716\n",
      "Epoch 926/1000\n",
      "2/2 [==============================] - 0s 6ms/step - loss: 17.4298 - mse: 461.3328\n",
      "Epoch 927/1000\n",
      "2/2 [==============================] - 0s 6ms/step - loss: 15.0180 - mse: 351.4326\n",
      "Epoch 928/1000\n",
      "2/2 [==============================] - 0s 8ms/step - loss: 25.5946 - mse: 952.9296\n",
      "Epoch 929/1000\n",
      "2/2 [==============================] - 0s 5ms/step - loss: 11.3940 - mse: 230.9182\n",
      "Epoch 930/1000\n",
      "2/2 [==============================] - 0s 5ms/step - loss: 11.3595 - mse: 234.6850\n",
      "Epoch 931/1000\n",
      "2/2 [==============================] - 0s 5ms/step - loss: 13.0288 - mse: 243.3798\n",
      "Epoch 932/1000\n",
      "2/2 [==============================] - 0s 6ms/step - loss: 12.7990 - mse: 249.0706\n",
      "Epoch 933/1000\n",
      "2/2 [==============================] - 0s 5ms/step - loss: 25.0433 - mse: 913.4232\n",
      "Epoch 934/1000\n",
      "2/2 [==============================] - 0s 6ms/step - loss: 18.3036 - mse: 480.4401\n",
      "Epoch 935/1000\n",
      "2/2 [==============================] - 0s 5ms/step - loss: 10.9622 - mse: 224.1616\n",
      "Epoch 936/1000\n",
      "2/2 [==============================] - 0s 7ms/step - loss: 12.5372 - mse: 244.6485\n",
      "Epoch 937/1000\n",
      "2/2 [==============================] - 0s 5ms/step - loss: 14.1477 - mse: 276.0074\n",
      "Epoch 938/1000\n",
      "2/2 [==============================] - 0s 7ms/step - loss: 18.5167 - mse: 540.9430\n",
      "Epoch 939/1000\n",
      "2/2 [==============================] - 0s 5ms/step - loss: 41.2686 - mse: 2695.0649\n",
      "Epoch 940/1000\n",
      "2/2 [==============================] - 0s 6ms/step - loss: 11.2633 - mse: 250.8671\n",
      "Epoch 941/1000\n",
      "2/2 [==============================] - 0s 5ms/step - loss: 11.1007 - mse: 252.7507\n",
      "Epoch 942/1000\n",
      "2/2 [==============================] - 0s 6ms/step - loss: 12.9136 - mse: 220.4517\n",
      "Epoch 943/1000\n",
      "2/2 [==============================] - 0s 5ms/step - loss: 13.8854 - mse: 267.8227\n",
      "Epoch 944/1000\n",
      "2/2 [==============================] - 0s 6ms/step - loss: 14.0003 - mse: 274.0969\n",
      "Epoch 945/1000\n",
      "2/2 [==============================] - 0s 4ms/step - loss: 31.1561 - mse: 1381.4486\n",
      "Epoch 946/1000\n",
      "2/2 [==============================] - 0s 6ms/step - loss: 10.5960 - mse: 325.5692\n",
      "Epoch 947/1000\n",
      "2/2 [==============================] - 0s 8ms/step - loss: 15.7867 - mse: 348.7052\n",
      "Epoch 948/1000\n",
      "2/2 [==============================] - 0s 5ms/step - loss: 12.8979 - mse: 236.3538\n",
      "Epoch 949/1000\n",
      "2/2 [==============================] - 0s 12ms/step - loss: 30.5618 - mse: 1314.9255\n",
      "Epoch 950/1000\n",
      "2/2 [==============================] - 0s 5ms/step - loss: 9.2808 - mse: 185.9162\n",
      "Epoch 951/1000\n",
      "2/2 [==============================] - 0s 5ms/step - loss: 2.8502 - mse: 18.9216\n",
      "Epoch 952/1000\n",
      "2/2 [==============================] - 0s 6ms/step - loss: 33.0313 - mse: 1725.8441\n",
      "Epoch 953/1000\n",
      "2/2 [==============================] - 0s 5ms/step - loss: 30.5033 - mse: 1432.7496\n",
      "Epoch 954/1000\n",
      "2/2 [==============================] - 0s 5ms/step - loss: 13.8540 - mse: 326.2384\n",
      "Epoch 955/1000\n",
      "2/2 [==============================] - 0s 6ms/step - loss: 8.5190 - mse: 388.7973\n",
      "Epoch 956/1000\n",
      "2/2 [==============================] - 0s 5ms/step - loss: 14.0094 - mse: 271.7690\n",
      "Epoch 957/1000\n",
      "2/2 [==============================] - 0s 6ms/step - loss: 26.5443 - mse: 1006.7963\n",
      "Epoch 958/1000\n",
      "2/2 [==============================] - 0s 5ms/step - loss: 13.6798 - mse: 314.9880\n",
      "Epoch 959/1000\n",
      "2/2 [==============================] - 0s 8ms/step - loss: 6.2230 - mse: 117.9111\n",
      "Epoch 960/1000\n",
      "2/2 [==============================] - 0s 5ms/step - loss: 13.7275 - mse: 269.7630\n",
      "Epoch 961/1000\n",
      "2/2 [==============================] - 0s 6ms/step - loss: 18.2919 - mse: 550.0403\n",
      "Epoch 962/1000\n",
      "2/2 [==============================] - 0s 6ms/step - loss: 33.7199 - mse: 1668.0225\n",
      "Epoch 963/1000\n",
      "2/2 [==============================] - 0s 5ms/step - loss: 4.7282 - mse: 77.0759\n",
      "Epoch 964/1000\n",
      "2/2 [==============================] - 0s 5ms/step - loss: 18.3459 - mse: 455.2734\n",
      "Epoch 965/1000\n",
      "2/2 [==============================] - 0s 8ms/step - loss: 14.0113 - mse: 275.8953\n",
      "Epoch 966/1000\n",
      "2/2 [==============================] - 0s 8ms/step - loss: 11.7927 - mse: 244.3162\n",
      "Epoch 967/1000\n",
      "2/2 [==============================] - 0s 12ms/step - loss: 14.1911 - mse: 276.6164\n",
      "Epoch 968/1000\n",
      "2/2 [==============================] - 0s 7ms/step - loss: 25.4481 - mse: 963.0957\n",
      "Epoch 969/1000\n",
      "2/2 [==============================] - 0s 7ms/step - loss: 15.7368 - mse: 368.8291\n",
      "Epoch 970/1000\n",
      "2/2 [==============================] - 0s 6ms/step - loss: 9.0077 - mse: 272.0299\n",
      "Epoch 971/1000\n",
      "2/2 [==============================] - 0s 7ms/step - loss: 12.3594 - mse: 300.4020\n",
      "Epoch 972/1000\n",
      "2/2 [==============================] - 0s 7ms/step - loss: 25.7400 - mse: 933.4141\n",
      "Epoch 973/1000\n",
      "2/2 [==============================] - 0s 7ms/step - loss: 17.6134 - mse: 432.4019\n",
      "Epoch 974/1000\n",
      "2/2 [==============================] - 0s 7ms/step - loss: 10.4141 - mse: 254.2191\n",
      "Epoch 975/1000\n",
      "2/2 [==============================] - 0s 5ms/step - loss: 13.4125 - mse: 264.3881\n",
      "Epoch 976/1000\n",
      "2/2 [==============================] - 0s 5ms/step - loss: 11.1527 - mse: 312.1703\n",
      "Epoch 977/1000\n",
      "2/2 [==============================] - 0s 5ms/step - loss: 15.0294 - mse: 327.1660\n",
      "Epoch 978/1000\n",
      "2/2 [==============================] - 0s 5ms/step - loss: 23.3685 - mse: 805.0060\n",
      "Epoch 979/1000\n",
      "2/2 [==============================] - 0s 5ms/step - loss: 18.4249 - mse: 483.6097\n",
      "Epoch 980/1000\n",
      "2/2 [==============================] - 0s 6ms/step - loss: 5.3458 - mse: 112.1096\n",
      "Epoch 981/1000\n",
      "2/2 [==============================] - 0s 6ms/step - loss: 17.7273 - mse: 505.2542\n",
      "Epoch 982/1000\n",
      "2/2 [==============================] - 0s 8ms/step - loss: 16.7910 - mse: 438.9355\n",
      "Epoch 983/1000\n",
      "2/2 [==============================] - 0s 9ms/step - loss: 22.3358 - mse: 767.5541\n",
      "Epoch 984/1000\n",
      "2/2 [==============================] - 0s 6ms/step - loss: 22.0835 - mse: 684.6302\n",
      "Epoch 985/1000\n",
      "2/2 [==============================] - 0s 5ms/step - loss: 7.1096 - mse: 116.5402\n",
      "Epoch 986/1000\n",
      "2/2 [==============================] - 0s 5ms/step - loss: 15.7260 - mse: 405.9450\n",
      "Epoch 987/1000\n",
      "2/2 [==============================] - 0s 6ms/step - loss: 24.6002 - mse: 924.8626\n",
      "Epoch 988/1000\n",
      "2/2 [==============================] - 0s 9ms/step - loss: 15.7316 - mse: 372.6977\n",
      "Epoch 989/1000\n",
      "2/2 [==============================] - 0s 5ms/step - loss: 11.7839 - mse: 228.1932\n",
      "Epoch 990/1000\n",
      "2/2 [==============================] - 0s 5ms/step - loss: 13.2870 - mse: 268.3951\n",
      "Epoch 991/1000\n",
      "2/2 [==============================] - 0s 10ms/step - loss: 16.1093 - mse: 421.9712\n",
      "Epoch 992/1000\n",
      "2/2 [==============================] - 0s 5ms/step - loss: 24.8915 - mse: 914.1935\n",
      "Epoch 993/1000\n",
      "2/2 [==============================] - 0s 5ms/step - loss: 18.3367 - mse: 483.0309\n",
      "Epoch 994/1000\n",
      "2/2 [==============================] - 0s 4ms/step - loss: 7.9069 - mse: 265.7172\n",
      "Epoch 995/1000\n",
      "2/2 [==============================] - 0s 11ms/step - loss: 13.7758 - mse: 262.9382\n",
      "Epoch 996/1000\n",
      "2/2 [==============================] - 0s 6ms/step - loss: 20.9951 - mse: 691.9067\n",
      "Epoch 997/1000\n",
      "2/2 [==============================] - 0s 8ms/step - loss: 26.2341 - mse: 988.4487\n",
      "Epoch 998/1000\n",
      "2/2 [==============================] - 0s 5ms/step - loss: 4.1849 - mse: 77.0103\n",
      "Epoch 999/1000\n",
      "2/2 [==============================] - 0s 6ms/step - loss: 7.9045 - mse: 169.2740\n",
      "Epoch 1000/1000\n",
      "2/2 [==============================] - 0s 5ms/step - loss: 13.8485 - mse: 267.2649\n"
     ]
    },
    {
     "data": {
      "text/plain": [
       "<keras.callbacks.History at 0x7fdad852ead0>"
      ]
     },
     "execution_count": 248,
     "metadata": {},
     "output_type": "execute_result"
    }
   ],
   "source": [
    "#set random seed\n",
    "tf.random.set_seed(42)\n",
    "#1. Create the model\n",
    "model_3=tf.keras.Sequential([\n",
    "    tf.keras.layers.Dense(10),\n",
    "    tf.keras.layers.Dense(1)\n",
    "])\n",
    "#2 Compile the model\n",
    "model_3.compile(loss=tf.keras.losses.mae,\n",
    "                optimizer=tf.keras.optimizers.SGD(),\n",
    "                metrics=[\"mse\"]\n",
    "\n",
    "                )\n",
    "#3. Fit the model\n",
    "model_3.fit(X_train,y_train,epochs=1000)"
   ]
  },
  {
   "cell_type": "code",
   "execution_count": 249,
   "metadata": {
    "colab": {
     "base_uri": "https://localhost:8080/",
     "height": 445
    },
    "executionInfo": {
     "elapsed": 171,
     "status": "ok",
     "timestamp": 1668399807728,
     "user": {
      "displayName": "Mudit Kumar",
      "userId": "12518861077253144202"
     },
     "user_tz": -330
    },
    "id": "8-LeUDMkXK7k",
    "outputId": "1e0e76fd-0b2d-4e81-afee-c9e6d366d6b8"
   },
   "outputs": [
    {
     "name": "stdout",
     "output_type": "stream",
     "text": [
      "1/1 [==============================] - 0s 58ms/step\n"
     ]
    },
    {
     "data": {
      "image/png": "[encoded data removed]",
      "text/plain": [
       "<Figure size 720x504 with 1 Axes>"
      ]
     },
     "metadata": {
      "needs_background": "light"
     },
     "output_type": "display_data"
    }
   ],
   "source": [
    "# Make and plot predictions\n",
    "y_preds_3=model_3.predict(X_test)\n",
    "plot_prediction(predictions=y_preds_3)"
   ]
  },
  {
   "cell_type": "code",
   "execution_count": 250,
   "metadata": {
    "colab": {
     "base_uri": "https://localhost:8080/"
    },
    "executionInfo": {
     "elapsed": 144,
     "status": "ok",
     "timestamp": 1668399807729,
     "user": {
      "displayName": "Mudit Kumar",
      "userId": "12518861077253144202"
     },
     "user_tz": -330
    },
    "id": "oEY1jsdeXgYu",
    "outputId": "dd9c17c1-c63e-48cd-d77c-02ac396ed5ff"
   },
   "outputs": [
    {
     "data": {
      "text/plain": [
       "(<tf.Tensor: shape=(), dtype=float32, numpy=44.216827>,\n",
       " <tf.Tensor: shape=(), dtype=float32, numpy=1992.3018>)"
      ]
     },
     "execution_count": 250,
     "metadata": {},
     "output_type": "execute_result"
    }
   ],
   "source": [
    "# Calculation model_2 evaluation metrics\n",
    "mae_3=mae(y_test,y_preds_3)\n",
    "mse_3=mse(y_test,y_preds_3)\n",
    "mae_3,mse_3"
   ]
  },
  {
   "cell_type": "markdown",
   "metadata": {
    "id": "-fi-91Yia7Mh"
   },
   "source": [
    "Note : You want to start with small experiments(small models) and make sure they work and then increase their scale when necessary."
   ]
  },
  {
   "cell_type": "markdown",
   "metadata": {
    "id": "Hj0XNF5zXnR-"
   },
   "source": [
    "## Comparing the result of our Experiment\n",
    "Let's compare the result"
   ]
  },
  {
   "cell_type": "code",
   "execution_count": 251,
   "metadata": {
    "colab": {
     "base_uri": "https://localhost:8080/",
     "height": 143
    },
    "executionInfo": {
     "elapsed": 141,
     "status": "ok",
     "timestamp": 1668399807729,
     "user": {
      "displayName": "Mudit Kumar",
      "userId": "12518861077253144202"
     },
     "user_tz": -330
    },
    "id": "15ZgpJISYQ9_",
    "outputId": "bae005cb-da7d-4a8d-9e5a-98a3965809d9"
   },
   "outputs": [
    {
     "data": {
      "text/html": [
       "\n",
       "  <div id=\"df-8e0b5d3b-feef-4ec2-bb1f-2bdce8387045\">\n",
       "    <div class=\"colab-df-container\">\n",
       "      <div>\n",
       "<style scoped>\n",
       "    .dataframe tbody tr th:only-of-type {\n",
       "        vertical-align: middle;\n",
       "    }\n",
       "\n",
       "    .dataframe tbody tr th {\n",
       "        vertical-align: top;\n",
       "    }\n",
       "\n",
       "    .dataframe thead th {\n",
       "        text-align: right;\n",
       "    }\n",
       "</style>\n",
       "<table border=\"1\" class=\"dataframe\">\n",
       "  <thead>\n",
       "    <tr style=\"text-align: right;\">\n",
       "      <th></th>\n",
       "      <th>Model</th>\n",
       "      <th>Mae</th>\n",
       "      <th>Mse</th>\n",
       "    </tr>\n",
       "  </thead>\n",
       "  <tbody>\n",
       "    <tr>\n",
       "      <th>0</th>\n",
       "      <td>Model_1</td>\n",
       "      <td>18.745327</td>\n",
       "      <td>353.573395</td>\n",
       "    </tr>\n",
       "    <tr>\n",
       "      <th>1</th>\n",
       "      <td>Model_2</td>\n",
       "      <td>3.196947</td>\n",
       "      <td>13.070175</td>\n",
       "    </tr>\n",
       "    <tr>\n",
       "      <th>2</th>\n",
       "      <td>Model_3</td>\n",
       "      <td>44.216827</td>\n",
       "      <td>1992.301758</td>\n",
       "    </tr>\n",
       "  </tbody>\n",
       "</table>\n",
       "</div>\n",
       "      <button class=\"colab-df-convert\" onclick=\"convertToInteractive('df-8e0b5d3b-feef-4ec2-bb1f-2bdce8387045')\"\n",
       "              title=\"Convert this dataframe to an interactive table.\"\n",
       "              style=\"display:none;\">\n",
       "        \n",
       "  <svg xmlns=\"http://www.w3.org/2000/svg\" height=\"24px\"viewBox=\"0 0 24 24\"\n",
       "       width=\"24px\">\n",
       "    <path d=\"M0 0h24v24H0V0z\" fill=\"none\"/>\n",
       "    <path d=\"M18.56 5.44l.94 2.06.94-2.06 2.06-.94-2.06-.94-.94-2.06-.94 2.06-2.06.94zm-11 1L8.5 8.5l.94-2.06 2.06-.94-2.06-.94L8.5 2.5l-.94 2.06-2.06.94zm10 10l.94 2.06.94-2.06 2.06-.94-2.06-.94-.94-2.06-.94 2.06-2.06.94z\"/><path d=\"M17.41 7.96l-1.37-1.37c-.4-.4-.92-.59-1.43-.59-.52 0-1.04.2-1.43.59L10.3 9.45l-7.72 7.72c-.78.78-.78 2.05 0 2.83L4 21.41c.39.39.9.59 1.41.59.51 0 1.02-.2 1.41-.59l7.78-7.78 2.81-2.81c.8-.78.8-2.07 0-2.86zM5.41 20L4 18.59l7.72-7.72 1.47 1.35L5.41 20z\"/>\n",
       "  </svg>\n",
       "      </button>\n",
       "      \n",
       "  <style>\n",
       "    .colab-df-container {\n",
       "      display:flex;\n",
       "      flex-wrap:wrap;\n",
       "      gap: 12px;\n",
       "    }\n",
       "\n",
       "    .colab-df-convert {\n",
       "      background-color: #E8F0FE;\n",
       "      border: none;\n",
       "      border-radius: 50%;\n",
       "      cursor: pointer;\n",
       "      display: none;\n",
       "      fill: #1967D2;\n",
       "      height: 32px;\n",
       "      padding: 0 0 0 0;\n",
       "      width: 32px;\n",
       "    }\n",
       "\n",
       "    .colab-df-convert:hover {\n",
       "      background-color: #E2EBFA;\n",
       "      box-shadow: 0px 1px 2px rgba(60, 64, 67, 0.3), 0px 1px 3px 1px rgba(60, 64, 67, 0.15);\n",
       "      fill: #174EA6;\n",
       "    }\n",
       "\n",
       "    [theme=dark] .colab-df-convert {\n",
       "      background-color: #3B4455;\n",
       "      fill: #D2E3FC;\n",
       "    }\n",
       "\n",
       "    [theme=dark] .colab-df-convert:hover {\n",
       "      background-color: #434B5C;\n",
       "      box-shadow: 0px 1px 3px 1px rgba(0, 0, 0, 0.15);\n",
       "      filter: drop-shadow(0px 1px 2px rgba(0, 0, 0, 0.3));\n",
       "      fill: #FFFFFF;\n",
       "    }\n",
       "  </style>\n",
       "\n",
       "      <script>\n",
       "        const buttonEl =\n",
       "          document.querySelector('#df-8e0b5d3b-feef-4ec2-bb1f-2bdce8387045 button.colab-df-convert');\n",
       "        buttonEl.style.display =\n",
       "          google.colab.kernel.accessAllowed ? 'block' : 'none';\n",
       "\n",
       "        async function convertToInteractive(key) {\n",
       "          const element = document.querySelector('#df-8e0b5d3b-feef-4ec2-bb1f-2bdce8387045');\n",
       "          const dataTable =\n",
       "            await google.colab.kernel.invokeFunction('convertToInteractive',\n",
       "                                                     [key], {});\n",
       "          if (!dataTable) return;\n",
       "\n",
       "          const docLinkHtml = 'Like what you see? Visit the ' +\n",
       "            '<a target=\"_blank\" href=https://colab.research.google.com/notebooks/data_table.ipynb>data table notebook</a>'\n",
       "            + ' to learn more about interactive tables.';\n",
       "          element.innerHTML = '';\n",
       "          dataTable['output_type'] = 'display_data';\n",
       "          await google.colab.output.renderOutput(dataTable, element);\n",
       "          const docLink = document.createElement('div');\n",
       "          docLink.innerHTML = docLinkHtml;\n",
       "          element.appendChild(docLink);\n",
       "        }\n",
       "      </script>\n",
       "    </div>\n",
       "  </div>\n",
       "  "
      ],
      "text/plain": [
       "     Model        Mae          Mse\n",
       "0  Model_1  18.745327   353.573395\n",
       "1  Model_2   3.196947    13.070175\n",
       "2  Model_3  44.216827  1992.301758"
      ]
     },
     "execution_count": 251,
     "metadata": {},
     "output_type": "execute_result"
    }
   ],
   "source": [
    "# Let's compare our model's result using pandas Dataframe\n",
    "import pandas as pd\n",
    "\n",
    "model_results=[[\"Model_1\",mae_1.numpy(),mse_1.numpy()],\n",
    "               [\"Model_2\",mae_2.numpy(),mse_2.numpy()],\n",
    "               [\"Model_3\",mae_3.numpy(),mse_3.numpy()]\n",
    "               ]\n",
    "all_results=pd.DataFrame(model_results,columns=[\"Model\",\"Mae\",\"Mse\"]) \n",
    "all_results              "
   ]
  },
  {
   "cell_type": "markdown",
   "metadata": {
    "id": "TTSNrYz1eTQX"
   },
   "source": [
    "Model 2 performs the best ."
   ]
  },
  {
   "cell_type": "code",
   "execution_count": 252,
   "metadata": {
    "colab": {
     "base_uri": "https://localhost:8080/"
    },
    "executionInfo": {
     "elapsed": 141,
     "status": "ok",
     "timestamp": 1668399807730,
     "user": {
      "displayName": "Mudit Kumar",
      "userId": "12518861077253144202"
     },
     "user_tz": -330
    },
    "id": "afxBjFjoc7j8",
    "outputId": "d379f98b-b48a-4864-9477-2286231ee84a"
   },
   "outputs": [
    {
     "name": "stdout",
     "output_type": "stream",
     "text": [
      "Model: \"sequential_24\"\n",
      "_________________________________________________________________\n",
      " Layer (type)                Output Shape              Param #   \n",
      "=================================================================\n",
      " dense_59 (Dense)            (None, 10)                20        \n",
      "                                                                 \n",
      " dense_60 (Dense)            (None, 1)                 11        \n",
      "                                                                 \n",
      "=================================================================\n",
      "Total params: 31\n",
      "Trainable params: 31\n",
      "Non-trainable params: 0\n",
      "_________________________________________________________________\n"
     ]
    }
   ],
   "source": [
    "model_2.summary()"
   ]
  },
  {
   "cell_type": "code",
   "execution_count": 253,
   "metadata": {
    "colab": {
     "base_uri": "https://localhost:8080/",
     "height": 312
    },
    "executionInfo": {
     "elapsed": 137,
     "status": "ok",
     "timestamp": 1668399807730,
     "user": {
      "displayName": "Mudit Kumar",
      "userId": "12518861077253144202"
     },
     "user_tz": -330
    },
    "id": "1vhjB76gd2lK",
    "outputId": "e2a4aa53-6886-4420-8e54-abdd718208ba"
   },
   "outputs": [
    {
     "data": {
      "image/png": "[encoded data removed]",
      "text/plain": [
       "<IPython.core.display.Image object>"
      ]
     },
     "execution_count": 253,
     "metadata": {},
     "output_type": "execute_result"
    }
   ],
   "source": [
    "tf.keras.utils.plot_model(model_2, show_shapes=True)"
   ]
  },
  {
   "cell_type": "markdown",
   "metadata": {
    "id": "-fNGgtZceKno"
   },
   "source": [
    "## *Note* : One of main goals should be to minimize the time between our experiments . The more experiment you do , the more things you will figure out which dont work and in turn ,  get closer  to figuring out what does work . \"ExperimentX3\""
   ]
  },
  {
   "cell_type": "markdown",
   "metadata": {
    "id": "FWV2bYVZfaG4"
   },
   "source": [
    "### Tracking your experiments\n",
    "One really good habit in Ml modeling is to track the result of your experiment\n",
    "\n",
    "And when doing so , it can be tedious if u running lots of experiments.\n",
    "\n",
    "Tools:\n",
    "* TensorBoard - a component of the tensorflow library to help track modelling experiments\n",
    "* Weights & Baises"
   ]
  },
  {
   "cell_type": "markdown",
   "metadata": {
    "id": "_bfBnaeAirUa"
   },
   "source": [
    "### Saving our models\n",
    "Saving our models allows us to use them outside of Google collab (or wherever they were trained) such as in web application or a mobile app\n",
    "\n",
    "2 ways to save our model's :\n",
    "1. The SavedModel format\n",
    "2. The HDF5 format"
   ]
  },
  {
   "cell_type": "code",
   "execution_count": 254,
   "metadata": {
    "executionInfo": {
     "elapsed": 137,
     "status": "ok",
     "timestamp": 1668399807731,
     "user": {
      "displayName": "Mudit Kumar",
      "userId": "12518861077253144202"
     },
     "user_tz": -330
    },
    "id": "dx1bO14RkXlw"
   },
   "outputs": [],
   "source": [
    " #save model  using savemodel format\n",
    "model_2.save(\"Best_Model_Savedmodel_format\")"
   ]
  },
  {
   "cell_type": "code",
   "execution_count": 255,
   "metadata": {
    "executionInfo": {
     "elapsed": 137,
     "status": "ok",
     "timestamp": 1668399807731,
     "user": {
      "displayName": "Mudit Kumar",
      "userId": "12518861077253144202"
     },
     "user_tz": -330
    },
    "id": "-LvgatKMUvFG"
   },
   "outputs": [],
   "source": [
    "# Save model using HDF5 format\n",
    "model_2.save(\"Best_model_HDF5_format.h5\")"
   ]
  },
  {
   "cell_type": "markdown",
   "metadata": {
    "id": "MoiI1ZrogbhV"
   },
   "source": [
    "## Loading in save model"
   ]
  },
  {
   "cell_type": "code",
   "execution_count": 256,
   "metadata": {
    "executionInfo": {
     "elapsed": 138,
     "status": "ok",
     "timestamp": 1668399807732,
     "user": {
      "displayName": "Mudit Kumar",
      "userId": "12518861077253144202"
     },
     "user_tz": -330
    },
    "id": "fOxR8ZT6tlXv"
   },
   "outputs": [],
   "source": [
    "# Load in SaveModel format model\n",
    "loaded_SaveModel_format=tf.keras.models.load_model(\"/content/Best_Model_Savedmodel_format\")"
   ]
  },
  {
   "cell_type": "code",
   "execution_count": 257,
   "metadata": {
    "colab": {
     "base_uri": "https://localhost:8080/"
    },
    "executionInfo": {
     "elapsed": 139,
     "status": "ok",
     "timestamp": 1668399807733,
     "user": {
      "displayName": "Mudit Kumar",
      "userId": "12518861077253144202"
     },
     "user_tz": -330
    },
    "id": "oC9lQcfbuEtz",
    "outputId": "7aa4c64f-92be-41a4-c9ea-b47f6e7d56dd"
   },
   "outputs": [
    {
     "name": "stdout",
     "output_type": "stream",
     "text": [
      "Model: \"sequential_24\"\n",
      "_________________________________________________________________\n",
      " Layer (type)                Output Shape              Param #   \n",
      "=================================================================\n",
      " dense_59 (Dense)            (None, 10)                20        \n",
      "                                                                 \n",
      " dense_60 (Dense)            (None, 1)                 11        \n",
      "                                                                 \n",
      "=================================================================\n",
      "Total params: 31\n",
      "Trainable params: 31\n",
      "Non-trainable params: 0\n",
      "_________________________________________________________________\n"
     ]
    }
   ],
   "source": [
    "loaded_SaveModel_format.summary()"
   ]
  },
  {
   "cell_type": "code",
   "execution_count": 258,
   "metadata": {
    "colab": {
     "base_uri": "https://localhost:8080/"
    },
    "executionInfo": {
     "elapsed": 136,
     "status": "ok",
     "timestamp": 1668399807734,
     "user": {
      "displayName": "Mudit Kumar",
      "userId": "12518861077253144202"
     },
     "user_tz": -330
    },
    "id": "QPqDnFEmuMMl",
    "outputId": "349f088e-d3c1-48bf-95c7-cfe69e2baf91"
   },
   "outputs": [
    {
     "name": "stdout",
     "output_type": "stream",
     "text": [
      "Model: \"sequential_24\"\n",
      "_________________________________________________________________\n",
      " Layer (type)                Output Shape              Param #   \n",
      "=================================================================\n",
      " dense_59 (Dense)            (None, 10)                20        \n",
      "                                                                 \n",
      " dense_60 (Dense)            (None, 1)                 11        \n",
      "                                                                 \n",
      "=================================================================\n",
      "Total params: 31\n",
      "Trainable params: 31\n",
      "Non-trainable params: 0\n",
      "_________________________________________________________________\n"
     ]
    }
   ],
   "source": [
    "model_2.summary()"
   ]
  },
  {
   "cell_type": "code",
   "execution_count": 259,
   "metadata": {
    "colab": {
     "base_uri": "https://localhost:8080/"
    },
    "executionInfo": {
     "elapsed": 130,
     "status": "ok",
     "timestamp": 1668399807734,
     "user": {
      "displayName": "Mudit Kumar",
      "userId": "12518861077253144202"
     },
     "user_tz": -330
    },
    "id": "s0GIbD-RuPux",
    "outputId": "c322e51d-651b-4aca-f790-997e057eaf6f"
   },
   "outputs": [
    {
     "name": "stdout",
     "output_type": "stream",
     "text": [
      "1/1 [==============================] - 0s 48ms/step\n",
      "1/1 [==============================] - 0s 58ms/step\n"
     ]
    },
    {
     "data": {
      "text/plain": [
       "array([[ True],\n",
       "       [ True],\n",
       "       [ True],\n",
       "       [ True],\n",
       "       [ True],\n",
       "       [ True],\n",
       "       [ True],\n",
       "       [ True],\n",
       "       [ True],\n",
       "       [ True]])"
      ]
     },
     "execution_count": 259,
     "metadata": {},
     "output_type": "execute_result"
    }
   ],
   "source": [
    "model_2_preds=model_2.predict(X_test)\n",
    "loaded_SaveModel_format_preds=loaded_SaveModel_format.predict(X_test)\n",
    "loaded_SaveModel_format_preds==model_2_preds"
   ]
  },
  {
   "cell_type": "code",
   "execution_count": 260,
   "metadata": {
    "colab": {
     "base_uri": "https://localhost:8080/"
    },
    "executionInfo": {
     "elapsed": 127,
     "status": "ok",
     "timestamp": 1668399807734,
     "user": {
      "displayName": "Mudit Kumar",
      "userId": "12518861077253144202"
     },
     "user_tz": -330
    },
    "id": "Cfl7wGaQuw1s",
    "outputId": "066db226-5b20-4b74-ca1f-1be1256ff8e1"
   },
   "outputs": [
    {
     "data": {
      "text/plain": [
       "<tf.Tensor: shape=(), dtype=bool, numpy=True>"
      ]
     },
     "execution_count": 260,
     "metadata": {},
     "output_type": "execute_result"
    }
   ],
   "source": [
    "mae(y_true=y_test,y_pred=model_2_preds)==mae(y_true=y_test,y_pred=loaded_SaveModel_format_preds)"
   ]
  },
  {
   "cell_type": "code",
   "execution_count": 261,
   "metadata": {
    "executionInfo": {
     "elapsed": 126,
     "status": "ok",
     "timestamp": 1668399807735,
     "user": {
      "displayName": "Mudit Kumar",
      "userId": "12518861077253144202"
     },
     "user_tz": -330
    },
    "id": "9f7loa98vjoW"
   },
   "outputs": [],
   "source": [
    "#Load in a model using .h5 format\n",
    "loaded_h5_format=tf.keras.models.load_model(\"/content/Best_model_HDF5_format.h5\")"
   ]
  },
  {
   "cell_type": "code",
   "execution_count": 262,
   "metadata": {
    "colab": {
     "base_uri": "https://localhost:8080/"
    },
    "executionInfo": {
     "elapsed": 125,
     "status": "ok",
     "timestamp": 1668399807735,
     "user": {
      "displayName": "Mudit Kumar",
      "userId": "12518861077253144202"
     },
     "user_tz": -330
    },
    "id": "wcjLKxzIwhIt",
    "outputId": "ca7c4256-94aa-4cc3-dcd0-c06b159de13c"
   },
   "outputs": [
    {
     "name": "stdout",
     "output_type": "stream",
     "text": [
      "1/1 [==============================] - 0s 59ms/step\n"
     ]
    }
   ],
   "source": [
    "loaded_h5_format_preds=loaded_h5_format.predict(X_test)\n"
   ]
  },
  {
   "cell_type": "code",
   "execution_count": 263,
   "metadata": {
    "colab": {
     "base_uri": "https://localhost:8080/"
    },
    "executionInfo": {
     "elapsed": 123,
     "status": "ok",
     "timestamp": 1668399807735,
     "user": {
      "displayName": "Mudit Kumar",
      "userId": "12518861077253144202"
     },
     "user_tz": -330
    },
    "id": "FNqbgp3XwpgL",
    "outputId": "46cf9a2f-3199-4dcd-eb31-d5ed805f551e"
   },
   "outputs": [
    {
     "data": {
      "text/plain": [
       "array([[ True],\n",
       "       [ True],\n",
       "       [ True],\n",
       "       [ True],\n",
       "       [ True],\n",
       "       [ True],\n",
       "       [ True],\n",
       "       [ True],\n",
       "       [ True],\n",
       "       [ True]])"
      ]
     },
     "execution_count": 263,
     "metadata": {},
     "output_type": "execute_result"
    }
   ],
   "source": [
    "loaded_h5_format_preds==model_2_preds"
   ]
  },
  {
   "cell_type": "markdown",
   "metadata": {
    "id": "sThb5Z3S3bY9"
   },
   "source": [
    "## Download a model (or any other file) from Google collab\n",
    "If u want to download your files from Google collab:\n",
    "1. Right click and Download\n",
    "2. Code \n",
    "3. Save it to google drive and copying it there"
   ]
  },
  {
   "cell_type": "code",
   "execution_count": 264,
   "metadata": {
    "colab": {
     "base_uri": "https://localhost:8080/",
     "height": 17
    },
    "executionInfo": {
     "elapsed": 121,
     "status": "ok",
     "timestamp": 1668399807736,
     "user": {
      "displayName": "Mudit Kumar",
      "userId": "12518861077253144202"
     },
     "user_tz": -330
    },
    "id": "ITu-7FY5KHGl",
    "outputId": "7f7602e3-295b-4b4c-fbff-d885c1126166"
   },
   "outputs": [
    {
     "data": {
      "application/javascript": [
       "\n",
       "    async function download(id, filename, size) {\n",
       "      if (!google.colab.kernel.accessAllowed) {\n",
       "        return;\n",
       "      }\n",
       "      const div = document.createElement('div');\n",
       "      const label = document.createElement('label');\n",
       "      label.textContent = `Downloading \"${filename}\": `;\n",
       "      div.appendChild(label);\n",
       "      const progress = document.createElement('progress');\n",
       "      progress.max = size;\n",
       "      div.appendChild(progress);\n",
       "      document.body.appendChild(div);\n",
       "\n",
       "      const buffers = [];\n",
       "      let downloaded = 0;\n",
       "\n",
       "      const channel = await google.colab.kernel.comms.open(id);\n",
       "      // Send a message to notify the kernel that we're ready.\n",
       "      channel.send({})\n",
       "\n",
       "      for await (const message of channel.messages) {\n",
       "        // Send a message to notify the kernel that we're ready.\n",
       "        channel.send({})\n",
       "        if (message.buffers) {\n",
       "          for (const buffer of message.buffers) {\n",
       "            buffers.push(buffer);\n",
       "            downloaded += buffer.byteLength;\n",
       "            progress.value = downloaded;\n",
       "          }\n",
       "        }\n",
       "      }\n",
       "      const blob = new Blob(buffers, {type: 'application/binary'});\n",
       "      const a = document.createElement('a');\n",
       "      a.href = window.URL.createObjectURL(blob);\n",
       "      a.download = filename;\n",
       "      div.appendChild(a);\n",
       "      a.click();\n",
       "      div.remove();\n",
       "    }\n",
       "  "
      ],
      "text/plain": [
       "<IPython.core.display.Javascript object>"
      ]
     },
     "metadata": {},
     "output_type": "display_data"
    },
    {
     "data": {
      "application/javascript": [
       "download(\"download_b00dd184-36a0-4e5b-852a-8f839e24fe0e\", \"Best_model_HDF5_format.h5\", 17872)"
      ],
      "text/plain": [
       "<IPython.core.display.Javascript object>"
      ]
     },
     "metadata": {},
     "output_type": "display_data"
    }
   ],
   "source": [
    "#Download a file from Google Colab\n",
    "from google.colab import files\n",
    "files.download(\"/content/Best_model_HDF5_format.h5\")"
   ]
  },
  {
   "cell_type": "code",
   "execution_count": 265,
   "metadata": {
    "executionInfo": {
     "elapsed": 120,
     "status": "ok",
     "timestamp": 1668399807736,
     "user": {
      "displayName": "Mudit Kumar",
      "userId": "12518861077253144202"
     },
     "user_tz": -330
    },
    "id": "ZCzHgSqKKoC2"
   },
   "outputs": [],
   "source": [
    "# Save a file from google collab to google drive \n",
    "!cp /content/Best_model_HDF5_format.h5  /content/drive/MyDrive"
   ]
  },
  {
   "cell_type": "markdown",
   "metadata": {
    "id": "dwRs8CiiOFU5"
   },
   "source": [
    "## A larger Example"
   ]
  },
  {
   "cell_type": "code",
   "execution_count": 266,
   "metadata": {
    "colab": {
     "base_uri": "https://localhost:8080/"
    },
    "executionInfo": {
     "elapsed": 119,
     "status": "ok",
     "timestamp": 1668399807736,
     "user": {
      "displayName": "Mudit Kumar",
      "userId": "12518861077253144202"
     },
     "user_tz": -330
    },
    "id": "l4RAwaSKezH6",
    "outputId": "564e50e5-3015-461d-c061-7cbbf043ebbc"
   },
   "outputs": [
    {
     "data": {
      "text/plain": [
       "(<tf.Tensor: shape=(40,), dtype=int32, numpy=\n",
       " array([-100,  -96,  -92,  -88,  -84,  -80,  -76,  -72,  -68,  -64,  -60,\n",
       "         -56,  -52,  -48,  -44,  -40,  -36,  -32,  -28,  -24,  -20,  -16,\n",
       "         -12,   -8,   -4,    0,    4,    8,   12,   16,   20,   24,   28,\n",
       "          32,   36,   40,   44,   48,   52,   56], dtype=int32)>,\n",
       " <tf.Tensor: shape=(40,), dtype=int32, numpy=\n",
       " array([-90, -86, -82, -78, -74, -70, -66, -62, -58, -54, -50, -46, -42,\n",
       "        -38, -34, -30, -26, -22, -18, -14, -10,  -6,  -2,   2,   6,  10,\n",
       "         14,  18,  22,  26,  30,  34,  38,  42,  46,  50,  54,  58,  62,\n",
       "         66], dtype=int32)>)"
      ]
     },
     "execution_count": 266,
     "metadata": {},
     "output_type": "execute_result"
    }
   ],
   "source": [
    "tf.squeeze(X_train),y_train"
   ]
  },
  {
   "cell_type": "code",
   "execution_count": 267,
   "metadata": {
    "executionInfo": {
     "elapsed": 116,
     "status": "ok",
     "timestamp": 1668399807737,
     "user": {
      "displayName": "Mudit Kumar",
      "userId": "12518861077253144202"
     },
     "user_tz": -330
    },
    "id": "N9ZS3YyefgRY"
   },
   "outputs": [],
   "source": [
    "#Import required libraries\n",
    "import tensorflow as tf\n",
    "import pandas as pd\n",
    "import numpy as np\n",
    "import matplotlib.pyplot as plt"
   ]
  },
  {
   "cell_type": "code",
   "execution_count": 268,
   "metadata": {
    "colab": {
     "base_uri": "https://localhost:8080/",
     "height": 424
    },
    "executionInfo": {
     "elapsed": 116,
     "status": "ok",
     "timestamp": 1668399807737,
     "user": {
      "displayName": "Mudit Kumar",
      "userId": "12518861077253144202"
     },
     "user_tz": -330
    },
    "id": "3fsEHeqbf-h9",
    "outputId": "a563f651-5cfc-402d-d758-e1f592dc7a61"
   },
   "outputs": [
    {
     "data": {
      "text/html": [
       "\n",
       "  <div id=\"df-fa732445-30ab-49dd-9ba7-d1ecb72decbc\">\n",
       "    <div class=\"colab-df-container\">\n",
       "      <div>\n",
       "<style scoped>\n",
       "    .dataframe tbody tr th:only-of-type {\n",
       "        vertical-align: middle;\n",
       "    }\n",
       "\n",
       "    .dataframe tbody tr th {\n",
       "        vertical-align: top;\n",
       "    }\n",
       "\n",
       "    .dataframe thead th {\n",
       "        text-align: right;\n",
       "    }\n",
       "</style>\n",
       "<table border=\"1\" class=\"dataframe\">\n",
       "  <thead>\n",
       "    <tr style=\"text-align: right;\">\n",
       "      <th></th>\n",
       "      <th>age</th>\n",
       "      <th>sex</th>\n",
       "      <th>bmi</th>\n",
       "      <th>children</th>\n",
       "      <th>smoker</th>\n",
       "      <th>region</th>\n",
       "      <th>charges</th>\n",
       "    </tr>\n",
       "  </thead>\n",
       "  <tbody>\n",
       "    <tr>\n",
       "      <th>0</th>\n",
       "      <td>19</td>\n",
       "      <td>female</td>\n",
       "      <td>27.900</td>\n",
       "      <td>0</td>\n",
       "      <td>yes</td>\n",
       "      <td>southwest</td>\n",
       "      <td>16884.92400</td>\n",
       "    </tr>\n",
       "    <tr>\n",
       "      <th>1</th>\n",
       "      <td>18</td>\n",
       "      <td>male</td>\n",
       "      <td>33.770</td>\n",
       "      <td>1</td>\n",
       "      <td>no</td>\n",
       "      <td>southeast</td>\n",
       "      <td>1725.55230</td>\n",
       "    </tr>\n",
       "    <tr>\n",
       "      <th>2</th>\n",
       "      <td>28</td>\n",
       "      <td>male</td>\n",
       "      <td>33.000</td>\n",
       "      <td>3</td>\n",
       "      <td>no</td>\n",
       "      <td>southeast</td>\n",
       "      <td>4449.46200</td>\n",
       "    </tr>\n",
       "    <tr>\n",
       "      <th>3</th>\n",
       "      <td>33</td>\n",
       "      <td>male</td>\n",
       "      <td>22.705</td>\n",
       "      <td>0</td>\n",
       "      <td>no</td>\n",
       "      <td>northwest</td>\n",
       "      <td>21984.47061</td>\n",
       "    </tr>\n",
       "    <tr>\n",
       "      <th>4</th>\n",
       "      <td>32</td>\n",
       "      <td>male</td>\n",
       "      <td>28.880</td>\n",
       "      <td>0</td>\n",
       "      <td>no</td>\n",
       "      <td>northwest</td>\n",
       "      <td>3866.85520</td>\n",
       "    </tr>\n",
       "    <tr>\n",
       "      <th>...</th>\n",
       "      <td>...</td>\n",
       "      <td>...</td>\n",
       "      <td>...</td>\n",
       "      <td>...</td>\n",
       "      <td>...</td>\n",
       "      <td>...</td>\n",
       "      <td>...</td>\n",
       "    </tr>\n",
       "    <tr>\n",
       "      <th>1333</th>\n",
       "      <td>50</td>\n",
       "      <td>male</td>\n",
       "      <td>30.970</td>\n",
       "      <td>3</td>\n",
       "      <td>no</td>\n",
       "      <td>northwest</td>\n",
       "      <td>10600.54830</td>\n",
       "    </tr>\n",
       "    <tr>\n",
       "      <th>1334</th>\n",
       "      <td>18</td>\n",
       "      <td>female</td>\n",
       "      <td>31.920</td>\n",
       "      <td>0</td>\n",
       "      <td>no</td>\n",
       "      <td>northeast</td>\n",
       "      <td>2205.98080</td>\n",
       "    </tr>\n",
       "    <tr>\n",
       "      <th>1335</th>\n",
       "      <td>18</td>\n",
       "      <td>female</td>\n",
       "      <td>36.850</td>\n",
       "      <td>0</td>\n",
       "      <td>no</td>\n",
       "      <td>southeast</td>\n",
       "      <td>1629.83350</td>\n",
       "    </tr>\n",
       "    <tr>\n",
       "      <th>1336</th>\n",
       "      <td>21</td>\n",
       "      <td>female</td>\n",
       "      <td>25.800</td>\n",
       "      <td>0</td>\n",
       "      <td>no</td>\n",
       "      <td>southwest</td>\n",
       "      <td>2007.94500</td>\n",
       "    </tr>\n",
       "    <tr>\n",
       "      <th>1337</th>\n",
       "      <td>61</td>\n",
       "      <td>female</td>\n",
       "      <td>29.070</td>\n",
       "      <td>0</td>\n",
       "      <td>yes</td>\n",
       "      <td>northwest</td>\n",
       "      <td>29141.36030</td>\n",
       "    </tr>\n",
       "  </tbody>\n",
       "</table>\n",
       "<p>1338 rows × 7 columns</p>\n",
       "</div>\n",
       "      <button class=\"colab-df-convert\" onclick=\"convertToInteractive('df-fa732445-30ab-49dd-9ba7-d1ecb72decbc')\"\n",
       "              title=\"Convert this dataframe to an interactive table.\"\n",
       "              style=\"display:none;\">\n",
       "        \n",
       "  <svg xmlns=\"http://www.w3.org/2000/svg\" height=\"24px\"viewBox=\"0 0 24 24\"\n",
       "       width=\"24px\">\n",
       "    <path d=\"M0 0h24v24H0V0z\" fill=\"none\"/>\n",
       "    <path d=\"M18.56 5.44l.94 2.06.94-2.06 2.06-.94-2.06-.94-.94-2.06-.94 2.06-2.06.94zm-11 1L8.5 8.5l.94-2.06 2.06-.94-2.06-.94L8.5 2.5l-.94 2.06-2.06.94zm10 10l.94 2.06.94-2.06 2.06-.94-2.06-.94-.94-2.06-.94 2.06-2.06.94z\"/><path d=\"M17.41 7.96l-1.37-1.37c-.4-.4-.92-.59-1.43-.59-.52 0-1.04.2-1.43.59L10.3 9.45l-7.72 7.72c-.78.78-.78 2.05 0 2.83L4 21.41c.39.39.9.59 1.41.59.51 0 1.02-.2 1.41-.59l7.78-7.78 2.81-2.81c.8-.78.8-2.07 0-2.86zM5.41 20L4 18.59l7.72-7.72 1.47 1.35L5.41 20z\"/>\n",
       "  </svg>\n",
       "      </button>\n",
       "      \n",
       "  <style>\n",
       "    .colab-df-container {\n",
       "      display:flex;\n",
       "      flex-wrap:wrap;\n",
       "      gap: 12px;\n",
       "    }\n",
       "\n",
       "    .colab-df-convert {\n",
       "      background-color: #E8F0FE;\n",
       "      border: none;\n",
       "      border-radius: 50%;\n",
       "      cursor: pointer;\n",
       "      display: none;\n",
       "      fill: #1967D2;\n",
       "      height: 32px;\n",
       "      padding: 0 0 0 0;\n",
       "      width: 32px;\n",
       "    }\n",
       "\n",
       "    .colab-df-convert:hover {\n",
       "      background-color: #E2EBFA;\n",
       "      box-shadow: 0px 1px 2px rgba(60, 64, 67, 0.3), 0px 1px 3px 1px rgba(60, 64, 67, 0.15);\n",
       "      fill: #174EA6;\n",
       "    }\n",
       "\n",
       "    [theme=dark] .colab-df-convert {\n",
       "      background-color: #3B4455;\n",
       "      fill: #D2E3FC;\n",
       "    }\n",
       "\n",
       "    [theme=dark] .colab-df-convert:hover {\n",
       "      background-color: #434B5C;\n",
       "      box-shadow: 0px 1px 3px 1px rgba(0, 0, 0, 0.15);\n",
       "      filter: drop-shadow(0px 1px 2px rgba(0, 0, 0, 0.3));\n",
       "      fill: #FFFFFF;\n",
       "    }\n",
       "  </style>\n",
       "\n",
       "      <script>\n",
       "        const buttonEl =\n",
       "          document.querySelector('#df-fa732445-30ab-49dd-9ba7-d1ecb72decbc button.colab-df-convert');\n",
       "        buttonEl.style.display =\n",
       "          google.colab.kernel.accessAllowed ? 'block' : 'none';\n",
       "\n",
       "        async function convertToInteractive(key) {\n",
       "          const element = document.querySelector('#df-fa732445-30ab-49dd-9ba7-d1ecb72decbc');\n",
       "          const dataTable =\n",
       "            await google.colab.kernel.invokeFunction('convertToInteractive',\n",
       "                                                     [key], {});\n",
       "          if (!dataTable) return;\n",
       "\n",
       "          const docLinkHtml = 'Like what you see? Visit the ' +\n",
       "            '<a target=\"_blank\" href=https://colab.research.google.com/notebooks/data_table.ipynb>data table notebook</a>'\n",
       "            + ' to learn more about interactive tables.';\n",
       "          element.innerHTML = '';\n",
       "          dataTable['output_type'] = 'display_data';\n",
       "          await google.colab.output.renderOutput(dataTable, element);\n",
       "          const docLink = document.createElement('div');\n",
       "          docLink.innerHTML = docLinkHtml;\n",
       "          element.appendChild(docLink);\n",
       "        }\n",
       "      </script>\n",
       "    </div>\n",
       "  </div>\n",
       "  "
      ],
      "text/plain": [
       "      age     sex     bmi  children smoker     region      charges\n",
       "0      19  female  27.900         0    yes  southwest  16884.92400\n",
       "1      18    male  33.770         1     no  southeast   1725.55230\n",
       "2      28    male  33.000         3     no  southeast   4449.46200\n",
       "3      33    male  22.705         0     no  northwest  21984.47061\n",
       "4      32    male  28.880         0     no  northwest   3866.85520\n",
       "...   ...     ...     ...       ...    ...        ...          ...\n",
       "1333   50    male  30.970         3     no  northwest  10600.54830\n",
       "1334   18  female  31.920         0     no  northeast   2205.98080\n",
       "1335   18  female  36.850         0     no  southeast   1629.83350\n",
       "1336   21  female  25.800         0     no  southwest   2007.94500\n",
       "1337   61  female  29.070         0    yes  northwest  29141.36030\n",
       "\n",
       "[1338 rows x 7 columns]"
      ]
     },
     "execution_count": 268,
     "metadata": {},
     "output_type": "execute_result"
    }
   ],
   "source": [
    "# Read in the insurance dataset\n",
    "insurance=pd.read_csv(\"https://raw.githubusercontent.com/stedy/Machine-Learning-with-R-datasets/master/insurance.csv\")\n",
    "insurance"
   ]
  },
  {
   "cell_type": "code",
   "execution_count": 269,
   "metadata": {
    "colab": {
     "base_uri": "https://localhost:8080/"
    },
    "executionInfo": {
     "elapsed": 116,
     "status": "ok",
     "timestamp": 1668399807738,
     "user": {
      "displayName": "Mudit Kumar",
      "userId": "12518861077253144202"
     },
     "user_tz": -330
    },
    "id": "s1BxP3-OnfUG",
    "outputId": "615d3d79-cb93-4ef2-bc14-0ca56c6e7f1d"
   },
   "outputs": [
    {
     "data": {
      "text/plain": [
       "0       female\n",
       "1         male\n",
       "2         male\n",
       "3         male\n",
       "4         male\n",
       "         ...  \n",
       "1333      male\n",
       "1334    female\n",
       "1335    female\n",
       "1336    female\n",
       "1337    female\n",
       "Name: sex, Length: 1338, dtype: object"
      ]
     },
     "execution_count": 269,
     "metadata": {},
     "output_type": "execute_result"
    }
   ],
   "source": [
    "insurance[\"sex\"]"
   ]
  },
  {
   "cell_type": "code",
   "execution_count": 270,
   "metadata": {
    "colab": {
     "base_uri": "https://localhost:8080/"
    },
    "executionInfo": {
     "elapsed": 113,
     "status": "ok",
     "timestamp": 1668399807738,
     "user": {
      "displayName": "Mudit Kumar",
      "userId": "12518861077253144202"
     },
     "user_tz": -330
    },
    "id": "3PBNtTOStHrG",
    "outputId": "92c0417f-3f97-43a4-87af-930eb556da43"
   },
   "outputs": [
    {
     "data": {
      "text/plain": [
       "0       yes\n",
       "1        no\n",
       "2        no\n",
       "3        no\n",
       "4        no\n",
       "       ... \n",
       "1333     no\n",
       "1334     no\n",
       "1335     no\n",
       "1336     no\n",
       "1337    yes\n",
       "Name: smoker, Length: 1338, dtype: object"
      ]
     },
     "execution_count": 270,
     "metadata": {},
     "output_type": "execute_result"
    }
   ],
   "source": [
    "insurance[\"smoker\"]"
   ]
  },
  {
   "cell_type": "code",
   "execution_count": 271,
   "metadata": {
    "colab": {
     "base_uri": "https://localhost:8080/",
     "height": 270
    },
    "executionInfo": {
     "elapsed": 110,
     "status": "ok",
     "timestamp": 1668399807738,
     "user": {
      "displayName": "Mudit Kumar",
      "userId": "12518861077253144202"
     },
     "user_tz": -330
    },
    "id": "0PhZld54ugAC",
    "outputId": "e72d593a-a896-41f7-cd03-65d67c3e5f4f"
   },
   "outputs": [
    {
     "data": {
      "text/html": [
       "\n",
       "  <div id=\"df-390c6679-86e6-4bac-85fc-7664f0590090\">\n",
       "    <div class=\"colab-df-container\">\n",
       "      <div>\n",
       "<style scoped>\n",
       "    .dataframe tbody tr th:only-of-type {\n",
       "        vertical-align: middle;\n",
       "    }\n",
       "\n",
       "    .dataframe tbody tr th {\n",
       "        vertical-align: top;\n",
       "    }\n",
       "\n",
       "    .dataframe thead th {\n",
       "        text-align: right;\n",
       "    }\n",
       "</style>\n",
       "<table border=\"1\" class=\"dataframe\">\n",
       "  <thead>\n",
       "    <tr style=\"text-align: right;\">\n",
       "      <th></th>\n",
       "      <th>age</th>\n",
       "      <th>bmi</th>\n",
       "      <th>children</th>\n",
       "      <th>charges</th>\n",
       "      <th>sex_female</th>\n",
       "      <th>sex_male</th>\n",
       "      <th>smoker_no</th>\n",
       "      <th>smoker_yes</th>\n",
       "      <th>region_northeast</th>\n",
       "      <th>region_northwest</th>\n",
       "      <th>region_southeast</th>\n",
       "      <th>region_southwest</th>\n",
       "    </tr>\n",
       "  </thead>\n",
       "  <tbody>\n",
       "    <tr>\n",
       "      <th>0</th>\n",
       "      <td>19</td>\n",
       "      <td>27.900</td>\n",
       "      <td>0</td>\n",
       "      <td>16884.92400</td>\n",
       "      <td>1</td>\n",
       "      <td>0</td>\n",
       "      <td>0</td>\n",
       "      <td>1</td>\n",
       "      <td>0</td>\n",
       "      <td>0</td>\n",
       "      <td>0</td>\n",
       "      <td>1</td>\n",
       "    </tr>\n",
       "    <tr>\n",
       "      <th>1</th>\n",
       "      <td>18</td>\n",
       "      <td>33.770</td>\n",
       "      <td>1</td>\n",
       "      <td>1725.55230</td>\n",
       "      <td>0</td>\n",
       "      <td>1</td>\n",
       "      <td>1</td>\n",
       "      <td>0</td>\n",
       "      <td>0</td>\n",
       "      <td>0</td>\n",
       "      <td>1</td>\n",
       "      <td>0</td>\n",
       "    </tr>\n",
       "    <tr>\n",
       "      <th>2</th>\n",
       "      <td>28</td>\n",
       "      <td>33.000</td>\n",
       "      <td>3</td>\n",
       "      <td>4449.46200</td>\n",
       "      <td>0</td>\n",
       "      <td>1</td>\n",
       "      <td>1</td>\n",
       "      <td>0</td>\n",
       "      <td>0</td>\n",
       "      <td>0</td>\n",
       "      <td>1</td>\n",
       "      <td>0</td>\n",
       "    </tr>\n",
       "    <tr>\n",
       "      <th>3</th>\n",
       "      <td>33</td>\n",
       "      <td>22.705</td>\n",
       "      <td>0</td>\n",
       "      <td>21984.47061</td>\n",
       "      <td>0</td>\n",
       "      <td>1</td>\n",
       "      <td>1</td>\n",
       "      <td>0</td>\n",
       "      <td>0</td>\n",
       "      <td>1</td>\n",
       "      <td>0</td>\n",
       "      <td>0</td>\n",
       "    </tr>\n",
       "    <tr>\n",
       "      <th>4</th>\n",
       "      <td>32</td>\n",
       "      <td>28.880</td>\n",
       "      <td>0</td>\n",
       "      <td>3866.85520</td>\n",
       "      <td>0</td>\n",
       "      <td>1</td>\n",
       "      <td>1</td>\n",
       "      <td>0</td>\n",
       "      <td>0</td>\n",
       "      <td>1</td>\n",
       "      <td>0</td>\n",
       "      <td>0</td>\n",
       "    </tr>\n",
       "  </tbody>\n",
       "</table>\n",
       "</div>\n",
       "      <button class=\"colab-df-convert\" onclick=\"convertToInteractive('df-390c6679-86e6-4bac-85fc-7664f0590090')\"\n",
       "              title=\"Convert this dataframe to an interactive table.\"\n",
       "              style=\"display:none;\">\n",
       "        \n",
       "  <svg xmlns=\"http://www.w3.org/2000/svg\" height=\"24px\"viewBox=\"0 0 24 24\"\n",
       "       width=\"24px\">\n",
       "    <path d=\"M0 0h24v24H0V0z\" fill=\"none\"/>\n",
       "    <path d=\"M18.56 5.44l.94 2.06.94-2.06 2.06-.94-2.06-.94-.94-2.06-.94 2.06-2.06.94zm-11 1L8.5 8.5l.94-2.06 2.06-.94-2.06-.94L8.5 2.5l-.94 2.06-2.06.94zm10 10l.94 2.06.94-2.06 2.06-.94-2.06-.94-.94-2.06-.94 2.06-2.06.94z\"/><path d=\"M17.41 7.96l-1.37-1.37c-.4-.4-.92-.59-1.43-.59-.52 0-1.04.2-1.43.59L10.3 9.45l-7.72 7.72c-.78.78-.78 2.05 0 2.83L4 21.41c.39.39.9.59 1.41.59.51 0 1.02-.2 1.41-.59l7.78-7.78 2.81-2.81c.8-.78.8-2.07 0-2.86zM5.41 20L4 18.59l7.72-7.72 1.47 1.35L5.41 20z\"/>\n",
       "  </svg>\n",
       "      </button>\n",
       "      \n",
       "  <style>\n",
       "    .colab-df-container {\n",
       "      display:flex;\n",
       "      flex-wrap:wrap;\n",
       "      gap: 12px;\n",
       "    }\n",
       "\n",
       "    .colab-df-convert {\n",
       "      background-color: #E8F0FE;\n",
       "      border: none;\n",
       "      border-radius: 50%;\n",
       "      cursor: pointer;\n",
       "      display: none;\n",
       "      fill: #1967D2;\n",
       "      height: 32px;\n",
       "      padding: 0 0 0 0;\n",
       "      width: 32px;\n",
       "    }\n",
       "\n",
       "    .colab-df-convert:hover {\n",
       "      background-color: #E2EBFA;\n",
       "      box-shadow: 0px 1px 2px rgba(60, 64, 67, 0.3), 0px 1px 3px 1px rgba(60, 64, 67, 0.15);\n",
       "      fill: #174EA6;\n",
       "    }\n",
       "\n",
       "    [theme=dark] .colab-df-convert {\n",
       "      background-color: #3B4455;\n",
       "      fill: #D2E3FC;\n",
       "    }\n",
       "\n",
       "    [theme=dark] .colab-df-convert:hover {\n",
       "      background-color: #434B5C;\n",
       "      box-shadow: 0px 1px 3px 1px rgba(0, 0, 0, 0.15);\n",
       "      filter: drop-shadow(0px 1px 2px rgba(0, 0, 0, 0.3));\n",
       "      fill: #FFFFFF;\n",
       "    }\n",
       "  </style>\n",
       "\n",
       "      <script>\n",
       "        const buttonEl =\n",
       "          document.querySelector('#df-390c6679-86e6-4bac-85fc-7664f0590090 button.colab-df-convert');\n",
       "        buttonEl.style.display =\n",
       "          google.colab.kernel.accessAllowed ? 'block' : 'none';\n",
       "\n",
       "        async function convertToInteractive(key) {\n",
       "          const element = document.querySelector('#df-390c6679-86e6-4bac-85fc-7664f0590090');\n",
       "          const dataTable =\n",
       "            await google.colab.kernel.invokeFunction('convertToInteractive',\n",
       "                                                     [key], {});\n",
       "          if (!dataTable) return;\n",
       "\n",
       "          const docLinkHtml = 'Like what you see? Visit the ' +\n",
       "            '<a target=\"_blank\" href=https://colab.research.google.com/notebooks/data_table.ipynb>data table notebook</a>'\n",
       "            + ' to learn more about interactive tables.';\n",
       "          element.innerHTML = '';\n",
       "          dataTable['output_type'] = 'display_data';\n",
       "          await google.colab.output.renderOutput(dataTable, element);\n",
       "          const docLink = document.createElement('div');\n",
       "          docLink.innerHTML = docLinkHtml;\n",
       "          element.appendChild(docLink);\n",
       "        }\n",
       "      </script>\n",
       "    </div>\n",
       "  </div>\n",
       "  "
      ],
      "text/plain": [
       "   age     bmi  children      charges  sex_female  sex_male  smoker_no  \\\n",
       "0   19  27.900         0  16884.92400           1         0          0   \n",
       "1   18  33.770         1   1725.55230           0         1          1   \n",
       "2   28  33.000         3   4449.46200           0         1          1   \n",
       "3   33  22.705         0  21984.47061           0         1          1   \n",
       "4   32  28.880         0   3866.85520           0         1          1   \n",
       "\n",
       "   smoker_yes  region_northeast  region_northwest  region_southeast  \\\n",
       "0           1                 0                 0                 0   \n",
       "1           0                 0                 0                 1   \n",
       "2           0                 0                 0                 1   \n",
       "3           0                 0                 1                 0   \n",
       "4           0                 0                 1                 0   \n",
       "\n",
       "   region_southwest  \n",
       "0                 1  \n",
       "1                 0  \n",
       "2                 0  \n",
       "3                 0  \n",
       "4                 0  "
      ]
     },
     "execution_count": 271,
     "metadata": {},
     "output_type": "execute_result"
    }
   ],
   "source": [
    "# Let's try one-hot encode our DataFrame so it's all numbers\n",
    "insurance_one_hot=pd.get_dummies(insurance)\n",
    "insurance_one_hot.head()"
   ]
  },
  {
   "cell_type": "code",
   "execution_count": 272,
   "metadata": {
    "executionInfo": {
     "elapsed": 110,
     "status": "ok",
     "timestamp": 1668399807739,
     "user": {
      "displayName": "Mudit Kumar",
      "userId": "12518861077253144202"
     },
     "user_tz": -330
    },
    "id": "qm7cMCYz7CGy"
   },
   "outputs": [],
   "source": [
    " # Create X & y values (features and labels)\n",
    "X=insurance_one_hot.drop(\"charges\",axis=1)\n",
    "y=insurance_one_hot[\"charges\"]"
   ]
  },
  {
   "cell_type": "code",
   "execution_count": 273,
   "metadata": {
    "colab": {
     "base_uri": "https://localhost:8080/",
     "height": 270
    },
    "executionInfo": {
     "elapsed": 110,
     "status": "ok",
     "timestamp": 1668399807739,
     "user": {
      "displayName": "Mudit Kumar",
      "userId": "12518861077253144202"
     },
     "user_tz": -330
    },
    "id": "ar4hTVg69nYo",
    "outputId": "b7a339f6-69b6-4f47-e8b5-b67299ea314e"
   },
   "outputs": [
    {
     "data": {
      "text/html": [
       "\n",
       "  <div id=\"df-6874fbac-0c6e-4256-b6bb-9b9a622d51e9\">\n",
       "    <div class=\"colab-df-container\">\n",
       "      <div>\n",
       "<style scoped>\n",
       "    .dataframe tbody tr th:only-of-type {\n",
       "        vertical-align: middle;\n",
       "    }\n",
       "\n",
       "    .dataframe tbody tr th {\n",
       "        vertical-align: top;\n",
       "    }\n",
       "\n",
       "    .dataframe thead th {\n",
       "        text-align: right;\n",
       "    }\n",
       "</style>\n",
       "<table border=\"1\" class=\"dataframe\">\n",
       "  <thead>\n",
       "    <tr style=\"text-align: right;\">\n",
       "      <th></th>\n",
       "      <th>age</th>\n",
       "      <th>bmi</th>\n",
       "      <th>children</th>\n",
       "      <th>sex_female</th>\n",
       "      <th>sex_male</th>\n",
       "      <th>smoker_no</th>\n",
       "      <th>smoker_yes</th>\n",
       "      <th>region_northeast</th>\n",
       "      <th>region_northwest</th>\n",
       "      <th>region_southeast</th>\n",
       "      <th>region_southwest</th>\n",
       "    </tr>\n",
       "  </thead>\n",
       "  <tbody>\n",
       "    <tr>\n",
       "      <th>0</th>\n",
       "      <td>19</td>\n",
       "      <td>27.900</td>\n",
       "      <td>0</td>\n",
       "      <td>1</td>\n",
       "      <td>0</td>\n",
       "      <td>0</td>\n",
       "      <td>1</td>\n",
       "      <td>0</td>\n",
       "      <td>0</td>\n",
       "      <td>0</td>\n",
       "      <td>1</td>\n",
       "    </tr>\n",
       "    <tr>\n",
       "      <th>1</th>\n",
       "      <td>18</td>\n",
       "      <td>33.770</td>\n",
       "      <td>1</td>\n",
       "      <td>0</td>\n",
       "      <td>1</td>\n",
       "      <td>1</td>\n",
       "      <td>0</td>\n",
       "      <td>0</td>\n",
       "      <td>0</td>\n",
       "      <td>1</td>\n",
       "      <td>0</td>\n",
       "    </tr>\n",
       "    <tr>\n",
       "      <th>2</th>\n",
       "      <td>28</td>\n",
       "      <td>33.000</td>\n",
       "      <td>3</td>\n",
       "      <td>0</td>\n",
       "      <td>1</td>\n",
       "      <td>1</td>\n",
       "      <td>0</td>\n",
       "      <td>0</td>\n",
       "      <td>0</td>\n",
       "      <td>1</td>\n",
       "      <td>0</td>\n",
       "    </tr>\n",
       "    <tr>\n",
       "      <th>3</th>\n",
       "      <td>33</td>\n",
       "      <td>22.705</td>\n",
       "      <td>0</td>\n",
       "      <td>0</td>\n",
       "      <td>1</td>\n",
       "      <td>1</td>\n",
       "      <td>0</td>\n",
       "      <td>0</td>\n",
       "      <td>1</td>\n",
       "      <td>0</td>\n",
       "      <td>0</td>\n",
       "    </tr>\n",
       "    <tr>\n",
       "      <th>4</th>\n",
       "      <td>32</td>\n",
       "      <td>28.880</td>\n",
       "      <td>0</td>\n",
       "      <td>0</td>\n",
       "      <td>1</td>\n",
       "      <td>1</td>\n",
       "      <td>0</td>\n",
       "      <td>0</td>\n",
       "      <td>1</td>\n",
       "      <td>0</td>\n",
       "      <td>0</td>\n",
       "    </tr>\n",
       "  </tbody>\n",
       "</table>\n",
       "</div>\n",
       "      <button class=\"colab-df-convert\" onclick=\"convertToInteractive('df-6874fbac-0c6e-4256-b6bb-9b9a622d51e9')\"\n",
       "              title=\"Convert this dataframe to an interactive table.\"\n",
       "              style=\"display:none;\">\n",
       "        \n",
       "  <svg xmlns=\"http://www.w3.org/2000/svg\" height=\"24px\"viewBox=\"0 0 24 24\"\n",
       "       width=\"24px\">\n",
       "    <path d=\"M0 0h24v24H0V0z\" fill=\"none\"/>\n",
       "    <path d=\"M18.56 5.44l.94 2.06.94-2.06 2.06-.94-2.06-.94-.94-2.06-.94 2.06-2.06.94zm-11 1L8.5 8.5l.94-2.06 2.06-.94-2.06-.94L8.5 2.5l-.94 2.06-2.06.94zm10 10l.94 2.06.94-2.06 2.06-.94-2.06-.94-.94-2.06-.94 2.06-2.06.94z\"/><path d=\"M17.41 7.96l-1.37-1.37c-.4-.4-.92-.59-1.43-.59-.52 0-1.04.2-1.43.59L10.3 9.45l-7.72 7.72c-.78.78-.78 2.05 0 2.83L4 21.41c.39.39.9.59 1.41.59.51 0 1.02-.2 1.41-.59l7.78-7.78 2.81-2.81c.8-.78.8-2.07 0-2.86zM5.41 20L4 18.59l7.72-7.72 1.47 1.35L5.41 20z\"/>\n",
       "  </svg>\n",
       "      </button>\n",
       "      \n",
       "  <style>\n",
       "    .colab-df-container {\n",
       "      display:flex;\n",
       "      flex-wrap:wrap;\n",
       "      gap: 12px;\n",
       "    }\n",
       "\n",
       "    .colab-df-convert {\n",
       "      background-color: #E8F0FE;\n",
       "      border: none;\n",
       "      border-radius: 50%;\n",
       "      cursor: pointer;\n",
       "      display: none;\n",
       "      fill: #1967D2;\n",
       "      height: 32px;\n",
       "      padding: 0 0 0 0;\n",
       "      width: 32px;\n",
       "    }\n",
       "\n",
       "    .colab-df-convert:hover {\n",
       "      background-color: #E2EBFA;\n",
       "      box-shadow: 0px 1px 2px rgba(60, 64, 67, 0.3), 0px 1px 3px 1px rgba(60, 64, 67, 0.15);\n",
       "      fill: #174EA6;\n",
       "    }\n",
       "\n",
       "    [theme=dark] .colab-df-convert {\n",
       "      background-color: #3B4455;\n",
       "      fill: #D2E3FC;\n",
       "    }\n",
       "\n",
       "    [theme=dark] .colab-df-convert:hover {\n",
       "      background-color: #434B5C;\n",
       "      box-shadow: 0px 1px 3px 1px rgba(0, 0, 0, 0.15);\n",
       "      filter: drop-shadow(0px 1px 2px rgba(0, 0, 0, 0.3));\n",
       "      fill: #FFFFFF;\n",
       "    }\n",
       "  </style>\n",
       "\n",
       "      <script>\n",
       "        const buttonEl =\n",
       "          document.querySelector('#df-6874fbac-0c6e-4256-b6bb-9b9a622d51e9 button.colab-df-convert');\n",
       "        buttonEl.style.display =\n",
       "          google.colab.kernel.accessAllowed ? 'block' : 'none';\n",
       "\n",
       "        async function convertToInteractive(key) {\n",
       "          const element = document.querySelector('#df-6874fbac-0c6e-4256-b6bb-9b9a622d51e9');\n",
       "          const dataTable =\n",
       "            await google.colab.kernel.invokeFunction('convertToInteractive',\n",
       "                                                     [key], {});\n",
       "          if (!dataTable) return;\n",
       "\n",
       "          const docLinkHtml = 'Like what you see? Visit the ' +\n",
       "            '<a target=\"_blank\" href=https://colab.research.google.com/notebooks/data_table.ipynb>data table notebook</a>'\n",
       "            + ' to learn more about interactive tables.';\n",
       "          element.innerHTML = '';\n",
       "          dataTable['output_type'] = 'display_data';\n",
       "          await google.colab.output.renderOutput(dataTable, element);\n",
       "          const docLink = document.createElement('div');\n",
       "          docLink.innerHTML = docLinkHtml;\n",
       "          element.appendChild(docLink);\n",
       "        }\n",
       "      </script>\n",
       "    </div>\n",
       "  </div>\n",
       "  "
      ],
      "text/plain": [
       "   age     bmi  children  sex_female  sex_male  smoker_no  smoker_yes  \\\n",
       "0   19  27.900         0           1         0          0           1   \n",
       "1   18  33.770         1           0         1          1           0   \n",
       "2   28  33.000         3           0         1          1           0   \n",
       "3   33  22.705         0           0         1          1           0   \n",
       "4   32  28.880         0           0         1          1           0   \n",
       "\n",
       "   region_northeast  region_northwest  region_southeast  region_southwest  \n",
       "0                 0                 0                 0                 1  \n",
       "1                 0                 0                 1                 0  \n",
       "2                 0                 0                 1                 0  \n",
       "3                 0                 1                 0                 0  \n",
       "4                 0                 1                 0                 0  "
      ]
     },
     "execution_count": 273,
     "metadata": {},
     "output_type": "execute_result"
    }
   ],
   "source": [
    "# View X\n",
    "X.head()"
   ]
  },
  {
   "cell_type": "code",
   "execution_count": 274,
   "metadata": {
    "colab": {
     "base_uri": "https://localhost:8080/"
    },
    "executionInfo": {
     "elapsed": 109,
     "status": "ok",
     "timestamp": 1668399807739,
     "user": {
      "displayName": "Mudit Kumar",
      "userId": "12518861077253144202"
     },
     "user_tz": -330
    },
    "id": "7HYgmGYV9tdI",
    "outputId": "94e6375c-8cef-4049-e6ab-e22c0444d611"
   },
   "outputs": [
    {
     "data": {
      "text/plain": [
       "0    16884.92400\n",
       "1     1725.55230\n",
       "2     4449.46200\n",
       "3    21984.47061\n",
       "4     3866.85520\n",
       "Name: charges, dtype: float64"
      ]
     },
     "execution_count": 274,
     "metadata": {},
     "output_type": "execute_result"
    }
   ],
   "source": [
    "#View y\n",
    "y.head()"
   ]
  },
  {
   "cell_type": "code",
   "execution_count": 275,
   "metadata": {
    "colab": {
     "base_uri": "https://localhost:8080/"
    },
    "executionInfo": {
     "elapsed": 107,
     "status": "ok",
     "timestamp": 1668399807740,
     "user": {
      "displayName": "Mudit Kumar",
      "userId": "12518861077253144202"
     },
     "user_tz": -330
    },
    "id": "6GZDhf4sEX1i",
    "outputId": "e8afdea3-ad14-4a31-ac62-3a25fc1fb7d4"
   },
   "outputs": [
    {
     "data": {
      "text/plain": [
       "(1338, 1070, 268)"
      ]
     },
     "execution_count": 275,
     "metadata": {},
     "output_type": "execute_result"
    }
   ],
   "source": [
    "# Creating Train and test sets\n",
    "from sklearn.model_selection import train_test_split\n",
    "X_train,X_test,y_train,y_test=train_test_split(X,y,test_size=0.2,random_state=42)\n",
    "len(X),len(X_train),len(X_test)"
   ]
  },
  {
   "cell_type": "code",
   "execution_count": 276,
   "metadata": {
    "colab": {
     "base_uri": "https://localhost:8080/"
    },
    "executionInfo": {
     "elapsed": 5754,
     "status": "ok",
     "timestamp": 1668399813390,
     "user": {
      "displayName": "Mudit Kumar",
      "userId": "12518861077253144202"
     },
     "user_tz": -330
    },
    "id": "0HSw45MdFoIQ",
    "outputId": "a095017b-240c-4192-a878-098112124715"
   },
   "outputs": [
    {
     "name": "stdout",
     "output_type": "stream",
     "text": [
      "Epoch 1/100\n",
      "34/34 [==============================] - 1s 7ms/step - loss: 8868.5918 - mae: 8868.5918\n",
      "Epoch 2/100\n",
      "34/34 [==============================] - 0s 6ms/step - loss: 7887.1597 - mae: 7887.1597\n",
      "Epoch 3/100\n",
      "34/34 [==============================] - 0s 6ms/step - loss: 7537.0947 - mae: 7537.0947\n",
      "Epoch 4/100\n",
      "34/34 [==============================] - 0s 6ms/step - loss: 7859.4336 - mae: 7859.4336\n",
      "Epoch 5/100\n",
      "34/34 [==============================] - 0s 5ms/step - loss: 7639.6699 - mae: 7639.6699\n",
      "Epoch 6/100\n",
      "34/34 [==============================] - 0s 6ms/step - loss: 7578.0840 - mae: 7578.0840\n",
      "Epoch 7/100\n",
      "34/34 [==============================] - 0s 7ms/step - loss: 7514.6162 - mae: 7514.6162\n",
      "Epoch 8/100\n",
      "34/34 [==============================] - 0s 7ms/step - loss: 7694.1348 - mae: 7694.1348\n",
      "Epoch 9/100\n",
      "34/34 [==============================] - 0s 5ms/step - loss: 7595.9121 - mae: 7595.9121\n",
      "Epoch 10/100\n",
      "34/34 [==============================] - 0s 6ms/step - loss: 7735.9106 - mae: 7735.9106\n",
      "Epoch 11/100\n",
      "34/34 [==============================] - 0s 6ms/step - loss: 7444.4185 - mae: 7444.4185\n",
      "Epoch 12/100\n",
      "34/34 [==============================] - 0s 6ms/step - loss: 7678.0332 - mae: 7678.0332\n",
      "Epoch 13/100\n",
      "34/34 [==============================] - 0s 7ms/step - loss: 7681.5835 - mae: 7681.5835\n",
      "Epoch 14/100\n",
      "34/34 [==============================] - 0s 6ms/step - loss: 7702.2842 - mae: 7702.2842\n",
      "Epoch 15/100\n",
      "34/34 [==============================] - 0s 6ms/step - loss: 7585.8931 - mae: 7585.8931\n",
      "Epoch 16/100\n",
      "34/34 [==============================] - 0s 5ms/step - loss: 7689.5356 - mae: 7689.5356\n",
      "Epoch 17/100\n",
      "34/34 [==============================] - 0s 6ms/step - loss: 7509.2036 - mae: 7509.2036\n",
      "Epoch 18/100\n",
      "34/34 [==============================] - 0s 7ms/step - loss: 7695.0083 - mae: 7695.0083\n",
      "Epoch 19/100\n",
      "34/34 [==============================] - 0s 7ms/step - loss: 7669.3740 - mae: 7669.3740\n",
      "Epoch 20/100\n",
      "34/34 [==============================] - 0s 7ms/step - loss: 7901.1362 - mae: 7901.1362\n",
      "Epoch 21/100\n",
      "34/34 [==============================] - 0s 6ms/step - loss: 7552.4819 - mae: 7552.4819\n",
      "Epoch 22/100\n",
      "34/34 [==============================] - 0s 5ms/step - loss: 7844.9971 - mae: 7844.9971\n",
      "Epoch 23/100\n",
      "34/34 [==============================] - 0s 5ms/step - loss: 7642.2505 - mae: 7642.2505\n",
      "Epoch 24/100\n",
      "34/34 [==============================] - 0s 5ms/step - loss: 7515.3096 - mae: 7515.3096\n",
      "Epoch 25/100\n",
      "34/34 [==============================] - 0s 5ms/step - loss: 7678.3521 - mae: 7678.3521\n",
      "Epoch 26/100\n",
      "34/34 [==============================] - 0s 5ms/step - loss: 7653.0283 - mae: 7653.0283\n",
      "Epoch 27/100\n",
      "34/34 [==============================] - 0s 5ms/step - loss: 7559.5464 - mae: 7559.5464\n",
      "Epoch 28/100\n",
      "34/34 [==============================] - 0s 5ms/step - loss: 7459.9404 - mae: 7459.9404\n",
      "Epoch 29/100\n",
      "34/34 [==============================] - 0s 5ms/step - loss: 7618.6182 - mae: 7618.6182\n",
      "Epoch 30/100\n",
      "34/34 [==============================] - 0s 5ms/step - loss: 7628.6250 - mae: 7628.6250\n",
      "Epoch 31/100\n",
      "34/34 [==============================] - 0s 5ms/step - loss: 7540.4888 - mae: 7540.4888\n",
      "Epoch 32/100\n",
      "34/34 [==============================] - 0s 5ms/step - loss: 7486.0176 - mae: 7486.0176\n",
      "Epoch 33/100\n",
      "34/34 [==============================] - 0s 5ms/step - loss: 7418.6636 - mae: 7418.6636\n",
      "Epoch 34/100\n",
      "34/34 [==============================] - 0s 5ms/step - loss: 7480.7305 - mae: 7480.7305\n",
      "Epoch 35/100\n",
      "34/34 [==============================] - 0s 5ms/step - loss: 7615.3110 - mae: 7615.3110\n",
      "Epoch 36/100\n",
      "34/34 [==============================] - 0s 5ms/step - loss: 7566.7886 - mae: 7566.7886\n",
      "Epoch 37/100\n",
      "34/34 [==============================] - 0s 5ms/step - loss: 7661.0869 - mae: 7661.0869\n",
      "Epoch 38/100\n",
      "34/34 [==============================] - 0s 5ms/step - loss: 7522.6816 - mae: 7522.6816\n",
      "Epoch 39/100\n",
      "34/34 [==============================] - 0s 5ms/step - loss: 7556.0698 - mae: 7556.0698\n",
      "Epoch 40/100\n",
      "34/34 [==============================] - 0s 5ms/step - loss: 7433.5664 - mae: 7433.5664\n",
      "Epoch 41/100\n",
      "34/34 [==============================] - 0s 4ms/step - loss: 7722.4321 - mae: 7722.4321\n",
      "Epoch 42/100\n",
      "34/34 [==============================] - 0s 5ms/step - loss: 7344.2690 - mae: 7344.2690\n",
      "Epoch 43/100\n",
      "34/34 [==============================] - 0s 5ms/step - loss: 7597.4331 - mae: 7597.4331\n",
      "Epoch 44/100\n",
      "34/34 [==============================] - 0s 5ms/step - loss: 7338.0142 - mae: 7338.0142\n",
      "Epoch 45/100\n",
      "34/34 [==============================] - 0s 5ms/step - loss: 7510.3462 - mae: 7510.3462\n",
      "Epoch 46/100\n",
      "34/34 [==============================] - 0s 5ms/step - loss: 7413.5796 - mae: 7413.5796\n",
      "Epoch 47/100\n",
      "34/34 [==============================] - 0s 5ms/step - loss: 7451.0391 - mae: 7451.0391\n",
      "Epoch 48/100\n",
      "34/34 [==============================] - 0s 4ms/step - loss: 7340.5386 - mae: 7340.5386\n",
      "Epoch 49/100\n",
      "34/34 [==============================] - 0s 5ms/step - loss: 7481.9971 - mae: 7481.9971\n",
      "Epoch 50/100\n",
      "34/34 [==============================] - 0s 5ms/step - loss: 7468.2852 - mae: 7468.2852\n",
      "Epoch 51/100\n",
      "34/34 [==============================] - 0s 4ms/step - loss: 7411.3418 - mae: 7411.3418\n",
      "Epoch 52/100\n",
      "34/34 [==============================] - 0s 5ms/step - loss: 7460.0806 - mae: 7460.0806\n",
      "Epoch 53/100\n",
      "34/34 [==============================] - 0s 5ms/step - loss: 7601.6606 - mae: 7601.6606\n",
      "Epoch 54/100\n",
      "34/34 [==============================] - 0s 5ms/step - loss: 7241.2549 - mae: 7241.2549\n",
      "Epoch 55/100\n",
      "34/34 [==============================] - 0s 5ms/step - loss: 7539.6948 - mae: 7539.6948\n",
      "Epoch 56/100\n",
      "34/34 [==============================] - 0s 5ms/step - loss: 7293.2012 - mae: 7293.2012\n",
      "Epoch 57/100\n",
      "34/34 [==============================] - 0s 5ms/step - loss: 7417.9722 - mae: 7417.9722\n",
      "Epoch 58/100\n",
      "34/34 [==============================] - 0s 5ms/step - loss: 7353.0615 - mae: 7353.0615\n",
      "Epoch 59/100\n",
      "34/34 [==============================] - 0s 5ms/step - loss: 7643.8242 - mae: 7643.8242\n",
      "Epoch 60/100\n",
      "34/34 [==============================] - 0s 5ms/step - loss: 7410.3989 - mae: 7410.3989\n",
      "Epoch 61/100\n",
      "34/34 [==============================] - 0s 5ms/step - loss: 7612.8340 - mae: 7612.8340\n",
      "Epoch 62/100\n",
      "34/34 [==============================] - 0s 6ms/step - loss: 7387.9087 - mae: 7387.9087\n",
      "Epoch 63/100\n",
      "34/34 [==============================] - 0s 5ms/step - loss: 7359.5596 - mae: 7359.5596\n",
      "Epoch 64/100\n",
      "34/34 [==============================] - 0s 5ms/step - loss: 7109.0879 - mae: 7109.0879\n",
      "Epoch 65/100\n",
      "34/34 [==============================] - 0s 7ms/step - loss: 7396.3223 - mae: 7396.3223\n",
      "Epoch 66/100\n",
      "34/34 [==============================] - 0s 8ms/step - loss: 7179.8618 - mae: 7179.8618\n",
      "Epoch 67/100\n",
      "34/34 [==============================] - 0s 9ms/step - loss: 7289.7710 - mae: 7289.7710\n",
      "Epoch 68/100\n",
      "34/34 [==============================] - 0s 6ms/step - loss: 7523.6968 - mae: 7523.6968\n",
      "Epoch 69/100\n",
      "34/34 [==============================] - 0s 3ms/step - loss: 7442.6157 - mae: 7442.6157\n",
      "Epoch 70/100\n",
      "34/34 [==============================] - 0s 3ms/step - loss: 7673.4829 - mae: 7673.4829\n",
      "Epoch 71/100\n",
      "34/34 [==============================] - 0s 3ms/step - loss: 7276.0332 - mae: 7276.0332\n",
      "Epoch 72/100\n",
      "34/34 [==============================] - 0s 5ms/step - loss: 7246.3726 - mae: 7246.3726\n",
      "Epoch 73/100\n",
      "34/34 [==============================] - 0s 9ms/step - loss: 7372.0708 - mae: 7372.0708\n",
      "Epoch 74/100\n",
      "34/34 [==============================] - 0s 7ms/step - loss: 7512.0742 - mae: 7512.0742\n",
      "Epoch 75/100\n",
      "34/34 [==============================] - 0s 6ms/step - loss: 7269.7441 - mae: 7269.7441\n",
      "Epoch 76/100\n",
      "34/34 [==============================] - 0s 8ms/step - loss: 7199.5054 - mae: 7199.5054\n",
      "Epoch 77/100\n",
      "34/34 [==============================] - 0s 4ms/step - loss: 7261.2925 - mae: 7261.2925\n",
      "Epoch 78/100\n",
      "34/34 [==============================] - 0s 3ms/step - loss: 7185.7632 - mae: 7185.7632\n",
      "Epoch 79/100\n",
      "34/34 [==============================] - 0s 3ms/step - loss: 7301.7490 - mae: 7301.7490\n",
      "Epoch 80/100\n",
      "34/34 [==============================] - 0s 10ms/step - loss: 7002.6313 - mae: 7002.6313\n",
      "Epoch 81/100\n",
      "34/34 [==============================] - 0s 8ms/step - loss: 7289.1362 - mae: 7289.1362\n",
      "Epoch 82/100\n",
      "34/34 [==============================] - 0s 7ms/step - loss: 7155.3945 - mae: 7155.3945\n",
      "Epoch 83/100\n",
      "34/34 [==============================] - 0s 5ms/step - loss: 7475.1709 - mae: 7475.1709\n",
      "Epoch 84/100\n",
      "34/34 [==============================] - 0s 4ms/step - loss: 7387.3672 - mae: 7387.3672\n",
      "Epoch 85/100\n",
      "34/34 [==============================] - 0s 3ms/step - loss: 7289.9453 - mae: 7289.9453\n",
      "Epoch 86/100\n",
      "34/34 [==============================] - 0s 3ms/step - loss: 7268.0947 - mae: 7268.0947\n",
      "Epoch 87/100\n",
      "34/34 [==============================] - 0s 3ms/step - loss: 7238.5869 - mae: 7238.5869\n",
      "Epoch 88/100\n",
      "34/34 [==============================] - 0s 3ms/step - loss: 7201.7344 - mae: 7201.7344\n",
      "Epoch 89/100\n",
      "34/34 [==============================] - 0s 4ms/step - loss: 7538.0747 - mae: 7538.0747\n",
      "Epoch 90/100\n",
      "34/34 [==============================] - 0s 3ms/step - loss: 6967.1172 - mae: 6967.1172\n",
      "Epoch 91/100\n",
      "34/34 [==============================] - 0s 3ms/step - loss: 7314.1289 - mae: 7314.1289\n",
      "Epoch 92/100\n",
      "34/34 [==============================] - 0s 4ms/step - loss: 7192.3115 - mae: 7192.3115\n",
      "Epoch 93/100\n",
      "34/34 [==============================] - 0s 3ms/step - loss: 7530.8770 - mae: 7530.8770\n",
      "Epoch 94/100\n",
      "34/34 [==============================] - 0s 4ms/step - loss: 7187.3579 - mae: 7187.3579\n",
      "Epoch 95/100\n",
      "34/34 [==============================] - 0s 3ms/step - loss: 7561.5630 - mae: 7561.5630\n",
      "Epoch 96/100\n",
      "34/34 [==============================] - 0s 3ms/step - loss: 7263.4639 - mae: 7263.4639\n",
      "Epoch 97/100\n",
      "34/34 [==============================] - 0s 3ms/step - loss: 7146.2900 - mae: 7146.2900\n",
      "Epoch 98/100\n",
      "34/34 [==============================] - 0s 3ms/step - loss: 7247.9248 - mae: 7247.9248\n",
      "Epoch 99/100\n",
      "34/34 [==============================] - 0s 3ms/step - loss: 7200.6689 - mae: 7200.6689\n",
      "Epoch 100/100\n",
      "34/34 [==============================] - 0s 4ms/step - loss: 7301.6870 - mae: 7301.6870\n"
     ]
    },
    {
     "data": {
      "text/plain": [
       "<keras.callbacks.History at 0x7fdad82eb550>"
      ]
     },
     "execution_count": 276,
     "metadata": {},
     "output_type": "execute_result"
    }
   ],
   "source": [
    "#Build a neural network (like model 2 above)\n",
    "tf.random.set_seed(42)\n",
    "\n",
    "#1. Create a model\n",
    "insurance_model=tf.keras.Sequential([\n",
    "    tf.keras.layers.Dense(1),\n",
    "    tf.keras.layers.Dense(1)\n",
    "])\n",
    "#2. Compile the model\n",
    "insurance_model.compile(loss=tf.keras.losses.MAE,\n",
    "                        optimizer=tf.keras.optimizers.SGD(),\n",
    "                        metrics=[\"mae\"]\n",
    "                        )\n",
    "#3. Fit the model\n",
    "insurance_model.fit(tf.expand_dims(X_train,axis=1),y_train,epochs=100)"
   ]
  },
  {
   "cell_type": "code",
   "execution_count": 277,
   "metadata": {
    "colab": {
     "base_uri": "https://localhost:8080/"
    },
    "executionInfo": {
     "elapsed": 24,
     "status": "ok",
     "timestamp": 1668399813390,
     "user": {
      "displayName": "Mudit Kumar",
      "userId": "12518861077253144202"
     },
     "user_tz": -330
    },
    "id": "S0IU_swBF_a2",
    "outputId": "6fb53560-29f4-442d-a8d0-9fb257160a43"
   },
   "outputs": [
    {
     "name": "stderr",
     "output_type": "stream",
     "text": [
      "WARNING:tensorflow:5 out of the last 19 calls to <function Model.make_test_function.<locals>.test_function at 0x7fdad8100c20> triggered tf.function retracing. Tracing is expensive and the excessive number of tracings could be due to (1) creating @tf.function repeatedly in a loop, (2) passing tensors with different shapes, (3) passing Python objects instead of tensors. For (1), please define your @tf.function outside of the loop. For (2), @tf.function has reduce_retracing=True option that can avoid unnecessary retracing. For (3), please refer to https://www.tensorflow.org/guide/function#controlling_retracing and https://www.tensorflow.org/api_docs/python/tf/function for  more details.\n"
     ]
    },
    {
     "name": "stdout",
     "output_type": "stream",
     "text": [
      "9/9 [==============================] - 0s 3ms/step - loss: 8628.2344 - mae: 8628.2344\n"
     ]
    },
    {
     "data": {
      "text/plain": [
       "[8628.234375, 8628.234375]"
      ]
     },
     "execution_count": 277,
     "metadata": {},
     "output_type": "execute_result"
    }
   ],
   "source": [
    "# Check the result of insurance model on test data\n",
    "insurance_model.evaluate(tf.expand_dims(X_test,axis=1),y_test)"
   ]
  },
  {
   "cell_type": "code",
   "execution_count": 278,
   "metadata": {
    "colab": {
     "base_uri": "https://localhost:8080/"
    },
    "executionInfo": {
     "elapsed": 14,
     "status": "ok",
     "timestamp": 1668399813391,
     "user": {
      "displayName": "Mudit Kumar",
      "userId": "12518861077253144202"
     },
     "user_tz": -330
    },
    "id": "zVWbT-0TIJzA",
    "outputId": "eb3a055e-5eed-4c29-e90e-49de8e82880e"
   },
   "outputs": [
    {
     "data": {
      "text/plain": [
       "(9575.4421, 13346.089736364485)"
      ]
     },
     "execution_count": 278,
     "metadata": {},
     "output_type": "execute_result"
    }
   ],
   "source": [
    "y_train.median(),y_train.mean()"
   ]
  },
  {
   "cell_type": "markdown",
   "metadata": {
    "id": "dEqUxtA2IdwB"
   },
   "source": [
    "##Improving our model ...\n",
    "\n",
    "To(try) improve our model , we will run 2 experiments:\n",
    "1. Add extra layer for more hidden units\n",
    "2. Train for longer"
   ]
  },
  {
   "cell_type": "code",
   "execution_count": 279,
   "metadata": {
    "colab": {
     "base_uri": "https://localhost:8080/"
    },
    "executionInfo": {
     "elapsed": 21527,
     "status": "ok",
     "timestamp": 1668399834908,
     "user": {
      "displayName": "Mudit Kumar",
      "userId": "12518861077253144202"
     },
     "user_tz": -330
    },
    "id": "XtJMrZN5Jb6p",
    "outputId": "e42541a6-f795-45af-ab46-56e9768780a0"
   },
   "outputs": [
    {
     "name": "stdout",
     "output_type": "stream",
     "text": [
      "Epoch 1/100\n",
      "34/34 [==============================] - 1s 4ms/step - loss: 13273.1602 - mae: 13273.1602\n",
      "Epoch 2/100\n",
      "34/34 [==============================] - 0s 4ms/step - loss: 13104.4287 - mae: 13104.4287\n",
      "Epoch 3/100\n",
      "34/34 [==============================] - 0s 4ms/step - loss: 12749.5400 - mae: 12749.5400\n",
      "Epoch 4/100\n",
      "34/34 [==============================] - 0s 4ms/step - loss: 12055.7500 - mae: 12055.7500\n",
      "Epoch 5/100\n",
      "34/34 [==============================] - 0s 4ms/step - loss: 10905.8154 - mae: 10905.8154\n",
      "Epoch 6/100\n",
      "34/34 [==============================] - 0s 4ms/step - loss: 9457.7188 - mae: 9457.7188\n",
      "Epoch 7/100\n",
      "34/34 [==============================] - 0s 4ms/step - loss: 8147.6533 - mae: 8147.6533\n",
      "Epoch 8/100\n",
      "34/34 [==============================] - 0s 4ms/step - loss: 7528.8398 - mae: 7528.8398\n",
      "Epoch 9/100\n",
      "34/34 [==============================] - 0s 4ms/step - loss: 7429.1528 - mae: 7429.1528\n",
      "Epoch 10/100\n",
      "34/34 [==============================] - 0s 4ms/step - loss: 7409.0811 - mae: 7409.0811\n",
      "Epoch 11/100\n",
      "34/34 [==============================] - 0s 4ms/step - loss: 7390.8042 - mae: 7390.8042\n",
      "Epoch 12/100\n",
      "34/34 [==============================] - 0s 4ms/step - loss: 7368.9170 - mae: 7368.9170\n",
      "Epoch 13/100\n",
      "34/34 [==============================] - 0s 4ms/step - loss: 7348.5195 - mae: 7348.5195\n",
      "Epoch 14/100\n",
      "34/34 [==============================] - 0s 4ms/step - loss: 7326.4893 - mae: 7326.4893\n",
      "Epoch 15/100\n",
      "34/34 [==============================] - 0s 4ms/step - loss: 7307.5811 - mae: 7307.5811\n",
      "Epoch 16/100\n",
      "34/34 [==============================] - 0s 4ms/step - loss: 7285.7739 - mae: 7285.7739\n",
      "Epoch 17/100\n",
      "34/34 [==============================] - 0s 4ms/step - loss: 7265.7104 - mae: 7265.7104\n",
      "Epoch 18/100\n",
      "34/34 [==============================] - 0s 4ms/step - loss: 7242.5503 - mae: 7242.5503\n",
      "Epoch 19/100\n",
      "34/34 [==============================] - 0s 3ms/step - loss: 7220.5068 - mae: 7220.5068\n",
      "Epoch 20/100\n",
      "34/34 [==============================] - 0s 4ms/step - loss: 7197.1973 - mae: 7197.1973\n",
      "Epoch 21/100\n",
      "34/34 [==============================] - 0s 4ms/step - loss: 7179.0195 - mae: 7179.0195\n",
      "Epoch 22/100\n",
      "34/34 [==============================] - 0s 4ms/step - loss: 7151.2104 - mae: 7151.2104\n",
      "Epoch 23/100\n",
      "34/34 [==============================] - 0s 4ms/step - loss: 7126.4639 - mae: 7126.4639\n",
      "Epoch 24/100\n",
      "34/34 [==============================] - 0s 4ms/step - loss: 7101.9194 - mae: 7101.9194\n",
      "Epoch 25/100\n",
      "34/34 [==============================] - 0s 4ms/step - loss: 7084.3379 - mae: 7084.3379\n",
      "Epoch 26/100\n",
      "34/34 [==============================] - 0s 4ms/step - loss: 7052.3291 - mae: 7052.3291\n",
      "Epoch 27/100\n",
      "34/34 [==============================] - 0s 4ms/step - loss: 7024.3506 - mae: 7024.3506\n",
      "Epoch 28/100\n",
      "34/34 [==============================] - 0s 4ms/step - loss: 6996.6963 - mae: 6996.6963\n",
      "Epoch 29/100\n",
      "34/34 [==============================] - 0s 3ms/step - loss: 6969.0107 - mae: 6969.0107\n",
      "Epoch 30/100\n",
      "34/34 [==============================] - 0s 4ms/step - loss: 6942.1899 - mae: 6942.1899\n",
      "Epoch 31/100\n",
      "34/34 [==============================] - 0s 4ms/step - loss: 6911.7280 - mae: 6911.7280\n",
      "Epoch 32/100\n",
      "34/34 [==============================] - 0s 4ms/step - loss: 6884.0205 - mae: 6884.0205\n",
      "Epoch 33/100\n",
      "34/34 [==============================] - 0s 4ms/step - loss: 6853.4644 - mae: 6853.4644\n",
      "Epoch 34/100\n",
      "34/34 [==============================] - 0s 4ms/step - loss: 6823.0674 - mae: 6823.0674\n",
      "Epoch 35/100\n",
      "34/34 [==============================] - 0s 3ms/step - loss: 6789.6865 - mae: 6789.6865\n",
      "Epoch 36/100\n",
      "34/34 [==============================] - 0s 4ms/step - loss: 6755.7646 - mae: 6755.7646\n",
      "Epoch 37/100\n",
      "34/34 [==============================] - 0s 4ms/step - loss: 6720.2036 - mae: 6720.2036\n",
      "Epoch 38/100\n",
      "34/34 [==============================] - 0s 4ms/step - loss: 6689.7163 - mae: 6689.7163\n",
      "Epoch 39/100\n",
      "34/34 [==============================] - 0s 4ms/step - loss: 6652.4619 - mae: 6652.4619\n",
      "Epoch 40/100\n",
      "34/34 [==============================] - 0s 4ms/step - loss: 6618.1011 - mae: 6618.1011\n",
      "Epoch 41/100\n",
      "34/34 [==============================] - 0s 4ms/step - loss: 6585.8643 - mae: 6585.8643\n",
      "Epoch 42/100\n",
      "34/34 [==============================] - 0s 4ms/step - loss: 6559.4956 - mae: 6559.4956\n",
      "Epoch 43/100\n",
      "34/34 [==============================] - 0s 4ms/step - loss: 6530.0444 - mae: 6530.0444\n",
      "Epoch 44/100\n",
      "34/34 [==============================] - 0s 4ms/step - loss: 6506.8071 - mae: 6506.8071\n",
      "Epoch 45/100\n",
      "34/34 [==============================] - 0s 4ms/step - loss: 6493.5718 - mae: 6493.5718\n",
      "Epoch 46/100\n",
      "34/34 [==============================] - 0s 4ms/step - loss: 6475.9263 - mae: 6475.9263\n",
      "Epoch 47/100\n",
      "34/34 [==============================] - 0s 4ms/step - loss: 6458.8979 - mae: 6458.8979\n",
      "Epoch 48/100\n",
      "34/34 [==============================] - 0s 4ms/step - loss: 6445.1494 - mae: 6445.1494\n",
      "Epoch 49/100\n",
      "34/34 [==============================] - 0s 4ms/step - loss: 6430.9639 - mae: 6430.9639\n",
      "Epoch 50/100\n",
      "34/34 [==============================] - 0s 3ms/step - loss: 6417.7515 - mae: 6417.7515\n",
      "Epoch 51/100\n",
      "34/34 [==============================] - 0s 4ms/step - loss: 6403.2764 - mae: 6403.2764\n",
      "Epoch 52/100\n",
      "34/34 [==============================] - 0s 4ms/step - loss: 6392.4141 - mae: 6392.4141\n",
      "Epoch 53/100\n",
      "34/34 [==============================] - 0s 4ms/step - loss: 6378.7456 - mae: 6378.7456\n",
      "Epoch 54/100\n",
      "34/34 [==============================] - 0s 3ms/step - loss: 6364.9131 - mae: 6364.9131\n",
      "Epoch 55/100\n",
      "34/34 [==============================] - 0s 4ms/step - loss: 6351.5269 - mae: 6351.5269\n",
      "Epoch 56/100\n",
      "34/34 [==============================] - 0s 4ms/step - loss: 6337.6611 - mae: 6337.6611\n",
      "Epoch 57/100\n",
      "34/34 [==============================] - 0s 3ms/step - loss: 6324.8369 - mae: 6324.8369\n",
      "Epoch 58/100\n",
      "34/34 [==============================] - 0s 3ms/step - loss: 6310.1948 - mae: 6310.1948\n",
      "Epoch 59/100\n",
      "34/34 [==============================] - 0s 3ms/step - loss: 6295.6035 - mae: 6295.6035\n",
      "Epoch 60/100\n",
      "34/34 [==============================] - 0s 4ms/step - loss: 6284.8696 - mae: 6284.8696\n",
      "Epoch 61/100\n",
      "34/34 [==============================] - 0s 4ms/step - loss: 6265.6411 - mae: 6265.6411\n",
      "Epoch 62/100\n",
      "34/34 [==============================] - 0s 3ms/step - loss: 6253.0103 - mae: 6253.0103\n",
      "Epoch 63/100\n",
      "34/34 [==============================] - 0s 4ms/step - loss: 6234.9292 - mae: 6234.9292\n",
      "Epoch 64/100\n",
      "34/34 [==============================] - 0s 3ms/step - loss: 6218.0435 - mae: 6218.0435\n",
      "Epoch 65/100\n",
      "34/34 [==============================] - 0s 3ms/step - loss: 6201.1899 - mae: 6201.1899\n",
      "Epoch 66/100\n",
      "34/34 [==============================] - 0s 3ms/step - loss: 6183.9595 - mae: 6183.9595\n",
      "Epoch 67/100\n",
      "34/34 [==============================] - 0s 3ms/step - loss: 6171.2998 - mae: 6171.2998\n",
      "Epoch 68/100\n",
      "34/34 [==============================] - 0s 4ms/step - loss: 6148.8398 - mae: 6148.8398\n",
      "Epoch 69/100\n",
      "34/34 [==============================] - 0s 4ms/step - loss: 6132.5981 - mae: 6132.5981\n",
      "Epoch 70/100\n",
      "34/34 [==============================] - 0s 4ms/step - loss: 6112.3848 - mae: 6112.3848\n",
      "Epoch 71/100\n",
      "34/34 [==============================] - 0s 4ms/step - loss: 6092.7207 - mae: 6092.7207\n",
      "Epoch 72/100\n",
      "34/34 [==============================] - 0s 4ms/step - loss: 6073.7422 - mae: 6073.7422\n",
      "Epoch 73/100\n",
      "34/34 [==============================] - 0s 4ms/step - loss: 6059.4883 - mae: 6059.4883\n",
      "Epoch 74/100\n",
      "34/34 [==============================] - 0s 4ms/step - loss: 6031.3857 - mae: 6031.3857\n",
      "Epoch 75/100\n",
      "34/34 [==============================] - 0s 4ms/step - loss: 6010.3350 - mae: 6010.3350\n",
      "Epoch 76/100\n",
      "34/34 [==============================] - 0s 4ms/step - loss: 5995.2188 - mae: 5995.2188\n",
      "Epoch 77/100\n",
      "34/34 [==============================] - 0s 4ms/step - loss: 5963.0718 - mae: 5963.0718\n",
      "Epoch 78/100\n",
      "34/34 [==============================] - 0s 4ms/step - loss: 5940.0610 - mae: 5940.0610\n",
      "Epoch 79/100\n",
      "34/34 [==============================] - 0s 5ms/step - loss: 5915.1064 - mae: 5915.1064\n",
      "Epoch 80/100\n",
      "34/34 [==============================] - 0s 4ms/step - loss: 5887.9995 - mae: 5887.9995\n",
      "Epoch 81/100\n",
      "34/34 [==============================] - 0s 4ms/step - loss: 5861.6992 - mae: 5861.6992\n",
      "Epoch 82/100\n",
      "34/34 [==============================] - 0s 4ms/step - loss: 5834.3081 - mae: 5834.3081\n",
      "Epoch 83/100\n",
      "34/34 [==============================] - 0s 4ms/step - loss: 5805.8242 - mae: 5805.8242\n",
      "Epoch 84/100\n",
      "34/34 [==============================] - 0s 4ms/step - loss: 5772.3237 - mae: 5772.3237\n",
      "Epoch 85/100\n",
      "34/34 [==============================] - 0s 4ms/step - loss: 5745.1519 - mae: 5745.1519\n",
      "Epoch 86/100\n",
      "34/34 [==============================] - 0s 3ms/step - loss: 5711.3491 - mae: 5711.3491\n",
      "Epoch 87/100\n",
      "34/34 [==============================] - 0s 4ms/step - loss: 5674.5220 - mae: 5674.5220\n",
      "Epoch 88/100\n",
      "34/34 [==============================] - 0s 4ms/step - loss: 5639.4932 - mae: 5639.4932\n",
      "Epoch 89/100\n",
      "34/34 [==============================] - 0s 4ms/step - loss: 5600.6660 - mae: 5600.6660\n",
      "Epoch 90/100\n",
      "34/34 [==============================] - 0s 4ms/step - loss: 5559.4336 - mae: 5559.4336\n",
      "Epoch 91/100\n",
      "34/34 [==============================] - 0s 4ms/step - loss: 5523.6191 - mae: 5523.6191\n",
      "Epoch 92/100\n",
      "34/34 [==============================] - 0s 4ms/step - loss: 5474.1260 - mae: 5474.1260\n",
      "Epoch 93/100\n",
      "34/34 [==============================] - 0s 4ms/step - loss: 5432.2661 - mae: 5432.2661\n",
      "Epoch 94/100\n",
      "34/34 [==============================] - 0s 4ms/step - loss: 5386.0532 - mae: 5386.0532\n",
      "Epoch 95/100\n",
      "34/34 [==============================] - 0s 3ms/step - loss: 5333.1812 - mae: 5333.1812\n",
      "Epoch 96/100\n",
      "34/34 [==============================] - 0s 4ms/step - loss: 5288.8169 - mae: 5288.8169\n",
      "Epoch 97/100\n",
      "34/34 [==============================] - 0s 3ms/step - loss: 5234.6797 - mae: 5234.6797\n",
      "Epoch 98/100\n",
      "34/34 [==============================] - 0s 4ms/step - loss: 5170.9375 - mae: 5170.9375\n",
      "Epoch 99/100\n",
      "34/34 [==============================] - 0s 4ms/step - loss: 5112.9453 - mae: 5112.9453\n",
      "Epoch 100/100\n",
      "34/34 [==============================] - 0s 4ms/step - loss: 5060.0874 - mae: 5060.0874\n"
     ]
    },
    {
     "data": {
      "text/plain": [
       "<keras.callbacks.History at 0x7fdad7f814d0>"
      ]
     },
     "execution_count": 279,
     "metadata": {},
     "output_type": "execute_result"
    }
   ],
   "source": [
    "#Set random seed\n",
    "tf.random.set_seed(42)\n",
    "#1. Create the model\n",
    "insurance_model_2=tf.keras.Sequential([\n",
    "    tf.keras.layers.Dense(100),\n",
    "    tf.keras.layers.Dense(10),\n",
    "    tf.keras.layers.Dense(1)\n",
    "])\n",
    "# 2. Compile the model\n",
    "insurance_model_2.compile(\n",
    "    loss=tf.keras.losses.mae,\n",
    "    optimizer=tf.keras.optimizers.Adam(),\n",
    "    metrics=[\"mae\"]\n",
    ")\n",
    "# 3. Fit the model\n",
    "insurance_model_2.fit(tf.expand_dims(X_train,axis=1),y_train,epochs=100,verbose=1)"
   ]
  },
  {
   "cell_type": "code",
   "execution_count": 280,
   "metadata": {
    "colab": {
     "base_uri": "https://localhost:8080/"
    },
    "executionInfo": {
     "elapsed": 20,
     "status": "ok",
     "timestamp": 1668399834909,
     "user": {
      "displayName": "Mudit Kumar",
      "userId": "12518861077253144202"
     },
     "user_tz": -330
    },
    "id": "_Tk8lMqWJmdo",
    "outputId": "4503a1d0-53dd-4dc6-8266-1d8ccd08ba66"
   },
   "outputs": [
    {
     "name": "stdout",
     "output_type": "stream",
     "text": [
      "9/9 [==============================] - 0s 4ms/step - loss: 4924.5107 - mae: 4924.5107\n"
     ]
    },
    {
     "data": {
      "text/plain": [
       "[4924.5107421875, 4924.5107421875]"
      ]
     },
     "execution_count": 280,
     "metadata": {},
     "output_type": "execute_result"
    }
   ],
   "source": [
    "# Evaluate the larger model\n",
    "insurance_model_2.evaluate(tf.expand_dims(X_test,axis=1),y_test)"
   ]
  },
  {
   "cell_type": "code",
   "execution_count": 281,
   "metadata": {
    "colab": {
     "base_uri": "https://localhost:8080/"
    },
    "executionInfo": {
     "elapsed": 17,
     "status": "ok",
     "timestamp": 1668399834909,
     "user": {
      "displayName": "Mudit Kumar",
      "userId": "12518861077253144202"
     },
     "user_tz": -330
    },
    "id": "3od3FToG_iII",
    "outputId": "520a751b-8eab-4226-9102-48a3482a4ad9"
   },
   "outputs": [
    {
     "name": "stdout",
     "output_type": "stream",
     "text": [
      "9/9 [==============================] - 0s 3ms/step - loss: 8628.2344 - mae: 8628.2344\n"
     ]
    },
    {
     "data": {
      "text/plain": [
       "[8628.234375, 8628.234375]"
      ]
     },
     "execution_count": 281,
     "metadata": {},
     "output_type": "execute_result"
    }
   ],
   "source": [
    "insurance_model.evaluate(tf.expand_dims(X_test,axis=1),y_test)"
   ]
  },
  {
   "cell_type": "code",
   "execution_count": 282,
   "metadata": {
    "colab": {
     "base_uri": "https://localhost:8080/"
    },
    "executionInfo": {
     "elapsed": 29701,
     "status": "ok",
     "timestamp": 1668399864597,
     "user": {
      "displayName": "Mudit Kumar",
      "userId": "12518861077253144202"
     },
     "user_tz": -330
    },
    "id": "1JDMAtYrA76r",
    "outputId": "1fc1008f-0c0a-48a6-d084-d47b1d25d106"
   },
   "outputs": [
    {
     "name": "stdout",
     "output_type": "stream",
     "text": [
      "Epoch 1/200\n",
      "34/34 [==============================] - 1s 4ms/step - loss: 13273.1602 - mae: 13273.1602\n",
      "Epoch 2/200\n",
      "34/34 [==============================] - 0s 4ms/step - loss: 13104.4287 - mae: 13104.4287\n",
      "Epoch 3/200\n",
      "34/34 [==============================] - 0s 4ms/step - loss: 12749.5400 - mae: 12749.5400\n",
      "Epoch 4/200\n",
      "34/34 [==============================] - 0s 4ms/step - loss: 12055.7500 - mae: 12055.7500\n",
      "Epoch 5/200\n",
      "34/34 [==============================] - 0s 4ms/step - loss: 10905.8154 - mae: 10905.8154\n",
      "Epoch 6/200\n",
      "34/34 [==============================] - 0s 4ms/step - loss: 9457.7188 - mae: 9457.7188\n",
      "Epoch 7/200\n",
      "34/34 [==============================] - 0s 4ms/step - loss: 8147.6533 - mae: 8147.6533\n",
      "Epoch 8/200\n",
      "34/34 [==============================] - 0s 4ms/step - loss: 7528.8398 - mae: 7528.8398\n",
      "Epoch 9/200\n",
      "34/34 [==============================] - 0s 4ms/step - loss: 7429.1528 - mae: 7429.1528\n",
      "Epoch 10/200\n",
      "34/34 [==============================] - 0s 4ms/step - loss: 7409.0811 - mae: 7409.0811\n",
      "Epoch 11/200\n",
      "34/34 [==============================] - 0s 3ms/step - loss: 7390.8042 - mae: 7390.8042\n",
      "Epoch 12/200\n",
      "34/34 [==============================] - 0s 4ms/step - loss: 7368.9170 - mae: 7368.9170\n",
      "Epoch 13/200\n",
      "34/34 [==============================] - 0s 4ms/step - loss: 7348.5195 - mae: 7348.5195\n",
      "Epoch 14/200\n",
      "34/34 [==============================] - 0s 4ms/step - loss: 7326.4893 - mae: 7326.4893\n",
      "Epoch 15/200\n",
      "34/34 [==============================] - 0s 4ms/step - loss: 7307.5811 - mae: 7307.5811\n",
      "Epoch 16/200\n",
      "34/34 [==============================] - 0s 4ms/step - loss: 7285.7739 - mae: 7285.7739\n",
      "Epoch 17/200\n",
      "34/34 [==============================] - 0s 3ms/step - loss: 7265.7104 - mae: 7265.7104\n",
      "Epoch 18/200\n",
      "34/34 [==============================] - 0s 4ms/step - loss: 7242.5503 - mae: 7242.5503\n",
      "Epoch 19/200\n",
      "34/34 [==============================] - 0s 4ms/step - loss: 7220.5068 - mae: 7220.5068\n",
      "Epoch 20/200\n",
      "34/34 [==============================] - 0s 3ms/step - loss: 7197.1973 - mae: 7197.1973\n",
      "Epoch 21/200\n",
      "34/34 [==============================] - 0s 4ms/step - loss: 7179.0195 - mae: 7179.0195\n",
      "Epoch 22/200\n",
      "34/34 [==============================] - 0s 4ms/step - loss: 7151.2104 - mae: 7151.2104\n",
      "Epoch 23/200\n",
      "34/34 [==============================] - 0s 4ms/step - loss: 7126.4639 - mae: 7126.4639\n",
      "Epoch 24/200\n",
      "34/34 [==============================] - 0s 4ms/step - loss: 7101.9194 - mae: 7101.9194\n",
      "Epoch 25/200\n",
      "34/34 [==============================] - 0s 4ms/step - loss: 7084.3379 - mae: 7084.3379\n",
      "Epoch 26/200\n",
      "34/34 [==============================] - 0s 4ms/step - loss: 7052.3291 - mae: 7052.3291\n",
      "Epoch 27/200\n",
      "34/34 [==============================] - 0s 4ms/step - loss: 7024.3506 - mae: 7024.3506\n",
      "Epoch 28/200\n",
      "34/34 [==============================] - 0s 3ms/step - loss: 6996.6963 - mae: 6996.6963\n",
      "Epoch 29/200\n",
      "34/34 [==============================] - 0s 4ms/step - loss: 6969.0107 - mae: 6969.0107\n",
      "Epoch 30/200\n",
      "34/34 [==============================] - 0s 4ms/step - loss: 6942.1899 - mae: 6942.1899\n",
      "Epoch 31/200\n",
      "34/34 [==============================] - 0s 3ms/step - loss: 6911.7280 - mae: 6911.7280\n",
      "Epoch 32/200\n",
      "34/34 [==============================] - 0s 4ms/step - loss: 6884.0205 - mae: 6884.0205\n",
      "Epoch 33/200\n",
      "34/34 [==============================] - 0s 4ms/step - loss: 6853.4644 - mae: 6853.4644\n",
      "Epoch 34/200\n",
      "34/34 [==============================] - 0s 4ms/step - loss: 6823.0674 - mae: 6823.0674\n",
      "Epoch 35/200\n",
      "34/34 [==============================] - 0s 4ms/step - loss: 6789.6865 - mae: 6789.6865\n",
      "Epoch 36/200\n",
      "34/34 [==============================] - 0s 4ms/step - loss: 6755.7646 - mae: 6755.7646\n",
      "Epoch 37/200\n",
      "34/34 [==============================] - 0s 4ms/step - loss: 6720.2036 - mae: 6720.2036\n",
      "Epoch 38/200\n",
      "34/34 [==============================] - 0s 4ms/step - loss: 6689.7163 - mae: 6689.7163\n",
      "Epoch 39/200\n",
      "34/34 [==============================] - 0s 4ms/step - loss: 6652.4619 - mae: 6652.4619\n",
      "Epoch 40/200\n",
      "34/34 [==============================] - 0s 4ms/step - loss: 6618.1011 - mae: 6618.1011\n",
      "Epoch 41/200\n",
      "34/34 [==============================] - 0s 4ms/step - loss: 6585.8643 - mae: 6585.8643\n",
      "Epoch 42/200\n",
      "34/34 [==============================] - 0s 4ms/step - loss: 6559.4956 - mae: 6559.4956\n",
      "Epoch 43/200\n",
      "34/34 [==============================] - 0s 4ms/step - loss: 6530.0444 - mae: 6530.0444\n",
      "Epoch 44/200\n",
      "34/34 [==============================] - 0s 3ms/step - loss: 6506.8071 - mae: 6506.8071\n",
      "Epoch 45/200\n",
      "34/34 [==============================] - 0s 4ms/step - loss: 6493.5718 - mae: 6493.5718\n",
      "Epoch 46/200\n",
      "34/34 [==============================] - 0s 4ms/step - loss: 6475.9263 - mae: 6475.9263\n",
      "Epoch 47/200\n",
      "34/34 [==============================] - 0s 4ms/step - loss: 6458.8979 - mae: 6458.8979\n",
      "Epoch 48/200\n",
      "34/34 [==============================] - 0s 3ms/step - loss: 6445.1494 - mae: 6445.1494\n",
      "Epoch 49/200\n",
      "34/34 [==============================] - 0s 3ms/step - loss: 6430.9639 - mae: 6430.9639\n",
      "Epoch 50/200\n",
      "34/34 [==============================] - 0s 4ms/step - loss: 6417.7515 - mae: 6417.7515\n",
      "Epoch 51/200\n",
      "34/34 [==============================] - 0s 4ms/step - loss: 6403.2764 - mae: 6403.2764\n",
      "Epoch 52/200\n",
      "34/34 [==============================] - 0s 4ms/step - loss: 6392.4141 - mae: 6392.4141\n",
      "Epoch 53/200\n",
      "34/34 [==============================] - 0s 4ms/step - loss: 6378.7456 - mae: 6378.7456\n",
      "Epoch 54/200\n",
      "34/34 [==============================] - 0s 3ms/step - loss: 6364.9131 - mae: 6364.9131\n",
      "Epoch 55/200\n",
      "34/34 [==============================] - 0s 4ms/step - loss: 6351.5269 - mae: 6351.5269\n",
      "Epoch 56/200\n",
      "34/34 [==============================] - 0s 4ms/step - loss: 6337.6611 - mae: 6337.6611\n",
      "Epoch 57/200\n",
      "34/34 [==============================] - 0s 4ms/step - loss: 6324.8369 - mae: 6324.8369\n",
      "Epoch 58/200\n",
      "34/34 [==============================] - 0s 3ms/step - loss: 6310.1948 - mae: 6310.1948\n",
      "Epoch 59/200\n",
      "34/34 [==============================] - 0s 4ms/step - loss: 6295.6035 - mae: 6295.6035\n",
      "Epoch 60/200\n",
      "34/34 [==============================] - 0s 4ms/step - loss: 6284.8696 - mae: 6284.8696\n",
      "Epoch 61/200\n",
      "34/34 [==============================] - 0s 4ms/step - loss: 6265.6411 - mae: 6265.6411\n",
      "Epoch 62/200\n",
      "34/34 [==============================] - 0s 4ms/step - loss: 6253.0103 - mae: 6253.0103\n",
      "Epoch 63/200\n",
      "34/34 [==============================] - 0s 4ms/step - loss: 6234.9292 - mae: 6234.9292\n",
      "Epoch 64/200\n",
      "34/34 [==============================] - 0s 4ms/step - loss: 6218.0435 - mae: 6218.0435\n",
      "Epoch 65/200\n",
      "34/34 [==============================] - 0s 4ms/step - loss: 6201.1899 - mae: 6201.1899\n",
      "Epoch 66/200\n",
      "34/34 [==============================] - 0s 4ms/step - loss: 6183.9595 - mae: 6183.9595\n",
      "Epoch 67/200\n",
      "34/34 [==============================] - 0s 4ms/step - loss: 6171.2998 - mae: 6171.2998\n",
      "Epoch 68/200\n",
      "34/34 [==============================] - 0s 4ms/step - loss: 6148.8398 - mae: 6148.8398\n",
      "Epoch 69/200\n",
      "34/34 [==============================] - 0s 4ms/step - loss: 6132.5981 - mae: 6132.5981\n",
      "Epoch 70/200\n",
      "34/34 [==============================] - 0s 4ms/step - loss: 6112.3848 - mae: 6112.3848\n",
      "Epoch 71/200\n",
      "34/34 [==============================] - 0s 4ms/step - loss: 6092.7207 - mae: 6092.7207\n",
      "Epoch 72/200\n",
      "34/34 [==============================] - 0s 4ms/step - loss: 6073.7422 - mae: 6073.7422\n",
      "Epoch 73/200\n",
      "34/34 [==============================] - 0s 4ms/step - loss: 6059.4883 - mae: 6059.4883\n",
      "Epoch 74/200\n",
      "34/34 [==============================] - 0s 4ms/step - loss: 6031.3857 - mae: 6031.3857\n",
      "Epoch 75/200\n",
      "34/34 [==============================] - 0s 4ms/step - loss: 6010.3350 - mae: 6010.3350\n",
      "Epoch 76/200\n",
      "34/34 [==============================] - 0s 4ms/step - loss: 5995.2188 - mae: 5995.2188\n",
      "Epoch 77/200\n",
      "34/34 [==============================] - 0s 4ms/step - loss: 5963.0718 - mae: 5963.0718\n",
      "Epoch 78/200\n",
      "34/34 [==============================] - 0s 4ms/step - loss: 5940.0610 - mae: 5940.0610\n",
      "Epoch 79/200\n",
      "34/34 [==============================] - 0s 4ms/step - loss: 5915.1064 - mae: 5915.1064\n",
      "Epoch 80/200\n",
      "34/34 [==============================] - 0s 4ms/step - loss: 5887.9995 - mae: 5887.9995\n",
      "Epoch 81/200\n",
      "34/34 [==============================] - 0s 4ms/step - loss: 5861.6992 - mae: 5861.6992\n",
      "Epoch 82/200\n",
      "34/34 [==============================] - 0s 4ms/step - loss: 5834.3081 - mae: 5834.3081\n",
      "Epoch 83/200\n",
      "34/34 [==============================] - 0s 4ms/step - loss: 5805.8242 - mae: 5805.8242\n",
      "Epoch 84/200\n",
      "34/34 [==============================] - 0s 4ms/step - loss: 5772.3237 - mae: 5772.3237\n",
      "Epoch 85/200\n",
      "34/34 [==============================] - 0s 4ms/step - loss: 5745.1519 - mae: 5745.1519\n",
      "Epoch 86/200\n",
      "34/34 [==============================] - 0s 4ms/step - loss: 5711.3491 - mae: 5711.3491\n",
      "Epoch 87/200\n",
      "34/34 [==============================] - 0s 4ms/step - loss: 5674.5220 - mae: 5674.5220\n",
      "Epoch 88/200\n",
      "34/34 [==============================] - 0s 4ms/step - loss: 5639.4932 - mae: 5639.4932\n",
      "Epoch 89/200\n",
      "34/34 [==============================] - 0s 3ms/step - loss: 5600.6660 - mae: 5600.6660\n",
      "Epoch 90/200\n",
      "34/34 [==============================] - 0s 4ms/step - loss: 5559.4336 - mae: 5559.4336\n",
      "Epoch 91/200\n",
      "34/34 [==============================] - 0s 4ms/step - loss: 5523.6191 - mae: 5523.6191\n",
      "Epoch 92/200\n",
      "34/34 [==============================] - 0s 4ms/step - loss: 5474.1260 - mae: 5474.1260\n",
      "Epoch 93/200\n",
      "34/34 [==============================] - 0s 4ms/step - loss: 5432.2661 - mae: 5432.2661\n",
      "Epoch 94/200\n",
      "34/34 [==============================] - 0s 4ms/step - loss: 5386.0532 - mae: 5386.0532\n",
      "Epoch 95/200\n",
      "34/34 [==============================] - 0s 4ms/step - loss: 5333.1812 - mae: 5333.1812\n",
      "Epoch 96/200\n",
      "34/34 [==============================] - 0s 4ms/step - loss: 5288.8169 - mae: 5288.8169\n",
      "Epoch 97/200\n",
      "34/34 [==============================] - 0s 4ms/step - loss: 5234.6797 - mae: 5234.6797\n",
      "Epoch 98/200\n",
      "34/34 [==============================] - 0s 4ms/step - loss: 5170.9375 - mae: 5170.9375\n",
      "Epoch 99/200\n",
      "34/34 [==============================] - 0s 4ms/step - loss: 5112.9453 - mae: 5112.9453\n",
      "Epoch 100/200\n",
      "34/34 [==============================] - 0s 4ms/step - loss: 5060.0874 - mae: 5060.0874\n",
      "Epoch 101/200\n",
      "34/34 [==============================] - 0s 4ms/step - loss: 4987.7427 - mae: 4987.7427\n",
      "Epoch 102/200\n",
      "34/34 [==============================] - 0s 4ms/step - loss: 4915.4482 - mae: 4915.4482\n",
      "Epoch 103/200\n",
      "34/34 [==============================] - 0s 4ms/step - loss: 4847.4868 - mae: 4847.4868\n",
      "Epoch 104/200\n",
      "34/34 [==============================] - 0s 4ms/step - loss: 4768.1816 - mae: 4768.1816\n",
      "Epoch 105/200\n",
      "34/34 [==============================] - 0s 4ms/step - loss: 4683.4648 - mae: 4683.4648\n",
      "Epoch 106/200\n",
      "34/34 [==============================] - 0s 4ms/step - loss: 4601.2075 - mae: 4601.2075\n",
      "Epoch 107/200\n",
      "34/34 [==============================] - 0s 4ms/step - loss: 4513.4639 - mae: 4513.4639\n",
      "Epoch 108/200\n",
      "34/34 [==============================] - 0s 4ms/step - loss: 4423.5952 - mae: 4423.5952\n",
      "Epoch 109/200\n",
      "34/34 [==============================] - 0s 4ms/step - loss: 4339.2173 - mae: 4339.2173\n",
      "Epoch 110/200\n",
      "34/34 [==============================] - 0s 4ms/step - loss: 4255.7876 - mae: 4255.7876\n",
      "Epoch 111/200\n",
      "34/34 [==============================] - 0s 4ms/step - loss: 4174.8779 - mae: 4174.8779\n",
      "Epoch 112/200\n",
      "34/34 [==============================] - 0s 4ms/step - loss: 4101.4243 - mae: 4101.4243\n",
      "Epoch 113/200\n",
      "34/34 [==============================] - 0s 4ms/step - loss: 4031.7214 - mae: 4031.7214\n",
      "Epoch 114/200\n",
      "34/34 [==============================] - 0s 6ms/step - loss: 3986.9099 - mae: 3986.9099\n",
      "Epoch 115/200\n",
      "34/34 [==============================] - 0s 6ms/step - loss: 3944.5925 - mae: 3944.5925\n",
      "Epoch 116/200\n",
      "34/34 [==============================] - 0s 6ms/step - loss: 3918.6147 - mae: 3918.6147\n",
      "Epoch 117/200\n",
      "34/34 [==============================] - 0s 6ms/step - loss: 3896.7400 - mae: 3896.7400\n",
      "Epoch 118/200\n",
      "34/34 [==============================] - 0s 6ms/step - loss: 3872.1240 - mae: 3872.1240\n",
      "Epoch 119/200\n",
      "34/34 [==============================] - 0s 6ms/step - loss: 3851.9661 - mae: 3851.9661\n",
      "Epoch 120/200\n",
      "34/34 [==============================] - 0s 6ms/step - loss: 3835.4456 - mae: 3835.4456\n",
      "Epoch 121/200\n",
      "34/34 [==============================] - 0s 6ms/step - loss: 3829.4529 - mae: 3829.4529\n",
      "Epoch 122/200\n",
      "34/34 [==============================] - 0s 6ms/step - loss: 3822.5405 - mae: 3822.5405\n",
      "Epoch 123/200\n",
      "34/34 [==============================] - 0s 6ms/step - loss: 3814.8994 - mae: 3814.8994\n",
      "Epoch 124/200\n",
      "34/34 [==============================] - 0s 6ms/step - loss: 3806.8062 - mae: 3806.8062\n",
      "Epoch 125/200\n",
      "34/34 [==============================] - 0s 6ms/step - loss: 3795.5427 - mae: 3795.5427\n",
      "Epoch 126/200\n",
      "34/34 [==============================] - 0s 6ms/step - loss: 3807.1846 - mae: 3807.1846\n",
      "Epoch 127/200\n",
      "34/34 [==============================] - 0s 6ms/step - loss: 3797.8484 - mae: 3797.8484\n",
      "Epoch 128/200\n",
      "34/34 [==============================] - 0s 6ms/step - loss: 3791.7207 - mae: 3791.7207\n",
      "Epoch 129/200\n",
      "34/34 [==============================] - 0s 6ms/step - loss: 3802.8037 - mae: 3802.8037\n",
      "Epoch 130/200\n",
      "34/34 [==============================] - 0s 6ms/step - loss: 3789.7969 - mae: 3789.7969\n",
      "Epoch 131/200\n",
      "34/34 [==============================] - 0s 6ms/step - loss: 3781.4006 - mae: 3781.4006\n",
      "Epoch 132/200\n",
      "34/34 [==============================] - 0s 4ms/step - loss: 3774.9460 - mae: 3774.9460\n",
      "Epoch 133/200\n",
      "34/34 [==============================] - 0s 4ms/step - loss: 3770.7563 - mae: 3770.7563\n",
      "Epoch 134/200\n",
      "34/34 [==============================] - 0s 4ms/step - loss: 3769.5461 - mae: 3769.5461\n",
      "Epoch 135/200\n",
      "34/34 [==============================] - 0s 4ms/step - loss: 3767.2349 - mae: 3767.2349\n",
      "Epoch 136/200\n",
      "34/34 [==============================] - 0s 4ms/step - loss: 3766.0598 - mae: 3766.0598\n",
      "Epoch 137/200\n",
      "34/34 [==============================] - 0s 4ms/step - loss: 3775.8564 - mae: 3775.8564\n",
      "Epoch 138/200\n",
      "34/34 [==============================] - 0s 4ms/step - loss: 3783.4236 - mae: 3783.4236\n",
      "Epoch 139/200\n",
      "34/34 [==============================] - 0s 4ms/step - loss: 3761.3591 - mae: 3761.3591\n",
      "Epoch 140/200\n",
      "34/34 [==============================] - 0s 4ms/step - loss: 3762.6267 - mae: 3762.6267\n",
      "Epoch 141/200\n",
      "34/34 [==============================] - 0s 4ms/step - loss: 3763.7034 - mae: 3763.7034\n",
      "Epoch 142/200\n",
      "34/34 [==============================] - 0s 4ms/step - loss: 3765.6416 - mae: 3765.6416\n",
      "Epoch 143/200\n",
      "34/34 [==============================] - 0s 4ms/step - loss: 3755.0134 - mae: 3755.0134\n",
      "Epoch 144/200\n",
      "34/34 [==============================] - 0s 4ms/step - loss: 3750.5747 - mae: 3750.5747\n",
      "Epoch 145/200\n",
      "34/34 [==============================] - 0s 4ms/step - loss: 3751.1660 - mae: 3751.1660\n",
      "Epoch 146/200\n",
      "34/34 [==============================] - 0s 4ms/step - loss: 3756.9321 - mae: 3756.9321\n",
      "Epoch 147/200\n",
      "34/34 [==============================] - 0s 4ms/step - loss: 3751.6331 - mae: 3751.6331\n",
      "Epoch 148/200\n",
      "34/34 [==============================] - 0s 4ms/step - loss: 3756.2720 - mae: 3756.2720\n",
      "Epoch 149/200\n",
      "34/34 [==============================] - 0s 4ms/step - loss: 3743.5862 - mae: 3743.5862\n",
      "Epoch 150/200\n",
      "34/34 [==============================] - 0s 4ms/step - loss: 3738.7124 - mae: 3738.7124\n",
      "Epoch 151/200\n",
      "34/34 [==============================] - 0s 4ms/step - loss: 3741.1472 - mae: 3741.1472\n",
      "Epoch 152/200\n",
      "34/34 [==============================] - 0s 3ms/step - loss: 3742.1658 - mae: 3742.1658\n",
      "Epoch 153/200\n",
      "34/34 [==============================] - 0s 4ms/step - loss: 3743.0066 - mae: 3743.0066\n",
      "Epoch 154/200\n",
      "34/34 [==============================] - 0s 4ms/step - loss: 3737.0344 - mae: 3737.0344\n",
      "Epoch 155/200\n",
      "34/34 [==============================] - 0s 4ms/step - loss: 3737.9741 - mae: 3737.9741\n",
      "Epoch 156/200\n",
      "34/34 [==============================] - 0s 4ms/step - loss: 3736.7351 - mae: 3736.7351\n",
      "Epoch 157/200\n",
      "34/34 [==============================] - 0s 4ms/step - loss: 3732.5813 - mae: 3732.5813\n",
      "Epoch 158/200\n",
      "34/34 [==============================] - 0s 4ms/step - loss: 3729.4282 - mae: 3729.4282\n",
      "Epoch 159/200\n",
      "34/34 [==============================] - 0s 4ms/step - loss: 3728.5610 - mae: 3728.5610\n",
      "Epoch 160/200\n",
      "34/34 [==============================] - 0s 4ms/step - loss: 3733.9954 - mae: 3733.9954\n",
      "Epoch 161/200\n",
      "34/34 [==============================] - 0s 4ms/step - loss: 3728.1082 - mae: 3728.1082\n",
      "Epoch 162/200\n",
      "34/34 [==============================] - 0s 4ms/step - loss: 3725.3665 - mae: 3725.3665\n",
      "Epoch 163/200\n",
      "34/34 [==============================] - 0s 4ms/step - loss: 3722.9509 - mae: 3722.9509\n",
      "Epoch 164/200\n",
      "34/34 [==============================] - 0s 4ms/step - loss: 3727.0618 - mae: 3727.0618\n",
      "Epoch 165/200\n",
      "34/34 [==============================] - 0s 4ms/step - loss: 3717.6616 - mae: 3717.6616\n",
      "Epoch 166/200\n",
      "34/34 [==============================] - 0s 4ms/step - loss: 3720.3701 - mae: 3720.3701\n",
      "Epoch 167/200\n",
      "34/34 [==============================] - 0s 4ms/step - loss: 3720.2910 - mae: 3720.2910\n",
      "Epoch 168/200\n",
      "34/34 [==============================] - 0s 4ms/step - loss: 3717.2764 - mae: 3717.2764\n",
      "Epoch 169/200\n",
      "34/34 [==============================] - 0s 4ms/step - loss: 3713.5608 - mae: 3713.5608\n",
      "Epoch 170/200\n",
      "34/34 [==============================] - 0s 4ms/step - loss: 3708.0085 - mae: 3708.0085\n",
      "Epoch 171/200\n",
      "34/34 [==============================] - 0s 4ms/step - loss: 3707.6399 - mae: 3707.6399\n",
      "Epoch 172/200\n",
      "34/34 [==============================] - 0s 4ms/step - loss: 3709.0317 - mae: 3709.0317\n",
      "Epoch 173/200\n",
      "34/34 [==============================] - 0s 4ms/step - loss: 3705.1494 - mae: 3705.1494\n",
      "Epoch 174/200\n",
      "34/34 [==============================] - 0s 4ms/step - loss: 3709.5410 - mae: 3709.5410\n",
      "Epoch 175/200\n",
      "34/34 [==============================] - 0s 4ms/step - loss: 3710.9670 - mae: 3710.9670\n",
      "Epoch 176/200\n",
      "34/34 [==============================] - 0s 4ms/step - loss: 3706.6680 - mae: 3706.6680\n",
      "Epoch 177/200\n",
      "34/34 [==============================] - 0s 4ms/step - loss: 3698.9153 - mae: 3698.9153\n",
      "Epoch 178/200\n",
      "34/34 [==============================] - 0s 4ms/step - loss: 3695.3811 - mae: 3695.3811\n",
      "Epoch 179/200\n",
      "34/34 [==============================] - 0s 4ms/step - loss: 3706.8621 - mae: 3706.8621\n",
      "Epoch 180/200\n",
      "34/34 [==============================] - 0s 4ms/step - loss: 3709.3875 - mae: 3709.3875\n",
      "Epoch 181/200\n",
      "34/34 [==============================] - 0s 4ms/step - loss: 3695.9614 - mae: 3695.9614\n",
      "Epoch 182/200\n",
      "34/34 [==============================] - 0s 4ms/step - loss: 3693.4849 - mae: 3693.4849\n",
      "Epoch 183/200\n",
      "34/34 [==============================] - 0s 4ms/step - loss: 3691.5908 - mae: 3691.5908\n",
      "Epoch 184/200\n",
      "34/34 [==============================] - 0s 4ms/step - loss: 3697.9917 - mae: 3697.9917\n",
      "Epoch 185/200\n",
      "34/34 [==============================] - 0s 4ms/step - loss: 3692.3054 - mae: 3692.3054\n",
      "Epoch 186/200\n",
      "34/34 [==============================] - 0s 4ms/step - loss: 3695.7458 - mae: 3695.7458\n",
      "Epoch 187/200\n",
      "34/34 [==============================] - 0s 4ms/step - loss: 3688.8059 - mae: 3688.8059\n",
      "Epoch 188/200\n",
      "34/34 [==============================] - 0s 4ms/step - loss: 3693.3767 - mae: 3693.3767\n",
      "Epoch 189/200\n",
      "34/34 [==============================] - 0s 4ms/step - loss: 3684.3003 - mae: 3684.3003\n",
      "Epoch 190/200\n",
      "34/34 [==============================] - 0s 4ms/step - loss: 3682.4172 - mae: 3682.4172\n",
      "Epoch 191/200\n",
      "34/34 [==============================] - 0s 4ms/step - loss: 3701.8772 - mae: 3701.8772\n",
      "Epoch 192/200\n",
      "34/34 [==============================] - 0s 4ms/step - loss: 3685.1750 - mae: 3685.1750\n",
      "Epoch 193/200\n",
      "34/34 [==============================] - 0s 4ms/step - loss: 3674.1245 - mae: 3674.1245\n",
      "Epoch 194/200\n",
      "34/34 [==============================] - 0s 4ms/step - loss: 3674.9353 - mae: 3674.9353\n",
      "Epoch 195/200\n",
      "34/34 [==============================] - 0s 3ms/step - loss: 3672.9138 - mae: 3672.9138\n",
      "Epoch 196/200\n",
      "34/34 [==============================] - 0s 4ms/step - loss: 3681.3552 - mae: 3681.3552\n",
      "Epoch 197/200\n",
      "34/34 [==============================] - 0s 4ms/step - loss: 3666.5703 - mae: 3666.5703\n",
      "Epoch 198/200\n",
      "34/34 [==============================] - 0s 4ms/step - loss: 3672.4153 - mae: 3672.4153\n",
      "Epoch 199/200\n",
      "34/34 [==============================] - 0s 4ms/step - loss: 3680.3145 - mae: 3680.3145\n",
      "Epoch 200/200\n",
      "34/34 [==============================] - 0s 4ms/step - loss: 3668.1567 - mae: 3668.1567\n"
     ]
    }
   ],
   "source": [
    "# Set random seed\n",
    "tf.random.set_seed(42)\n",
    "\n",
    "# 1. Create the model \n",
    "insurance_model_3=tf.keras.Sequential([\n",
    "    tf.keras.layers.Dense(100),\n",
    "    tf.keras.layers.Dense(10),\n",
    "    tf.keras.layers.Dense(1)\n",
    "])\n",
    "insurance_model_3.compile(loss=tf.keras.losses.mae,\n",
    "                          optimizer=tf.keras.optimizers.Adam(),\n",
    "                          metrics=[\"mae\"]\n",
    "                          )\n",
    "history=insurance_model_3.fit(tf.expand_dims(X_train,axis=1),y_train,epochs=200)"
   ]
  },
  {
   "cell_type": "code",
   "execution_count": 283,
   "metadata": {
    "colab": {
     "base_uri": "https://localhost:8080/"
    },
    "executionInfo": {
     "elapsed": 20,
     "status": "ok",
     "timestamp": 1668399864597,
     "user": {
      "displayName": "Mudit Kumar",
      "userId": "12518861077253144202"
     },
     "user_tz": -330
    },
    "id": "RjdVE-53IeoF",
    "outputId": "62d298bb-0865-45a7-8ef8-f9d3a0f57ca2"
   },
   "outputs": [
    {
     "name": "stdout",
     "output_type": "stream",
     "text": [
      "9/9 [==============================] - 0s 3ms/step - loss: 3494.5322 - mae: 3494.5322\n"
     ]
    },
    {
     "data": {
      "text/plain": [
       "[3494.5322265625, 3494.5322265625]"
      ]
     },
     "execution_count": 283,
     "metadata": {},
     "output_type": "execute_result"
    }
   ],
   "source": [
    "insurance_model_3.evaluate(tf.expand_dims(X_test,axis=1),y_test)"
   ]
  },
  {
   "cell_type": "code",
   "execution_count": 284,
   "metadata": {
    "colab": {
     "base_uri": "https://localhost:8080/",
     "height": 296
    },
    "executionInfo": {
     "elapsed": 1153,
     "status": "ok",
     "timestamp": 1668399865738,
     "user": {
      "displayName": "Mudit Kumar",
      "userId": "12518861077253144202"
     },
     "user_tz": -330
    },
    "id": "pDc2pVkFKhxA",
    "outputId": "10f514bf-848b-4c1b-c02a-a40a69dcdd8a"
   },
   "outputs": [
    {
     "data": {
      "text/plain": [
       "Text(0.5, 0, 'epochs')"
      ]
     },
     "execution_count": 284,
     "metadata": {},
     "output_type": "execute_result"
    },
    {
     "data": {
      "image/png": "[encoded data removed]",
      "text/plain": [
       "<Figure size 432x288 with 1 Axes>"
      ]
     },
     "metadata": {
      "needs_background": "light"
     },
     "output_type": "display_data"
    }
   ],
   "source": [
    "# Plot history (also known as a loss curve or a training curve)\n",
    "pd.DataFrame(history.history).plot()\n",
    "plt.ylabel(\"loss\")\n",
    "plt.xlabel(\"epochs\")"
   ]
  },
  {
   "cell_type": "markdown",
   "metadata": {
    "id": "VxYQmjYML8WD"
   },
   "source": [
    " ## Preprocessing data (normalization and stadardization)\n",
    "In terms of scaling values , Neural networks tend to prefer normalization.\n",
    "\n",
    "If u're not sure which to use,you could try both and see which performs better.\n"
   ]
  },
  {
   "cell_type": "code",
   "execution_count": 285,
   "metadata": {
    "colab": {
     "base_uri": "https://localhost:8080/",
     "height": 424
    },
    "executionInfo": {
     "elapsed": 34,
     "status": "ok",
     "timestamp": 1668399865739,
     "user": {
      "displayName": "Mudit Kumar",
      "userId": "12518861077253144202"
     },
     "user_tz": -330
    },
    "id": "kCcmCuPFWcFO",
    "outputId": "7546e393-7dad-43d9-f144-f42fe5dc1b9d"
   },
   "outputs": [
    {
     "data": {
      "text/html": [
       "\n",
       "  <div id=\"df-df81ad26-1f76-4d7f-9d15-7eb5b0239d1e\">\n",
       "    <div class=\"colab-df-container\">\n",
       "      <div>\n",
       "<style scoped>\n",
       "    .dataframe tbody tr th:only-of-type {\n",
       "        vertical-align: middle;\n",
       "    }\n",
       "\n",
       "    .dataframe tbody tr th {\n",
       "        vertical-align: top;\n",
       "    }\n",
       "\n",
       "    .dataframe thead th {\n",
       "        text-align: right;\n",
       "    }\n",
       "</style>\n",
       "<table border=\"1\" class=\"dataframe\">\n",
       "  <thead>\n",
       "    <tr style=\"text-align: right;\">\n",
       "      <th></th>\n",
       "      <th>age</th>\n",
       "      <th>sex</th>\n",
       "      <th>bmi</th>\n",
       "      <th>children</th>\n",
       "      <th>smoker</th>\n",
       "      <th>region</th>\n",
       "      <th>charges</th>\n",
       "    </tr>\n",
       "  </thead>\n",
       "  <tbody>\n",
       "    <tr>\n",
       "      <th>0</th>\n",
       "      <td>19</td>\n",
       "      <td>female</td>\n",
       "      <td>27.900</td>\n",
       "      <td>0</td>\n",
       "      <td>yes</td>\n",
       "      <td>southwest</td>\n",
       "      <td>16884.92400</td>\n",
       "    </tr>\n",
       "    <tr>\n",
       "      <th>1</th>\n",
       "      <td>18</td>\n",
       "      <td>male</td>\n",
       "      <td>33.770</td>\n",
       "      <td>1</td>\n",
       "      <td>no</td>\n",
       "      <td>southeast</td>\n",
       "      <td>1725.55230</td>\n",
       "    </tr>\n",
       "    <tr>\n",
       "      <th>2</th>\n",
       "      <td>28</td>\n",
       "      <td>male</td>\n",
       "      <td>33.000</td>\n",
       "      <td>3</td>\n",
       "      <td>no</td>\n",
       "      <td>southeast</td>\n",
       "      <td>4449.46200</td>\n",
       "    </tr>\n",
       "    <tr>\n",
       "      <th>3</th>\n",
       "      <td>33</td>\n",
       "      <td>male</td>\n",
       "      <td>22.705</td>\n",
       "      <td>0</td>\n",
       "      <td>no</td>\n",
       "      <td>northwest</td>\n",
       "      <td>21984.47061</td>\n",
       "    </tr>\n",
       "    <tr>\n",
       "      <th>4</th>\n",
       "      <td>32</td>\n",
       "      <td>male</td>\n",
       "      <td>28.880</td>\n",
       "      <td>0</td>\n",
       "      <td>no</td>\n",
       "      <td>northwest</td>\n",
       "      <td>3866.85520</td>\n",
       "    </tr>\n",
       "    <tr>\n",
       "      <th>...</th>\n",
       "      <td>...</td>\n",
       "      <td>...</td>\n",
       "      <td>...</td>\n",
       "      <td>...</td>\n",
       "      <td>...</td>\n",
       "      <td>...</td>\n",
       "      <td>...</td>\n",
       "    </tr>\n",
       "    <tr>\n",
       "      <th>1333</th>\n",
       "      <td>50</td>\n",
       "      <td>male</td>\n",
       "      <td>30.970</td>\n",
       "      <td>3</td>\n",
       "      <td>no</td>\n",
       "      <td>northwest</td>\n",
       "      <td>10600.54830</td>\n",
       "    </tr>\n",
       "    <tr>\n",
       "      <th>1334</th>\n",
       "      <td>18</td>\n",
       "      <td>female</td>\n",
       "      <td>31.920</td>\n",
       "      <td>0</td>\n",
       "      <td>no</td>\n",
       "      <td>northeast</td>\n",
       "      <td>2205.98080</td>\n",
       "    </tr>\n",
       "    <tr>\n",
       "      <th>1335</th>\n",
       "      <td>18</td>\n",
       "      <td>female</td>\n",
       "      <td>36.850</td>\n",
       "      <td>0</td>\n",
       "      <td>no</td>\n",
       "      <td>southeast</td>\n",
       "      <td>1629.83350</td>\n",
       "    </tr>\n",
       "    <tr>\n",
       "      <th>1336</th>\n",
       "      <td>21</td>\n",
       "      <td>female</td>\n",
       "      <td>25.800</td>\n",
       "      <td>0</td>\n",
       "      <td>no</td>\n",
       "      <td>southwest</td>\n",
       "      <td>2007.94500</td>\n",
       "    </tr>\n",
       "    <tr>\n",
       "      <th>1337</th>\n",
       "      <td>61</td>\n",
       "      <td>female</td>\n",
       "      <td>29.070</td>\n",
       "      <td>0</td>\n",
       "      <td>yes</td>\n",
       "      <td>northwest</td>\n",
       "      <td>29141.36030</td>\n",
       "    </tr>\n",
       "  </tbody>\n",
       "</table>\n",
       "<p>1338 rows × 7 columns</p>\n",
       "</div>\n",
       "      <button class=\"colab-df-convert\" onclick=\"convertToInteractive('df-df81ad26-1f76-4d7f-9d15-7eb5b0239d1e')\"\n",
       "              title=\"Convert this dataframe to an interactive table.\"\n",
       "              style=\"display:none;\">\n",
       "        \n",
       "  <svg xmlns=\"http://www.w3.org/2000/svg\" height=\"24px\"viewBox=\"0 0 24 24\"\n",
       "       width=\"24px\">\n",
       "    <path d=\"M0 0h24v24H0V0z\" fill=\"none\"/>\n",
       "    <path d=\"M18.56 5.44l.94 2.06.94-2.06 2.06-.94-2.06-.94-.94-2.06-.94 2.06-2.06.94zm-11 1L8.5 8.5l.94-2.06 2.06-.94-2.06-.94L8.5 2.5l-.94 2.06-2.06.94zm10 10l.94 2.06.94-2.06 2.06-.94-2.06-.94-.94-2.06-.94 2.06-2.06.94z\"/><path d=\"M17.41 7.96l-1.37-1.37c-.4-.4-.92-.59-1.43-.59-.52 0-1.04.2-1.43.59L10.3 9.45l-7.72 7.72c-.78.78-.78 2.05 0 2.83L4 21.41c.39.39.9.59 1.41.59.51 0 1.02-.2 1.41-.59l7.78-7.78 2.81-2.81c.8-.78.8-2.07 0-2.86zM5.41 20L4 18.59l7.72-7.72 1.47 1.35L5.41 20z\"/>\n",
       "  </svg>\n",
       "      </button>\n",
       "      \n",
       "  <style>\n",
       "    .colab-df-container {\n",
       "      display:flex;\n",
       "      flex-wrap:wrap;\n",
       "      gap: 12px;\n",
       "    }\n",
       "\n",
       "    .colab-df-convert {\n",
       "      background-color: #E8F0FE;\n",
       "      border: none;\n",
       "      border-radius: 50%;\n",
       "      cursor: pointer;\n",
       "      display: none;\n",
       "      fill: #1967D2;\n",
       "      height: 32px;\n",
       "      padding: 0 0 0 0;\n",
       "      width: 32px;\n",
       "    }\n",
       "\n",
       "    .colab-df-convert:hover {\n",
       "      background-color: #E2EBFA;\n",
       "      box-shadow: 0px 1px 2px rgba(60, 64, 67, 0.3), 0px 1px 3px 1px rgba(60, 64, 67, 0.15);\n",
       "      fill: #174EA6;\n",
       "    }\n",
       "\n",
       "    [theme=dark] .colab-df-convert {\n",
       "      background-color: #3B4455;\n",
       "      fill: #D2E3FC;\n",
       "    }\n",
       "\n",
       "    [theme=dark] .colab-df-convert:hover {\n",
       "      background-color: #434B5C;\n",
       "      box-shadow: 0px 1px 3px 1px rgba(0, 0, 0, 0.15);\n",
       "      filter: drop-shadow(0px 1px 2px rgba(0, 0, 0, 0.3));\n",
       "      fill: #FFFFFF;\n",
       "    }\n",
       "  </style>\n",
       "\n",
       "      <script>\n",
       "        const buttonEl =\n",
       "          document.querySelector('#df-df81ad26-1f76-4d7f-9d15-7eb5b0239d1e button.colab-df-convert');\n",
       "        buttonEl.style.display =\n",
       "          google.colab.kernel.accessAllowed ? 'block' : 'none';\n",
       "\n",
       "        async function convertToInteractive(key) {\n",
       "          const element = document.querySelector('#df-df81ad26-1f76-4d7f-9d15-7eb5b0239d1e');\n",
       "          const dataTable =\n",
       "            await google.colab.kernel.invokeFunction('convertToInteractive',\n",
       "                                                     [key], {});\n",
       "          if (!dataTable) return;\n",
       "\n",
       "          const docLinkHtml = 'Like what you see? Visit the ' +\n",
       "            '<a target=\"_blank\" href=https://colab.research.google.com/notebooks/data_table.ipynb>data table notebook</a>'\n",
       "            + ' to learn more about interactive tables.';\n",
       "          element.innerHTML = '';\n",
       "          dataTable['output_type'] = 'display_data';\n",
       "          await google.colab.output.renderOutput(dataTable, element);\n",
       "          const docLink = document.createElement('div');\n",
       "          docLink.innerHTML = docLinkHtml;\n",
       "          element.appendChild(docLink);\n",
       "        }\n",
       "      </script>\n",
       "    </div>\n",
       "  </div>\n",
       "  "
      ],
      "text/plain": [
       "      age     sex     bmi  children smoker     region      charges\n",
       "0      19  female  27.900         0    yes  southwest  16884.92400\n",
       "1      18    male  33.770         1     no  southeast   1725.55230\n",
       "2      28    male  33.000         3     no  southeast   4449.46200\n",
       "3      33    male  22.705         0     no  northwest  21984.47061\n",
       "4      32    male  28.880         0     no  northwest   3866.85520\n",
       "...   ...     ...     ...       ...    ...        ...          ...\n",
       "1333   50    male  30.970         3     no  northwest  10600.54830\n",
       "1334   18  female  31.920         0     no  northeast   2205.98080\n",
       "1335   18  female  36.850         0     no  southeast   1629.83350\n",
       "1336   21  female  25.800         0     no  southwest   2007.94500\n",
       "1337   61  female  29.070         0    yes  northwest  29141.36030\n",
       "\n",
       "[1338 rows x 7 columns]"
      ]
     },
     "execution_count": 285,
     "metadata": {},
     "output_type": "execute_result"
    }
   ],
   "source": [
    "import pandas as pd\n",
    "import numpy as np\n",
    "import tensorflow as tf\n",
    "insurance=pd.read_csv(\"https://raw.githubusercontent.com/stedy/Machine-Learning-with-R-datasets/master/insurance.csv\")\n",
    "insurance\n"
   ]
  },
  {
   "cell_type": "code",
   "execution_count": 286,
   "metadata": {
    "colab": {
     "base_uri": "https://localhost:8080/",
     "height": 282
    },
    "executionInfo": {
     "elapsed": 33,
     "status": "ok",
     "timestamp": 1668399865739,
     "user": {
      "displayName": "Mudit Kumar",
      "userId": "12518861077253144202"
     },
     "user_tz": -330
    },
    "id": "ERaNFjDMWTwg",
    "outputId": "c2825a94-8a42-4560-e591-0d3ed731d063"
   },
   "outputs": [
    {
     "data": {
      "text/plain": [
       "<matplotlib.axes._subplots.AxesSubplot at 0x7fdad7aa2810>"
      ]
     },
     "execution_count": 286,
     "metadata": {},
     "output_type": "execute_result"
    },
    {
     "data": {
      "image/png": "[encoded data removed]",
      "text/plain": [
       "<Figure size 432x288 with 1 Axes>"
      ]
     },
     "metadata": {
      "needs_background": "light"
     },
     "output_type": "display_data"
    }
   ],
   "source": [
    "X[\"age\"].plot(kind=\"hist\")"
   ]
  },
  {
   "cell_type": "code",
   "execution_count": 287,
   "metadata": {
    "colab": {
     "base_uri": "https://localhost:8080/",
     "height": 282
    },
    "executionInfo": {
     "elapsed": 29,
     "status": "ok",
     "timestamp": 1668399865739,
     "user": {
      "displayName": "Mudit Kumar",
      "userId": "12518861077253144202"
     },
     "user_tz": -330
    },
    "id": "LhJmyRSzWptJ",
    "outputId": "8ecb9b26-bcf3-4266-e8ad-433edd3ee087"
   },
   "outputs": [
    {
     "data": {
      "text/plain": [
       "<matplotlib.axes._subplots.AxesSubplot at 0x7fdad7a21dd0>"
      ]
     },
     "execution_count": 287,
     "metadata": {},
     "output_type": "execute_result"
    },
    {
     "data": {
      "image/png": "[encoded data removed]",
      "text/plain": [
       "<Figure size 432x288 with 1 Axes>"
      ]
     },
     "metadata": {
      "needs_background": "light"
     },
     "output_type": "display_data"
    }
   ],
   "source": [
    "X[\"bmi\"].plot(kind=\"hist\")"
   ]
  },
  {
   "cell_type": "code",
   "execution_count": 288,
   "metadata": {
    "colab": {
     "base_uri": "https://localhost:8080/"
    },
    "executionInfo": {
     "elapsed": 27,
     "status": "ok",
     "timestamp": 1668399865740,
     "user": {
      "displayName": "Mudit Kumar",
      "userId": "12518861077253144202"
     },
     "user_tz": -330
    },
    "id": "gjFp-hWEW06B",
    "outputId": "a1516f58-e649-4ef8-ae10-951726cdced6"
   },
   "outputs": [
    {
     "data": {
      "text/plain": [
       "0    574\n",
       "1    324\n",
       "2    240\n",
       "3    157\n",
       "4     25\n",
       "5     18\n",
       "Name: children, dtype: int64"
      ]
     },
     "execution_count": 288,
     "metadata": {},
     "output_type": "execute_result"
    }
   ],
   "source": [
    "X[\"children\"].value_counts()"
   ]
  },
  {
   "cell_type": "markdown",
   "metadata": {
    "id": "41td0D4xXN7W"
   },
   "source": [
    "## To prepare our data , we borrow classes from scikit-learn"
   ]
  },
  {
   "cell_type": "code",
   "execution_count": 289,
   "metadata": {
    "executionInfo": {
     "elapsed": 25,
     "status": "ok",
     "timestamp": 1668399865740,
     "user": {
      "displayName": "Mudit Kumar",
      "userId": "12518861077253144202"
     },
     "user_tz": -330
    },
    "id": "pKCEhPmFcZUL"
   },
   "outputs": [],
   "source": [
    "from sklearn.compose import make_column_transformer\n",
    "from sklearn.preprocessing import MinMaxScaler,OneHotEncoder\n",
    "from sklearn.model_selection import train_test_split\n",
    "\n",
    "# Create a column transformer\n",
    "ct=make_column_transformer(\n",
    "    (MinMaxScaler(),[\"age\",\"bmi\",\"children\"]), # Turn all values in these columns between 0-1\n",
    "    (OneHotEncoder(handle_unknown=\"ignore\"),[\"sex\",\"smoker\",\"region\"])\n",
    ")\n",
    "\n",
    "# Create X and y values\n",
    "X=insurance.drop(\"charges\",axis=1)\n",
    "y=insurance[\"charges\"]\n",
    "#Build our train and test sets\n",
    "X_train,X_test,y_train,y_test=train_test_split(X,y,test_size=0.2,random_state=42)\n",
    "# Fit the column transformer to our training data\n",
    "ct.fit(X_train)\n",
    "\n",
    "# Transform training and test data with normalization(Min-Max and one hot)\n",
    "X_train_normal=ct.transform(X_train)\n",
    "X_test_normal=ct.transform(X_test)\n"
   ]
  },
  {
   "cell_type": "code",
   "execution_count": 290,
   "metadata": {
    "colab": {
     "base_uri": "https://localhost:8080/"
    },
    "executionInfo": {
     "elapsed": 25,
     "status": "ok",
     "timestamp": 1668399865740,
     "user": {
      "displayName": "Mudit Kumar",
      "userId": "12518861077253144202"
     },
     "user_tz": -330
    },
    "id": "7DcYcRifmLrw",
    "outputId": "4e6eb761-86df-4017-d6f2-26e4ac4996b9"
   },
   "outputs": [
    {
     "data": {
      "text/plain": [
       "age                19\n",
       "sex            female\n",
       "bmi              27.9\n",
       "children            0\n",
       "smoker            yes\n",
       "region      southwest\n",
       "Name: 0, dtype: object"
      ]
     },
     "execution_count": 290,
     "metadata": {},
     "output_type": "execute_result"
    }
   ],
   "source": [
    "X_train.loc[0]"
   ]
  },
  {
   "cell_type": "code",
   "execution_count": 291,
   "metadata": {
    "colab": {
     "base_uri": "https://localhost:8080/"
    },
    "executionInfo": {
     "elapsed": 22,
     "status": "ok",
     "timestamp": 1668399865741,
     "user": {
      "displayName": "Mudit Kumar",
      "userId": "12518861077253144202"
     },
     "user_tz": -330
    },
    "id": "Stna52wCmUIq",
    "outputId": "7a931be0-20e3-4386-f5dc-f6b0d69e7248"
   },
   "outputs": [
    {
     "data": {
      "text/plain": [
       "array([[0.60869565, 0.10734463, 0.4       , ..., 1.        , 0.        ,\n",
       "        0.        ],\n",
       "       [0.63043478, 0.22491256, 0.        , ..., 0.        , 0.        ,\n",
       "        0.        ],\n",
       "       [0.73913043, 0.23944041, 0.        , ..., 0.        , 1.        ,\n",
       "        0.        ],\n",
       "       ...,\n",
       "       [0.86956522, 0.24791499, 0.        , ..., 0.        , 0.        ,\n",
       "        0.        ],\n",
       "       [0.41304348, 0.85122411, 0.4       , ..., 0.        , 0.        ,\n",
       "        1.        ],\n",
       "       [0.80434783, 0.37503363, 0.        , ..., 0.        , 0.        ,\n",
       "        1.        ]])"
      ]
     },
     "execution_count": 291,
     "metadata": {},
     "output_type": "execute_result"
    }
   ],
   "source": [
    "X_train_normal"
   ]
  },
  {
   "cell_type": "code",
   "execution_count": 292,
   "metadata": {
    "colab": {
     "base_uri": "https://localhost:8080/"
    },
    "executionInfo": {
     "elapsed": 19,
     "status": "ok",
     "timestamp": 1668399865741,
     "user": {
      "displayName": "Mudit Kumar",
      "userId": "12518861077253144202"
     },
     "user_tz": -330
    },
    "id": "qGF-x-B1maQL",
    "outputId": "8ca49a0e-441a-4292-bd31-33dccd056deb"
   },
   "outputs": [
    {
     "data": {
      "text/plain": [
       "((1070, 6), (1070, 11))"
      ]
     },
     "execution_count": 292,
     "metadata": {},
     "output_type": "execute_result"
    }
   ],
   "source": [
    "X_train.shape,X_train_normal.shape"
   ]
  },
  {
   "cell_type": "markdown",
   "metadata": {
    "id": "ZpCvXOtYm6lp"
   },
   "source": [
    "Data is normalized and one hot encodedn, Bulding Neural network now"
   ]
  },
  {
   "cell_type": "code",
   "execution_count": 293,
   "metadata": {
    "executionInfo": {
     "elapsed": 17,
     "status": "ok",
     "timestamp": 1668399865742,
     "user": {
      "displayName": "Mudit Kumar",
      "userId": "12518861077253144202"
     },
     "user_tz": -330
    },
    "id": "8iVmwbu3q0Jx"
   },
   "outputs": [],
   "source": [
    "# Build a neural network  model to fit\n",
    "tf.random.set_seed(42)\n",
    "#1. create a model\n",
    "insurace_model_4=tf.keras.Sequential([\n",
    "    tf.keras.layers.Dense(100),\n",
    "    tf.keras.layers.Dense(10),\n",
    "    tf.keras.layers.Dense(1)\n",
    "])"
   ]
  },
  {
   "cell_type": "code",
   "execution_count": 294,
   "metadata": {
    "executionInfo": {
     "elapsed": 16,
     "status": "ok",
     "timestamp": 1668399865742,
     "user": {
      "displayName": "Mudit Kumar",
      "userId": "12518861077253144202"
     },
     "user_tz": -330
    },
    "id": "V4IygduIsxG6"
   },
   "outputs": [],
   "source": [
    "insurace_model_4.compile(loss=tf.keras.losses.mae,\n",
    "                         optimizer=tf.keras.optimizers.Adam(learning_rate=0.1),\n",
    "                         metrics=[\"mae\"]\n",
    "                         )"
   ]
  },
  {
   "cell_type": "code",
   "execution_count": 295,
   "metadata": {
    "colab": {
     "base_uri": "https://localhost:8080/"
    },
    "executionInfo": {
     "elapsed": 14132,
     "status": "ok",
     "timestamp": 1668399879858,
     "user": {
      "displayName": "Mudit Kumar",
      "userId": "12518861077253144202"
     },
     "user_tz": -330
    },
    "id": "7ofN2VQlsz_D",
    "outputId": "fe5a4c85-9f73-43e3-8ef5-03b44637dfe4"
   },
   "outputs": [
    {
     "name": "stdout",
     "output_type": "stream",
     "text": [
      "Epoch 1/100\n",
      "34/34 [==============================] - 1s 4ms/step - loss: 9233.7920 - mae: 9233.7920\n",
      "Epoch 2/100\n",
      "34/34 [==============================] - 0s 4ms/step - loss: 4625.0542 - mae: 4625.0542\n",
      "Epoch 3/100\n",
      "34/34 [==============================] - 0s 3ms/step - loss: 3805.1746 - mae: 3805.1746\n",
      "Epoch 4/100\n",
      "34/34 [==============================] - 0s 4ms/step - loss: 3661.0764 - mae: 3661.0764\n",
      "Epoch 5/100\n",
      "34/34 [==============================] - 0s 4ms/step - loss: 3663.1357 - mae: 3663.1357\n",
      "Epoch 6/100\n",
      "34/34 [==============================] - 0s 4ms/step - loss: 3695.3201 - mae: 3695.3201\n",
      "Epoch 7/100\n",
      "34/34 [==============================] - 0s 4ms/step - loss: 3754.8955 - mae: 3754.8955\n",
      "Epoch 8/100\n",
      "34/34 [==============================] - 0s 4ms/step - loss: 3820.7498 - mae: 3820.7498\n",
      "Epoch 9/100\n",
      "34/34 [==============================] - 0s 4ms/step - loss: 3625.3391 - mae: 3625.3391\n",
      "Epoch 10/100\n",
      "34/34 [==============================] - 0s 3ms/step - loss: 3712.5298 - mae: 3712.5298\n",
      "Epoch 11/100\n",
      "34/34 [==============================] - 0s 3ms/step - loss: 3752.7664 - mae: 3752.7664\n",
      "Epoch 12/100\n",
      "34/34 [==============================] - 0s 4ms/step - loss: 3624.4580 - mae: 3624.4580\n",
      "Epoch 13/100\n",
      "34/34 [==============================] - 0s 3ms/step - loss: 3586.5959 - mae: 3586.5959\n",
      "Epoch 14/100\n",
      "34/34 [==============================] - 0s 4ms/step - loss: 3590.1143 - mae: 3590.1143\n",
      "Epoch 15/100\n",
      "34/34 [==============================] - 0s 3ms/step - loss: 3644.2581 - mae: 3644.2581\n",
      "Epoch 16/100\n",
      "34/34 [==============================] - 0s 3ms/step - loss: 3607.5354 - mae: 3607.5354\n",
      "Epoch 17/100\n",
      "34/34 [==============================] - 0s 4ms/step - loss: 3591.7383 - mae: 3591.7383\n",
      "Epoch 18/100\n",
      "34/34 [==============================] - 0s 4ms/step - loss: 3599.4099 - mae: 3599.4099\n",
      "Epoch 19/100\n",
      "34/34 [==============================] - 0s 4ms/step - loss: 3587.2910 - mae: 3587.2910\n",
      "Epoch 20/100\n",
      "34/34 [==============================] - 0s 3ms/step - loss: 3623.0098 - mae: 3623.0098\n",
      "Epoch 21/100\n",
      "34/34 [==============================] - 0s 4ms/step - loss: 3642.6216 - mae: 3642.6216\n",
      "Epoch 22/100\n",
      "34/34 [==============================] - 0s 4ms/step - loss: 3619.6155 - mae: 3619.6155\n",
      "Epoch 23/100\n",
      "34/34 [==============================] - 0s 4ms/step - loss: 3574.5508 - mae: 3574.5508\n",
      "Epoch 24/100\n",
      "34/34 [==============================] - 0s 4ms/step - loss: 3690.7593 - mae: 3690.7593\n",
      "Epoch 25/100\n",
      "34/34 [==============================] - 0s 4ms/step - loss: 3652.3545 - mae: 3652.3545\n",
      "Epoch 26/100\n",
      "34/34 [==============================] - 0s 4ms/step - loss: 3663.1150 - mae: 3663.1150\n",
      "Epoch 27/100\n",
      "34/34 [==============================] - 0s 4ms/step - loss: 3851.0691 - mae: 3851.0691\n",
      "Epoch 28/100\n",
      "34/34 [==============================] - 0s 4ms/step - loss: 3744.1045 - mae: 3744.1045\n",
      "Epoch 29/100\n",
      "34/34 [==============================] - 0s 4ms/step - loss: 3611.6047 - mae: 3611.6047\n",
      "Epoch 30/100\n",
      "34/34 [==============================] - 0s 4ms/step - loss: 3599.7136 - mae: 3599.7136\n",
      "Epoch 31/100\n",
      "34/34 [==============================] - 0s 4ms/step - loss: 3576.3079 - mae: 3576.3079\n",
      "Epoch 32/100\n",
      "34/34 [==============================] - 0s 4ms/step - loss: 3623.8301 - mae: 3623.8301\n",
      "Epoch 33/100\n",
      "34/34 [==============================] - 0s 3ms/step - loss: 3666.4194 - mae: 3666.4194\n",
      "Epoch 34/100\n",
      "34/34 [==============================] - 0s 4ms/step - loss: 3735.3042 - mae: 3735.3042\n",
      "Epoch 35/100\n",
      "34/34 [==============================] - 0s 4ms/step - loss: 3617.5154 - mae: 3617.5154\n",
      "Epoch 36/100\n",
      "34/34 [==============================] - 0s 4ms/step - loss: 3564.4963 - mae: 3564.4963\n",
      "Epoch 37/100\n",
      "34/34 [==============================] - 0s 4ms/step - loss: 3584.4946 - mae: 3584.4946\n",
      "Epoch 38/100\n",
      "34/34 [==============================] - 0s 4ms/step - loss: 3566.6248 - mae: 3566.6248\n",
      "Epoch 39/100\n",
      "34/34 [==============================] - 0s 4ms/step - loss: 3650.8870 - mae: 3650.8870\n",
      "Epoch 40/100\n",
      "34/34 [==============================] - 0s 4ms/step - loss: 3765.6731 - mae: 3765.6731\n",
      "Epoch 41/100\n",
      "34/34 [==============================] - 0s 4ms/step - loss: 3805.5098 - mae: 3805.5098\n",
      "Epoch 42/100\n",
      "34/34 [==============================] - 0s 4ms/step - loss: 3771.7427 - mae: 3771.7427\n",
      "Epoch 43/100\n",
      "34/34 [==============================] - 0s 3ms/step - loss: 3600.4790 - mae: 3600.4790\n",
      "Epoch 44/100\n",
      "34/34 [==============================] - 0s 4ms/step - loss: 3656.6411 - mae: 3656.6411\n",
      "Epoch 45/100\n",
      "34/34 [==============================] - 0s 4ms/step - loss: 3579.0112 - mae: 3579.0112\n",
      "Epoch 46/100\n",
      "34/34 [==============================] - 0s 4ms/step - loss: 3639.1404 - mae: 3639.1404\n",
      "Epoch 47/100\n",
      "34/34 [==============================] - 0s 4ms/step - loss: 3646.8840 - mae: 3646.8840\n",
      "Epoch 48/100\n",
      "34/34 [==============================] - 0s 4ms/step - loss: 3601.4548 - mae: 3601.4548\n",
      "Epoch 49/100\n",
      "34/34 [==============================] - 0s 4ms/step - loss: 3574.7827 - mae: 3574.7827\n",
      "Epoch 50/100\n",
      "34/34 [==============================] - 0s 4ms/step - loss: 3569.9604 - mae: 3569.9604\n",
      "Epoch 51/100\n",
      "34/34 [==============================] - 0s 4ms/step - loss: 3530.6748 - mae: 3530.6748\n",
      "Epoch 52/100\n",
      "34/34 [==============================] - 0s 4ms/step - loss: 3556.1855 - mae: 3556.1855\n",
      "Epoch 53/100\n",
      "34/34 [==============================] - 0s 4ms/step - loss: 3625.1494 - mae: 3625.1494\n",
      "Epoch 54/100\n",
      "34/34 [==============================] - 0s 4ms/step - loss: 3585.2219 - mae: 3585.2219\n",
      "Epoch 55/100\n",
      "34/34 [==============================] - 0s 4ms/step - loss: 3815.5913 - mae: 3815.5913\n",
      "Epoch 56/100\n",
      "34/34 [==============================] - 0s 4ms/step - loss: 3629.0667 - mae: 3629.0667\n",
      "Epoch 57/100\n",
      "34/34 [==============================] - 0s 4ms/step - loss: 3599.4382 - mae: 3599.4382\n",
      "Epoch 58/100\n",
      "34/34 [==============================] - 0s 4ms/step - loss: 3589.3005 - mae: 3589.3005\n",
      "Epoch 59/100\n",
      "34/34 [==============================] - 0s 4ms/step - loss: 3535.1050 - mae: 3535.1050\n",
      "Epoch 60/100\n",
      "34/34 [==============================] - 0s 4ms/step - loss: 3593.2793 - mae: 3593.2793\n",
      "Epoch 61/100\n",
      "34/34 [==============================] - 0s 4ms/step - loss: 3559.8699 - mae: 3559.8699\n",
      "Epoch 62/100\n",
      "34/34 [==============================] - 0s 4ms/step - loss: 3586.2520 - mae: 3586.2520\n",
      "Epoch 63/100\n",
      "34/34 [==============================] - 0s 4ms/step - loss: 3601.8352 - mae: 3601.8352\n",
      "Epoch 64/100\n",
      "34/34 [==============================] - 0s 4ms/step - loss: 3572.8914 - mae: 3572.8914\n",
      "Epoch 65/100\n",
      "34/34 [==============================] - 0s 4ms/step - loss: 3664.1819 - mae: 3664.1819\n",
      "Epoch 66/100\n",
      "34/34 [==============================] - 0s 4ms/step - loss: 3646.9646 - mae: 3646.9646\n",
      "Epoch 67/100\n",
      "34/34 [==============================] - 0s 4ms/step - loss: 3551.0791 - mae: 3551.0791\n",
      "Epoch 68/100\n",
      "34/34 [==============================] - 0s 4ms/step - loss: 3639.2415 - mae: 3639.2415\n",
      "Epoch 69/100\n",
      "34/34 [==============================] - 0s 4ms/step - loss: 3636.7354 - mae: 3636.7354\n",
      "Epoch 70/100\n",
      "34/34 [==============================] - 0s 4ms/step - loss: 3581.3135 - mae: 3581.3135\n",
      "Epoch 71/100\n",
      "34/34 [==============================] - 0s 3ms/step - loss: 3548.4158 - mae: 3548.4158\n",
      "Epoch 72/100\n",
      "34/34 [==============================] - 0s 3ms/step - loss: 3545.5354 - mae: 3545.5354\n",
      "Epoch 73/100\n",
      "34/34 [==============================] - 0s 4ms/step - loss: 3594.2061 - mae: 3594.2061\n",
      "Epoch 74/100\n",
      "34/34 [==============================] - 0s 4ms/step - loss: 3558.6975 - mae: 3558.6975\n",
      "Epoch 75/100\n",
      "34/34 [==============================] - 0s 4ms/step - loss: 3610.8208 - mae: 3610.8208\n",
      "Epoch 76/100\n",
      "34/34 [==============================] - 0s 4ms/step - loss: 3624.0015 - mae: 3624.0015\n",
      "Epoch 77/100\n",
      "34/34 [==============================] - 0s 4ms/step - loss: 3582.4087 - mae: 3582.4087\n",
      "Epoch 78/100\n",
      "34/34 [==============================] - 0s 4ms/step - loss: 3563.4360 - mae: 3563.4360\n",
      "Epoch 79/100\n",
      "34/34 [==============================] - 0s 4ms/step - loss: 3686.0120 - mae: 3686.0120\n",
      "Epoch 80/100\n",
      "34/34 [==============================] - 0s 4ms/step - loss: 3634.1760 - mae: 3634.1760\n",
      "Epoch 81/100\n",
      "34/34 [==============================] - 0s 3ms/step - loss: 3653.6714 - mae: 3653.6714\n",
      "Epoch 82/100\n",
      "34/34 [==============================] - 0s 4ms/step - loss: 3630.2041 - mae: 3630.2041\n",
      "Epoch 83/100\n",
      "34/34 [==============================] - 0s 4ms/step - loss: 3680.5195 - mae: 3680.5195\n",
      "Epoch 84/100\n",
      "34/34 [==============================] - 0s 4ms/step - loss: 3623.0681 - mae: 3623.0681\n",
      "Epoch 85/100\n",
      "34/34 [==============================] - 0s 4ms/step - loss: 3552.6201 - mae: 3552.6201\n",
      "Epoch 86/100\n",
      "34/34 [==============================] - 0s 4ms/step - loss: 3712.7053 - mae: 3712.7053\n",
      "Epoch 87/100\n",
      "34/34 [==============================] - 0s 4ms/step - loss: 3647.4246 - mae: 3647.4246\n",
      "Epoch 88/100\n",
      "34/34 [==============================] - 0s 4ms/step - loss: 3585.2954 - mae: 3585.2954\n",
      "Epoch 89/100\n",
      "34/34 [==============================] - 0s 4ms/step - loss: 3532.6729 - mae: 3532.6729\n",
      "Epoch 90/100\n",
      "34/34 [==============================] - 0s 5ms/step - loss: 3567.9890 - mae: 3567.9890\n",
      "Epoch 91/100\n",
      "34/34 [==============================] - 0s 4ms/step - loss: 3566.6130 - mae: 3566.6130\n",
      "Epoch 92/100\n",
      "34/34 [==============================] - 0s 4ms/step - loss: 3757.7773 - mae: 3757.7773\n",
      "Epoch 93/100\n",
      "34/34 [==============================] - 0s 3ms/step - loss: 3766.5508 - mae: 3766.5508\n",
      "Epoch 94/100\n",
      "34/34 [==============================] - 0s 3ms/step - loss: 3572.5955 - mae: 3572.5955\n",
      "Epoch 95/100\n",
      "34/34 [==============================] - 0s 3ms/step - loss: 3586.9897 - mae: 3586.9897\n",
      "Epoch 96/100\n",
      "34/34 [==============================] - 0s 4ms/step - loss: 3541.9094 - mae: 3541.9094\n",
      "Epoch 97/100\n",
      "34/34 [==============================] - 0s 4ms/step - loss: 3609.2561 - mae: 3609.2561\n",
      "Epoch 98/100\n",
      "34/34 [==============================] - 0s 4ms/step - loss: 3615.9658 - mae: 3615.9658\n",
      "Epoch 99/100\n",
      "34/34 [==============================] - 0s 4ms/step - loss: 3578.9260 - mae: 3578.9260\n",
      "Epoch 100/100\n",
      "34/34 [==============================] - 0s 3ms/step - loss: 3547.0076 - mae: 3547.0076\n"
     ]
    },
    {
     "data": {
      "text/plain": [
       "<keras.callbacks.History at 0x7fdad79afd90>"
      ]
     },
     "execution_count": 295,
     "metadata": {},
     "output_type": "execute_result"
    }
   ],
   "source": [
    "insurace_model_4.fit(tf.expand_dims(X_train_normal,axis=1),y_train,epochs=100)"
   ]
  },
  {
   "cell_type": "code",
   "execution_count": 296,
   "metadata": {
    "colab": {
     "base_uri": "https://localhost:8080/"
    },
    "executionInfo": {
     "elapsed": 1113,
     "status": "ok",
     "timestamp": 1668399880968,
     "user": {
      "displayName": "Mudit Kumar",
      "userId": "12518861077253144202"
     },
     "user_tz": -330
    },
    "id": "yfH1gUDbs30J",
    "outputId": "2987b417-882b-4e8a-ce84-b7636953320b"
   },
   "outputs": [
    {
     "name": "stdout",
     "output_type": "stream",
     "text": [
      "9/9 [==============================] - 0s 4ms/step - loss: 3261.8987 - mae: 3261.8987\n"
     ]
    },
    {
     "data": {
      "text/plain": [
       "[3261.898681640625, 3261.898681640625]"
      ]
     },
     "execution_count": 296,
     "metadata": {},
     "output_type": "execute_result"
    }
   ],
   "source": [
    "#Evaluate our insurance model  on normalized data\n",
    "insurace_model_4.evaluate(tf.expand_dims(X_test_normal,axis=1),y_test)"
   ]
  },
  {
   "cell_type": "markdown",
   "metadata": {
    "id": "gVl_PlqVx6ZR"
   },
   "source": [
    "## Neural network regression with TensorFlow Exercises"
   ]
  },
  {
   "cell_type": "markdown",
   "metadata": {
    "id": "tgAPFNq_z3Nt"
   },
   "source": [
    "### Ques1. Create your own regression dataset (or make the one we created in \"Create data to view and fit\" bigger) and build fit a model to it."
   ]
  },
  {
   "cell_type": "code",
   "execution_count": 297,
   "metadata": {
    "executionInfo": {
     "elapsed": 33,
     "status": "ok",
     "timestamp": 1668399880969,
     "user": {
      "displayName": "Mudit Kumar",
      "userId": "12518861077253144202"
     },
     "user_tz": -330
    },
    "id": "POWtqwXY0bJO"
   },
   "outputs": [],
   "source": [
    "np.random.seed(42)\n",
    "X_1=np.random.randint(1,10000,size=10000)"
   ]
  },
  {
   "cell_type": "code",
   "execution_count": 298,
   "metadata": {
    "colab": {
     "base_uri": "https://localhost:8080/"
    },
    "executionInfo": {
     "elapsed": 32,
     "status": "ok",
     "timestamp": 1668399880969,
     "user": {
      "displayName": "Mudit Kumar",
      "userId": "12518861077253144202"
     },
     "user_tz": -330
    },
    "id": "CzC6s1wF02Gc",
    "outputId": "d85af488-e287-4a78-e64e-1e9846da076e"
   },
   "outputs": [
    {
     "data": {
      "text/plain": [
       "array([7271,  861, 5391, ..., 1390, 4277, 1250])"
      ]
     },
     "execution_count": 298,
     "metadata": {},
     "output_type": "execute_result"
    }
   ],
   "source": [
    "X_1"
   ]
  },
  {
   "cell_type": "code",
   "execution_count": 299,
   "metadata": {
    "executionInfo": {
     "elapsed": 27,
     "status": "ok",
     "timestamp": 1668399880969,
     "user": {
      "displayName": "Mudit Kumar",
      "userId": "12518861077253144202"
     },
     "user_tz": -330
    },
    "id": "r8hDD93I2Mz5"
   },
   "outputs": [],
   "source": [
    "y_1=np.multiply(X_1,X_1)\n",
    "y_1=np.add(y_1,10)"
   ]
  },
  {
   "cell_type": "code",
   "execution_count": 300,
   "metadata": {
    "executionInfo": {
     "elapsed": 27,
     "status": "ok",
     "timestamp": 1668399880970,
     "user": {
      "displayName": "Mudit Kumar",
      "userId": "12518861077253144202"
     },
     "user_tz": -330
    },
    "id": "84AvJeAP2YuV"
   },
   "outputs": [],
   "source": [
    "## Y=X^2 +10  --- Equation"
   ]
  },
  {
   "cell_type": "code",
   "execution_count": 301,
   "metadata": {
    "colab": {
     "base_uri": "https://localhost:8080/"
    },
    "executionInfo": {
     "elapsed": 27,
     "status": "ok",
     "timestamp": 1668399880970,
     "user": {
      "displayName": "Mudit Kumar",
      "userId": "12518861077253144202"
     },
     "user_tz": -330
    },
    "id": "bKv6femz2p0a",
    "outputId": "f8129a55-0b00-4a2a-dfa1-75e85f5e7816"
   },
   "outputs": [
    {
     "data": {
      "text/plain": [
       "array([7271,  861, 5391, ..., 1390, 4277, 1250])"
      ]
     },
     "execution_count": 301,
     "metadata": {},
     "output_type": "execute_result"
    }
   ],
   "source": [
    "X_1"
   ]
  },
  {
   "cell_type": "code",
   "execution_count": 302,
   "metadata": {
    "colab": {
     "base_uri": "https://localhost:8080/"
    },
    "executionInfo": {
     "elapsed": 23,
     "status": "ok",
     "timestamp": 1668399880970,
     "user": {
      "displayName": "Mudit Kumar",
      "userId": "12518861077253144202"
     },
     "user_tz": -330
    },
    "id": "jwR7Qk6L28O6",
    "outputId": "55f0a2ff-542f-453b-d30d-21b61360b86a"
   },
   "outputs": [
    {
     "data": {
      "text/plain": [
       "array([52867451,   741331, 29062891, ...,  1932110, 18292739,  1562510])"
      ]
     },
     "execution_count": 302,
     "metadata": {},
     "output_type": "execute_result"
    }
   ],
   "source": [
    "y_1"
   ]
  },
  {
   "cell_type": "code",
   "execution_count": 303,
   "metadata": {
    "executionInfo": {
     "elapsed": 20,
     "status": "ok",
     "timestamp": 1668399880970,
     "user": {
      "displayName": "Mudit Kumar",
      "userId": "12518861077253144202"
     },
     "user_tz": -330
    },
    "id": "QTrRdBEq3NrZ"
   },
   "outputs": [],
   "source": [
    "X_train_1,X_test_1,y_train_1,y_test_1=train_test_split(X_1,y_1,test_size=0.2,random_state=42)"
   ]
  },
  {
   "cell_type": "markdown",
   "metadata": {
    "id": "I-wkRijJ378f"
   },
   "source": [
    "## Note: You can not slice tensor, it will gonna raise error "
   ]
  },
  {
   "cell_type": "code",
   "execution_count": 304,
   "metadata": {
    "colab": {
     "base_uri": "https://localhost:8080/"
    },
    "executionInfo": {
     "elapsed": 21,
     "status": "ok",
     "timestamp": 1668399880971,
     "user": {
      "displayName": "Mudit Kumar",
      "userId": "12518861077253144202"
     },
     "user_tz": -330
    },
    "id": "kEu4Spil45vf",
    "outputId": "bee8cfe0-9f9d-41a1-9738-29f0bd1999b2"
   },
   "outputs": [
    {
     "data": {
      "text/plain": [
       "(10000, 8000, 2000)"
      ]
     },
     "execution_count": 304,
     "metadata": {},
     "output_type": "execute_result"
    }
   ],
   "source": [
    "len(X_1),len(X_train_1),len(X_test_1)"
   ]
  },
  {
   "cell_type": "code",
   "execution_count": 305,
   "metadata": {
    "colab": {
     "base_uri": "https://localhost:8080/"
    },
    "executionInfo": {
     "elapsed": 18,
     "status": "ok",
     "timestamp": 1668399880971,
     "user": {
      "displayName": "Mudit Kumar",
      "userId": "12518861077253144202"
     },
     "user_tz": -330
    },
    "id": "04aCv5y34932",
    "outputId": "35967e12-8348-4165-a833-c6e858ee748a"
   },
   "outputs": [
    {
     "data": {
      "text/plain": [
       "(10000, 8000, 2000)"
      ]
     },
     "execution_count": 305,
     "metadata": {},
     "output_type": "execute_result"
    }
   ],
   "source": [
    "len(y_1),len(y_train_1),len(y_test_1)"
   ]
  },
  {
   "cell_type": "code",
   "execution_count": 306,
   "metadata": {
    "colab": {
     "base_uri": "https://localhost:8080/"
    },
    "executionInfo": {
     "elapsed": 63928,
     "status": "ok",
     "timestamp": 1668399944884,
     "user": {
      "displayName": "Mudit Kumar",
      "userId": "12518861077253144202"
     },
     "user_tz": -330
    },
    "id": "11HOw2Vs5C6z",
    "outputId": "5a2b7224-ec26-4397-fdac-f7db003b4679"
   },
   "outputs": [
    {
     "name": "stdout",
     "output_type": "stream",
     "text": [
      "Epoch 1/100\n",
      "250/250 [==============================] - 1s 2ms/step - loss: 11055778.0000 - mae: 11055778.0000\n",
      "Epoch 2/100\n",
      "250/250 [==============================] - 1s 3ms/step - loss: 10384398.0000 - mae: 10384398.0000\n",
      "Epoch 3/100\n",
      "250/250 [==============================] - 1s 2ms/step - loss: 9914134.0000 - mae: 9914134.0000\n",
      "Epoch 4/100\n",
      "250/250 [==============================] - 1s 2ms/step - loss: 9887479.0000 - mae: 9887479.0000\n",
      "Epoch 5/100\n",
      "250/250 [==============================] - 1s 2ms/step - loss: 9672639.0000 - mae: 9672639.0000\n",
      "Epoch 6/100\n",
      "250/250 [==============================] - 1s 2ms/step - loss: 9509767.0000 - mae: 9509767.0000\n",
      "Epoch 7/100\n",
      "250/250 [==============================] - 1s 2ms/step - loss: 8815501.0000 - mae: 8815501.0000\n",
      "Epoch 8/100\n",
      "250/250 [==============================] - 1s 3ms/step - loss: 8284159.5000 - mae: 8284159.5000\n",
      "Epoch 9/100\n",
      "250/250 [==============================] - 1s 2ms/step - loss: 8667982.0000 - mae: 8667982.0000\n",
      "Epoch 10/100\n",
      "250/250 [==============================] - 1s 2ms/step - loss: 8251534.0000 - mae: 8251534.0000\n",
      "Epoch 11/100\n",
      "250/250 [==============================] - 1s 2ms/step - loss: 7934770.5000 - mae: 7934770.5000\n",
      "Epoch 12/100\n",
      "250/250 [==============================] - 1s 2ms/step - loss: 7996410.5000 - mae: 7996410.5000\n",
      "Epoch 13/100\n",
      "250/250 [==============================] - 1s 3ms/step - loss: 7696794.5000 - mae: 7696794.5000\n",
      "Epoch 14/100\n",
      "250/250 [==============================] - 1s 3ms/step - loss: 7289380.0000 - mae: 7289380.0000\n",
      "Epoch 15/100\n",
      "250/250 [==============================] - 1s 2ms/step - loss: 7222055.5000 - mae: 7222055.5000\n",
      "Epoch 16/100\n",
      "250/250 [==============================] - 1s 3ms/step - loss: 7460990.0000 - mae: 7460990.0000\n",
      "Epoch 17/100\n",
      "250/250 [==============================] - 1s 2ms/step - loss: 7835929.5000 - mae: 7835929.5000\n",
      "Epoch 18/100\n",
      "250/250 [==============================] - 1s 2ms/step - loss: 7450532.0000 - mae: 7450532.0000\n",
      "Epoch 19/100\n",
      "250/250 [==============================] - 1s 2ms/step - loss: 7481515.5000 - mae: 7481515.5000\n",
      "Epoch 20/100\n",
      "250/250 [==============================] - 1s 2ms/step - loss: 7670334.0000 - mae: 7670334.0000\n",
      "Epoch 21/100\n",
      "250/250 [==============================] - 1s 2ms/step - loss: 7065957.5000 - mae: 7065957.5000\n",
      "Epoch 22/100\n",
      "250/250 [==============================] - 1s 2ms/step - loss: 7131687.5000 - mae: 7131687.5000\n",
      "Epoch 23/100\n",
      "250/250 [==============================] - 1s 2ms/step - loss: 7166722.5000 - mae: 7166722.5000\n",
      "Epoch 24/100\n",
      "250/250 [==============================] - 1s 3ms/step - loss: 7108626.0000 - mae: 7108626.0000\n",
      "Epoch 25/100\n",
      "250/250 [==============================] - 1s 2ms/step - loss: 7338235.5000 - mae: 7338235.5000\n",
      "Epoch 26/100\n",
      "250/250 [==============================] - 1s 2ms/step - loss: 7321964.5000 - mae: 7321964.5000\n",
      "Epoch 27/100\n",
      "250/250 [==============================] - 1s 2ms/step - loss: 7177222.0000 - mae: 7177222.0000\n",
      "Epoch 28/100\n",
      "250/250 [==============================] - 1s 2ms/step - loss: 6917886.5000 - mae: 6917886.5000\n",
      "Epoch 29/100\n",
      "250/250 [==============================] - 1s 2ms/step - loss: 7372707.0000 - mae: 7372707.0000\n",
      "Epoch 30/100\n",
      "250/250 [==============================] - 1s 2ms/step - loss: 7221978.0000 - mae: 7221978.0000\n",
      "Epoch 31/100\n",
      "250/250 [==============================] - 1s 2ms/step - loss: 7186358.0000 - mae: 7186358.0000\n",
      "Epoch 32/100\n",
      "250/250 [==============================] - 1s 2ms/step - loss: 7210822.0000 - mae: 7210822.0000\n",
      "Epoch 33/100\n",
      "250/250 [==============================] - 1s 2ms/step - loss: 7301112.0000 - mae: 7301112.0000\n",
      "Epoch 34/100\n",
      "250/250 [==============================] - 1s 2ms/step - loss: 6870022.0000 - mae: 6870022.0000\n",
      "Epoch 35/100\n",
      "250/250 [==============================] - 1s 2ms/step - loss: 7152144.5000 - mae: 7152144.5000\n",
      "Epoch 36/100\n",
      "250/250 [==============================] - 1s 2ms/step - loss: 7252508.0000 - mae: 7252508.0000\n",
      "Epoch 37/100\n",
      "250/250 [==============================] - 1s 2ms/step - loss: 7177683.0000 - mae: 7177683.0000\n",
      "Epoch 38/100\n",
      "250/250 [==============================] - 1s 2ms/step - loss: 6987640.0000 - mae: 6987640.0000\n",
      "Epoch 39/100\n",
      "250/250 [==============================] - 1s 2ms/step - loss: 7001408.0000 - mae: 7001408.0000\n",
      "Epoch 40/100\n",
      "250/250 [==============================] - 1s 2ms/step - loss: 7201649.0000 - mae: 7201649.0000\n",
      "Epoch 41/100\n",
      "250/250 [==============================] - 1s 2ms/step - loss: 6915832.0000 - mae: 6915832.0000\n",
      "Epoch 42/100\n",
      "250/250 [==============================] - 1s 2ms/step - loss: 7076159.5000 - mae: 7076159.5000\n",
      "Epoch 43/100\n",
      "250/250 [==============================] - 1s 2ms/step - loss: 6795899.0000 - mae: 6795899.0000\n",
      "Epoch 44/100\n",
      "250/250 [==============================] - 1s 3ms/step - loss: 7354101.0000 - mae: 7354101.0000\n",
      "Epoch 45/100\n",
      "250/250 [==============================] - 1s 3ms/step - loss: 7272584.5000 - mae: 7272584.5000\n",
      "Epoch 46/100\n",
      "250/250 [==============================] - 1s 3ms/step - loss: 7137965.5000 - mae: 7137965.5000\n",
      "Epoch 47/100\n",
      "250/250 [==============================] - 1s 3ms/step - loss: 7156407.5000 - mae: 7156407.5000\n",
      "Epoch 48/100\n",
      "250/250 [==============================] - 1s 4ms/step - loss: 6899871.5000 - mae: 6899871.5000\n",
      "Epoch 49/100\n",
      "250/250 [==============================] - 1s 3ms/step - loss: 7196485.5000 - mae: 7196485.5000\n",
      "Epoch 50/100\n",
      "250/250 [==============================] - 1s 3ms/step - loss: 6880794.5000 - mae: 6880794.5000\n",
      "Epoch 51/100\n",
      "250/250 [==============================] - 1s 2ms/step - loss: 7006433.5000 - mae: 7006433.5000\n",
      "Epoch 52/100\n",
      "250/250 [==============================] - 1s 2ms/step - loss: 6989046.0000 - mae: 6989046.0000\n",
      "Epoch 53/100\n",
      "250/250 [==============================] - 1s 3ms/step - loss: 6989130.0000 - mae: 6989130.0000\n",
      "Epoch 54/100\n",
      "250/250 [==============================] - 1s 2ms/step - loss: 6880404.0000 - mae: 6880404.0000\n",
      "Epoch 55/100\n",
      "250/250 [==============================] - 1s 3ms/step - loss: 6882261.5000 - mae: 6882261.5000\n",
      "Epoch 56/100\n",
      "250/250 [==============================] - 1s 3ms/step - loss: 6949309.5000 - mae: 6949309.5000\n",
      "Epoch 57/100\n",
      "250/250 [==============================] - 1s 3ms/step - loss: 7056648.0000 - mae: 7056648.0000\n",
      "Epoch 58/100\n",
      "250/250 [==============================] - 1s 2ms/step - loss: 7109580.5000 - mae: 7109580.5000\n",
      "Epoch 59/100\n",
      "250/250 [==============================] - 1s 3ms/step - loss: 6905007.5000 - mae: 6905007.5000\n",
      "Epoch 60/100\n",
      "250/250 [==============================] - 1s 2ms/step - loss: 6671831.5000 - mae: 6671831.5000\n",
      "Epoch 61/100\n",
      "250/250 [==============================] - 1s 3ms/step - loss: 6882802.0000 - mae: 6882802.0000\n",
      "Epoch 62/100\n",
      "250/250 [==============================] - 1s 2ms/step - loss: 6888439.5000 - mae: 6888439.5000\n",
      "Epoch 63/100\n",
      "250/250 [==============================] - 1s 3ms/step - loss: 6902256.5000 - mae: 6902256.5000\n",
      "Epoch 64/100\n",
      "250/250 [==============================] - 1s 3ms/step - loss: 6996468.5000 - mae: 6996468.5000\n",
      "Epoch 65/100\n",
      "250/250 [==============================] - 1s 3ms/step - loss: 6990951.5000 - mae: 6990951.5000\n",
      "Epoch 66/100\n",
      "250/250 [==============================] - 1s 2ms/step - loss: 6994249.5000 - mae: 6994249.5000\n",
      "Epoch 67/100\n",
      "250/250 [==============================] - 1s 2ms/step - loss: 7014694.5000 - mae: 7014694.5000\n",
      "Epoch 68/100\n",
      "250/250 [==============================] - 1s 2ms/step - loss: 6836194.5000 - mae: 6836194.5000\n",
      "Epoch 69/100\n",
      "250/250 [==============================] - 1s 3ms/step - loss: 7036448.5000 - mae: 7036448.5000\n",
      "Epoch 70/100\n",
      "250/250 [==============================] - 1s 2ms/step - loss: 7010137.0000 - mae: 7010137.0000\n",
      "Epoch 71/100\n",
      "250/250 [==============================] - 1s 3ms/step - loss: 6833348.5000 - mae: 6833348.5000\n",
      "Epoch 72/100\n",
      "250/250 [==============================] - 1s 3ms/step - loss: 6931097.5000 - mae: 6931097.5000\n",
      "Epoch 73/100\n",
      "250/250 [==============================] - 1s 2ms/step - loss: 6806917.0000 - mae: 6806917.0000\n",
      "Epoch 74/100\n",
      "250/250 [==============================] - 1s 3ms/step - loss: 6950468.0000 - mae: 6950468.0000\n",
      "Epoch 75/100\n",
      "250/250 [==============================] - 1s 2ms/step - loss: 6701528.0000 - mae: 6701528.0000\n",
      "Epoch 76/100\n",
      "250/250 [==============================] - 1s 2ms/step - loss: 6951833.0000 - mae: 6951833.0000\n",
      "Epoch 77/100\n",
      "250/250 [==============================] - 1s 2ms/step - loss: 6865122.5000 - mae: 6865122.5000\n",
      "Epoch 78/100\n",
      "250/250 [==============================] - 1s 2ms/step - loss: 6821252.5000 - mae: 6821252.5000\n",
      "Epoch 79/100\n",
      "250/250 [==============================] - 1s 3ms/step - loss: 6934746.5000 - mae: 6934746.5000\n",
      "Epoch 80/100\n",
      "250/250 [==============================] - 1s 2ms/step - loss: 6761728.5000 - mae: 6761728.5000\n",
      "Epoch 81/100\n",
      "250/250 [==============================] - 1s 2ms/step - loss: 6848381.0000 - mae: 6848381.0000\n",
      "Epoch 82/100\n",
      "250/250 [==============================] - 1s 3ms/step - loss: 6914099.0000 - mae: 6914099.0000\n",
      "Epoch 83/100\n",
      "250/250 [==============================] - 1s 2ms/step - loss: 6762969.5000 - mae: 6762969.5000\n",
      "Epoch 84/100\n",
      "250/250 [==============================] - 1s 2ms/step - loss: 6949974.0000 - mae: 6949974.0000\n",
      "Epoch 85/100\n",
      "250/250 [==============================] - 1s 2ms/step - loss: 6804543.0000 - mae: 6804543.0000\n",
      "Epoch 86/100\n",
      "250/250 [==============================] - 1s 2ms/step - loss: 6761941.5000 - mae: 6761941.5000\n",
      "Epoch 87/100\n",
      "250/250 [==============================] - 1s 2ms/step - loss: 6720839.5000 - mae: 6720839.5000\n",
      "Epoch 88/100\n",
      "250/250 [==============================] - 1s 2ms/step - loss: 6804493.0000 - mae: 6804493.0000\n",
      "Epoch 89/100\n",
      "250/250 [==============================] - 1s 2ms/step - loss: 6693646.5000 - mae: 6693646.5000\n",
      "Epoch 90/100\n",
      "250/250 [==============================] - 1s 2ms/step - loss: 6902140.0000 - mae: 6902140.0000\n",
      "Epoch 91/100\n",
      "250/250 [==============================] - 1s 2ms/step - loss: 6745202.5000 - mae: 6745202.5000\n",
      "Epoch 92/100\n",
      "250/250 [==============================] - 1s 2ms/step - loss: 6835069.5000 - mae: 6835069.5000\n",
      "Epoch 93/100\n",
      "250/250 [==============================] - 1s 2ms/step - loss: 6749596.5000 - mae: 6749596.5000\n",
      "Epoch 94/100\n",
      "250/250 [==============================] - 1s 2ms/step - loss: 6833921.0000 - mae: 6833921.0000\n",
      "Epoch 95/100\n",
      "250/250 [==============================] - 1s 2ms/step - loss: 6877765.0000 - mae: 6877765.0000\n",
      "Epoch 96/100\n",
      "250/250 [==============================] - 1s 2ms/step - loss: 6718039.0000 - mae: 6718039.0000\n",
      "Epoch 97/100\n",
      "250/250 [==============================] - 1s 2ms/step - loss: 6788169.5000 - mae: 6788169.5000\n",
      "Epoch 98/100\n",
      "250/250 [==============================] - 1s 2ms/step - loss: 6806890.5000 - mae: 6806890.5000\n",
      "Epoch 99/100\n",
      "250/250 [==============================] - 1s 3ms/step - loss: 6689951.0000 - mae: 6689951.0000\n",
      "Epoch 100/100\n",
      "250/250 [==============================] - 1s 2ms/step - loss: 6783929.5000 - mae: 6783929.5000\n"
     ]
    }
   ],
   "source": [
    "tf.random.set_seed(42)\n",
    "Ex_model_1=tf.keras.Sequential([\n",
    "    tf.keras.layers.Dense(60),\n",
    "    tf.keras.layers.Dense(60),\n",
    "    tf.keras.layers.Dense(60),\n",
    "    tf.keras.layers.Dense(60)\n",
    "])\n",
    "Ex_model_1.compile(\n",
    "    \n",
    "    loss=tf.keras.losses.MAE,\n",
    "    optimizer=tf.keras.optimizers.Adam(learning_rate=0.1),\n",
    "    metrics=[\"mae\"]\n",
    ")\n",
    "history=Ex_model_1.fit(tf.expand_dims(X_train_1,axis=1),y_train_1,epochs=100)"
   ]
  },
  {
   "cell_type": "code",
   "execution_count": 306,
   "metadata": {
    "executionInfo": {
     "elapsed": 40,
     "status": "ok",
     "timestamp": 1668399944884,
     "user": {
      "displayName": "Mudit Kumar",
      "userId": "12518861077253144202"
     },
     "user_tz": -330
    },
    "id": "9DN2b5F-jHvg"
   },
   "outputs": [],
   "source": []
  },
  {
   "cell_type": "code",
   "execution_count": 307,
   "metadata": {
    "colab": {
     "base_uri": "https://localhost:8080/"
    },
    "executionInfo": {
     "elapsed": 21,
     "status": "ok",
     "timestamp": 1668399944885,
     "user": {
      "displayName": "Mudit Kumar",
      "userId": "12518861077253144202"
     },
     "user_tz": -330
    },
    "id": "NGwmdiwW5m65",
    "outputId": "283f6efb-b05d-4d05-e829-cf29c6afe61e"
   },
   "outputs": [
    {
     "name": "stdout",
     "output_type": "stream",
     "text": [
      "63/63 [==============================] - 0s 2ms/step - loss: 6383705.5000 - mae: 6383705.5000\n"
     ]
    },
    {
     "data": {
      "text/plain": [
       "[6383705.5, 6383705.5]"
      ]
     },
     "execution_count": 307,
     "metadata": {},
     "output_type": "execute_result"
    }
   ],
   "source": [
    "Ex_model_1.evaluate(tf.expand_dims(X_test_1,axis=1),y_test_1)"
   ]
  },
  {
   "cell_type": "code",
   "execution_count": 308,
   "metadata": {
    "colab": {
     "base_uri": "https://localhost:8080/",
     "height": 307
    },
    "executionInfo": {
     "elapsed": 13,
     "status": "ok",
     "timestamp": 1668399944885,
     "user": {
      "displayName": "Mudit Kumar",
      "userId": "12518861077253144202"
     },
     "user_tz": -330
    },
    "id": "z4AEuvSq-9Vy",
    "outputId": "dd72815a-e0fe-4ed2-aa82-aee09689b568"
   },
   "outputs": [
    {
     "data": {
      "text/plain": [
       "Text(0.5, 0, 'epochs')"
      ]
     },
     "execution_count": 308,
     "metadata": {},
     "output_type": "execute_result"
    },
    {
     "data": {
      "image/png": "[encoded data removed]",
      "text/plain": [
       "<Figure size 432x288 with 1 Axes>"
      ]
     },
     "metadata": {
      "needs_background": "light"
     },
     "output_type": "display_data"
    }
   ],
   "source": [
    "pd.DataFrame(history.history).plot()\n",
    "plt.ylabel(\"loss\")\n",
    "plt.xlabel(\"epochs\")  ## Poorly performed"
   ]
  },
  {
   "cell_type": "markdown",
   "metadata": {
    "id": "0wFZZdqOBf-M"
   },
   "source": [
    "##Ques 3:\n",
    "* Try and improve the results we got on the insurance dataset, some things you might want to try include:\n",
    "* Building a larger model (how does one with 4 dense layers go?).\n",
    "* Increasing the number of units in each layer.\n",
    "* Lookup the documentation of Adam and find out what the first parameter is, what happens if you increase it by 10x?\n",
    "* What happens if you train for longer (say 300 epochs instead of 200)? "
   ]
  },
  {
   "cell_type": "code",
   "execution_count": 309,
   "metadata": {
    "executionInfo": {
     "elapsed": 10,
     "status": "ok",
     "timestamp": 1668399944886,
     "user": {
      "displayName": "Mudit Kumar",
      "userId": "12518861077253144202"
     },
     "user_tz": -330
    },
    "id": "Oy83hfGQF5AV"
   },
   "outputs": [],
   "source": [
    "tf.random.set_seed(42)\n",
    "insurance_model_5=tf.keras.Sequential([\n",
    "    tf.keras.layers.Dense(1000,activation=\"relu\"),\n",
    "    tf.keras.layers.Dense(10,activation=\"relu\"),\n",
    "    tf.keras.layers.Dense(10,activation=\"relu\"),\n",
    "    tf.keras.layers.Dense(1)\n",
    "])"
   ]
  },
  {
   "cell_type": "code",
   "execution_count": 310,
   "metadata": {
    "colab": {
     "base_uri": "https://localhost:8080/"
    },
    "executionInfo": {
     "elapsed": 10,
     "status": "ok",
     "timestamp": 1668399944886,
     "user": {
      "displayName": "Mudit Kumar",
      "userId": "12518861077253144202"
     },
     "user_tz": -330
    },
    "id": "ztCmaKa83dZi",
    "outputId": "fff3d1dd-a9fc-46c6-97fc-8da0ce733e58"
   },
   "outputs": [
    {
     "data": {
      "text/plain": [
       "array([[0.60869565, 0.10734463, 0.4       , ..., 1.        , 0.        ,\n",
       "        0.        ],\n",
       "       [0.63043478, 0.22491256, 0.        , ..., 0.        , 0.        ,\n",
       "        0.        ],\n",
       "       [0.73913043, 0.23944041, 0.        , ..., 0.        , 1.        ,\n",
       "        0.        ],\n",
       "       ...,\n",
       "       [0.86956522, 0.24791499, 0.        , ..., 0.        , 0.        ,\n",
       "        0.        ],\n",
       "       [0.41304348, 0.85122411, 0.4       , ..., 0.        , 0.        ,\n",
       "        1.        ],\n",
       "       [0.80434783, 0.37503363, 0.        , ..., 0.        , 0.        ,\n",
       "        1.        ]])"
      ]
     },
     "execution_count": 310,
     "metadata": {},
     "output_type": "execute_result"
    }
   ],
   "source": [
    "insurance_model_5.compile(\n",
    "    loss=tf.keras.losses.MAE,\n",
    "    optimizer=tf.keras.optimizers.Adam(learning_rate=0.1),\n",
    "    metrics=[\"mae\"]\n",
    ")\n",
    "X_train_normal"
   ]
  },
  {
   "cell_type": "code",
   "execution_count": 311,
   "metadata": {
    "colab": {
     "base_uri": "https://localhost:8080/"
    },
    "executionInfo": {
     "elapsed": 49869,
     "status": "ok",
     "timestamp": 1668399994747,
     "user": {
      "displayName": "Mudit Kumar",
      "userId": "12518861077253144202"
     },
     "user_tz": -330
    },
    "id": "8nDKgec-4tLf",
    "outputId": "56c94bee-f318-4ce6-d05b-e3991ecaf4d5"
   },
   "outputs": [
    {
     "name": "stdout",
     "output_type": "stream",
     "text": [
      "Epoch 1/300\n",
      "34/34 [==============================] - 1s 5ms/step - loss: 7003.3872 - mae: 7003.3872\n",
      "Epoch 2/300\n",
      "34/34 [==============================] - 0s 4ms/step - loss: 3848.6379 - mae: 3848.6379\n",
      "Epoch 3/300\n",
      "34/34 [==============================] - 0s 4ms/step - loss: 3569.0447 - mae: 3569.0447\n",
      "Epoch 4/300\n",
      "34/34 [==============================] - 0s 5ms/step - loss: 3688.0752 - mae: 3688.0752\n",
      "Epoch 5/300\n",
      "34/34 [==============================] - 0s 5ms/step - loss: 3378.9421 - mae: 3378.9421\n",
      "Epoch 6/300\n",
      "34/34 [==============================] - 0s 4ms/step - loss: 2867.5916 - mae: 2867.5916\n",
      "Epoch 7/300\n",
      "34/34 [==============================] - 0s 4ms/step - loss: 2868.0503 - mae: 2868.0503\n",
      "Epoch 8/300\n",
      "34/34 [==============================] - 0s 4ms/step - loss: 2869.0266 - mae: 2869.0266\n",
      "Epoch 9/300\n",
      "34/34 [==============================] - 0s 4ms/step - loss: 2497.2878 - mae: 2497.2878\n",
      "Epoch 10/300\n",
      "34/34 [==============================] - 0s 4ms/step - loss: 2384.2673 - mae: 2384.2673\n",
      "Epoch 11/300\n",
      "34/34 [==============================] - 0s 4ms/step - loss: 2362.4973 - mae: 2362.4973\n",
      "Epoch 12/300\n",
      "34/34 [==============================] - 0s 4ms/step - loss: 2387.2695 - mae: 2387.2695\n",
      "Epoch 13/300\n",
      "34/34 [==============================] - 0s 4ms/step - loss: 2403.4817 - mae: 2403.4817\n",
      "Epoch 14/300\n",
      "34/34 [==============================] - 0s 4ms/step - loss: 2496.2654 - mae: 2496.2654\n",
      "Epoch 15/300\n",
      "34/34 [==============================] - 0s 4ms/step - loss: 2294.7942 - mae: 2294.7942\n",
      "Epoch 16/300\n",
      "34/34 [==============================] - 0s 4ms/step - loss: 2390.6882 - mae: 2390.6882\n",
      "Epoch 17/300\n",
      "34/34 [==============================] - 0s 5ms/step - loss: 2363.5938 - mae: 2363.5938\n",
      "Epoch 18/300\n",
      "34/34 [==============================] - 0s 4ms/step - loss: 2741.5149 - mae: 2741.5149\n",
      "Epoch 19/300\n",
      "34/34 [==============================] - 0s 4ms/step - loss: 2385.4255 - mae: 2385.4255\n",
      "Epoch 20/300\n",
      "34/34 [==============================] - 0s 4ms/step - loss: 2359.4402 - mae: 2359.4402\n",
      "Epoch 21/300\n",
      "34/34 [==============================] - 0s 4ms/step - loss: 2227.4016 - mae: 2227.4016\n",
      "Epoch 22/300\n",
      "34/34 [==============================] - 0s 4ms/step - loss: 2287.5210 - mae: 2287.5210\n",
      "Epoch 23/300\n",
      "34/34 [==============================] - 0s 5ms/step - loss: 2790.8743 - mae: 2790.8743\n",
      "Epoch 24/300\n",
      "34/34 [==============================] - 0s 4ms/step - loss: 2287.5818 - mae: 2287.5818\n",
      "Epoch 25/300\n",
      "34/34 [==============================] - 0s 4ms/step - loss: 2277.1443 - mae: 2277.1443\n",
      "Epoch 26/300\n",
      "34/34 [==============================] - 0s 4ms/step - loss: 2270.8491 - mae: 2270.8491\n",
      "Epoch 27/300\n",
      "34/34 [==============================] - 0s 4ms/step - loss: 2330.2134 - mae: 2330.2134\n",
      "Epoch 28/300\n",
      "34/34 [==============================] - 0s 4ms/step - loss: 2420.5405 - mae: 2420.5405\n",
      "Epoch 29/300\n",
      "34/34 [==============================] - 0s 4ms/step - loss: 2832.4670 - mae: 2832.4670\n",
      "Epoch 30/300\n",
      "34/34 [==============================] - 0s 5ms/step - loss: 2298.6057 - mae: 2298.6057\n",
      "Epoch 31/300\n",
      "34/34 [==============================] - 0s 4ms/step - loss: 2258.1267 - mae: 2258.1267\n",
      "Epoch 32/300\n",
      "34/34 [==============================] - 0s 4ms/step - loss: 2221.8176 - mae: 2221.8176\n",
      "Epoch 33/300\n",
      "34/34 [==============================] - 0s 4ms/step - loss: 2277.8467 - mae: 2277.8467\n",
      "Epoch 34/300\n",
      "34/34 [==============================] - 0s 4ms/step - loss: 2288.9604 - mae: 2288.9604\n",
      "Epoch 35/300\n",
      "34/34 [==============================] - 0s 4ms/step - loss: 2226.4983 - mae: 2226.4983\n",
      "Epoch 36/300\n",
      "34/34 [==============================] - 0s 4ms/step - loss: 2399.3098 - mae: 2399.3098\n",
      "Epoch 37/300\n",
      "34/34 [==============================] - 0s 5ms/step - loss: 2381.4443 - mae: 2381.4443\n",
      "Epoch 38/300\n",
      "34/34 [==============================] - 0s 4ms/step - loss: 2216.5398 - mae: 2216.5398\n",
      "Epoch 39/300\n",
      "34/34 [==============================] - 0s 4ms/step - loss: 2200.9531 - mae: 2200.9531\n",
      "Epoch 40/300\n",
      "34/34 [==============================] - 0s 4ms/step - loss: 2352.5508 - mae: 2352.5508\n",
      "Epoch 41/300\n",
      "34/34 [==============================] - 0s 4ms/step - loss: 2324.8918 - mae: 2324.8918\n",
      "Epoch 42/300\n",
      "34/34 [==============================] - 0s 5ms/step - loss: 2266.6199 - mae: 2266.6199\n",
      "Epoch 43/300\n",
      "34/34 [==============================] - 0s 4ms/step - loss: 2195.4321 - mae: 2195.4321\n",
      "Epoch 44/300\n",
      "34/34 [==============================] - 0s 4ms/step - loss: 2365.1702 - mae: 2365.1702\n",
      "Epoch 45/300\n",
      "34/34 [==============================] - 0s 4ms/step - loss: 2171.0342 - mae: 2171.0342\n",
      "Epoch 46/300\n",
      "34/34 [==============================] - 0s 4ms/step - loss: 2270.3745 - mae: 2270.3745\n",
      "Epoch 47/300\n",
      "34/34 [==============================] - 0s 4ms/step - loss: 2628.3745 - mae: 2628.3745\n",
      "Epoch 48/300\n",
      "34/34 [==============================] - 0s 4ms/step - loss: 2247.6584 - mae: 2247.6584\n",
      "Epoch 49/300\n",
      "34/34 [==============================] - 0s 4ms/step - loss: 2329.2476 - mae: 2329.2476\n",
      "Epoch 50/300\n",
      "34/34 [==============================] - 0s 4ms/step - loss: 2325.1855 - mae: 2325.1855\n",
      "Epoch 51/300\n",
      "34/34 [==============================] - 0s 4ms/step - loss: 2302.3928 - mae: 2302.3928\n",
      "Epoch 52/300\n",
      "34/34 [==============================] - 0s 4ms/step - loss: 2415.1602 - mae: 2415.1602\n",
      "Epoch 53/300\n",
      "34/34 [==============================] - 0s 4ms/step - loss: 2294.7883 - mae: 2294.7883\n",
      "Epoch 54/300\n",
      "34/34 [==============================] - 0s 4ms/step - loss: 2417.9414 - mae: 2417.9414\n",
      "Epoch 55/300\n",
      "34/34 [==============================] - 0s 5ms/step - loss: 2202.2046 - mae: 2202.2046\n",
      "Epoch 56/300\n",
      "34/34 [==============================] - 0s 5ms/step - loss: 2347.7471 - mae: 2347.7471\n",
      "Epoch 57/300\n",
      "34/34 [==============================] - 0s 4ms/step - loss: 2177.2190 - mae: 2177.2190\n",
      "Epoch 58/300\n",
      "34/34 [==============================] - 0s 4ms/step - loss: 2351.9692 - mae: 2351.9692\n",
      "Epoch 59/300\n",
      "34/34 [==============================] - 0s 4ms/step - loss: 2224.7988 - mae: 2224.7988\n",
      "Epoch 60/300\n",
      "34/34 [==============================] - 0s 4ms/step - loss: 2177.3291 - mae: 2177.3291\n",
      "Epoch 61/300\n",
      "34/34 [==============================] - 0s 4ms/step - loss: 2087.6218 - mae: 2087.6218\n",
      "Epoch 62/300\n",
      "34/34 [==============================] - 0s 4ms/step - loss: 2344.9019 - mae: 2344.9019\n",
      "Epoch 63/300\n",
      "34/34 [==============================] - 0s 4ms/step - loss: 2225.4973 - mae: 2225.4973\n",
      "Epoch 64/300\n",
      "34/34 [==============================] - 0s 4ms/step - loss: 2267.9685 - mae: 2267.9685\n",
      "Epoch 65/300\n",
      "34/34 [==============================] - 0s 4ms/step - loss: 2159.5046 - mae: 2159.5046\n",
      "Epoch 66/300\n",
      "34/34 [==============================] - 0s 4ms/step - loss: 2393.4075 - mae: 2393.4075\n",
      "Epoch 67/300\n",
      "34/34 [==============================] - 0s 4ms/step - loss: 2359.4524 - mae: 2359.4524\n",
      "Epoch 68/300\n",
      "34/34 [==============================] - 0s 4ms/step - loss: 2138.0188 - mae: 2138.0188\n",
      "Epoch 69/300\n",
      "34/34 [==============================] - 0s 4ms/step - loss: 2233.1780 - mae: 2233.1780\n",
      "Epoch 70/300\n",
      "34/34 [==============================] - 0s 5ms/step - loss: 2117.6553 - mae: 2117.6553\n",
      "Epoch 71/300\n",
      "34/34 [==============================] - 0s 4ms/step - loss: 2184.4543 - mae: 2184.4543\n",
      "Epoch 72/300\n",
      "34/34 [==============================] - 0s 4ms/step - loss: 2200.5652 - mae: 2200.5652\n",
      "Epoch 73/300\n",
      "34/34 [==============================] - 0s 5ms/step - loss: 2163.0298 - mae: 2163.0298\n",
      "Epoch 74/300\n",
      "34/34 [==============================] - 0s 4ms/step - loss: 2287.2471 - mae: 2287.2471\n",
      "Epoch 75/300\n",
      "34/34 [==============================] - 0s 4ms/step - loss: 2124.3982 - mae: 2124.3982\n",
      "Epoch 76/300\n",
      "34/34 [==============================] - 0s 5ms/step - loss: 2123.0969 - mae: 2123.0969\n",
      "Epoch 77/300\n",
      "34/34 [==============================] - 0s 4ms/step - loss: 2169.8533 - mae: 2169.8533\n",
      "Epoch 78/300\n",
      "34/34 [==============================] - 0s 4ms/step - loss: 2085.0222 - mae: 2085.0222\n",
      "Epoch 79/300\n",
      "34/34 [==============================] - 0s 4ms/step - loss: 2132.9265 - mae: 2132.9265\n",
      "Epoch 80/300\n",
      "34/34 [==============================] - 0s 4ms/step - loss: 2096.8499 - mae: 2096.8499\n",
      "Epoch 81/300\n",
      "34/34 [==============================] - 0s 4ms/step - loss: 2170.6113 - mae: 2170.6113\n",
      "Epoch 82/300\n",
      "34/34 [==============================] - 0s 4ms/step - loss: 2263.0205 - mae: 2263.0205\n",
      "Epoch 83/300\n",
      "34/34 [==============================] - 0s 4ms/step - loss: 2194.4175 - mae: 2194.4175\n",
      "Epoch 84/300\n",
      "34/34 [==============================] - 0s 5ms/step - loss: 2057.6697 - mae: 2057.6697\n",
      "Epoch 85/300\n",
      "34/34 [==============================] - 0s 4ms/step - loss: 2138.7583 - mae: 2138.7583\n",
      "Epoch 86/300\n",
      "34/34 [==============================] - 0s 4ms/step - loss: 2203.9844 - mae: 2203.9844\n",
      "Epoch 87/300\n",
      "34/34 [==============================] - 0s 4ms/step - loss: 2281.5198 - mae: 2281.5198\n",
      "Epoch 88/300\n",
      "34/34 [==============================] - 0s 4ms/step - loss: 2139.7520 - mae: 2139.7520\n",
      "Epoch 89/300\n",
      "34/34 [==============================] - 0s 4ms/step - loss: 2103.9287 - mae: 2103.9287\n",
      "Epoch 90/300\n",
      "34/34 [==============================] - 0s 4ms/step - loss: 2480.5752 - mae: 2480.5752\n",
      "Epoch 91/300\n",
      "34/34 [==============================] - 0s 4ms/step - loss: 2231.3521 - mae: 2231.3521\n",
      "Epoch 92/300\n",
      "34/34 [==============================] - 0s 4ms/step - loss: 2354.4072 - mae: 2354.4072\n",
      "Epoch 93/300\n",
      "34/34 [==============================] - 0s 4ms/step - loss: 2262.5505 - mae: 2262.5505\n",
      "Epoch 94/300\n",
      "34/34 [==============================] - 0s 4ms/step - loss: 2162.7791 - mae: 2162.7791\n",
      "Epoch 95/300\n",
      "34/34 [==============================] - 0s 4ms/step - loss: 2026.2058 - mae: 2026.2058\n",
      "Epoch 96/300\n",
      "34/34 [==============================] - 0s 4ms/step - loss: 2220.2075 - mae: 2220.2075\n",
      "Epoch 97/300\n",
      "34/34 [==============================] - 0s 4ms/step - loss: 2250.8618 - mae: 2250.8618\n",
      "Epoch 98/300\n",
      "34/34 [==============================] - 0s 5ms/step - loss: 2290.0896 - mae: 2290.0896\n",
      "Epoch 99/300\n",
      "34/34 [==============================] - 0s 4ms/step - loss: 2277.1565 - mae: 2277.1565\n",
      "Epoch 100/300\n",
      "34/34 [==============================] - 0s 4ms/step - loss: 2077.0984 - mae: 2077.0984\n",
      "Epoch 101/300\n",
      "34/34 [==============================] - 0s 4ms/step - loss: 2115.8599 - mae: 2115.8599\n",
      "Epoch 102/300\n",
      "34/34 [==============================] - 0s 5ms/step - loss: 2344.3289 - mae: 2344.3289\n",
      "Epoch 103/300\n",
      "34/34 [==============================] - 0s 4ms/step - loss: 2143.5071 - mae: 2143.5071\n",
      "Epoch 104/300\n",
      "34/34 [==============================] - 0s 4ms/step - loss: 2033.9703 - mae: 2033.9703\n",
      "Epoch 105/300\n",
      "34/34 [==============================] - 0s 4ms/step - loss: 2108.7393 - mae: 2108.7393\n",
      "Epoch 106/300\n",
      "34/34 [==============================] - 0s 4ms/step - loss: 2052.0940 - mae: 2052.0940\n",
      "Epoch 107/300\n",
      "34/34 [==============================] - 0s 4ms/step - loss: 2053.8896 - mae: 2053.8896\n",
      "Epoch 108/300\n",
      "34/34 [==============================] - 0s 4ms/step - loss: 2131.4177 - mae: 2131.4177\n",
      "Epoch 109/300\n",
      "34/34 [==============================] - 0s 4ms/step - loss: 2065.0208 - mae: 2065.0208\n",
      "Epoch 110/300\n",
      "34/34 [==============================] - 0s 4ms/step - loss: 2071.4263 - mae: 2071.4263\n",
      "Epoch 111/300\n",
      "34/34 [==============================] - 0s 4ms/step - loss: 2207.3940 - mae: 2207.3940\n",
      "Epoch 112/300\n",
      "34/34 [==============================] - 0s 4ms/step - loss: 2088.6738 - mae: 2088.6738\n",
      "Epoch 113/300\n",
      "34/34 [==============================] - 0s 4ms/step - loss: 2086.4846 - mae: 2086.4846\n",
      "Epoch 114/300\n",
      "34/34 [==============================] - 0s 4ms/step - loss: 2069.6487 - mae: 2069.6487\n",
      "Epoch 115/300\n",
      "34/34 [==============================] - 0s 4ms/step - loss: 2080.1194 - mae: 2080.1194\n",
      "Epoch 116/300\n",
      "34/34 [==============================] - 0s 4ms/step - loss: 2174.3313 - mae: 2174.3313\n",
      "Epoch 117/300\n",
      "34/34 [==============================] - 0s 4ms/step - loss: 2164.7144 - mae: 2164.7144\n",
      "Epoch 118/300\n",
      "34/34 [==============================] - 0s 4ms/step - loss: 2243.8223 - mae: 2243.8223\n",
      "Epoch 119/300\n",
      "34/34 [==============================] - 0s 4ms/step - loss: 2034.6266 - mae: 2034.6266\n",
      "Epoch 120/300\n",
      "34/34 [==============================] - 0s 4ms/step - loss: 2068.1213 - mae: 2068.1213\n",
      "Epoch 121/300\n",
      "34/34 [==============================] - 0s 4ms/step - loss: 2010.9414 - mae: 2010.9414\n",
      "Epoch 122/300\n",
      "34/34 [==============================] - 0s 4ms/step - loss: 2199.3979 - mae: 2199.3979\n",
      "Epoch 123/300\n",
      "34/34 [==============================] - 0s 4ms/step - loss: 2086.7646 - mae: 2086.7646\n",
      "Epoch 124/300\n",
      "34/34 [==============================] - 0s 4ms/step - loss: 2112.4229 - mae: 2112.4229\n",
      "Epoch 125/300\n",
      "34/34 [==============================] - 0s 4ms/step - loss: 2054.6387 - mae: 2054.6387\n",
      "Epoch 126/300\n",
      "34/34 [==============================] - 0s 5ms/step - loss: 2098.9749 - mae: 2098.9749\n",
      "Epoch 127/300\n",
      "34/34 [==============================] - 0s 4ms/step - loss: 2227.4082 - mae: 2227.4082\n",
      "Epoch 128/300\n",
      "34/34 [==============================] - 0s 4ms/step - loss: 2024.0820 - mae: 2024.0820\n",
      "Epoch 129/300\n",
      "34/34 [==============================] - 0s 5ms/step - loss: 1930.0222 - mae: 1930.0222\n",
      "Epoch 130/300\n",
      "34/34 [==============================] - 0s 4ms/step - loss: 1950.7900 - mae: 1950.7900\n",
      "Epoch 131/300\n",
      "34/34 [==============================] - 0s 4ms/step - loss: 2016.3962 - mae: 2016.3962\n",
      "Epoch 132/300\n",
      "34/34 [==============================] - 0s 4ms/step - loss: 1938.0452 - mae: 1938.0452\n",
      "Epoch 133/300\n",
      "34/34 [==============================] - 0s 4ms/step - loss: 2052.1050 - mae: 2052.1050\n",
      "Epoch 134/300\n",
      "34/34 [==============================] - 0s 8ms/step - loss: 1953.3357 - mae: 1953.3357\n",
      "Epoch 135/300\n",
      "34/34 [==============================] - 0s 8ms/step - loss: 2160.1106 - mae: 2160.1106\n",
      "Epoch 136/300\n",
      "34/34 [==============================] - 0s 8ms/step - loss: 1969.4172 - mae: 1969.4172\n",
      "Epoch 137/300\n",
      "34/34 [==============================] - 0s 7ms/step - loss: 1972.8108 - mae: 1972.8108\n",
      "Epoch 138/300\n",
      "34/34 [==============================] - 0s 7ms/step - loss: 2009.6556 - mae: 2009.6556\n",
      "Epoch 139/300\n",
      "34/34 [==============================] - 0s 7ms/step - loss: 1998.5603 - mae: 1998.5603\n",
      "Epoch 140/300\n",
      "34/34 [==============================] - 0s 8ms/step - loss: 1960.0059 - mae: 1960.0059\n",
      "Epoch 141/300\n",
      "34/34 [==============================] - 0s 8ms/step - loss: 1945.9415 - mae: 1945.9415\n",
      "Epoch 142/300\n",
      "34/34 [==============================] - 0s 8ms/step - loss: 1987.1099 - mae: 1987.1099\n",
      "Epoch 143/300\n",
      "34/34 [==============================] - 0s 8ms/step - loss: 2111.9143 - mae: 2111.9143\n",
      "Epoch 144/300\n",
      "34/34 [==============================] - 0s 7ms/step - loss: 2116.2119 - mae: 2116.2119\n",
      "Epoch 145/300\n",
      "34/34 [==============================] - 0s 7ms/step - loss: 1854.6995 - mae: 1854.6995\n",
      "Epoch 146/300\n",
      "34/34 [==============================] - 0s 7ms/step - loss: 1878.7228 - mae: 1878.7228\n",
      "Epoch 147/300\n",
      "34/34 [==============================] - 0s 8ms/step - loss: 1912.2040 - mae: 1912.2040\n",
      "Epoch 148/300\n",
      "34/34 [==============================] - 0s 7ms/step - loss: 1901.5688 - mae: 1901.5688\n",
      "Epoch 149/300\n",
      "34/34 [==============================] - 0s 4ms/step - loss: 2099.1709 - mae: 2099.1709\n",
      "Epoch 150/300\n",
      "34/34 [==============================] - 0s 4ms/step - loss: 1863.4286 - mae: 1863.4286\n",
      "Epoch 151/300\n",
      "34/34 [==============================] - 0s 4ms/step - loss: 1909.3035 - mae: 1909.3035\n",
      "Epoch 152/300\n",
      "34/34 [==============================] - 0s 4ms/step - loss: 1830.9796 - mae: 1830.9796\n",
      "Epoch 153/300\n",
      "34/34 [==============================] - 0s 5ms/step - loss: 2037.7922 - mae: 2037.7922\n",
      "Epoch 154/300\n",
      "34/34 [==============================] - 0s 4ms/step - loss: 2016.8757 - mae: 2016.8757\n",
      "Epoch 155/300\n",
      "34/34 [==============================] - 0s 4ms/step - loss: 1988.9491 - mae: 1988.9491\n",
      "Epoch 156/300\n",
      "34/34 [==============================] - 0s 4ms/step - loss: 1916.6404 - mae: 1916.6404\n",
      "Epoch 157/300\n",
      "34/34 [==============================] - 0s 4ms/step - loss: 1897.7152 - mae: 1897.7152\n",
      "Epoch 158/300\n",
      "34/34 [==============================] - 0s 4ms/step - loss: 1847.3297 - mae: 1847.3297\n",
      "Epoch 159/300\n",
      "34/34 [==============================] - 0s 4ms/step - loss: 1906.8865 - mae: 1906.8865\n",
      "Epoch 160/300\n",
      "34/34 [==============================] - 0s 4ms/step - loss: 1972.4500 - mae: 1972.4500\n",
      "Epoch 161/300\n",
      "34/34 [==============================] - 0s 4ms/step - loss: 1817.2423 - mae: 1817.2423\n",
      "Epoch 162/300\n",
      "34/34 [==============================] - 0s 4ms/step - loss: 1903.6246 - mae: 1903.6246\n",
      "Epoch 163/300\n",
      "34/34 [==============================] - 0s 4ms/step - loss: 1828.8895 - mae: 1828.8895\n",
      "Epoch 164/300\n",
      "34/34 [==============================] - 0s 4ms/step - loss: 1945.0026 - mae: 1945.0026\n",
      "Epoch 165/300\n",
      "34/34 [==============================] - 0s 4ms/step - loss: 1945.7761 - mae: 1945.7761\n",
      "Epoch 166/300\n",
      "34/34 [==============================] - 0s 4ms/step - loss: 1824.1067 - mae: 1824.1067\n",
      "Epoch 167/300\n",
      "34/34 [==============================] - 0s 4ms/step - loss: 1927.7314 - mae: 1927.7314\n",
      "Epoch 168/300\n",
      "34/34 [==============================] - 0s 4ms/step - loss: 1917.5100 - mae: 1917.5100\n",
      "Epoch 169/300\n",
      "34/34 [==============================] - 0s 4ms/step - loss: 1861.9235 - mae: 1861.9235\n",
      "Epoch 170/300\n",
      "34/34 [==============================] - 0s 4ms/step - loss: 1879.1804 - mae: 1879.1804\n",
      "Epoch 171/300\n",
      "34/34 [==============================] - 0s 4ms/step - loss: 1812.0358 - mae: 1812.0358\n",
      "Epoch 172/300\n",
      "34/34 [==============================] - 0s 4ms/step - loss: 2023.9680 - mae: 2023.9680\n",
      "Epoch 173/300\n",
      "34/34 [==============================] - 0s 5ms/step - loss: 1997.9540 - mae: 1997.9540\n",
      "Epoch 174/300\n",
      "34/34 [==============================] - 0s 4ms/step - loss: 1877.6300 - mae: 1877.6300\n",
      "Epoch 175/300\n",
      "34/34 [==============================] - 0s 4ms/step - loss: 1854.7600 - mae: 1854.7600\n",
      "Epoch 176/300\n",
      "34/34 [==============================] - 0s 4ms/step - loss: 1907.6053 - mae: 1907.6053\n",
      "Epoch 177/300\n",
      "34/34 [==============================] - 0s 4ms/step - loss: 1867.8535 - mae: 1867.8535\n",
      "Epoch 178/300\n",
      "34/34 [==============================] - 0s 4ms/step - loss: 1902.2439 - mae: 1902.2439\n",
      "Epoch 179/300\n",
      "34/34 [==============================] - 0s 4ms/step - loss: 2057.2805 - mae: 2057.2805\n",
      "Epoch 180/300\n",
      "34/34 [==============================] - 0s 4ms/step - loss: 2129.4905 - mae: 2129.4905\n",
      "Epoch 181/300\n",
      "34/34 [==============================] - 0s 4ms/step - loss: 1846.2758 - mae: 1846.2758\n",
      "Epoch 182/300\n",
      "34/34 [==============================] - 0s 4ms/step - loss: 1748.7649 - mae: 1748.7649\n",
      "Epoch 183/300\n",
      "34/34 [==============================] - 0s 4ms/step - loss: 1863.3589 - mae: 1863.3589\n",
      "Epoch 184/300\n",
      "34/34 [==============================] - 0s 4ms/step - loss: 1810.6132 - mae: 1810.6132\n",
      "Epoch 185/300\n",
      "34/34 [==============================] - 0s 5ms/step - loss: 1783.9299 - mae: 1783.9299\n",
      "Epoch 186/300\n",
      "34/34 [==============================] - 0s 4ms/step - loss: 1810.8333 - mae: 1810.8333\n",
      "Epoch 187/300\n",
      "34/34 [==============================] - 0s 4ms/step - loss: 1744.8635 - mae: 1744.8635\n",
      "Epoch 188/300\n",
      "34/34 [==============================] - 0s 4ms/step - loss: 1896.2512 - mae: 1896.2512\n",
      "Epoch 189/300\n",
      "34/34 [==============================] - 0s 4ms/step - loss: 1847.1356 - mae: 1847.1356\n",
      "Epoch 190/300\n",
      "34/34 [==============================] - 0s 5ms/step - loss: 1774.2053 - mae: 1774.2053\n",
      "Epoch 191/300\n",
      "34/34 [==============================] - 0s 4ms/step - loss: 1782.8560 - mae: 1782.8560\n",
      "Epoch 192/300\n",
      "34/34 [==============================] - 0s 4ms/step - loss: 1827.4454 - mae: 1827.4454\n",
      "Epoch 193/300\n",
      "34/34 [==============================] - 0s 5ms/step - loss: 1787.3191 - mae: 1787.3191\n",
      "Epoch 194/300\n",
      "34/34 [==============================] - 0s 5ms/step - loss: 1756.9332 - mae: 1756.9332\n",
      "Epoch 195/300\n",
      "34/34 [==============================] - 0s 4ms/step - loss: 1775.3403 - mae: 1775.3403\n",
      "Epoch 196/300\n",
      "34/34 [==============================] - 0s 4ms/step - loss: 1794.8411 - mae: 1794.8411\n",
      "Epoch 197/300\n",
      "34/34 [==============================] - 0s 4ms/step - loss: 2024.5294 - mae: 2024.5294\n",
      "Epoch 198/300\n",
      "34/34 [==============================] - 0s 4ms/step - loss: 1793.5278 - mae: 1793.5278\n",
      "Epoch 199/300\n",
      "34/34 [==============================] - 0s 4ms/step - loss: 1745.9362 - mae: 1745.9362\n",
      "Epoch 200/300\n",
      "34/34 [==============================] - 0s 4ms/step - loss: 1714.7032 - mae: 1714.7032\n",
      "Epoch 201/300\n",
      "34/34 [==============================] - 0s 4ms/step - loss: 1752.2292 - mae: 1752.2292\n",
      "Epoch 202/300\n",
      "34/34 [==============================] - 0s 4ms/step - loss: 1736.9008 - mae: 1736.9008\n",
      "Epoch 203/300\n",
      "34/34 [==============================] - 0s 4ms/step - loss: 1908.2637 - mae: 1908.2637\n",
      "Epoch 204/300\n",
      "34/34 [==============================] - 0s 4ms/step - loss: 1813.8857 - mae: 1813.8857\n",
      "Epoch 205/300\n",
      "34/34 [==============================] - 0s 4ms/step - loss: 1887.1493 - mae: 1887.1493\n",
      "Epoch 206/300\n",
      "34/34 [==============================] - 0s 4ms/step - loss: 1842.0605 - mae: 1842.0605\n",
      "Epoch 207/300\n",
      "34/34 [==============================] - 0s 4ms/step - loss: 1908.7404 - mae: 1908.7404\n",
      "Epoch 208/300\n",
      "34/34 [==============================] - 0s 4ms/step - loss: 1764.6259 - mae: 1764.6259\n",
      "Epoch 209/300\n",
      "34/34 [==============================] - 0s 4ms/step - loss: 1742.6945 - mae: 1742.6945\n",
      "Epoch 210/300\n",
      "34/34 [==============================] - 0s 4ms/step - loss: 1787.3789 - mae: 1787.3789\n",
      "Epoch 211/300\n",
      "34/34 [==============================] - 0s 4ms/step - loss: 1818.9095 - mae: 1818.9095\n",
      "Epoch 212/300\n",
      "34/34 [==============================] - 0s 4ms/step - loss: 1751.4811 - mae: 1751.4811\n",
      "Epoch 213/300\n",
      "34/34 [==============================] - 0s 4ms/step - loss: 1791.0602 - mae: 1791.0602\n",
      "Epoch 214/300\n",
      "34/34 [==============================] - 0s 5ms/step - loss: 1830.1377 - mae: 1830.1377\n",
      "Epoch 215/300\n",
      "34/34 [==============================] - 0s 4ms/step - loss: 1826.5319 - mae: 1826.5319\n",
      "Epoch 216/300\n",
      "34/34 [==============================] - 0s 4ms/step - loss: 1782.2861 - mae: 1782.2861\n",
      "Epoch 217/300\n",
      "34/34 [==============================] - 0s 4ms/step - loss: 1760.9103 - mae: 1760.9103\n",
      "Epoch 218/300\n",
      "34/34 [==============================] - 0s 4ms/step - loss: 1761.1595 - mae: 1761.1595\n",
      "Epoch 219/300\n",
      "34/34 [==============================] - 0s 4ms/step - loss: 1710.3601 - mae: 1710.3601\n",
      "Epoch 220/300\n",
      "34/34 [==============================] - 0s 4ms/step - loss: 1841.8899 - mae: 1841.8899\n",
      "Epoch 221/300\n",
      "34/34 [==============================] - 0s 4ms/step - loss: 1875.1136 - mae: 1875.1136\n",
      "Epoch 222/300\n",
      "34/34 [==============================] - 0s 5ms/step - loss: 1848.3264 - mae: 1848.3264\n",
      "Epoch 223/300\n",
      "34/34 [==============================] - 0s 4ms/step - loss: 1758.4905 - mae: 1758.4905\n",
      "Epoch 224/300\n",
      "34/34 [==============================] - 0s 4ms/step - loss: 1855.5883 - mae: 1855.5883\n",
      "Epoch 225/300\n",
      "34/34 [==============================] - 0s 4ms/step - loss: 1774.9763 - mae: 1774.9763\n",
      "Epoch 226/300\n",
      "34/34 [==============================] - 0s 5ms/step - loss: 1718.8378 - mae: 1718.8378\n",
      "Epoch 227/300\n",
      "34/34 [==============================] - 0s 4ms/step - loss: 1782.2880 - mae: 1782.2880\n",
      "Epoch 228/300\n",
      "34/34 [==============================] - 0s 4ms/step - loss: 1684.2114 - mae: 1684.2114\n",
      "Epoch 229/300\n",
      "34/34 [==============================] - 0s 4ms/step - loss: 1889.2542 - mae: 1889.2542\n",
      "Epoch 230/300\n",
      "34/34 [==============================] - 0s 4ms/step - loss: 1898.8098 - mae: 1898.8098\n",
      "Epoch 231/300\n",
      "34/34 [==============================] - 0s 4ms/step - loss: 1782.6200 - mae: 1782.6200\n",
      "Epoch 232/300\n",
      "34/34 [==============================] - 0s 4ms/step - loss: 1768.8146 - mae: 1768.8146\n",
      "Epoch 233/300\n",
      "34/34 [==============================] - 0s 4ms/step - loss: 1768.3401 - mae: 1768.3401\n",
      "Epoch 234/300\n",
      "34/34 [==============================] - 0s 4ms/step - loss: 1721.3649 - mae: 1721.3649\n",
      "Epoch 235/300\n",
      "34/34 [==============================] - 0s 4ms/step - loss: 1760.4233 - mae: 1760.4233\n",
      "Epoch 236/300\n",
      "34/34 [==============================] - 0s 4ms/step - loss: 1832.9415 - mae: 1832.9415\n",
      "Epoch 237/300\n",
      "34/34 [==============================] - 0s 5ms/step - loss: 2017.0887 - mae: 2017.0887\n",
      "Epoch 238/300\n",
      "34/34 [==============================] - 0s 4ms/step - loss: 1866.6356 - mae: 1866.6356\n",
      "Epoch 239/300\n",
      "34/34 [==============================] - 0s 5ms/step - loss: 1785.5959 - mae: 1785.5959\n",
      "Epoch 240/300\n",
      "34/34 [==============================] - 0s 5ms/step - loss: 1769.6893 - mae: 1769.6893\n",
      "Epoch 241/300\n",
      "34/34 [==============================] - 0s 5ms/step - loss: 1708.3418 - mae: 1708.3418\n",
      "Epoch 242/300\n",
      "34/34 [==============================] - 0s 5ms/step - loss: 1947.2432 - mae: 1947.2432\n",
      "Epoch 243/300\n",
      "34/34 [==============================] - 0s 4ms/step - loss: 1848.0729 - mae: 1848.0729\n",
      "Epoch 244/300\n",
      "34/34 [==============================] - 0s 4ms/step - loss: 1868.7361 - mae: 1868.7361\n",
      "Epoch 245/300\n",
      "34/34 [==============================] - 0s 5ms/step - loss: 1761.4939 - mae: 1761.4939\n",
      "Epoch 246/300\n",
      "34/34 [==============================] - 0s 4ms/step - loss: 1756.7688 - mae: 1756.7688\n",
      "Epoch 247/300\n",
      "34/34 [==============================] - 0s 4ms/step - loss: 1852.7256 - mae: 1852.7256\n",
      "Epoch 248/300\n",
      "34/34 [==============================] - 0s 4ms/step - loss: 1881.4658 - mae: 1881.4658\n",
      "Epoch 249/300\n",
      "34/34 [==============================] - 0s 5ms/step - loss: 1821.3693 - mae: 1821.3693\n",
      "Epoch 250/300\n",
      "34/34 [==============================] - 0s 5ms/step - loss: 1830.8689 - mae: 1830.8689\n",
      "Epoch 251/300\n",
      "34/34 [==============================] - 0s 5ms/step - loss: 1739.7443 - mae: 1739.7443\n",
      "Epoch 252/300\n",
      "34/34 [==============================] - 0s 5ms/step - loss: 1805.2812 - mae: 1805.2812\n",
      "Epoch 253/300\n",
      "34/34 [==============================] - 0s 4ms/step - loss: 1767.8130 - mae: 1767.8130\n",
      "Epoch 254/300\n",
      "34/34 [==============================] - 0s 4ms/step - loss: 1881.3610 - mae: 1881.3610\n",
      "Epoch 255/300\n",
      "34/34 [==============================] - 0s 4ms/step - loss: 1791.5234 - mae: 1791.5234\n",
      "Epoch 256/300\n",
      "34/34 [==============================] - 0s 4ms/step - loss: 1658.7791 - mae: 1658.7791\n",
      "Epoch 257/300\n",
      "34/34 [==============================] - 0s 5ms/step - loss: 1717.4774 - mae: 1717.4774\n",
      "Epoch 258/300\n",
      "34/34 [==============================] - 0s 5ms/step - loss: 1863.8502 - mae: 1863.8502\n",
      "Epoch 259/300\n",
      "34/34 [==============================] - 0s 4ms/step - loss: 1769.0475 - mae: 1769.0475\n",
      "Epoch 260/300\n",
      "34/34 [==============================] - 0s 4ms/step - loss: 1832.0859 - mae: 1832.0859\n",
      "Epoch 261/300\n",
      "34/34 [==============================] - 0s 4ms/step - loss: 1732.1213 - mae: 1732.1213\n",
      "Epoch 262/300\n",
      "34/34 [==============================] - 0s 4ms/step - loss: 1814.6071 - mae: 1814.6071\n",
      "Epoch 263/300\n",
      "34/34 [==============================] - 0s 5ms/step - loss: 1828.3173 - mae: 1828.3173\n",
      "Epoch 264/300\n",
      "34/34 [==============================] - 0s 5ms/step - loss: 1684.1052 - mae: 1684.1052\n",
      "Epoch 265/300\n",
      "34/34 [==============================] - 0s 4ms/step - loss: 1710.4999 - mae: 1710.4999\n",
      "Epoch 266/300\n",
      "34/34 [==============================] - 0s 5ms/step - loss: 1752.3594 - mae: 1752.3594\n",
      "Epoch 267/300\n",
      "34/34 [==============================] - 0s 5ms/step - loss: 1726.9843 - mae: 1726.9843\n",
      "Epoch 268/300\n",
      "34/34 [==============================] - 0s 5ms/step - loss: 1721.8475 - mae: 1721.8475\n",
      "Epoch 269/300\n",
      "34/34 [==============================] - 0s 5ms/step - loss: 1726.4763 - mae: 1726.4763\n",
      "Epoch 270/300\n",
      "34/34 [==============================] - 0s 4ms/step - loss: 1662.9604 - mae: 1662.9604\n",
      "Epoch 271/300\n",
      "34/34 [==============================] - 0s 4ms/step - loss: 1689.7129 - mae: 1689.7129\n",
      "Epoch 272/300\n",
      "34/34 [==============================] - 0s 4ms/step - loss: 1844.2491 - mae: 1844.2491\n",
      "Epoch 273/300\n",
      "34/34 [==============================] - 0s 4ms/step - loss: 1754.5713 - mae: 1754.5713\n",
      "Epoch 274/300\n",
      "34/34 [==============================] - 0s 4ms/step - loss: 1763.9432 - mae: 1763.9432\n",
      "Epoch 275/300\n",
      "34/34 [==============================] - 0s 5ms/step - loss: 1827.7532 - mae: 1827.7532\n",
      "Epoch 276/300\n",
      "34/34 [==============================] - 0s 5ms/step - loss: 1669.6780 - mae: 1669.6780\n",
      "Epoch 277/300\n",
      "34/34 [==============================] - 0s 4ms/step - loss: 1697.2031 - mae: 1697.2031\n",
      "Epoch 278/300\n",
      "34/34 [==============================] - 0s 5ms/step - loss: 1684.2980 - mae: 1684.2980\n",
      "Epoch 279/300\n",
      "34/34 [==============================] - 0s 5ms/step - loss: 1801.5911 - mae: 1801.5911\n",
      "Epoch 280/300\n",
      "34/34 [==============================] - 0s 4ms/step - loss: 1700.8551 - mae: 1700.8551\n",
      "Epoch 281/300\n",
      "34/34 [==============================] - 0s 4ms/step - loss: 1668.0021 - mae: 1668.0021\n",
      "Epoch 282/300\n",
      "34/34 [==============================] - 0s 5ms/step - loss: 1723.0719 - mae: 1723.0719\n",
      "Epoch 283/300\n",
      "34/34 [==============================] - 0s 4ms/step - loss: 1863.6216 - mae: 1863.6216\n",
      "Epoch 284/300\n",
      "34/34 [==============================] - 0s 4ms/step - loss: 1718.9010 - mae: 1718.9010\n",
      "Epoch 285/300\n",
      "34/34 [==============================] - 0s 4ms/step - loss: 1760.2754 - mae: 1760.2754\n",
      "Epoch 286/300\n",
      "34/34 [==============================] - 0s 4ms/step - loss: 1692.3911 - mae: 1692.3911\n",
      "Epoch 287/300\n",
      "34/34 [==============================] - 0s 4ms/step - loss: 1715.4192 - mae: 1715.4192\n",
      "Epoch 288/300\n",
      "34/34 [==============================] - 0s 5ms/step - loss: 1684.9077 - mae: 1684.9077\n",
      "Epoch 289/300\n",
      "34/34 [==============================] - 0s 4ms/step - loss: 1679.3862 - mae: 1679.3862\n",
      "Epoch 290/300\n",
      "34/34 [==============================] - 0s 4ms/step - loss: 1730.5325 - mae: 1730.5325\n",
      "Epoch 291/300\n",
      "34/34 [==============================] - 0s 4ms/step - loss: 1727.6453 - mae: 1727.6453\n",
      "Epoch 292/300\n",
      "34/34 [==============================] - 0s 4ms/step - loss: 1662.6346 - mae: 1662.6346\n",
      "Epoch 293/300\n",
      "34/34 [==============================] - 0s 4ms/step - loss: 1796.3010 - mae: 1796.3010\n",
      "Epoch 294/300\n",
      "34/34 [==============================] - 0s 4ms/step - loss: 1633.7831 - mae: 1633.7831\n",
      "Epoch 295/300\n",
      "34/34 [==============================] - 0s 5ms/step - loss: 1677.3738 - mae: 1677.3738\n",
      "Epoch 296/300\n",
      "34/34 [==============================] - 0s 5ms/step - loss: 1751.0381 - mae: 1751.0381\n",
      "Epoch 297/300\n",
      "34/34 [==============================] - 0s 4ms/step - loss: 1745.8254 - mae: 1745.8254\n",
      "Epoch 298/300\n",
      "34/34 [==============================] - 0s 4ms/step - loss: 1782.5109 - mae: 1782.5109\n",
      "Epoch 299/300\n",
      "34/34 [==============================] - 0s 4ms/step - loss: 1670.4396 - mae: 1670.4396\n",
      "Epoch 300/300\n",
      "34/34 [==============================] - 0s 4ms/step - loss: 1630.8536 - mae: 1630.8536\n"
     ]
    },
    {
     "data": {
      "text/plain": [
       "<keras.callbacks.History at 0x7fdac73169d0>"
      ]
     },
     "execution_count": 311,
     "metadata": {},
     "output_type": "execute_result"
    }
   ],
   "source": [
    "insurance_model_5.fit(tf.expand_dims(X_train_normal,axis=1),y_train,epochs=300)"
   ]
  },
  {
   "cell_type": "code",
   "execution_count": 312,
   "metadata": {
    "colab": {
     "base_uri": "https://localhost:8080/"
    },
    "executionInfo": {
     "elapsed": 45,
     "status": "ok",
     "timestamp": 1668399994747,
     "user": {
      "displayName": "Mudit Kumar",
      "userId": "12518861077253144202"
     },
     "user_tz": -330
    },
    "id": "4147_J3t-4kN",
    "outputId": "5bdef500-1558-4331-86a2-ec21254f9172"
   },
   "outputs": [
    {
     "name": "stdout",
     "output_type": "stream",
     "text": [
      "9/9 [==============================] - 0s 4ms/step - loss: 1669.6604 - mae: 1669.6604\n"
     ]
    },
    {
     "data": {
      "text/plain": [
       "[1669.660400390625, 1669.660400390625]"
      ]
     },
     "execution_count": 312,
     "metadata": {},
     "output_type": "execute_result"
    }
   ],
   "source": [
    "insurance_model_5.evaluate(tf.expand_dims(X_test_normal,axis=1),y_test)"
   ]
  },
  {
   "cell_type": "code",
   "execution_count": 313,
   "metadata": {
    "colab": {
     "base_uri": "https://localhost:8080/"
    },
    "executionInfo": {
     "elapsed": 20,
     "status": "ok",
     "timestamp": 1668399994748,
     "user": {
      "displayName": "Mudit Kumar",
      "userId": "12518861077253144202"
     },
     "user_tz": -330
    },
    "id": "9h6aaPm9CKkq",
    "outputId": "404a987f-b71e-42f2-9aa7-b651a4def545"
   },
   "outputs": [
    {
     "name": "stdout",
     "output_type": "stream",
     "text": [
      "9/9 [==============================] - 0s 3ms/step\n"
     ]
    }
   ],
   "source": [
    "y_predict_model_5=insurance_model_5.predict(tf.expand_dims(X_test_normal,axis=1))"
   ]
  },
  {
   "cell_type": "code",
   "execution_count": 314,
   "metadata": {
    "colab": {
     "base_uri": "https://localhost:8080/"
    },
    "executionInfo": {
     "elapsed": 17,
     "status": "ok",
     "timestamp": 1668399994748,
     "user": {
      "displayName": "Mudit Kumar",
      "userId": "12518861077253144202"
     },
     "user_tz": -330
    },
    "id": "ZBEGA7vBCu0e",
    "outputId": "7b31a1fb-89cc-4ddb-f991-f846b8833734"
   },
   "outputs": [
    {
     "data": {
      "text/plain": [
       "TensorShape([268])"
      ]
     },
     "execution_count": 314,
     "metadata": {},
     "output_type": "execute_result"
    }
   ],
   "source": [
    "y_predict_model_5=tf.squeeze(y_predict_model_5)\n",
    "y_predict_model_5=tf.squeeze(y_predict_model_5)\n",
    "y_predict_model_5.shape"
   ]
  },
  {
   "cell_type": "markdown",
   "metadata": {
    "id": "6djVXUi2iOQ9"
   },
   "source": [
    "## Ques 4: Import the Boston pricing dataset from TensorFlow tf.keras.datasets and model it."
   ]
  },
  {
   "cell_type": "code",
   "execution_count": 329,
   "metadata": {
    "colab": {
     "base_uri": "https://localhost:8080/"
    },
    "executionInfo": {
     "elapsed": 2,
     "status": "ok",
     "timestamp": 1668400222655,
     "user": {
      "displayName": "Mudit Kumar",
      "userId": "12518861077253144202"
     },
     "user_tz": -330
    },
    "id": "ijtfddYtdREm",
    "outputId": "7d05088e-b53e-4b4a-9d5f-69fbdc58e2db"
   },
   "outputs": [
    {
     "name": "stderr",
     "output_type": "stream",
     "text": [
      "/usr/local/lib/python3.7/dist-packages/ipykernel_launcher.py:3: VisibleDeprecationWarning: Creating an ndarray from ragged nested sequences (which is a list-or-tuple of lists-or-tuples-or ndarrays with different lengths or shapes) is deprecated. If you meant to do this, you must specify 'dtype=object' when creating the ndarray.\n",
      "  This is separate from the ipykernel package so we can avoid doing imports until\n"
     ]
    }
   ],
   "source": [
    "house=tf.keras.datasets.boston_housing\n",
    "house_data=house.load_data()\n",
    "house_data_arr=np.array(house_data)"
   ]
  },
  {
   "cell_type": "code",
   "execution_count": 330,
   "metadata": {
    "executionInfo": {
     "elapsed": 11,
     "status": "ok",
     "timestamp": 1668400223272,
     "user": {
      "displayName": "Mudit Kumar",
      "userId": "12518861077253144202"
     },
     "user_tz": -330
    },
    "id": "F-hQGzIiM29u"
   },
   "outputs": [],
   "source": [
    "X_train=house_data_arr[0][0]\n",
    "y_train=house_data_arr[0][1]"
   ]
  },
  {
   "cell_type": "code",
   "execution_count": 331,
   "metadata": {
    "executionInfo": {
     "elapsed": 11,
     "status": "ok",
     "timestamp": 1668400223273,
     "user": {
      "displayName": "Mudit Kumar",
      "userId": "12518861077253144202"
     },
     "user_tz": -330
    },
    "id": "T2T7q9yBNLQQ"
   },
   "outputs": [],
   "source": [
    "X_test=house_data_arr[1][0]\n",
    "y_test=house_data_arr[1][1]"
   ]
  },
  {
   "cell_type": "code",
   "execution_count": 332,
   "metadata": {
    "colab": {
     "base_uri": "https://localhost:8080/"
    },
    "executionInfo": {
     "elapsed": 10,
     "status": "ok",
     "timestamp": 1668400223274,
     "user": {
      "displayName": "Mudit Kumar",
      "userId": "12518861077253144202"
     },
     "user_tz": -330
    },
    "id": "11gnGnQEQ0Bf",
    "outputId": "750c3c7f-b3e3-4b5c-9625-5df84993226d"
   },
   "outputs": [
    {
     "data": {
      "text/plain": [
       "(404, 404, 102, 102)"
      ]
     },
     "execution_count": 332,
     "metadata": {},
     "output_type": "execute_result"
    }
   ],
   "source": [
    "len(X_train),len(y_train),len(X_test),len(y_test)"
   ]
  },
  {
   "cell_type": "code",
   "execution_count": 333,
   "metadata": {
    "executionInfo": {
     "elapsed": 5,
     "status": "ok",
     "timestamp": 1668400226014,
     "user": {
      "displayName": "Mudit Kumar",
      "userId": "12518861077253144202"
     },
     "user_tz": -330
    },
    "id": "Yx5MQKzDRUHN"
   },
   "outputs": [],
   "source": [
    "tf.random.set_seed(42)\n",
    "house_model=tf.keras.Sequential([\n",
    "    tf.keras.layers.Dense(100,activation=\"relu\"),\n",
    "    tf.keras.layers.Dense(100,activation=\"relu\"),\n",
    "    tf.keras.layers.Dense(100,activation=\"relu\"),\n",
    "    tf.keras.layers.Dense(1)\n",
    "\n",
    "])"
   ]
  },
  {
   "cell_type": "code",
   "execution_count": 334,
   "metadata": {
    "executionInfo": {
     "elapsed": 5,
     "status": "ok",
     "timestamp": 1668400226015,
     "user": {
      "displayName": "Mudit Kumar",
      "userId": "12518861077253144202"
     },
     "user_tz": -330
    },
    "id": "HSVxrReSS_vb"
   },
   "outputs": [],
   "source": [
    "house_model.compile(\n",
    "    loss=tf.keras.losses.MAE,\n",
    "    optimizer=tf.keras.optimizers.Adam(learning_rate=0.1),\n",
    "    metrics=[\"mae\"]\n",
    ")"
   ]
  },
  {
   "cell_type": "code",
   "execution_count": 335,
   "metadata": {
    "colab": {
     "base_uri": "https://localhost:8080/"
    },
    "executionInfo": {
     "elapsed": 23758,
     "status": "ok",
     "timestamp": 1668400249768,
     "user": {
      "displayName": "Mudit Kumar",
      "userId": "12518861077253144202"
     },
     "user_tz": -330
    },
    "id": "jHFQu2f7T5H7",
    "outputId": "ff46b069-3e74-4397-dca6-b6d29eee6094"
   },
   "outputs": [
    {
     "name": "stdout",
     "output_type": "stream",
     "text": [
      "Epoch 1/300\n",
      "13/13 [==============================] - 1s 5ms/step - loss: 813.8160 - mae: 813.8160\n",
      "Epoch 2/300\n",
      "13/13 [==============================] - 0s 4ms/step - loss: 9.1594 - mae: 9.1594\n",
      "Epoch 3/300\n",
      "13/13 [==============================] - 0s 4ms/step - loss: 7.0378 - mae: 7.0378\n",
      "Epoch 4/300\n",
      "13/13 [==============================] - 0s 4ms/step - loss: 6.5401 - mae: 6.5401\n",
      "Epoch 5/300\n",
      "13/13 [==============================] - 0s 4ms/step - loss: 6.5892 - mae: 6.5892\n",
      "Epoch 6/300\n",
      "13/13 [==============================] - 0s 4ms/step - loss: 6.5443 - mae: 6.5443\n",
      "Epoch 7/300\n",
      "13/13 [==============================] - 0s 4ms/step - loss: 6.7348 - mae: 6.7348\n",
      "Epoch 8/300\n",
      "13/13 [==============================] - 0s 5ms/step - loss: 6.8265 - mae: 6.8265\n",
      "Epoch 9/300\n",
      "13/13 [==============================] - 0s 4ms/step - loss: 7.0433 - mae: 7.0433\n",
      "Epoch 10/300\n",
      "13/13 [==============================] - 0s 4ms/step - loss: 6.7210 - mae: 6.7210\n",
      "Epoch 11/300\n",
      "13/13 [==============================] - 0s 4ms/step - loss: 6.6054 - mae: 6.6054\n",
      "Epoch 12/300\n",
      "13/13 [==============================] - 0s 4ms/step - loss: 6.5899 - mae: 6.5899\n",
      "Epoch 13/300\n",
      "13/13 [==============================] - 0s 5ms/step - loss: 6.5704 - mae: 6.5704\n",
      "Epoch 14/300\n",
      "13/13 [==============================] - 0s 4ms/step - loss: 6.5963 - mae: 6.5963\n",
      "Epoch 15/300\n",
      "13/13 [==============================] - 0s 4ms/step - loss: 6.5922 - mae: 6.5922\n",
      "Epoch 16/300\n",
      "13/13 [==============================] - 0s 4ms/step - loss: 6.6221 - mae: 6.6221\n",
      "Epoch 17/300\n",
      "13/13 [==============================] - 0s 5ms/step - loss: 6.5849 - mae: 6.5849\n",
      "Epoch 18/300\n",
      "13/13 [==============================] - 0s 4ms/step - loss: 6.6394 - mae: 6.6394\n",
      "Epoch 19/300\n",
      "13/13 [==============================] - 0s 4ms/step - loss: 6.5529 - mae: 6.5529\n",
      "Epoch 20/300\n",
      "13/13 [==============================] - 0s 4ms/step - loss: 6.5573 - mae: 6.5573\n",
      "Epoch 21/300\n",
      "13/13 [==============================] - 0s 4ms/step - loss: 6.6304 - mae: 6.6304\n",
      "Epoch 22/300\n",
      "13/13 [==============================] - 0s 5ms/step - loss: 6.6896 - mae: 6.6896\n",
      "Epoch 23/300\n",
      "13/13 [==============================] - 0s 4ms/step - loss: 7.1110 - mae: 7.1110\n",
      "Epoch 24/300\n",
      "13/13 [==============================] - 0s 5ms/step - loss: 6.8725 - mae: 6.8725\n",
      "Epoch 25/300\n",
      "13/13 [==============================] - 0s 4ms/step - loss: 6.5870 - mae: 6.5870\n",
      "Epoch 26/300\n",
      "13/13 [==============================] - 0s 4ms/step - loss: 6.6173 - mae: 6.6173\n",
      "Epoch 27/300\n",
      "13/13 [==============================] - 0s 4ms/step - loss: 6.5459 - mae: 6.5459\n",
      "Epoch 28/300\n",
      "13/13 [==============================] - 0s 4ms/step - loss: 6.5540 - mae: 6.5540\n",
      "Epoch 29/300\n",
      "13/13 [==============================] - 0s 4ms/step - loss: 6.9479 - mae: 6.9479\n",
      "Epoch 30/300\n",
      "13/13 [==============================] - 0s 4ms/step - loss: 6.6460 - mae: 6.6460\n",
      "Epoch 31/300\n",
      "13/13 [==============================] - 0s 4ms/step - loss: 6.5551 - mae: 6.5551\n",
      "Epoch 32/300\n",
      "13/13 [==============================] - 0s 4ms/step - loss: 6.5623 - mae: 6.5623\n",
      "Epoch 33/300\n",
      "13/13 [==============================] - 0s 4ms/step - loss: 6.5538 - mae: 6.5538\n",
      "Epoch 34/300\n",
      "13/13 [==============================] - 0s 5ms/step - loss: 6.5589 - mae: 6.5589\n",
      "Epoch 35/300\n",
      "13/13 [==============================] - 0s 4ms/step - loss: 6.5793 - mae: 6.5793\n",
      "Epoch 36/300\n",
      "13/13 [==============================] - 0s 4ms/step - loss: 6.6511 - mae: 6.6511\n",
      "Epoch 37/300\n",
      "13/13 [==============================] - 0s 4ms/step - loss: 6.5981 - mae: 6.5981\n",
      "Epoch 38/300\n",
      "13/13 [==============================] - 0s 4ms/step - loss: 6.5493 - mae: 6.5493\n",
      "Epoch 39/300\n",
      "13/13 [==============================] - 0s 4ms/step - loss: 6.5774 - mae: 6.5774\n",
      "Epoch 40/300\n",
      "13/13 [==============================] - 0s 4ms/step - loss: 6.6215 - mae: 6.6215\n",
      "Epoch 41/300\n",
      "13/13 [==============================] - 0s 4ms/step - loss: 6.7574 - mae: 6.7574\n",
      "Epoch 42/300\n",
      "13/13 [==============================] - 0s 4ms/step - loss: 6.6195 - mae: 6.6195\n",
      "Epoch 43/300\n",
      "13/13 [==============================] - 0s 4ms/step - loss: 6.6450 - mae: 6.6450\n",
      "Epoch 44/300\n",
      "13/13 [==============================] - 0s 4ms/step - loss: 6.5122 - mae: 6.5122\n",
      "Epoch 45/300\n",
      "13/13 [==============================] - 0s 4ms/step - loss: 6.5560 - mae: 6.5560\n",
      "Epoch 46/300\n",
      "13/13 [==============================] - 0s 4ms/step - loss: 6.5407 - mae: 6.5407\n",
      "Epoch 47/300\n",
      "13/13 [==============================] - 0s 4ms/step - loss: 6.5228 - mae: 6.5228\n",
      "Epoch 48/300\n",
      "13/13 [==============================] - 0s 5ms/step - loss: 6.5897 - mae: 6.5897\n",
      "Epoch 49/300\n",
      "13/13 [==============================] - 0s 4ms/step - loss: 6.5444 - mae: 6.5444\n",
      "Epoch 50/300\n",
      "13/13 [==============================] - 0s 4ms/step - loss: 6.6207 - mae: 6.6207\n",
      "Epoch 51/300\n",
      "13/13 [==============================] - 0s 4ms/step - loss: 6.5818 - mae: 6.5818\n",
      "Epoch 52/300\n",
      "13/13 [==============================] - 0s 4ms/step - loss: 6.7848 - mae: 6.7848\n",
      "Epoch 53/300\n",
      "13/13 [==============================] - 0s 4ms/step - loss: 6.5860 - mae: 6.5860\n",
      "Epoch 54/300\n",
      "13/13 [==============================] - 0s 4ms/step - loss: 6.5630 - mae: 6.5630\n",
      "Epoch 55/300\n",
      "13/13 [==============================] - 0s 4ms/step - loss: 6.5765 - mae: 6.5765\n",
      "Epoch 56/300\n",
      "13/13 [==============================] - 0s 4ms/step - loss: 6.5932 - mae: 6.5932\n",
      "Epoch 57/300\n",
      "13/13 [==============================] - 0s 5ms/step - loss: 6.6021 - mae: 6.6021\n",
      "Epoch 58/300\n",
      "13/13 [==============================] - 0s 4ms/step - loss: 6.5952 - mae: 6.5952\n",
      "Epoch 59/300\n",
      "13/13 [==============================] - 0s 4ms/step - loss: 6.5581 - mae: 6.5581\n",
      "Epoch 60/300\n",
      "13/13 [==============================] - 0s 4ms/step - loss: 6.7011 - mae: 6.7011\n",
      "Epoch 61/300\n",
      "13/13 [==============================] - 0s 5ms/step - loss: 6.6230 - mae: 6.6230\n",
      "Epoch 62/300\n",
      "13/13 [==============================] - 0s 5ms/step - loss: 6.5952 - mae: 6.5952\n",
      "Epoch 63/300\n",
      "13/13 [==============================] - 0s 4ms/step - loss: 6.5622 - mae: 6.5622\n",
      "Epoch 64/300\n",
      "13/13 [==============================] - 0s 4ms/step - loss: 6.5307 - mae: 6.5307\n",
      "Epoch 65/300\n",
      "13/13 [==============================] - 0s 4ms/step - loss: 6.5585 - mae: 6.5585\n",
      "Epoch 66/300\n",
      "13/13 [==============================] - 0s 4ms/step - loss: 6.5655 - mae: 6.5655\n",
      "Epoch 67/300\n",
      "13/13 [==============================] - 0s 4ms/step - loss: 6.5358 - mae: 6.5358\n",
      "Epoch 68/300\n",
      "13/13 [==============================] - 0s 4ms/step - loss: 6.5881 - mae: 6.5881\n",
      "Epoch 69/300\n",
      "13/13 [==============================] - 0s 4ms/step - loss: 6.5175 - mae: 6.5175\n",
      "Epoch 70/300\n",
      "13/13 [==============================] - 0s 4ms/step - loss: 6.5647 - mae: 6.5647\n",
      "Epoch 71/300\n",
      "13/13 [==============================] - 0s 4ms/step - loss: 6.5418 - mae: 6.5418\n",
      "Epoch 72/300\n",
      "13/13 [==============================] - 0s 4ms/step - loss: 6.6754 - mae: 6.6754\n",
      "Epoch 73/300\n",
      "13/13 [==============================] - 0s 5ms/step - loss: 6.5494 - mae: 6.5494\n",
      "Epoch 74/300\n",
      "13/13 [==============================] - 0s 4ms/step - loss: 6.5380 - mae: 6.5380\n",
      "Epoch 75/300\n",
      "13/13 [==============================] - 0s 4ms/step - loss: 6.5182 - mae: 6.5182\n",
      "Epoch 76/300\n",
      "13/13 [==============================] - 0s 4ms/step - loss: 6.5515 - mae: 6.5515\n",
      "Epoch 77/300\n",
      "13/13 [==============================] - 0s 4ms/step - loss: 6.6561 - mae: 6.6561\n",
      "Epoch 78/300\n",
      "13/13 [==============================] - 0s 4ms/step - loss: 6.6471 - mae: 6.6471\n",
      "Epoch 79/300\n",
      "13/13 [==============================] - 0s 4ms/step - loss: 6.6265 - mae: 6.6265\n",
      "Epoch 80/300\n",
      "13/13 [==============================] - 0s 4ms/step - loss: 6.5908 - mae: 6.5908\n",
      "Epoch 81/300\n",
      "13/13 [==============================] - 0s 4ms/step - loss: 6.5779 - mae: 6.5779\n",
      "Epoch 82/300\n",
      "13/13 [==============================] - 0s 4ms/step - loss: 6.5329 - mae: 6.5329\n",
      "Epoch 83/300\n",
      "13/13 [==============================] - 0s 4ms/step - loss: 6.6306 - mae: 6.6306\n",
      "Epoch 84/300\n",
      "13/13 [==============================] - 0s 4ms/step - loss: 6.5407 - mae: 6.5407\n",
      "Epoch 85/300\n",
      "13/13 [==============================] - 0s 4ms/step - loss: 6.5226 - mae: 6.5226\n",
      "Epoch 86/300\n",
      "13/13 [==============================] - 0s 4ms/step - loss: 6.5669 - mae: 6.5669\n",
      "Epoch 87/300\n",
      "13/13 [==============================] - 0s 4ms/step - loss: 6.5540 - mae: 6.5540\n",
      "Epoch 88/300\n",
      "13/13 [==============================] - 0s 4ms/step - loss: 6.6242 - mae: 6.6242\n",
      "Epoch 89/300\n",
      "13/13 [==============================] - 0s 5ms/step - loss: 6.7029 - mae: 6.7029\n",
      "Epoch 90/300\n",
      "13/13 [==============================] - 0s 4ms/step - loss: 6.5561 - mae: 6.5561\n",
      "Epoch 91/300\n",
      "13/13 [==============================] - 0s 4ms/step - loss: 6.5883 - mae: 6.5883\n",
      "Epoch 92/300\n",
      "13/13 [==============================] - 0s 4ms/step - loss: 6.6376 - mae: 6.6376\n",
      "Epoch 93/300\n",
      "13/13 [==============================] - 0s 4ms/step - loss: 6.7516 - mae: 6.7516\n",
      "Epoch 94/300\n",
      "13/13 [==============================] - 0s 4ms/step - loss: 6.8074 - mae: 6.8074\n",
      "Epoch 95/300\n",
      "13/13 [==============================] - 0s 4ms/step - loss: 6.8310 - mae: 6.8310\n",
      "Epoch 96/300\n",
      "13/13 [==============================] - 0s 4ms/step - loss: 6.8624 - mae: 6.8624\n",
      "Epoch 97/300\n",
      "13/13 [==============================] - 0s 4ms/step - loss: 6.6379 - mae: 6.6379\n",
      "Epoch 98/300\n",
      "13/13 [==============================] - 0s 4ms/step - loss: 6.5454 - mae: 6.5454\n",
      "Epoch 99/300\n",
      "13/13 [==============================] - 0s 4ms/step - loss: 6.5399 - mae: 6.5399\n",
      "Epoch 100/300\n",
      "13/13 [==============================] - 0s 4ms/step - loss: 6.5647 - mae: 6.5647\n",
      "Epoch 101/300\n",
      "13/13 [==============================] - 0s 4ms/step - loss: 6.5515 - mae: 6.5515\n",
      "Epoch 102/300\n",
      "13/13 [==============================] - 0s 5ms/step - loss: 6.5715 - mae: 6.5715\n",
      "Epoch 103/300\n",
      "13/13 [==============================] - 0s 4ms/step - loss: 6.6769 - mae: 6.6769\n",
      "Epoch 104/300\n",
      "13/13 [==============================] - 0s 4ms/step - loss: 6.5320 - mae: 6.5320\n",
      "Epoch 105/300\n",
      "13/13 [==============================] - 0s 5ms/step - loss: 6.5219 - mae: 6.5219\n",
      "Epoch 106/300\n",
      "13/13 [==============================] - 0s 4ms/step - loss: 6.5885 - mae: 6.5885\n",
      "Epoch 107/300\n",
      "13/13 [==============================] - 0s 4ms/step - loss: 6.5311 - mae: 6.5311\n",
      "Epoch 108/300\n",
      "13/13 [==============================] - 0s 4ms/step - loss: 6.5536 - mae: 6.5536\n",
      "Epoch 109/300\n",
      "13/13 [==============================] - 0s 4ms/step - loss: 6.6196 - mae: 6.6196\n",
      "Epoch 110/300\n",
      "13/13 [==============================] - 0s 4ms/step - loss: 6.6099 - mae: 6.6099\n",
      "Epoch 111/300\n",
      "13/13 [==============================] - 0s 5ms/step - loss: 6.5820 - mae: 6.5820\n",
      "Epoch 112/300\n",
      "13/13 [==============================] - 0s 4ms/step - loss: 6.5259 - mae: 6.5259\n",
      "Epoch 113/300\n",
      "13/13 [==============================] - 0s 4ms/step - loss: 6.5057 - mae: 6.5057\n",
      "Epoch 114/300\n",
      "13/13 [==============================] - 0s 4ms/step - loss: 6.6075 - mae: 6.6075\n",
      "Epoch 115/300\n",
      "13/13 [==============================] - 0s 4ms/step - loss: 6.5449 - mae: 6.5449\n",
      "Epoch 116/300\n",
      "13/13 [==============================] - 0s 5ms/step - loss: 6.5505 - mae: 6.5505\n",
      "Epoch 117/300\n",
      "13/13 [==============================] - 0s 4ms/step - loss: 6.5277 - mae: 6.5277\n",
      "Epoch 118/300\n",
      "13/13 [==============================] - 0s 4ms/step - loss: 6.5413 - mae: 6.5413\n",
      "Epoch 119/300\n",
      "13/13 [==============================] - 0s 4ms/step - loss: 6.5317 - mae: 6.5317\n",
      "Epoch 120/300\n",
      "13/13 [==============================] - 0s 4ms/step - loss: 6.5676 - mae: 6.5676\n",
      "Epoch 121/300\n",
      "13/13 [==============================] - 0s 5ms/step - loss: 6.5545 - mae: 6.5545\n",
      "Epoch 122/300\n",
      "13/13 [==============================] - 0s 4ms/step - loss: 6.5524 - mae: 6.5524\n",
      "Epoch 123/300\n",
      "13/13 [==============================] - 0s 5ms/step - loss: 6.5280 - mae: 6.5280\n",
      "Epoch 124/300\n",
      "13/13 [==============================] - 0s 5ms/step - loss: 6.5348 - mae: 6.5348\n",
      "Epoch 125/300\n",
      "13/13 [==============================] - 0s 5ms/step - loss: 6.5725 - mae: 6.5725\n",
      "Epoch 126/300\n",
      "13/13 [==============================] - 0s 5ms/step - loss: 6.5447 - mae: 6.5447\n",
      "Epoch 127/300\n",
      "13/13 [==============================] - 0s 5ms/step - loss: 6.6376 - mae: 6.6376\n",
      "Epoch 128/300\n",
      "13/13 [==============================] - 0s 4ms/step - loss: 6.5936 - mae: 6.5936\n",
      "Epoch 129/300\n",
      "13/13 [==============================] - 0s 4ms/step - loss: 6.5989 - mae: 6.5989\n",
      "Epoch 130/300\n",
      "13/13 [==============================] - 0s 4ms/step - loss: 6.6686 - mae: 6.6686\n",
      "Epoch 131/300\n",
      "13/13 [==============================] - 0s 4ms/step - loss: 6.5930 - mae: 6.5930\n",
      "Epoch 132/300\n",
      "13/13 [==============================] - 0s 4ms/step - loss: 6.5195 - mae: 6.5195\n",
      "Epoch 133/300\n",
      "13/13 [==============================] - 0s 4ms/step - loss: 6.6080 - mae: 6.6080\n",
      "Epoch 134/300\n",
      "13/13 [==============================] - 0s 4ms/step - loss: 6.5875 - mae: 6.5875\n",
      "Epoch 135/300\n",
      "13/13 [==============================] - 0s 5ms/step - loss: 6.6123 - mae: 6.6123\n",
      "Epoch 136/300\n",
      "13/13 [==============================] - 0s 4ms/step - loss: 6.5798 - mae: 6.5798\n",
      "Epoch 137/300\n",
      "13/13 [==============================] - 0s 4ms/step - loss: 6.6312 - mae: 6.6312\n",
      "Epoch 138/300\n",
      "13/13 [==============================] - 0s 4ms/step - loss: 6.6229 - mae: 6.6229\n",
      "Epoch 139/300\n",
      "13/13 [==============================] - 0s 4ms/step - loss: 6.6590 - mae: 6.6590\n",
      "Epoch 140/300\n",
      "13/13 [==============================] - 0s 4ms/step - loss: 6.5194 - mae: 6.5194\n",
      "Epoch 141/300\n",
      "13/13 [==============================] - 0s 4ms/step - loss: 6.5551 - mae: 6.5551\n",
      "Epoch 142/300\n",
      "13/13 [==============================] - 0s 4ms/step - loss: 6.5497 - mae: 6.5497\n",
      "Epoch 143/300\n",
      "13/13 [==============================] - 0s 5ms/step - loss: 6.5350 - mae: 6.5350\n",
      "Epoch 144/300\n",
      "13/13 [==============================] - 0s 4ms/step - loss: 6.5797 - mae: 6.5797\n",
      "Epoch 145/300\n",
      "13/13 [==============================] - 0s 4ms/step - loss: 6.5358 - mae: 6.5358\n",
      "Epoch 146/300\n",
      "13/13 [==============================] - 0s 4ms/step - loss: 6.5291 - mae: 6.5291\n",
      "Epoch 147/300\n",
      "13/13 [==============================] - 0s 4ms/step - loss: 6.5269 - mae: 6.5269\n",
      "Epoch 148/300\n",
      "13/13 [==============================] - 0s 5ms/step - loss: 6.5868 - mae: 6.5868\n",
      "Epoch 149/300\n",
      "13/13 [==============================] - 0s 4ms/step - loss: 6.5280 - mae: 6.5280\n",
      "Epoch 150/300\n",
      "13/13 [==============================] - 0s 4ms/step - loss: 6.5503 - mae: 6.5503\n",
      "Epoch 151/300\n",
      "13/13 [==============================] - 0s 5ms/step - loss: 6.5361 - mae: 6.5361\n",
      "Epoch 152/300\n",
      "13/13 [==============================] - 0s 5ms/step - loss: 6.5229 - mae: 6.5229\n",
      "Epoch 153/300\n",
      "13/13 [==============================] - 0s 4ms/step - loss: 6.5186 - mae: 6.5186\n",
      "Epoch 154/300\n",
      "13/13 [==============================] - 0s 4ms/step - loss: 6.5331 - mae: 6.5331\n",
      "Epoch 155/300\n",
      "13/13 [==============================] - 0s 5ms/step - loss: 6.5569 - mae: 6.5569\n",
      "Epoch 156/300\n",
      "13/13 [==============================] - 0s 4ms/step - loss: 6.5611 - mae: 6.5611\n",
      "Epoch 157/300\n",
      "13/13 [==============================] - 0s 4ms/step - loss: 6.5798 - mae: 6.5798\n",
      "Epoch 158/300\n",
      "13/13 [==============================] - 0s 4ms/step - loss: 6.5397 - mae: 6.5397\n",
      "Epoch 159/300\n",
      "13/13 [==============================] - 0s 4ms/step - loss: 6.5545 - mae: 6.5545\n",
      "Epoch 160/300\n",
      "13/13 [==============================] - 0s 4ms/step - loss: 6.5491 - mae: 6.5491\n",
      "Epoch 161/300\n",
      "13/13 [==============================] - 0s 4ms/step - loss: 6.7122 - mae: 6.7122\n",
      "Epoch 162/300\n",
      "13/13 [==============================] - 0s 4ms/step - loss: 6.6587 - mae: 6.6587\n",
      "Epoch 163/300\n",
      "13/13 [==============================] - 0s 5ms/step - loss: 6.6827 - mae: 6.6827\n",
      "Epoch 164/300\n",
      "13/13 [==============================] - 0s 4ms/step - loss: 6.5277 - mae: 6.5277\n",
      "Epoch 165/300\n",
      "13/13 [==============================] - 0s 5ms/step - loss: 6.5325 - mae: 6.5325\n",
      "Epoch 166/300\n",
      "13/13 [==============================] - 0s 6ms/step - loss: 6.6605 - mae: 6.6605\n",
      "Epoch 167/300\n",
      "13/13 [==============================] - 0s 4ms/step - loss: 6.5319 - mae: 6.5319\n",
      "Epoch 168/300\n",
      "13/13 [==============================] - 0s 4ms/step - loss: 6.5585 - mae: 6.5585\n",
      "Epoch 169/300\n",
      "13/13 [==============================] - 0s 4ms/step - loss: 6.5843 - mae: 6.5843\n",
      "Epoch 170/300\n",
      "13/13 [==============================] - 0s 4ms/step - loss: 6.5926 - mae: 6.5926\n",
      "Epoch 171/300\n",
      "13/13 [==============================] - 0s 4ms/step - loss: 6.5496 - mae: 6.5496\n",
      "Epoch 172/300\n",
      "13/13 [==============================] - 0s 4ms/step - loss: 6.5040 - mae: 6.5040\n",
      "Epoch 173/300\n",
      "13/13 [==============================] - 0s 4ms/step - loss: 6.6288 - mae: 6.6288\n",
      "Epoch 174/300\n",
      "13/13 [==============================] - 0s 4ms/step - loss: 6.5435 - mae: 6.5435\n",
      "Epoch 175/300\n",
      "13/13 [==============================] - 0s 4ms/step - loss: 6.5354 - mae: 6.5354\n",
      "Epoch 176/300\n",
      "13/13 [==============================] - 0s 4ms/step - loss: 6.5929 - mae: 6.5929\n",
      "Epoch 177/300\n",
      "13/13 [==============================] - 0s 5ms/step - loss: 6.6333 - mae: 6.6333\n",
      "Epoch 178/300\n",
      "13/13 [==============================] - 0s 4ms/step - loss: 6.5401 - mae: 6.5401\n",
      "Epoch 179/300\n",
      "13/13 [==============================] - 0s 6ms/step - loss: 6.5508 - mae: 6.5508\n",
      "Epoch 180/300\n",
      "13/13 [==============================] - 0s 4ms/step - loss: 6.5969 - mae: 6.5969\n",
      "Epoch 181/300\n",
      "13/13 [==============================] - 0s 4ms/step - loss: 6.5422 - mae: 6.5422\n",
      "Epoch 182/300\n",
      "13/13 [==============================] - 0s 4ms/step - loss: 6.6097 - mae: 6.6097\n",
      "Epoch 183/300\n",
      "13/13 [==============================] - 0s 4ms/step - loss: 6.5841 - mae: 6.5841\n",
      "Epoch 184/300\n",
      "13/13 [==============================] - 0s 5ms/step - loss: 6.5321 - mae: 6.5321\n",
      "Epoch 185/300\n",
      "13/13 [==============================] - 0s 4ms/step - loss: 6.6375 - mae: 6.6375\n",
      "Epoch 186/300\n",
      "13/13 [==============================] - 0s 4ms/step - loss: 6.5950 - mae: 6.5950\n",
      "Epoch 187/300\n",
      "13/13 [==============================] - 0s 4ms/step - loss: 6.5595 - mae: 6.5595\n",
      "Epoch 188/300\n",
      "13/13 [==============================] - 0s 4ms/step - loss: 6.6442 - mae: 6.6442\n",
      "Epoch 189/300\n",
      "13/13 [==============================] - 0s 4ms/step - loss: 6.7127 - mae: 6.7127\n",
      "Epoch 190/300\n",
      "13/13 [==============================] - 0s 4ms/step - loss: 6.6180 - mae: 6.6180\n",
      "Epoch 191/300\n",
      "13/13 [==============================] - 0s 4ms/step - loss: 6.5752 - mae: 6.5752\n",
      "Epoch 192/300\n",
      "13/13 [==============================] - 0s 4ms/step - loss: 6.5900 - mae: 6.5900\n",
      "Epoch 193/300\n",
      "13/13 [==============================] - 0s 4ms/step - loss: 6.5433 - mae: 6.5433\n",
      "Epoch 194/300\n",
      "13/13 [==============================] - 0s 4ms/step - loss: 6.5373 - mae: 6.5373\n",
      "Epoch 195/300\n",
      "13/13 [==============================] - 0s 4ms/step - loss: 6.5351 - mae: 6.5351\n",
      "Epoch 196/300\n",
      "13/13 [==============================] - 0s 4ms/step - loss: 6.5544 - mae: 6.5544\n",
      "Epoch 197/300\n",
      "13/13 [==============================] - 0s 4ms/step - loss: 6.5576 - mae: 6.5576\n",
      "Epoch 198/300\n",
      "13/13 [==============================] - 0s 6ms/step - loss: 6.5490 - mae: 6.5490\n",
      "Epoch 199/300\n",
      "13/13 [==============================] - 0s 4ms/step - loss: 6.5127 - mae: 6.5127\n",
      "Epoch 200/300\n",
      "13/13 [==============================] - 0s 4ms/step - loss: 6.5167 - mae: 6.5167\n",
      "Epoch 201/300\n",
      "13/13 [==============================] - 0s 5ms/step - loss: 6.5976 - mae: 6.5976\n",
      "Epoch 202/300\n",
      "13/13 [==============================] - 0s 4ms/step - loss: 6.5549 - mae: 6.5549\n",
      "Epoch 203/300\n",
      "13/13 [==============================] - 0s 5ms/step - loss: 6.5396 - mae: 6.5396\n",
      "Epoch 204/300\n",
      "13/13 [==============================] - 0s 5ms/step - loss: 6.5422 - mae: 6.5422\n",
      "Epoch 205/300\n",
      "13/13 [==============================] - 0s 4ms/step - loss: 6.5325 - mae: 6.5325\n",
      "Epoch 206/300\n",
      "13/13 [==============================] - 0s 5ms/step - loss: 6.7147 - mae: 6.7147\n",
      "Epoch 207/300\n",
      "13/13 [==============================] - 0s 5ms/step - loss: 6.5615 - mae: 6.5615\n",
      "Epoch 208/300\n",
      "13/13 [==============================] - 0s 4ms/step - loss: 6.6249 - mae: 6.6249\n",
      "Epoch 209/300\n",
      "13/13 [==============================] - 0s 4ms/step - loss: 6.5447 - mae: 6.5447\n",
      "Epoch 210/300\n",
      "13/13 [==============================] - 0s 4ms/step - loss: 6.5426 - mae: 6.5426\n",
      "Epoch 211/300\n",
      "13/13 [==============================] - 0s 5ms/step - loss: 6.5424 - mae: 6.5424\n",
      "Epoch 212/300\n",
      "13/13 [==============================] - 0s 5ms/step - loss: 6.5343 - mae: 6.5343\n",
      "Epoch 213/300\n",
      "13/13 [==============================] - 0s 4ms/step - loss: 6.5320 - mae: 6.5320\n",
      "Epoch 214/300\n",
      "13/13 [==============================] - 0s 5ms/step - loss: 6.5283 - mae: 6.5283\n",
      "Epoch 215/300\n",
      "13/13 [==============================] - 0s 4ms/step - loss: 6.5193 - mae: 6.5193\n",
      "Epoch 216/300\n",
      "13/13 [==============================] - 0s 4ms/step - loss: 6.5467 - mae: 6.5467\n",
      "Epoch 217/300\n",
      "13/13 [==============================] - 0s 4ms/step - loss: 6.5744 - mae: 6.5744\n",
      "Epoch 218/300\n",
      "13/13 [==============================] - 0s 5ms/step - loss: 6.6416 - mae: 6.6416\n",
      "Epoch 219/300\n",
      "13/13 [==============================] - 0s 4ms/step - loss: 6.5350 - mae: 6.5350\n",
      "Epoch 220/300\n",
      "13/13 [==============================] - 0s 4ms/step - loss: 6.5357 - mae: 6.5357\n",
      "Epoch 221/300\n",
      "13/13 [==============================] - 0s 4ms/step - loss: 6.5359 - mae: 6.5359\n",
      "Epoch 222/300\n",
      "13/13 [==============================] - 0s 4ms/step - loss: 6.5370 - mae: 6.5370\n",
      "Epoch 223/300\n",
      "13/13 [==============================] - 0s 4ms/step - loss: 6.5654 - mae: 6.5654\n",
      "Epoch 224/300\n",
      "13/13 [==============================] - 0s 4ms/step - loss: 6.5669 - mae: 6.5669\n",
      "Epoch 225/300\n",
      "13/13 [==============================] - 0s 5ms/step - loss: 6.5585 - mae: 6.5585\n",
      "Epoch 226/300\n",
      "13/13 [==============================] - 0s 5ms/step - loss: 6.5600 - mae: 6.5600\n",
      "Epoch 227/300\n",
      "13/13 [==============================] - 0s 6ms/step - loss: 6.5385 - mae: 6.5385\n",
      "Epoch 228/300\n",
      "13/13 [==============================] - 0s 6ms/step - loss: 6.6752 - mae: 6.6752\n",
      "Epoch 229/300\n",
      "13/13 [==============================] - 0s 5ms/step - loss: 6.6476 - mae: 6.6476\n",
      "Epoch 230/300\n",
      "13/13 [==============================] - 0s 5ms/step - loss: 6.6299 - mae: 6.6299\n",
      "Epoch 231/300\n",
      "13/13 [==============================] - 0s 5ms/step - loss: 6.5624 - mae: 6.5624\n",
      "Epoch 232/300\n",
      "13/13 [==============================] - 0s 5ms/step - loss: 6.5774 - mae: 6.5774\n",
      "Epoch 233/300\n",
      "13/13 [==============================] - 0s 4ms/step - loss: 6.5463 - mae: 6.5463\n",
      "Epoch 234/300\n",
      "13/13 [==============================] - 0s 4ms/step - loss: 6.5729 - mae: 6.5729\n",
      "Epoch 235/300\n",
      "13/13 [==============================] - 0s 4ms/step - loss: 6.6602 - mae: 6.6602\n",
      "Epoch 236/300\n",
      "13/13 [==============================] - 0s 5ms/step - loss: 6.5293 - mae: 6.5293\n",
      "Epoch 237/300\n",
      "13/13 [==============================] - 0s 4ms/step - loss: 6.5765 - mae: 6.5765\n",
      "Epoch 238/300\n",
      "13/13 [==============================] - 0s 4ms/step - loss: 6.5751 - mae: 6.5751\n",
      "Epoch 239/300\n",
      "13/13 [==============================] - 0s 4ms/step - loss: 6.5207 - mae: 6.5207\n",
      "Epoch 240/300\n",
      "13/13 [==============================] - 0s 8ms/step - loss: 6.5231 - mae: 6.5231\n",
      "Epoch 241/300\n",
      "13/13 [==============================] - 0s 8ms/step - loss: 6.6082 - mae: 6.6082\n",
      "Epoch 242/300\n",
      "13/13 [==============================] - 0s 11ms/step - loss: 6.5179 - mae: 6.5179\n",
      "Epoch 243/300\n",
      "13/13 [==============================] - 0s 10ms/step - loss: 6.6273 - mae: 6.6273\n",
      "Epoch 244/300\n",
      "13/13 [==============================] - 0s 9ms/step - loss: 6.5449 - mae: 6.5449\n",
      "Epoch 245/300\n",
      "13/13 [==============================] - 0s 8ms/step - loss: 6.5597 - mae: 6.5597\n",
      "Epoch 246/300\n",
      "13/13 [==============================] - 0s 10ms/step - loss: 6.6108 - mae: 6.6108\n",
      "Epoch 247/300\n",
      "13/13 [==============================] - 0s 11ms/step - loss: 6.6098 - mae: 6.6098\n",
      "Epoch 248/300\n",
      "13/13 [==============================] - 0s 11ms/step - loss: 6.6080 - mae: 6.6080\n",
      "Epoch 249/300\n",
      "13/13 [==============================] - 0s 8ms/step - loss: 6.5303 - mae: 6.5303\n",
      "Epoch 250/300\n",
      "13/13 [==============================] - 0s 7ms/step - loss: 6.5519 - mae: 6.5519\n",
      "Epoch 251/300\n",
      "13/13 [==============================] - 0s 11ms/step - loss: 6.5537 - mae: 6.5537\n",
      "Epoch 252/300\n",
      "13/13 [==============================] - 0s 5ms/step - loss: 6.5843 - mae: 6.5843\n",
      "Epoch 253/300\n",
      "13/13 [==============================] - 0s 4ms/step - loss: 6.6673 - mae: 6.6673\n",
      "Epoch 254/300\n",
      "13/13 [==============================] - 0s 4ms/step - loss: 6.6775 - mae: 6.6775\n",
      "Epoch 255/300\n",
      "13/13 [==============================] - 0s 9ms/step - loss: 6.5758 - mae: 6.5758\n",
      "Epoch 256/300\n",
      "13/13 [==============================] - 0s 7ms/step - loss: 6.5518 - mae: 6.5518\n",
      "Epoch 257/300\n",
      "13/13 [==============================] - 0s 8ms/step - loss: 6.5708 - mae: 6.5708\n",
      "Epoch 258/300\n",
      "13/13 [==============================] - 0s 9ms/step - loss: 6.6093 - mae: 6.6093\n",
      "Epoch 259/300\n",
      "13/13 [==============================] - 0s 9ms/step - loss: 6.5761 - mae: 6.5761\n",
      "Epoch 260/300\n",
      "13/13 [==============================] - 0s 7ms/step - loss: 6.5466 - mae: 6.5466\n",
      "Epoch 261/300\n",
      "13/13 [==============================] - 0s 5ms/step - loss: 6.5318 - mae: 6.5318\n",
      "Epoch 262/300\n",
      "13/13 [==============================] - 0s 4ms/step - loss: 6.6528 - mae: 6.6528\n",
      "Epoch 263/300\n",
      "13/13 [==============================] - 0s 5ms/step - loss: 6.5105 - mae: 6.5105\n",
      "Epoch 264/300\n",
      "13/13 [==============================] - 0s 9ms/step - loss: 6.5500 - mae: 6.5500\n",
      "Epoch 265/300\n",
      "13/13 [==============================] - 0s 9ms/step - loss: 6.5480 - mae: 6.5480\n",
      "Epoch 266/300\n",
      "13/13 [==============================] - 0s 8ms/step - loss: 6.5564 - mae: 6.5564\n",
      "Epoch 267/300\n",
      "13/13 [==============================] - 0s 12ms/step - loss: 6.5190 - mae: 6.5190\n",
      "Epoch 268/300\n",
      "13/13 [==============================] - 0s 8ms/step - loss: 6.5370 - mae: 6.5370\n",
      "Epoch 269/300\n",
      "13/13 [==============================] - 0s 5ms/step - loss: 6.5197 - mae: 6.5197\n",
      "Epoch 270/300\n",
      "13/13 [==============================] - 0s 5ms/step - loss: 6.5667 - mae: 6.5667\n",
      "Epoch 271/300\n",
      "13/13 [==============================] - 0s 9ms/step - loss: 6.5743 - mae: 6.5743\n",
      "Epoch 272/300\n",
      "13/13 [==============================] - 0s 7ms/step - loss: 6.5880 - mae: 6.5880\n",
      "Epoch 273/300\n",
      "13/13 [==============================] - 0s 11ms/step - loss: 6.5500 - mae: 6.5500\n",
      "Epoch 274/300\n",
      "13/13 [==============================] - 0s 8ms/step - loss: 6.5675 - mae: 6.5675\n",
      "Epoch 275/300\n",
      "13/13 [==============================] - 0s 7ms/step - loss: 6.5446 - mae: 6.5446\n",
      "Epoch 276/300\n",
      "13/13 [==============================] - 0s 8ms/step - loss: 6.5555 - mae: 6.5555\n",
      "Epoch 277/300\n",
      "13/13 [==============================] - 0s 5ms/step - loss: 6.5472 - mae: 6.5472\n",
      "Epoch 278/300\n",
      "13/13 [==============================] - 0s 4ms/step - loss: 6.5831 - mae: 6.5831\n",
      "Epoch 279/300\n",
      "13/13 [==============================] - 0s 6ms/step - loss: 6.5632 - mae: 6.5632\n",
      "Epoch 280/300\n",
      "13/13 [==============================] - 0s 7ms/step - loss: 6.5382 - mae: 6.5382\n",
      "Epoch 281/300\n",
      "13/13 [==============================] - 0s 9ms/step - loss: 6.5483 - mae: 6.5483\n",
      "Epoch 282/300\n",
      "13/13 [==============================] - 0s 8ms/step - loss: 6.5359 - mae: 6.5359\n",
      "Epoch 283/300\n",
      "13/13 [==============================] - 0s 7ms/step - loss: 6.5349 - mae: 6.5349\n",
      "Epoch 284/300\n",
      "13/13 [==============================] - 0s 5ms/step - loss: 6.5313 - mae: 6.5313\n",
      "Epoch 285/300\n",
      "13/13 [==============================] - 0s 5ms/step - loss: 6.5116 - mae: 6.5116\n",
      "Epoch 286/300\n",
      "13/13 [==============================] - 0s 9ms/step - loss: 6.5344 - mae: 6.5344\n",
      "Epoch 287/300\n",
      "13/13 [==============================] - 0s 10ms/step - loss: 6.5393 - mae: 6.5393\n",
      "Epoch 288/300\n",
      "13/13 [==============================] - 0s 10ms/step - loss: 6.5911 - mae: 6.5911\n",
      "Epoch 289/300\n",
      "13/13 [==============================] - 0s 12ms/step - loss: 6.5801 - mae: 6.5801\n",
      "Epoch 290/300\n",
      "13/13 [==============================] - 0s 11ms/step - loss: 6.5176 - mae: 6.5176\n",
      "Epoch 291/300\n",
      "13/13 [==============================] - 0s 13ms/step - loss: 6.5294 - mae: 6.5294\n",
      "Epoch 292/300\n",
      "13/13 [==============================] - 0s 12ms/step - loss: 6.5473 - mae: 6.5473\n",
      "Epoch 293/300\n",
      "13/13 [==============================] - 0s 17ms/step - loss: 6.5511 - mae: 6.5511\n",
      "Epoch 294/300\n",
      "13/13 [==============================] - 0s 12ms/step - loss: 6.5413 - mae: 6.5413\n",
      "Epoch 295/300\n",
      "13/13 [==============================] - 0s 12ms/step - loss: 6.5370 - mae: 6.5370\n",
      "Epoch 296/300\n",
      "13/13 [==============================] - 0s 13ms/step - loss: 6.5402 - mae: 6.5402\n",
      "Epoch 297/300\n",
      "13/13 [==============================] - 0s 10ms/step - loss: 6.5342 - mae: 6.5342\n",
      "Epoch 298/300\n",
      "13/13 [==============================] - 0s 15ms/step - loss: 6.5488 - mae: 6.5488\n",
      "Epoch 299/300\n",
      "13/13 [==============================] - 0s 15ms/step - loss: 6.5959 - mae: 6.5959\n",
      "Epoch 300/300\n",
      "13/13 [==============================] - 0s 15ms/step - loss: 6.5546 - mae: 6.5546\n"
     ]
    },
    {
     "data": {
      "text/plain": [
       "<keras.callbacks.History at 0x7fdad82e6890>"
      ]
     },
     "execution_count": 335,
     "metadata": {},
     "output_type": "execute_result"
    }
   ],
   "source": [
    "house_model.fit(tf.expand_dims(X_train,axis=1),y_train,epochs=300)"
   ]
  },
  {
   "cell_type": "code",
   "execution_count": 336,
   "metadata": {
    "colab": {
     "base_uri": "https://localhost:8080/"
    },
    "executionInfo": {
     "elapsed": 897,
     "status": "ok",
     "timestamp": 1668400250649,
     "user": {
      "displayName": "Mudit Kumar",
      "userId": "12518861077253144202"
     },
     "user_tz": -330
    },
    "id": "cq1egiekULCB",
    "outputId": "73076654-3cc9-4618-821d-2932a22a4e68"
   },
   "outputs": [
    {
     "name": "stdout",
     "output_type": "stream",
     "text": [
      "4/4 [==============================] - 1s 8ms/step\n"
     ]
    }
   ],
   "source": [
    "y_predict=house_model.predict(tf.expand_dims(X_test,axis=1))"
   ]
  },
  {
   "cell_type": "code",
   "execution_count": 337,
   "metadata": {
    "colab": {
     "base_uri": "https://localhost:8080/"
    },
    "executionInfo": {
     "elapsed": 588,
     "status": "ok",
     "timestamp": 1668400251234,
     "user": {
      "displayName": "Mudit Kumar",
      "userId": "12518861077253144202"
     },
     "user_tz": -330
    },
    "id": "APRAYsI1VMqv",
    "outputId": "05adc6ee-bdba-490a-c82b-472506240894"
   },
   "outputs": [
    {
     "name": "stdout",
     "output_type": "stream",
     "text": [
      "4/4 [==============================] - 0s 5ms/step - loss: 7.0418 - mae: 7.0418\n"
     ]
    },
    {
     "data": {
      "text/plain": [
       "[7.04176139831543, 7.04176139831543]"
      ]
     },
     "execution_count": 337,
     "metadata": {},
     "output_type": "execute_result"
    }
   ],
   "source": [
    "house_model.evaluate(tf.expand_dims(X_test,axis=1),y_test)#Model_1"
   ]
  },
  {
   "cell_type": "code",
   "execution_count": 339,
   "metadata": {
    "colab": {
     "base_uri": "https://localhost:8080/"
    },
    "executionInfo": {
     "elapsed": 780,
     "status": "ok",
     "timestamp": 1668400308057,
     "user": {
      "displayName": "Mudit Kumar",
      "userId": "12518861077253144202"
     },
     "user_tz": -330
    },
    "id": "jebIrP94Zfsc",
    "outputId": "bbcdf6fc-8e75-4e28-c5e4-80fe0609ab09"
   },
   "outputs": [
    {
     "data": {
      "text/plain": [
       "(<tf.Tensor: shape=(), dtype=float32, numpy=7.0417614>,\n",
       " <tf.Tensor: shape=(), dtype=float32, numpy=95.889275>)"
      ]
     },
     "execution_count": 339,
     "metadata": {},
     "output_type": "execute_result"
    }
   ],
   "source": [
    "mae_1=mae(y_test,y_predict)\n",
    "mse_1=mse(y_test,y_predict)\n",
    "mae_1,mse_1"
   ]
  },
  {
   "cell_type": "code",
   "execution_count": 340,
   "metadata": {
    "executionInfo": {
     "elapsed": 3,
     "status": "ok",
     "timestamp": 1668400332022,
     "user": {
      "displayName": "Mudit Kumar",
      "userId": "12518861077253144202"
     },
     "user_tz": -330
    },
    "id": "6rFvySZ_Vbkc"
   },
   "outputs": [],
   "source": [
    "tf.random.set_seed(42) #Model_2\n",
    "house_model=tf.keras.Sequential([\n",
    "    tf.keras.layers.Dense(100,activation=\"relu\"),\n",
    "    tf.keras.layers.Dense(10,activation=\"relu\"),\n",
    "    tf.keras.layers.Dense(10,activation=\"relu\"),\n",
    "    tf.keras.layers.Dense(1)\n",
    "\n",
    "])"
   ]
  },
  {
   "cell_type": "code",
   "execution_count": 341,
   "metadata": {
    "executionInfo": {
     "elapsed": 2,
     "status": "ok",
     "timestamp": 1668400332022,
     "user": {
      "displayName": "Mudit Kumar",
      "userId": "12518861077253144202"
     },
     "user_tz": -330
    },
    "id": "Cg8UoU2tWMEp"
   },
   "outputs": [],
   "source": [
    "house_model.compile(\n",
    "    loss=tf.keras.losses.MAE,\n",
    "    optimizer=tf.keras.optimizers.SGD(),\n",
    "    metrics=[\"mae\"]\n",
    ")"
   ]
  },
  {
   "cell_type": "code",
   "execution_count": 342,
   "metadata": {
    "colab": {
     "base_uri": "https://localhost:8080/"
    },
    "executionInfo": {
     "elapsed": 23868,
     "status": "ok",
     "timestamp": 1668400356670,
     "user": {
      "displayName": "Mudit Kumar",
      "userId": "12518861077253144202"
     },
     "user_tz": -330
    },
    "id": "86w2uyVKWQFk",
    "outputId": "140c1425-e273-4810-d57a-6daf92afdc9e"
   },
   "outputs": [
    {
     "name": "stdout",
     "output_type": "stream",
     "text": [
      "Epoch 1/300\n",
      "13/13 [==============================] - 1s 5ms/step - loss: 3932.5090 - mae: 3932.5090\n",
      "Epoch 2/300\n",
      "13/13 [==============================] - 0s 4ms/step - loss: 29.9540 - mae: 29.9540\n",
      "Epoch 3/300\n",
      "13/13 [==============================] - 0s 4ms/step - loss: 22.0537 - mae: 22.0537\n",
      "Epoch 4/300\n",
      "13/13 [==============================] - 0s 4ms/step - loss: 10.6851 - mae: 10.6851\n",
      "Epoch 5/300\n",
      "13/13 [==============================] - 0s 4ms/step - loss: 6.5421 - mae: 6.5421\n",
      "Epoch 6/300\n",
      "13/13 [==============================] - 0s 5ms/step - loss: 6.5170 - mae: 6.5170\n",
      "Epoch 7/300\n",
      "13/13 [==============================] - 0s 4ms/step - loss: 6.5384 - mae: 6.5384\n",
      "Epoch 8/300\n",
      "13/13 [==============================] - 0s 4ms/step - loss: 6.5436 - mae: 6.5436\n",
      "Epoch 9/300\n",
      "13/13 [==============================] - 0s 4ms/step - loss: 6.5269 - mae: 6.5269\n",
      "Epoch 10/300\n",
      "13/13 [==============================] - 0s 4ms/step - loss: 6.5373 - mae: 6.5373\n",
      "Epoch 11/300\n",
      "13/13 [==============================] - 0s 4ms/step - loss: 6.5246 - mae: 6.5246\n",
      "Epoch 12/300\n",
      "13/13 [==============================] - 0s 4ms/step - loss: 6.5402 - mae: 6.5402\n",
      "Epoch 13/300\n",
      "13/13 [==============================] - 0s 4ms/step - loss: 6.5501 - mae: 6.5501\n",
      "Epoch 14/300\n",
      "13/13 [==============================] - 0s 4ms/step - loss: 6.5400 - mae: 6.5400\n",
      "Epoch 15/300\n",
      "13/13 [==============================] - 0s 4ms/step - loss: 6.5386 - mae: 6.5386\n",
      "Epoch 16/300\n",
      "13/13 [==============================] - 0s 4ms/step - loss: 6.5372 - mae: 6.5372\n",
      "Epoch 17/300\n",
      "13/13 [==============================] - 0s 5ms/step - loss: 6.5470 - mae: 6.5470\n",
      "Epoch 18/300\n",
      "13/13 [==============================] - 0s 4ms/step - loss: 6.5327 - mae: 6.5327\n",
      "Epoch 19/300\n",
      "13/13 [==============================] - 0s 4ms/step - loss: 6.5323 - mae: 6.5323\n",
      "Epoch 20/300\n",
      "13/13 [==============================] - 0s 5ms/step - loss: 6.5234 - mae: 6.5234\n",
      "Epoch 21/300\n",
      "13/13 [==============================] - 0s 4ms/step - loss: 6.5469 - mae: 6.5469\n",
      "Epoch 22/300\n",
      "13/13 [==============================] - 0s 4ms/step - loss: 6.5325 - mae: 6.5325\n",
      "Epoch 23/300\n",
      "13/13 [==============================] - 0s 4ms/step - loss: 6.5609 - mae: 6.5609\n",
      "Epoch 24/300\n",
      "13/13 [==============================] - 0s 5ms/step - loss: 6.5390 - mae: 6.5390\n",
      "Epoch 25/300\n",
      "13/13 [==============================] - 0s 6ms/step - loss: 6.5202 - mae: 6.5202\n",
      "Epoch 26/300\n",
      "13/13 [==============================] - 0s 4ms/step - loss: 6.5342 - mae: 6.5342\n",
      "Epoch 27/300\n",
      "13/13 [==============================] - 0s 4ms/step - loss: 6.5268 - mae: 6.5268\n",
      "Epoch 28/300\n",
      "13/13 [==============================] - 0s 4ms/step - loss: 6.5429 - mae: 6.5429\n",
      "Epoch 29/300\n",
      "13/13 [==============================] - 0s 4ms/step - loss: 6.5229 - mae: 6.5229\n",
      "Epoch 30/300\n",
      "13/13 [==============================] - 0s 4ms/step - loss: 6.5848 - mae: 6.5848\n",
      "Epoch 31/300\n",
      "13/13 [==============================] - 0s 4ms/step - loss: 6.5407 - mae: 6.5407\n",
      "Epoch 32/300\n",
      "13/13 [==============================] - 0s 3ms/step - loss: 6.5303 - mae: 6.5303\n",
      "Epoch 33/300\n",
      "13/13 [==============================] - 0s 4ms/step - loss: 6.5367 - mae: 6.5367\n",
      "Epoch 34/300\n",
      "13/13 [==============================] - 0s 4ms/step - loss: 6.5275 - mae: 6.5275\n",
      "Epoch 35/300\n",
      "13/13 [==============================] - 0s 4ms/step - loss: 6.5163 - mae: 6.5163\n",
      "Epoch 36/300\n",
      "13/13 [==============================] - 0s 4ms/step - loss: 6.5855 - mae: 6.5855\n",
      "Epoch 37/300\n",
      "13/13 [==============================] - 0s 4ms/step - loss: 6.5310 - mae: 6.5310\n",
      "Epoch 38/300\n",
      "13/13 [==============================] - 0s 4ms/step - loss: 6.5445 - mae: 6.5445\n",
      "Epoch 39/300\n",
      "13/13 [==============================] - 0s 4ms/step - loss: 6.5367 - mae: 6.5367\n",
      "Epoch 40/300\n",
      "13/13 [==============================] - 0s 4ms/step - loss: 6.5429 - mae: 6.5429\n",
      "Epoch 41/300\n",
      "13/13 [==============================] - 0s 5ms/step - loss: 6.5244 - mae: 6.5244\n",
      "Epoch 42/300\n",
      "13/13 [==============================] - 0s 4ms/step - loss: 6.5523 - mae: 6.5523\n",
      "Epoch 43/300\n",
      "13/13 [==============================] - 0s 4ms/step - loss: 6.5381 - mae: 6.5381\n",
      "Epoch 44/300\n",
      "13/13 [==============================] - 0s 4ms/step - loss: 6.5492 - mae: 6.5492\n",
      "Epoch 45/300\n",
      "13/13 [==============================] - 0s 4ms/step - loss: 6.5498 - mae: 6.5498\n",
      "Epoch 46/300\n",
      "13/13 [==============================] - 0s 4ms/step - loss: 6.5425 - mae: 6.5425\n",
      "Epoch 47/300\n",
      "13/13 [==============================] - 0s 4ms/step - loss: 6.5353 - mae: 6.5353\n",
      "Epoch 48/300\n",
      "13/13 [==============================] - 0s 4ms/step - loss: 6.5514 - mae: 6.5514\n",
      "Epoch 49/300\n",
      "13/13 [==============================] - 0s 4ms/step - loss: 6.5303 - mae: 6.5303\n",
      "Epoch 50/300\n",
      "13/13 [==============================] - 0s 3ms/step - loss: 6.5358 - mae: 6.5358\n",
      "Epoch 51/300\n",
      "13/13 [==============================] - 0s 4ms/step - loss: 6.5425 - mae: 6.5425\n",
      "Epoch 52/300\n",
      "13/13 [==============================] - 0s 4ms/step - loss: 6.5430 - mae: 6.5430\n",
      "Epoch 53/300\n",
      "13/13 [==============================] - 0s 4ms/step - loss: 6.5547 - mae: 6.5547\n",
      "Epoch 54/300\n",
      "13/13 [==============================] - 0s 4ms/step - loss: 6.5350 - mae: 6.5350\n",
      "Epoch 55/300\n",
      "13/13 [==============================] - 0s 3ms/step - loss: 6.5454 - mae: 6.5454\n",
      "Epoch 56/300\n",
      "13/13 [==============================] - 0s 3ms/step - loss: 6.5525 - mae: 6.5525\n",
      "Epoch 57/300\n",
      "13/13 [==============================] - 0s 4ms/step - loss: 6.5553 - mae: 6.5553\n",
      "Epoch 58/300\n",
      "13/13 [==============================] - 0s 4ms/step - loss: 6.5323 - mae: 6.5323\n",
      "Epoch 59/300\n",
      "13/13 [==============================] - 0s 5ms/step - loss: 6.5432 - mae: 6.5432\n",
      "Epoch 60/300\n",
      "13/13 [==============================] - 0s 4ms/step - loss: 6.5396 - mae: 6.5396\n",
      "Epoch 61/300\n",
      "13/13 [==============================] - 0s 4ms/step - loss: 6.5460 - mae: 6.5460\n",
      "Epoch 62/300\n",
      "13/13 [==============================] - 0s 5ms/step - loss: 6.5237 - mae: 6.5237\n",
      "Epoch 63/300\n",
      "13/13 [==============================] - 0s 4ms/step - loss: 6.5323 - mae: 6.5323\n",
      "Epoch 64/300\n",
      "13/13 [==============================] - 0s 4ms/step - loss: 6.5412 - mae: 6.5412\n",
      "Epoch 65/300\n",
      "13/13 [==============================] - 0s 4ms/step - loss: 6.5426 - mae: 6.5426\n",
      "Epoch 66/300\n",
      "13/13 [==============================] - 0s 4ms/step - loss: 6.5428 - mae: 6.5428\n",
      "Epoch 67/300\n",
      "13/13 [==============================] - 0s 5ms/step - loss: 6.5133 - mae: 6.5133\n",
      "Epoch 68/300\n",
      "13/13 [==============================] - 0s 4ms/step - loss: 6.5781 - mae: 6.5781\n",
      "Epoch 69/300\n",
      "13/13 [==============================] - 0s 4ms/step - loss: 6.5336 - mae: 6.5336\n",
      "Epoch 70/300\n",
      "13/13 [==============================] - 0s 4ms/step - loss: 6.5422 - mae: 6.5422\n",
      "Epoch 71/300\n",
      "13/13 [==============================] - 0s 5ms/step - loss: 6.5377 - mae: 6.5377\n",
      "Epoch 72/300\n",
      "13/13 [==============================] - 0s 5ms/step - loss: 6.5362 - mae: 6.5362\n",
      "Epoch 73/300\n",
      "13/13 [==============================] - 0s 4ms/step - loss: 6.5385 - mae: 6.5385\n",
      "Epoch 74/300\n",
      "13/13 [==============================] - 0s 5ms/step - loss: 6.5427 - mae: 6.5427\n",
      "Epoch 75/300\n",
      "13/13 [==============================] - 0s 4ms/step - loss: 6.5160 - mae: 6.5160\n",
      "Epoch 76/300\n",
      "13/13 [==============================] - 0s 4ms/step - loss: 6.5558 - mae: 6.5558\n",
      "Epoch 77/300\n",
      "13/13 [==============================] - 0s 4ms/step - loss: 6.5614 - mae: 6.5614\n",
      "Epoch 78/300\n",
      "13/13 [==============================] - 0s 4ms/step - loss: 6.5566 - mae: 6.5566\n",
      "Epoch 79/300\n",
      "13/13 [==============================] - 0s 4ms/step - loss: 6.5582 - mae: 6.5582\n",
      "Epoch 80/300\n",
      "13/13 [==============================] - 0s 5ms/step - loss: 6.5563 - mae: 6.5563\n",
      "Epoch 81/300\n",
      "13/13 [==============================] - 0s 4ms/step - loss: 6.5492 - mae: 6.5492\n",
      "Epoch 82/300\n",
      "13/13 [==============================] - 0s 5ms/step - loss: 6.5201 - mae: 6.5201\n",
      "Epoch 83/300\n",
      "13/13 [==============================] - 0s 4ms/step - loss: 6.5237 - mae: 6.5237\n",
      "Epoch 84/300\n",
      "13/13 [==============================] - 0s 4ms/step - loss: 6.5380 - mae: 6.5380\n",
      "Epoch 85/300\n",
      "13/13 [==============================] - 0s 4ms/step - loss: 6.5475 - mae: 6.5475\n",
      "Epoch 86/300\n",
      "13/13 [==============================] - 0s 4ms/step - loss: 6.5283 - mae: 6.5283\n",
      "Epoch 87/300\n",
      "13/13 [==============================] - 0s 4ms/step - loss: 6.5468 - mae: 6.5468\n",
      "Epoch 88/300\n",
      "13/13 [==============================] - 0s 4ms/step - loss: 6.5452 - mae: 6.5452\n",
      "Epoch 89/300\n",
      "13/13 [==============================] - 0s 4ms/step - loss: 6.5647 - mae: 6.5647\n",
      "Epoch 90/300\n",
      "13/13 [==============================] - 0s 4ms/step - loss: 6.5123 - mae: 6.5123\n",
      "Epoch 91/300\n",
      "13/13 [==============================] - 0s 5ms/step - loss: 6.5341 - mae: 6.5341\n",
      "Epoch 92/300\n",
      "13/13 [==============================] - 0s 5ms/step - loss: 6.5615 - mae: 6.5615\n",
      "Epoch 93/300\n",
      "13/13 [==============================] - 0s 4ms/step - loss: 6.5433 - mae: 6.5433\n",
      "Epoch 94/300\n",
      "13/13 [==============================] - 0s 4ms/step - loss: 6.5469 - mae: 6.5469\n",
      "Epoch 95/300\n",
      "13/13 [==============================] - 0s 4ms/step - loss: 6.5043 - mae: 6.5043\n",
      "Epoch 96/300\n",
      "13/13 [==============================] - 0s 4ms/step - loss: 6.5261 - mae: 6.5261\n",
      "Epoch 97/300\n",
      "13/13 [==============================] - 0s 4ms/step - loss: 6.5249 - mae: 6.5249\n",
      "Epoch 98/300\n",
      "13/13 [==============================] - 0s 4ms/step - loss: 6.5383 - mae: 6.5383\n",
      "Epoch 99/300\n",
      "13/13 [==============================] - 0s 4ms/step - loss: 6.5442 - mae: 6.5442\n",
      "Epoch 100/300\n",
      "13/13 [==============================] - 0s 4ms/step - loss: 6.5862 - mae: 6.5862\n",
      "Epoch 101/300\n",
      "13/13 [==============================] - 0s 4ms/step - loss: 6.5379 - mae: 6.5379\n",
      "Epoch 102/300\n",
      "13/13 [==============================] - 0s 4ms/step - loss: 6.5395 - mae: 6.5395\n",
      "Epoch 103/300\n",
      "13/13 [==============================] - 0s 5ms/step - loss: 6.5486 - mae: 6.5486\n",
      "Epoch 104/300\n",
      "13/13 [==============================] - 0s 4ms/step - loss: 6.5434 - mae: 6.5434\n",
      "Epoch 105/300\n",
      "13/13 [==============================] - 0s 4ms/step - loss: 6.5611 - mae: 6.5611\n",
      "Epoch 106/300\n",
      "13/13 [==============================] - 0s 4ms/step - loss: 6.5659 - mae: 6.5659\n",
      "Epoch 107/300\n",
      "13/13 [==============================] - 0s 5ms/step - loss: 6.5216 - mae: 6.5216\n",
      "Epoch 108/300\n",
      "13/13 [==============================] - 0s 4ms/step - loss: 6.5485 - mae: 6.5485\n",
      "Epoch 109/300\n",
      "13/13 [==============================] - 0s 5ms/step - loss: 6.5241 - mae: 6.5241\n",
      "Epoch 110/300\n",
      "13/13 [==============================] - 0s 4ms/step - loss: 6.5320 - mae: 6.5320\n",
      "Epoch 111/300\n",
      "13/13 [==============================] - 0s 4ms/step - loss: 6.5216 - mae: 6.5216\n",
      "Epoch 112/300\n",
      "13/13 [==============================] - 0s 5ms/step - loss: 6.5575 - mae: 6.5575\n",
      "Epoch 113/300\n",
      "13/13 [==============================] - 0s 4ms/step - loss: 6.5130 - mae: 6.5130\n",
      "Epoch 114/300\n",
      "13/13 [==============================] - 0s 4ms/step - loss: 6.5397 - mae: 6.5397\n",
      "Epoch 115/300\n",
      "13/13 [==============================] - 0s 4ms/step - loss: 6.5414 - mae: 6.5414\n",
      "Epoch 116/300\n",
      "13/13 [==============================] - 0s 5ms/step - loss: 6.5345 - mae: 6.5345\n",
      "Epoch 117/300\n",
      "13/13 [==============================] - 0s 4ms/step - loss: 6.5304 - mae: 6.5304\n",
      "Epoch 118/300\n",
      "13/13 [==============================] - 0s 4ms/step - loss: 6.5274 - mae: 6.5274\n",
      "Epoch 119/300\n",
      "13/13 [==============================] - 0s 4ms/step - loss: 6.5300 - mae: 6.5300\n",
      "Epoch 120/300\n",
      "13/13 [==============================] - 0s 4ms/step - loss: 6.5625 - mae: 6.5625\n",
      "Epoch 121/300\n",
      "13/13 [==============================] - 0s 4ms/step - loss: 6.5271 - mae: 6.5271\n",
      "Epoch 122/300\n",
      "13/13 [==============================] - 0s 6ms/step - loss: 6.5340 - mae: 6.5340\n",
      "Epoch 123/300\n",
      "13/13 [==============================] - 0s 4ms/step - loss: 6.5537 - mae: 6.5537\n",
      "Epoch 124/300\n",
      "13/13 [==============================] - 0s 4ms/step - loss: 6.5592 - mae: 6.5592\n",
      "Epoch 125/300\n",
      "13/13 [==============================] - 0s 4ms/step - loss: 6.5250 - mae: 6.5250\n",
      "Epoch 126/300\n",
      "13/13 [==============================] - 0s 4ms/step - loss: 6.5139 - mae: 6.5139\n",
      "Epoch 127/300\n",
      "13/13 [==============================] - 0s 4ms/step - loss: 6.5435 - mae: 6.5435\n",
      "Epoch 128/300\n",
      "13/13 [==============================] - 0s 5ms/step - loss: 6.5223 - mae: 6.5223\n",
      "Epoch 129/300\n",
      "13/13 [==============================] - 0s 4ms/step - loss: 6.5933 - mae: 6.5933\n",
      "Epoch 130/300\n",
      "13/13 [==============================] - 0s 6ms/step - loss: 6.5307 - mae: 6.5307\n",
      "Epoch 131/300\n",
      "13/13 [==============================] - 0s 4ms/step - loss: 6.5575 - mae: 6.5575\n",
      "Epoch 132/300\n",
      "13/13 [==============================] - 0s 4ms/step - loss: 6.5286 - mae: 6.5286\n",
      "Epoch 133/300\n",
      "13/13 [==============================] - 0s 4ms/step - loss: 6.5283 - mae: 6.5283\n",
      "Epoch 134/300\n",
      "13/13 [==============================] - 0s 4ms/step - loss: 6.5565 - mae: 6.5565\n",
      "Epoch 135/300\n",
      "13/13 [==============================] - 0s 4ms/step - loss: 6.5365 - mae: 6.5365\n",
      "Epoch 136/300\n",
      "13/13 [==============================] - 0s 4ms/step - loss: 6.5345 - mae: 6.5345\n",
      "Epoch 137/300\n",
      "13/13 [==============================] - 0s 3ms/step - loss: 6.5358 - mae: 6.5358\n",
      "Epoch 138/300\n",
      "13/13 [==============================] - 0s 4ms/step - loss: 6.5402 - mae: 6.5402\n",
      "Epoch 139/300\n",
      "13/13 [==============================] - 0s 4ms/step - loss: 6.5275 - mae: 6.5275\n",
      "Epoch 140/300\n",
      "13/13 [==============================] - 0s 4ms/step - loss: 6.5339 - mae: 6.5339\n",
      "Epoch 141/300\n",
      "13/13 [==============================] - 0s 4ms/step - loss: 6.5695 - mae: 6.5695\n",
      "Epoch 142/300\n",
      "13/13 [==============================] - 0s 4ms/step - loss: 6.5325 - mae: 6.5325\n",
      "Epoch 143/300\n",
      "13/13 [==============================] - 0s 4ms/step - loss: 6.5438 - mae: 6.5438\n",
      "Epoch 144/300\n",
      "13/13 [==============================] - 0s 5ms/step - loss: 6.5395 - mae: 6.5395\n",
      "Epoch 145/300\n",
      "13/13 [==============================] - 0s 5ms/step - loss: 6.5538 - mae: 6.5538\n",
      "Epoch 146/300\n",
      "13/13 [==============================] - 0s 4ms/step - loss: 6.5347 - mae: 6.5347\n",
      "Epoch 147/300\n",
      "13/13 [==============================] - 0s 4ms/step - loss: 6.5356 - mae: 6.5356\n",
      "Epoch 148/300\n",
      "13/13 [==============================] - 0s 4ms/step - loss: 6.5251 - mae: 6.5251\n",
      "Epoch 149/300\n",
      "13/13 [==============================] - 0s 4ms/step - loss: 6.5438 - mae: 6.5438\n",
      "Epoch 150/300\n",
      "13/13 [==============================] - 0s 5ms/step - loss: 6.5234 - mae: 6.5234\n",
      "Epoch 151/300\n",
      "13/13 [==============================] - 0s 4ms/step - loss: 6.5719 - mae: 6.5719\n",
      "Epoch 152/300\n",
      "13/13 [==============================] - 0s 4ms/step - loss: 6.5496 - mae: 6.5496\n",
      "Epoch 153/300\n",
      "13/13 [==============================] - 0s 5ms/step - loss: 6.5567 - mae: 6.5567\n",
      "Epoch 154/300\n",
      "13/13 [==============================] - 0s 4ms/step - loss: 6.5441 - mae: 6.5441\n",
      "Epoch 155/300\n",
      "13/13 [==============================] - 0s 4ms/step - loss: 6.5535 - mae: 6.5535\n",
      "Epoch 156/300\n",
      "13/13 [==============================] - 0s 4ms/step - loss: 6.5329 - mae: 6.5329\n",
      "Epoch 157/300\n",
      "13/13 [==============================] - 0s 4ms/step - loss: 6.5572 - mae: 6.5572\n",
      "Epoch 158/300\n",
      "13/13 [==============================] - 0s 4ms/step - loss: 6.5334 - mae: 6.5334\n",
      "Epoch 159/300\n",
      "13/13 [==============================] - 0s 5ms/step - loss: 6.5597 - mae: 6.5597\n",
      "Epoch 160/300\n",
      "13/13 [==============================] - 0s 5ms/step - loss: 6.5213 - mae: 6.5213\n",
      "Epoch 161/300\n",
      "13/13 [==============================] - 0s 4ms/step - loss: 6.5377 - mae: 6.5377\n",
      "Epoch 162/300\n",
      "13/13 [==============================] - 0s 4ms/step - loss: 6.5406 - mae: 6.5406\n",
      "Epoch 163/300\n",
      "13/13 [==============================] - 0s 4ms/step - loss: 6.5511 - mae: 6.5511\n",
      "Epoch 164/300\n",
      "13/13 [==============================] - 0s 4ms/step - loss: 6.5549 - mae: 6.5549\n",
      "Epoch 165/300\n",
      "13/13 [==============================] - 0s 4ms/step - loss: 6.5191 - mae: 6.5191\n",
      "Epoch 166/300\n",
      "13/13 [==============================] - 0s 4ms/step - loss: 6.5457 - mae: 6.5457\n",
      "Epoch 167/300\n",
      "13/13 [==============================] - 0s 5ms/step - loss: 6.5621 - mae: 6.5621\n",
      "Epoch 168/300\n",
      "13/13 [==============================] - 0s 5ms/step - loss: 6.5425 - mae: 6.5425\n",
      "Epoch 169/300\n",
      "13/13 [==============================] - 0s 4ms/step - loss: 6.5184 - mae: 6.5184\n",
      "Epoch 170/300\n",
      "13/13 [==============================] - 0s 4ms/step - loss: 6.5756 - mae: 6.5756\n",
      "Epoch 171/300\n",
      "13/13 [==============================] - 0s 4ms/step - loss: 6.5551 - mae: 6.5551\n",
      "Epoch 172/300\n",
      "13/13 [==============================] - 0s 4ms/step - loss: 6.5252 - mae: 6.5252\n",
      "Epoch 173/300\n",
      "13/13 [==============================] - 0s 4ms/step - loss: 6.5383 - mae: 6.5383\n",
      "Epoch 174/300\n",
      "13/13 [==============================] - 0s 5ms/step - loss: 6.5493 - mae: 6.5493\n",
      "Epoch 175/300\n",
      "13/13 [==============================] - 0s 4ms/step - loss: 6.5339 - mae: 6.5339\n",
      "Epoch 176/300\n",
      "13/13 [==============================] - 0s 5ms/step - loss: 6.5439 - mae: 6.5439\n",
      "Epoch 177/300\n",
      "13/13 [==============================] - 0s 4ms/step - loss: 6.5241 - mae: 6.5241\n",
      "Epoch 178/300\n",
      "13/13 [==============================] - 0s 4ms/step - loss: 6.5553 - mae: 6.5553\n",
      "Epoch 179/300\n",
      "13/13 [==============================] - 0s 4ms/step - loss: 6.5300 - mae: 6.5300\n",
      "Epoch 180/300\n",
      "13/13 [==============================] - 0s 4ms/step - loss: 6.5448 - mae: 6.5448\n",
      "Epoch 181/300\n",
      "13/13 [==============================] - 0s 5ms/step - loss: 6.5559 - mae: 6.5559\n",
      "Epoch 182/300\n",
      "13/13 [==============================] - 0s 4ms/step - loss: 6.5361 - mae: 6.5361\n",
      "Epoch 183/300\n",
      "13/13 [==============================] - 0s 4ms/step - loss: 6.5405 - mae: 6.5405\n",
      "Epoch 184/300\n",
      "13/13 [==============================] - 0s 6ms/step - loss: 6.5275 - mae: 6.5275\n",
      "Epoch 185/300\n",
      "13/13 [==============================] - 0s 4ms/step - loss: 6.5358 - mae: 6.5358\n",
      "Epoch 186/300\n",
      "13/13 [==============================] - 0s 5ms/step - loss: 6.5470 - mae: 6.5470\n",
      "Epoch 187/300\n",
      "13/13 [==============================] - 0s 6ms/step - loss: 6.5353 - mae: 6.5353\n",
      "Epoch 188/300\n",
      "13/13 [==============================] - 0s 5ms/step - loss: 6.5154 - mae: 6.5154\n",
      "Epoch 189/300\n",
      "13/13 [==============================] - 0s 5ms/step - loss: 6.5310 - mae: 6.5310\n",
      "Epoch 190/300\n",
      "13/13 [==============================] - 0s 5ms/step - loss: 6.5222 - mae: 6.5222\n",
      "Epoch 191/300\n",
      "13/13 [==============================] - 0s 4ms/step - loss: 6.5272 - mae: 6.5272\n",
      "Epoch 192/300\n",
      "13/13 [==============================] - 0s 5ms/step - loss: 6.5738 - mae: 6.5738\n",
      "Epoch 193/300\n",
      "13/13 [==============================] - 0s 5ms/step - loss: 6.5443 - mae: 6.5443\n",
      "Epoch 194/300\n",
      "13/13 [==============================] - 0s 5ms/step - loss: 6.5155 - mae: 6.5155\n",
      "Epoch 195/300\n",
      "13/13 [==============================] - 0s 4ms/step - loss: 6.5389 - mae: 6.5389\n",
      "Epoch 196/300\n",
      "13/13 [==============================] - 0s 4ms/step - loss: 6.5365 - mae: 6.5365\n",
      "Epoch 197/300\n",
      "13/13 [==============================] - 0s 5ms/step - loss: 6.5630 - mae: 6.5630\n",
      "Epoch 198/300\n",
      "13/13 [==============================] - 0s 6ms/step - loss: 6.5574 - mae: 6.5574\n",
      "Epoch 199/300\n",
      "13/13 [==============================] - 0s 4ms/step - loss: 6.5210 - mae: 6.5210\n",
      "Epoch 200/300\n",
      "13/13 [==============================] - 0s 5ms/step - loss: 6.5221 - mae: 6.5221\n",
      "Epoch 201/300\n",
      "13/13 [==============================] - 0s 8ms/step - loss: 6.5353 - mae: 6.5353\n",
      "Epoch 202/300\n",
      "13/13 [==============================] - 0s 10ms/step - loss: 6.5444 - mae: 6.5444\n",
      "Epoch 203/300\n",
      "13/13 [==============================] - 0s 9ms/step - loss: 6.5597 - mae: 6.5597\n",
      "Epoch 204/300\n",
      "13/13 [==============================] - 0s 9ms/step - loss: 6.5578 - mae: 6.5578\n",
      "Epoch 205/300\n",
      "13/13 [==============================] - 0s 8ms/step - loss: 6.5294 - mae: 6.5294\n",
      "Epoch 206/300\n",
      "13/13 [==============================] - 0s 8ms/step - loss: 6.5171 - mae: 6.5171\n",
      "Epoch 207/300\n",
      "13/13 [==============================] - 0s 9ms/step - loss: 6.5245 - mae: 6.5245\n",
      "Epoch 208/300\n",
      "13/13 [==============================] - 0s 6ms/step - loss: 6.5477 - mae: 6.5477\n",
      "Epoch 209/300\n",
      "13/13 [==============================] - 0s 4ms/step - loss: 6.5522 - mae: 6.5522\n",
      "Epoch 210/300\n",
      "13/13 [==============================] - 0s 4ms/step - loss: 6.5440 - mae: 6.5440\n",
      "Epoch 211/300\n",
      "13/13 [==============================] - 0s 4ms/step - loss: 6.5449 - mae: 6.5449\n",
      "Epoch 212/300\n",
      "13/13 [==============================] - 0s 7ms/step - loss: 6.5232 - mae: 6.5232\n",
      "Epoch 213/300\n",
      "13/13 [==============================] - 0s 10ms/step - loss: 6.5277 - mae: 6.5277\n",
      "Epoch 214/300\n",
      "13/13 [==============================] - 0s 9ms/step - loss: 6.5456 - mae: 6.5456\n",
      "Epoch 215/300\n",
      "13/13 [==============================] - 0s 8ms/step - loss: 6.5394 - mae: 6.5394\n",
      "Epoch 216/300\n",
      "13/13 [==============================] - 0s 8ms/step - loss: 6.5504 - mae: 6.5504\n",
      "Epoch 217/300\n",
      "13/13 [==============================] - 0s 10ms/step - loss: 6.5193 - mae: 6.5193\n",
      "Epoch 218/300\n",
      "13/13 [==============================] - 0s 7ms/step - loss: 6.5783 - mae: 6.5783\n",
      "Epoch 219/300\n",
      "13/13 [==============================] - 0s 10ms/step - loss: 6.5321 - mae: 6.5321\n",
      "Epoch 220/300\n",
      "13/13 [==============================] - 0s 10ms/step - loss: 6.5578 - mae: 6.5578\n",
      "Epoch 221/300\n",
      "13/13 [==============================] - 0s 10ms/step - loss: 6.5292 - mae: 6.5292\n",
      "Epoch 222/300\n",
      "13/13 [==============================] - 0s 9ms/step - loss: 6.5445 - mae: 6.5445\n",
      "Epoch 223/300\n",
      "13/13 [==============================] - 0s 9ms/step - loss: 6.5181 - mae: 6.5181\n",
      "Epoch 224/300\n",
      "13/13 [==============================] - 0s 9ms/step - loss: 6.5268 - mae: 6.5268\n",
      "Epoch 225/300\n",
      "13/13 [==============================] - 0s 8ms/step - loss: 6.5346 - mae: 6.5346\n",
      "Epoch 226/300\n",
      "13/13 [==============================] - 0s 8ms/step - loss: 6.5299 - mae: 6.5299\n",
      "Epoch 227/300\n",
      "13/13 [==============================] - 0s 8ms/step - loss: 6.5197 - mae: 6.5197\n",
      "Epoch 228/300\n",
      "13/13 [==============================] - 0s 10ms/step - loss: 6.5036 - mae: 6.5036\n",
      "Epoch 229/300\n",
      "13/13 [==============================] - 0s 11ms/step - loss: 6.5317 - mae: 6.5317\n",
      "Epoch 230/300\n",
      "13/13 [==============================] - 0s 11ms/step - loss: 6.5438 - mae: 6.5438\n",
      "Epoch 231/300\n",
      "13/13 [==============================] - 0s 9ms/step - loss: 6.5289 - mae: 6.5289\n",
      "Epoch 232/300\n",
      "13/13 [==============================] - 0s 12ms/step - loss: 6.5159 - mae: 6.5159\n",
      "Epoch 233/300\n",
      "13/13 [==============================] - 0s 8ms/step - loss: 6.5182 - mae: 6.5182\n",
      "Epoch 234/300\n",
      "13/13 [==============================] - 0s 4ms/step - loss: 6.5240 - mae: 6.5240\n",
      "Epoch 235/300\n",
      "13/13 [==============================] - 0s 4ms/step - loss: 6.5390 - mae: 6.5390\n",
      "Epoch 236/300\n",
      "13/13 [==============================] - 0s 4ms/step - loss: 6.5324 - mae: 6.5324\n",
      "Epoch 237/300\n",
      "13/13 [==============================] - 0s 4ms/step - loss: 6.5443 - mae: 6.5443\n",
      "Epoch 238/300\n",
      "13/13 [==============================] - 0s 4ms/step - loss: 6.5405 - mae: 6.5405\n",
      "Epoch 239/300\n",
      "13/13 [==============================] - 0s 5ms/step - loss: 6.5599 - mae: 6.5599\n",
      "Epoch 240/300\n",
      "13/13 [==============================] - 0s 4ms/step - loss: 6.5418 - mae: 6.5418\n",
      "Epoch 241/300\n",
      "13/13 [==============================] - 0s 4ms/step - loss: 6.5688 - mae: 6.5688\n",
      "Epoch 242/300\n",
      "13/13 [==============================] - 0s 4ms/step - loss: 6.5437 - mae: 6.5437\n",
      "Epoch 243/300\n",
      "13/13 [==============================] - 0s 4ms/step - loss: 6.5415 - mae: 6.5415\n",
      "Epoch 244/300\n",
      "13/13 [==============================] - 0s 4ms/step - loss: 6.5450 - mae: 6.5450\n",
      "Epoch 245/300\n",
      "13/13 [==============================] - 0s 4ms/step - loss: 6.5413 - mae: 6.5413\n",
      "Epoch 246/300\n",
      "13/13 [==============================] - 0s 4ms/step - loss: 6.5452 - mae: 6.5452\n",
      "Epoch 247/300\n",
      "13/13 [==============================] - 0s 6ms/step - loss: 6.5295 - mae: 6.5295\n",
      "Epoch 248/300\n",
      "13/13 [==============================] - 0s 4ms/step - loss: 6.5363 - mae: 6.5363\n",
      "Epoch 249/300\n",
      "13/13 [==============================] - 0s 4ms/step - loss: 6.5345 - mae: 6.5345\n",
      "Epoch 250/300\n",
      "13/13 [==============================] - 0s 4ms/step - loss: 6.5484 - mae: 6.5484\n",
      "Epoch 251/300\n",
      "13/13 [==============================] - 0s 4ms/step - loss: 6.5253 - mae: 6.5253\n",
      "Epoch 252/300\n",
      "13/13 [==============================] - 0s 4ms/step - loss: 6.5148 - mae: 6.5148\n",
      "Epoch 253/300\n",
      "13/13 [==============================] - 0s 4ms/step - loss: 6.5512 - mae: 6.5512\n",
      "Epoch 254/300\n",
      "13/13 [==============================] - 0s 4ms/step - loss: 6.5365 - mae: 6.5365\n",
      "Epoch 255/300\n",
      "13/13 [==============================] - 0s 5ms/step - loss: 6.5282 - mae: 6.5282\n",
      "Epoch 256/300\n",
      "13/13 [==============================] - 0s 8ms/step - loss: 6.5319 - mae: 6.5319\n",
      "Epoch 257/300\n",
      "13/13 [==============================] - 0s 7ms/step - loss: 6.5351 - mae: 6.5351\n",
      "Epoch 258/300\n",
      "13/13 [==============================] - 0s 8ms/step - loss: 6.5419 - mae: 6.5419\n",
      "Epoch 259/300\n",
      "13/13 [==============================] - 0s 9ms/step - loss: 6.5224 - mae: 6.5224\n",
      "Epoch 260/300\n",
      "13/13 [==============================] - 0s 11ms/step - loss: 6.5222 - mae: 6.5222\n",
      "Epoch 261/300\n",
      "13/13 [==============================] - 0s 11ms/step - loss: 6.5502 - mae: 6.5502\n",
      "Epoch 262/300\n",
      "13/13 [==============================] - 0s 11ms/step - loss: 6.5276 - mae: 6.5276\n",
      "Epoch 263/300\n",
      "13/13 [==============================] - 0s 7ms/step - loss: 6.5312 - mae: 6.5312\n",
      "Epoch 264/300\n",
      "13/13 [==============================] - 0s 8ms/step - loss: 6.5791 - mae: 6.5791\n",
      "Epoch 265/300\n",
      "13/13 [==============================] - 0s 4ms/step - loss: 6.5796 - mae: 6.5796\n",
      "Epoch 266/300\n",
      "13/13 [==============================] - 0s 4ms/step - loss: 6.5491 - mae: 6.5491\n",
      "Epoch 267/300\n",
      "13/13 [==============================] - 0s 4ms/step - loss: 6.5229 - mae: 6.5229\n",
      "Epoch 268/300\n",
      "13/13 [==============================] - 0s 4ms/step - loss: 6.5587 - mae: 6.5587\n",
      "Epoch 269/300\n",
      "13/13 [==============================] - 0s 5ms/step - loss: 6.5272 - mae: 6.5272\n",
      "Epoch 270/300\n",
      "13/13 [==============================] - 0s 4ms/step - loss: 6.5440 - mae: 6.5440\n",
      "Epoch 271/300\n",
      "13/13 [==============================] - 0s 11ms/step - loss: 6.5585 - mae: 6.5585\n",
      "Epoch 272/300\n",
      "13/13 [==============================] - 0s 7ms/step - loss: 6.5862 - mae: 6.5862\n",
      "Epoch 273/300\n",
      "13/13 [==============================] - 0s 9ms/step - loss: 6.5406 - mae: 6.5406\n",
      "Epoch 274/300\n",
      "13/13 [==============================] - 0s 11ms/step - loss: 6.5287 - mae: 6.5287\n",
      "Epoch 275/300\n",
      "13/13 [==============================] - 0s 9ms/step - loss: 6.5688 - mae: 6.5688\n",
      "Epoch 276/300\n",
      "13/13 [==============================] - 0s 10ms/step - loss: 6.5298 - mae: 6.5298\n",
      "Epoch 277/300\n",
      "13/13 [==============================] - 0s 10ms/step - loss: 6.5280 - mae: 6.5280\n",
      "Epoch 278/300\n",
      "13/13 [==============================] - 0s 8ms/step - loss: 6.5361 - mae: 6.5361\n",
      "Epoch 279/300\n",
      "13/13 [==============================] - 0s 6ms/step - loss: 6.5780 - mae: 6.5780\n",
      "Epoch 280/300\n",
      "13/13 [==============================] - 0s 4ms/step - loss: 6.5443 - mae: 6.5443\n",
      "Epoch 281/300\n",
      "13/13 [==============================] - 0s 4ms/step - loss: 6.5382 - mae: 6.5382\n",
      "Epoch 282/300\n",
      "13/13 [==============================] - 0s 4ms/step - loss: 6.5269 - mae: 6.5269\n",
      "Epoch 283/300\n",
      "13/13 [==============================] - 0s 4ms/step - loss: 6.5513 - mae: 6.5513\n",
      "Epoch 284/300\n",
      "13/13 [==============================] - 0s 4ms/step - loss: 6.5486 - mae: 6.5486\n",
      "Epoch 285/300\n",
      "13/13 [==============================] - 0s 5ms/step - loss: 6.5244 - mae: 6.5244\n",
      "Epoch 286/300\n",
      "13/13 [==============================] - 0s 8ms/step - loss: 6.5495 - mae: 6.5495\n",
      "Epoch 287/300\n",
      "13/13 [==============================] - 0s 7ms/step - loss: 6.5054 - mae: 6.5054\n",
      "Epoch 288/300\n",
      "13/13 [==============================] - 0s 12ms/step - loss: 6.5541 - mae: 6.5541\n",
      "Epoch 289/300\n",
      "13/13 [==============================] - 0s 9ms/step - loss: 6.5473 - mae: 6.5473\n",
      "Epoch 290/300\n",
      "13/13 [==============================] - 0s 11ms/step - loss: 6.5370 - mae: 6.5370\n",
      "Epoch 291/300\n",
      "13/13 [==============================] - 0s 12ms/step - loss: 6.5337 - mae: 6.5337\n",
      "Epoch 292/300\n",
      "13/13 [==============================] - 0s 10ms/step - loss: 6.5356 - mae: 6.5356\n",
      "Epoch 293/300\n",
      "13/13 [==============================] - 0s 9ms/step - loss: 6.5221 - mae: 6.5221\n",
      "Epoch 294/300\n",
      "13/13 [==============================] - 0s 5ms/step - loss: 6.5544 - mae: 6.5544\n",
      "Epoch 295/300\n",
      "13/13 [==============================] - 0s 4ms/step - loss: 6.5238 - mae: 6.5238\n",
      "Epoch 296/300\n",
      "13/13 [==============================] - 0s 6ms/step - loss: 6.5320 - mae: 6.5320\n",
      "Epoch 297/300\n",
      "13/13 [==============================] - 0s 9ms/step - loss: 6.5327 - mae: 6.5327\n",
      "Epoch 298/300\n",
      "13/13 [==============================] - 0s 11ms/step - loss: 6.5364 - mae: 6.5364\n",
      "Epoch 299/300\n",
      "13/13 [==============================] - 0s 10ms/step - loss: 6.5324 - mae: 6.5324\n",
      "Epoch 300/300\n",
      "13/13 [==============================] - 0s 7ms/step - loss: 6.5423 - mae: 6.5423\n"
     ]
    },
    {
     "data": {
      "text/plain": [
       "<keras.callbacks.History at 0x7fdac9eba510>"
      ]
     },
     "execution_count": 342,
     "metadata": {},
     "output_type": "execute_result"
    }
   ],
   "source": [
    "house_model.fit(tf.expand_dims(X_train,axis=1),y_train,epochs=300)"
   ]
  },
  {
   "cell_type": "code",
   "execution_count": 343,
   "metadata": {
    "colab": {
     "base_uri": "https://localhost:8080/"
    },
    "executionInfo": {
     "elapsed": 1365,
     "status": "ok",
     "timestamp": 1668400358032,
     "user": {
      "displayName": "Mudit Kumar",
      "userId": "12518861077253144202"
     },
     "user_tz": -330
    },
    "id": "NWEpeyhpWTBM",
    "outputId": "bf290d2f-b220-4950-fa45-16f0b49e9761"
   },
   "outputs": [
    {
     "name": "stdout",
     "output_type": "stream",
     "text": [
      "4/4 [==============================] - 1s 8ms/step - loss: 6.6611 - mae: 6.6611\n"
     ]
    },
    {
     "data": {
      "text/plain": [
       "[6.661104679107666, 6.661104679107666]"
      ]
     },
     "execution_count": 343,
     "metadata": {},
     "output_type": "execute_result"
    }
   ],
   "source": [
    "house_model.evaluate(tf.expand_dims(X_test,axis=1),y_test)"
   ]
  },
  {
   "cell_type": "code",
   "execution_count": 344,
   "metadata": {
    "colab": {
     "base_uri": "https://localhost:8080/"
    },
    "executionInfo": {
     "elapsed": 14,
     "status": "ok",
     "timestamp": 1668400365861,
     "user": {
      "displayName": "Mudit Kumar",
      "userId": "12518861077253144202"
     },
     "user_tz": -330
    },
    "id": "qCuaeEXkWXmm",
    "outputId": "d544bfce-15c6-438f-a258-2036ba2c02bc"
   },
   "outputs": [
    {
     "name": "stdout",
     "output_type": "stream",
     "text": [
      "4/4 [==============================] - 0s 4ms/step\n"
     ]
    },
    {
     "data": {
      "text/plain": [
       "(<tf.Tensor: shape=(), dtype=float32, numpy=6.6611047>,\n",
       " <tf.Tensor: shape=(), dtype=float32, numpy=88.6718>)"
      ]
     },
     "execution_count": 344,
     "metadata": {},
     "output_type": "execute_result"
    }
   ],
   "source": [
    "y_predict=house_model.predict(tf.expand_dims(X_test,axis=1))\n",
    "mae_2=mae(y_test,y_predict)\n",
    "mse_2=mse(y_test,y_predict)\n",
    "mae_2,mse_2"
   ]
  },
  {
   "cell_type": "code",
   "execution_count": 348,
   "metadata": {
    "colab": {
     "base_uri": "https://localhost:8080/",
     "height": 815
    },
    "executionInfo": {
     "elapsed": 9,
     "status": "error",
     "timestamp": 1668400699213,
     "user": {
      "displayName": "Mudit Kumar",
      "userId": "12518861077253144202"
     },
     "user_tz": -330
    },
    "id": "2yC31YOcaTFo",
    "outputId": "1aa49384-43c3-4e1c-c26c-67a2d1a42ac0"
   },
   "outputs": [
    {
     "ename": "ValueError",
     "evalue": "ignored",
     "output_type": "error",
     "traceback": [
      "\u001b[0;31m---------------------------------------------------------------------------\u001b[0m",
      "\u001b[0;31mValueError\u001b[0m                                Traceback (most recent call last)",
      "\u001b[0;32m<ipython-input-348-aaab5bf2b1ae>\u001b[0m in \u001b[0;36m<module>\u001b[0;34m\u001b[0m\n\u001b[0;32m----> 1\u001b[0;31m \u001b[0mplot_prediction\u001b[0m\u001b[0;34m(\u001b[0m\u001b[0mtrain_data\u001b[0m\u001b[0;34m=\u001b[0m\u001b[0mX_train\u001b[0m\u001b[0;34m,\u001b[0m\u001b[0mtrain_labels\u001b[0m\u001b[0;34m=\u001b[0m\u001b[0my_train\u001b[0m\u001b[0;34m,\u001b[0m\u001b[0mtest_data\u001b[0m\u001b[0;34m=\u001b[0m\u001b[0mX_test\u001b[0m\u001b[0;34m,\u001b[0m\u001b[0mtest_labels\u001b[0m\u001b[0;34m=\u001b[0m\u001b[0my_test\u001b[0m\u001b[0;34m,\u001b[0m\u001b[0mpredictions\u001b[0m\u001b[0;34m=\u001b[0m\u001b[0my_predict\u001b[0m\u001b[0;34m)\u001b[0m  \u001b[0;31m## Maybe this dont work on multiple feature dataset\u001b[0m\u001b[0;34m\u001b[0m\u001b[0;34m\u001b[0m\u001b[0m\n\u001b[0m",
      "\u001b[0;32m<ipython-input-226-cba0f4f472d5>\u001b[0m in \u001b[0;36mplot_prediction\u001b[0;34m(train_data, train_labels, test_data, test_labels, predictions)\u001b[0m\n\u001b[1;32m     12\u001b[0m \u001b[0;34m\u001b[0m\u001b[0m\n\u001b[1;32m     13\u001b[0m   \u001b[0;31m#Plot training data in blue\u001b[0m\u001b[0;34m\u001b[0m\u001b[0;34m\u001b[0m\u001b[0;34m\u001b[0m\u001b[0m\n\u001b[0;32m---> 14\u001b[0;31m   \u001b[0mplt\u001b[0m\u001b[0;34m.\u001b[0m\u001b[0mscatter\u001b[0m\u001b[0;34m(\u001b[0m\u001b[0mtrain_data\u001b[0m\u001b[0;34m,\u001b[0m\u001b[0mtrain_labels\u001b[0m\u001b[0;34m,\u001b[0m\u001b[0mc\u001b[0m\u001b[0;34m=\u001b[0m\u001b[0;34m\"b\"\u001b[0m\u001b[0;34m,\u001b[0m\u001b[0mlabel\u001b[0m\u001b[0;34m=\u001b[0m\u001b[0;34m\"Training data\"\u001b[0m\u001b[0;34m)\u001b[0m\u001b[0;34m\u001b[0m\u001b[0;34m\u001b[0m\u001b[0m\n\u001b[0m\u001b[1;32m     15\u001b[0m   \u001b[0;31m#Plot testing data\u001b[0m\u001b[0;34m\u001b[0m\u001b[0;34m\u001b[0m\u001b[0;34m\u001b[0m\u001b[0m\n\u001b[1;32m     16\u001b[0m   \u001b[0mplt\u001b[0m\u001b[0;34m.\u001b[0m\u001b[0mscatter\u001b[0m\u001b[0;34m(\u001b[0m\u001b[0mtest_data\u001b[0m\u001b[0;34m,\u001b[0m\u001b[0mtest_labels\u001b[0m\u001b[0;34m,\u001b[0m\u001b[0mc\u001b[0m\u001b[0;34m=\u001b[0m\u001b[0;34m\"g\"\u001b[0m\u001b[0;34m,\u001b[0m\u001b[0mlabel\u001b[0m\u001b[0;34m=\u001b[0m\u001b[0;34m\"Testing data\"\u001b[0m\u001b[0;34m)\u001b[0m\u001b[0;34m\u001b[0m\u001b[0;34m\u001b[0m\u001b[0m\n",
      "\u001b[0;32m/usr/local/lib/python3.7/dist-packages/matplotlib/pyplot.py\u001b[0m in \u001b[0;36mscatter\u001b[0;34m(x, y, s, c, marker, cmap, norm, vmin, vmax, alpha, linewidths, verts, edgecolors, plotnonfinite, data, **kwargs)\u001b[0m\n\u001b[1;32m   2814\u001b[0m         \u001b[0mverts\u001b[0m\u001b[0;34m=\u001b[0m\u001b[0mverts\u001b[0m\u001b[0;34m,\u001b[0m \u001b[0medgecolors\u001b[0m\u001b[0;34m=\u001b[0m\u001b[0medgecolors\u001b[0m\u001b[0;34m,\u001b[0m\u001b[0;34m\u001b[0m\u001b[0;34m\u001b[0m\u001b[0m\n\u001b[1;32m   2815\u001b[0m         plotnonfinite=plotnonfinite, **({\"data\": data} if data is not\n\u001b[0;32m-> 2816\u001b[0;31m         None else {}), **kwargs)\n\u001b[0m\u001b[1;32m   2817\u001b[0m     \u001b[0msci\u001b[0m\u001b[0;34m(\u001b[0m\u001b[0m__ret\u001b[0m\u001b[0;34m)\u001b[0m\u001b[0;34m\u001b[0m\u001b[0;34m\u001b[0m\u001b[0m\n\u001b[1;32m   2818\u001b[0m     \u001b[0;32mreturn\u001b[0m \u001b[0m__ret\u001b[0m\u001b[0;34m\u001b[0m\u001b[0;34m\u001b[0m\u001b[0m\n",
      "\u001b[0;32m/usr/local/lib/python3.7/dist-packages/matplotlib/__init__.py\u001b[0m in \u001b[0;36minner\u001b[0;34m(ax, data, *args, **kwargs)\u001b[0m\n\u001b[1;32m   1563\u001b[0m     \u001b[0;32mdef\u001b[0m \u001b[0minner\u001b[0m\u001b[0;34m(\u001b[0m\u001b[0max\u001b[0m\u001b[0;34m,\u001b[0m \u001b[0;34m*\u001b[0m\u001b[0margs\u001b[0m\u001b[0;34m,\u001b[0m \u001b[0mdata\u001b[0m\u001b[0;34m=\u001b[0m\u001b[0;32mNone\u001b[0m\u001b[0;34m,\u001b[0m \u001b[0;34m**\u001b[0m\u001b[0mkwargs\u001b[0m\u001b[0;34m)\u001b[0m\u001b[0;34m:\u001b[0m\u001b[0;34m\u001b[0m\u001b[0;34m\u001b[0m\u001b[0m\n\u001b[1;32m   1564\u001b[0m         \u001b[0;32mif\u001b[0m \u001b[0mdata\u001b[0m \u001b[0;32mis\u001b[0m \u001b[0;32mNone\u001b[0m\u001b[0;34m:\u001b[0m\u001b[0;34m\u001b[0m\u001b[0;34m\u001b[0m\u001b[0m\n\u001b[0;32m-> 1565\u001b[0;31m             \u001b[0;32mreturn\u001b[0m \u001b[0mfunc\u001b[0m\u001b[0;34m(\u001b[0m\u001b[0max\u001b[0m\u001b[0;34m,\u001b[0m \u001b[0;34m*\u001b[0m\u001b[0mmap\u001b[0m\u001b[0;34m(\u001b[0m\u001b[0msanitize_sequence\u001b[0m\u001b[0;34m,\u001b[0m \u001b[0margs\u001b[0m\u001b[0;34m)\u001b[0m\u001b[0;34m,\u001b[0m \u001b[0;34m**\u001b[0m\u001b[0mkwargs\u001b[0m\u001b[0;34m)\u001b[0m\u001b[0;34m\u001b[0m\u001b[0;34m\u001b[0m\u001b[0m\n\u001b[0m\u001b[1;32m   1566\u001b[0m \u001b[0;34m\u001b[0m\u001b[0m\n\u001b[1;32m   1567\u001b[0m         \u001b[0mbound\u001b[0m \u001b[0;34m=\u001b[0m \u001b[0mnew_sig\u001b[0m\u001b[0;34m.\u001b[0m\u001b[0mbind\u001b[0m\u001b[0;34m(\u001b[0m\u001b[0max\u001b[0m\u001b[0;34m,\u001b[0m \u001b[0;34m*\u001b[0m\u001b[0margs\u001b[0m\u001b[0;34m,\u001b[0m \u001b[0;34m**\u001b[0m\u001b[0mkwargs\u001b[0m\u001b[0;34m)\u001b[0m\u001b[0;34m\u001b[0m\u001b[0;34m\u001b[0m\u001b[0m\n",
      "\u001b[0;32m/usr/local/lib/python3.7/dist-packages/matplotlib/cbook/deprecation.py\u001b[0m in \u001b[0;36mwrapper\u001b[0;34m(*args, **kwargs)\u001b[0m\n\u001b[1;32m    356\u001b[0m                 \u001b[0;34mf\"%(removal)s.  If any parameter follows {name!r}, they \"\u001b[0m\u001b[0;34m\u001b[0m\u001b[0;34m\u001b[0m\u001b[0m\n\u001b[1;32m    357\u001b[0m                 f\"should be pass as keyword, not positionally.\")\n\u001b[0;32m--> 358\u001b[0;31m         \u001b[0;32mreturn\u001b[0m \u001b[0mfunc\u001b[0m\u001b[0;34m(\u001b[0m\u001b[0;34m*\u001b[0m\u001b[0margs\u001b[0m\u001b[0;34m,\u001b[0m \u001b[0;34m**\u001b[0m\u001b[0mkwargs\u001b[0m\u001b[0;34m)\u001b[0m\u001b[0;34m\u001b[0m\u001b[0;34m\u001b[0m\u001b[0m\n\u001b[0m\u001b[1;32m    359\u001b[0m \u001b[0;34m\u001b[0m\u001b[0m\n\u001b[1;32m    360\u001b[0m     \u001b[0;32mreturn\u001b[0m \u001b[0mwrapper\u001b[0m\u001b[0;34m\u001b[0m\u001b[0;34m\u001b[0m\u001b[0m\n",
      "\u001b[0;32m/usr/local/lib/python3.7/dist-packages/matplotlib/axes/_axes.py\u001b[0m in \u001b[0;36mscatter\u001b[0;34m(self, x, y, s, c, marker, cmap, norm, vmin, vmax, alpha, linewidths, verts, edgecolors, plotnonfinite, **kwargs)\u001b[0m\n\u001b[1;32m   4389\u001b[0m         \u001b[0my\u001b[0m \u001b[0;34m=\u001b[0m \u001b[0mnp\u001b[0m\u001b[0;34m.\u001b[0m\u001b[0mma\u001b[0m\u001b[0;34m.\u001b[0m\u001b[0mravel\u001b[0m\u001b[0;34m(\u001b[0m\u001b[0my\u001b[0m\u001b[0;34m)\u001b[0m\u001b[0;34m\u001b[0m\u001b[0;34m\u001b[0m\u001b[0m\n\u001b[1;32m   4390\u001b[0m         \u001b[0;32mif\u001b[0m \u001b[0mx\u001b[0m\u001b[0;34m.\u001b[0m\u001b[0msize\u001b[0m \u001b[0;34m!=\u001b[0m \u001b[0my\u001b[0m\u001b[0;34m.\u001b[0m\u001b[0msize\u001b[0m\u001b[0;34m:\u001b[0m\u001b[0;34m\u001b[0m\u001b[0;34m\u001b[0m\u001b[0m\n\u001b[0;32m-> 4391\u001b[0;31m             \u001b[0;32mraise\u001b[0m \u001b[0mValueError\u001b[0m\u001b[0;34m(\u001b[0m\u001b[0;34m\"x and y must be the same size\"\u001b[0m\u001b[0;34m)\u001b[0m\u001b[0;34m\u001b[0m\u001b[0;34m\u001b[0m\u001b[0m\n\u001b[0m\u001b[1;32m   4392\u001b[0m \u001b[0;34m\u001b[0m\u001b[0m\n\u001b[1;32m   4393\u001b[0m         \u001b[0;32mif\u001b[0m \u001b[0ms\u001b[0m \u001b[0;32mis\u001b[0m \u001b[0;32mNone\u001b[0m\u001b[0;34m:\u001b[0m\u001b[0;34m\u001b[0m\u001b[0;34m\u001b[0m\u001b[0m\n",
      "\u001b[0;31mValueError\u001b[0m: x and y must be the same size"
     ]
    },
    {
     "data": {
      "image/png": "[encoded data removed]",
      "text/plain": [
       "<Figure size 720x504 with 1 Axes>"
      ]
     },
     "metadata": {
      "needs_background": "light"
     },
     "output_type": "display_data"
    }
   ],
   "source": [
    "plot_prediction(train_data=X_train,train_labels=y_train,test_data=X_test,test_labels=y_test,predictions=y_predict)  ## Maybe this dont work on multiple feature dataset"
   ]
  },
  {
   "cell_type": "code",
   "execution_count": 349,
   "metadata": {
    "colab": {
     "base_uri": "https://localhost:8080/"
    },
    "executionInfo": {
     "elapsed": 717,
     "status": "ok",
     "timestamp": 1668400705118,
     "user": {
      "displayName": "Mudit Kumar",
      "userId": "12518861077253144202"
     },
     "user_tz": -330
    },
    "id": "cdgE25vNa96d",
    "outputId": "a3003abd-863f-4c8a-c602-4d98926402fa"
   },
   "outputs": [
    {
     "data": {
      "text/plain": [
       "(404, 404, 102, 102, 102)"
      ]
     },
     "execution_count": 349,
     "metadata": {},
     "output_type": "execute_result"
    }
   ],
   "source": [
    "len(X_train),len(y_train),len(X_test),len(y_test),len(y_predict)"
   ]
  },
  {
   "cell_type": "code",
   "execution_count": 350,
   "metadata": {
    "colab": {
     "base_uri": "https://localhost:8080/"
    },
    "executionInfo": {
     "elapsed": 3,
     "status": "ok",
     "timestamp": 1668400705695,
     "user": {
      "displayName": "Mudit Kumar",
      "userId": "12518861077253144202"
     },
     "user_tz": -330
    },
    "id": "909NcGBFbMUv",
    "outputId": "005d5845-5c26-4427-b581-ff402e24ff60"
   },
   "outputs": [
    {
     "data": {
      "text/plain": [
       "((404, 13), (404,), (102, 13), (102,), (102, 1, 1))"
      ]
     },
     "execution_count": 350,
     "metadata": {},
     "output_type": "execute_result"
    }
   ],
   "source": [
    "X_train.shape,y_train.shape,X_test.shape,y_test.shape,y_predict.shape"
   ]
  },
  {
   "cell_type": "code",
   "execution_count": null,
   "metadata": {
    "id": "VzgZzErbbWx2"
   },
   "outputs": [],
   "source": [
    "\n"
   ]
  }
 ],
 "metadata": {
  "accelerator": "GPU",
  "colab": {
   "authorship_tag": "ABX9TyO13P8gJTCtMjvJBlcUamaP",
   "collapsed_sections": [],
   "mount_file_id": "12G3RTjwwPSe3pBzq0AqXzgQhhLj_HGhd",
   "provenance": []
  },
  "gpuClass": "standard",
  "kernelspec": {
   "display_name": "Python 3 (ipykernel)",
   "language": "python",
   "name": "python3"
  },
  "language_info": {
   "codemirror_mode": {
    "name": "ipython",
    "version": 3
   },
   "file_extension": ".py",
   "mimetype": "text/x-python",
   "name": "python",
   "nbconvert_exporter": "python",
   "pygments_lexer": "ipython3",
   "version": "3.10.0"
  }
 },
 "nbformat": 4,
 "nbformat_minor": 1
}
